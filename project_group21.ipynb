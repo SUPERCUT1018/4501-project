{
 "cells": [
  {
   "cell_type": "markdown",
   "metadata": {},
   "source": [
    "Understanding Hired Rides in NYC\n",
    "Project prompt\n",
    "\n",
    "This scaffolding notebook may be used to help setup your final project. It's totally optional whether you make use of this or not.\n",
    "\n",
    "If you do use this notebook, everything provided is optional as well - you may remove or add prose and code as you wish.\n",
    "\n",
    "Anything in italics (prose) or comments (in code) is meant to provide you with guidance. Remove the italic lines and provided comments before submitting the project, if you choose to use this scaffolding. We don't need the guidance when grading.\n",
    "\n",
    "All code below should be consider \"pseudo-code\" - not functional by itself, and only a suggestion at the approach."
   ]
  },
  {
   "cell_type": "markdown",
   "metadata": {},
   "source": [
    "Project Setup"
   ]
  },
  {
   "cell_type": "code",
   "execution_count": 75,
   "metadata": {},
   "outputs": [],
   "source": [
    "#TODO:// 1. bonus: Test needed; [NOT DONE]\n",
    "# 2. table type and primary key should be checked; [DONE]\n",
    "# 3. docuement need to be enhanced. [DONE]\n",
    "# 4. the way download the data?  [DDNE]\n",
    "# 5.check the correctness of value;  [DONE]\n",
    "# 6.bonus: sunset table and one more vis? [NOT DONE]\n",
    "\n",
    "from typing import List, Dict, Any, Tuple\n",
    "from tqdm import tqdm \n",
    "from sqlalchemy import create_engine\n",
    "from sqlalchemy.sql import text\n",
    "from ipywidgets import interact\n",
    "from scipy.stats import sem, t\n",
    "from ipywidgets import SelectMultiple\n",
    "from folium.plugins import HeatMap\n",
    "import bs4\n",
    "import matplotlib.pyplot as plt\n",
    "import plotly.express as px\n",
    "import pandas as pd\n",
    "import requests\n",
    "import sqlalchemy as db\n",
    "import ipywidgets as widgets\n",
    "import seaborn as sns\n",
    "import geopandas as gpd\n",
    "import re \n",
    "import os\n",
    "import folium\n",
    "import warnings\n",
    "import unittest\n",
    "warnings.filterwarnings(\"ignore\")"
   ]
  },
  {
   "cell_type": "code",
   "execution_count": 3,
   "metadata": {},
   "outputs": [],
   "source": [
    "# any constants you might need; some have been added for you, and \n",
    "# some you need to fill in\n",
    "\n",
    "TLC_URL = \"https://www1.nyc.gov/site/tlc/about/tlc-trip-record-data.page\"\n",
    "\n",
    "TAXI_ZONES_DIR = \"\"\n",
    "TAXI_ZONES_SHAPEFILE = f\"{TAXI_ZONES_DIR}/taxi_zones.shp\"\n",
    "WEATHER_CSV_DIR = \"./weather_data\"\n",
    "\n",
    "PARQUET_DIR = \"parquet_files\"\n",
    "\n",
    "CRS = 4326  # coordinate reference system\n",
    "\n",
    "# (lat, lon)\n",
    "NEW_YORK_BOX_COORDS = ((40.560445, -74.242330), (40.908524, -73.717047))\n",
    "LGA_BOX_COORDS = ((40.763589, -73.891745), (40.778865, -73.854838))\n",
    "JFK_BOX_COORDS = ((40.639263, -73.795642), (40.651376, -73.766264))\n",
    "EWR_BOX_COORDS = ((40.686794, -74.194028), (40.699680, -74.165205))\n",
    "\n",
    "DATABASE_URL = \"sqlite:///project.db\"\n",
    "DATABASE_SCHEMA_FILE = \"schema.sql\"\n",
    "QUERY_DIRECTORY = \"queries\"\n",
    "\n",
    "engine = create_engine(DATABASE_URL)"
   ]
  },
  {
   "cell_type": "code",
   "execution_count": 4,
   "metadata": {},
   "outputs": [],
   "source": [
    "# Make sure the QUERY_DIRECTORY exists\n",
    "try:\n",
    "    os.mkdir(QUERY_DIRECTORY)\n",
    "except Exception as e:\n",
    "    if e.errno == 17:\n",
    "        # the directory already exists\n",
    "        pass\n",
    "    else:\n",
    "        raise"
   ]
  },
  {
   "cell_type": "markdown",
   "metadata": {},
   "source": [
    "Part 1: Data Preprocessing"
   ]
  },
  {
   "cell_type": "markdown",
   "metadata": {},
   "source": [
    "Load Taxi Zones"
   ]
  },
  {
   "cell_type": "code",
   "execution_count": 5,
   "metadata": {},
   "outputs": [],
   "source": [
    "def load_taxi_zones(shapefile:str='./taxi_zones.shp') -> gpd.GeoDataFrame :\n",
    "    \"\"\"\n",
    "    Load the taxi zone shapefile into a GeoDataFrame\n",
    "\n",
    "    Keyword Arguments:\n",
    "    shapefile {str} -- the path to the shapefile (default: {'./taxi_zones.shp'})\n",
    "\n",
    "    Returns:\n",
    "    gpd.GeoDataFrame -- the GeoDataFrame containing the taxi zones\n",
    "    \"\"\"\n",
    "    gdf = gpd.read_file(shapefile).to_crs(4326)\n",
    "    gdf['latitude'] = gdf.geometry.centroid.y\n",
    "    gdf['longitude'] = gdf.geometry.centroid.x\n",
    "    gdf = gdf[['LocationID', 'latitude', 'longitude']]\n",
    "    return gdf "
   ]
  },
  {
   "cell_type": "code",
   "execution_count": 6,
   "metadata": {},
   "outputs": [],
   "source": [
    "gdf = load_taxi_zones()"
   ]
  },
  {
   "cell_type": "markdown",
   "metadata": {},
   "source": [
    "Calculate Sample Size"
   ]
  },
  {
   "cell_type": "code",
   "execution_count": 7,
   "metadata": {},
   "outputs": [],
   "source": [
    "def calculate_sample_size(population,z=1.96, e=0.05) -> int:\n",
    "    \"\"\"\n",
    "    calculate the sample size needed for a given population\n",
    "    :param population: the size of the population\n",
    "    :param z: the parameter of confidence level\n",
    "    :param e: the margin of error\n",
    "\n",
    "    :return: the sample size needed\n",
    "    \"\"\"\n",
    "    n0 = z**2 * 0.5 * 0.5 / e**2\n",
    "    n = n0 / (1 + (n0 - 1) / population)\n",
    "    return int(n)"
   ]
  },
  {
   "cell_type": "markdown",
   "metadata": {},
   "source": [
    "Common Functions"
   ]
  },
  {
   "cell_type": "code",
   "execution_count": 8,
   "metadata": {},
   "outputs": [],
   "source": [
    "def convert_location_id_to_lat_lon(df:pd.DataFrame) -> pd.DataFrame:\n",
    "    \"\"\"\n",
    "    convert the pickup and dropoff location id to latitude and longitude\n",
    "\n",
    "    Keyword arguments:\n",
    "    df -- the dataframe to be converted\n",
    "\n",
    "    Returns:\n",
    "    pd.DataFrame -- the dataframe with latitude and longitude columns\n",
    "    \"\"\"\n",
    "    df = df.merge(gdf, left_on='PULocationID', right_on='LocationID', how='left').rename(columns={'latitude':'PULatitude', 'longitude':'PULongitude'}).drop(columns='LocationID')\n",
    "    df = df.dropna(subset=['PULatitude', 'PULongitude'])\n",
    "    df = df.merge(gdf, left_on='DOLocationID', right_on='LocationID', how='left').rename(columns={'latitude':'DOLatitude', 'longitude':'DOLongitude'}).drop(columns='LocationID')\n",
    "    df = df.dropna(subset=['DOLatitude', 'DOLongitude'])\n",
    "    return df"
   ]
  },
  {
   "cell_type": "code",
   "execution_count": 9,
   "metadata": {},
   "outputs": [
    {
     "name": "stderr",
     "output_type": "stream",
     "text": [
      "....\n",
      "----------------------------------------------------------------------\n",
      "Ran 4 tests in 0.003s\n",
      "\n",
      "OK\n"
     ]
    },
    {
     "data": {
      "text/plain": [
       "<unittest.runner.TextTestResult run=4 errors=0 failures=0>"
      ]
     },
     "execution_count": 9,
     "metadata": {},
     "output_type": "execute_result"
    }
   ],
   "source": [
    "def filter_urls(all_urls:List[str],re_pattern :str= '(fhvhv)_tripdata_.*?(202[0-4])-([0-1][0-9])') -> List[str]:\n",
    "    \"\"\"\n",
    "    filter url with given pattern\n",
    "\n",
    "    Keyword arguments:\n",
    "    all_urls -- the list of urls to be filtered\n",
    "    re_pattern -- the pattern to be matched\n",
    "\n",
    "    Returns:\n",
    "    List[str] -- the list of filtered urls\n",
    "    \"\"\"\n",
    "    pattern = re.compile(f\"{re_pattern}\")\n",
    "    result = []\n",
    "    for url in all_urls:\n",
    "        filename = url.split(\"/\")[-1]\n",
    "        match = pattern.match(filename)\n",
    "        if match is not None:\n",
    "            result.append(url)\n",
    "    return result\n",
    "\n",
    "\n",
    "\n",
    "class TestFilterUrls(unittest.TestCase):\n",
    "    def test_filter_urls_valid(self):\n",
    "        \"\"\"Test filtering URLs with valid patterns\"\"\"\n",
    "        all_urls = [\n",
    "            \"https://example.com/fhvhv_tripdata_2023-01.parquet\",\n",
    "            \"https://example.com/fhvhv_tripdata_2024-12.parquet\",\n",
    "            \"https://example.com/other_tripdata_2023-01.parquet\",\n",
    "            \"https://example.com/fhvhv_tripdata_2025-01.parquet\"\n",
    "        ]\n",
    "        expected = [\n",
    "            \"https://example.com/fhvhv_tripdata_2023-01.parquet\",\n",
    "            \"https://example.com/fhvhv_tripdata_2024-12.parquet\"\n",
    "        ]\n",
    "        self.assertEqual(filter_urls(all_urls), expected)\n",
    "\n",
    "    def test_filter_urls_invalid(self):\n",
    "        \"\"\"Test filtering URLs with no matches\"\"\"\n",
    "        all_urls = [\n",
    "            \"https://example.com/other_tripdata_2023-01.parquet\",\n",
    "            \"https://example.com/dsadadasdad.parquet\",\n",
    "            \"https://example.com/fhvhv_tripdata_2025-01.parquet\"\n",
    "        ]\n",
    "        expected = []  \n",
    "        self.assertEqual(filter_urls(all_urls), expected)\n",
    "\n",
    "    def test_filter_urls_empty(self):\n",
    "        \"\"\"Test filtering URLs when the list is empty\"\"\"\n",
    "        all_urls = []\n",
    "        expected = []  \n",
    "        self.assertEqual(filter_urls(all_urls), expected)\n",
    "\n",
    "    def test_filter_urls_custom_pattern(self):\n",
    "        \"\"\"Test filtering URLs with a custom pattern\"\"\"\n",
    "        all_urls = [\n",
    "            \"https://example.com/fhvhv_tripdata_2023-01.csv\",\n",
    "            \"https://example.com/taxidata_2023-01.csv\"\n",
    "        ]\n",
    "        custom_pattern = r\"taxidata_.*?(202[0-4])-([0-1][0-9])\"\n",
    "        expected = [\"https://example.com/taxidata_2023-01.csv\"]\n",
    "        self.assertEqual(filter_urls(all_urls, re_pattern=custom_pattern), expected)\n",
    "\n",
    "\n",
    "unittest.TextTestRunner().run(unittest.TestLoader().loadTestsFromTestCase(TestFilterUrls))"
   ]
  },
  {
   "cell_type": "markdown",
   "metadata": {},
   "source": [
    "Process Taxi Data"
   ]
  },
  {
   "cell_type": "code",
   "execution_count": 10,
   "metadata": {},
   "outputs": [],
   "source": [
    "def remove_invalid_record_of_taxi_data(df:pd.DataFrame) -> pd.DataFrame:\n",
    "    \"\"\"\n",
    "    remove the data points outside of NYC\n",
    "    remove the data with a nan pick\n",
    "    remove the distance less equal than 0\n",
    "    \n",
    "    Keyword arguments:\n",
    "\n",
    "    Returns:\n",
    "    pd.Dataframe -- the row if it is valid, None otherwise\n",
    "    \"\"\"\n",
    "    valid = (\n",
    "            (df['PULatitude'].between(NEW_YORK_BOX_COORDS[0][0], NEW_YORK_BOX_COORDS[1][0])) &\n",
    "            (df['PULongitude'].between(NEW_YORK_BOX_COORDS[0][1], NEW_YORK_BOX_COORDS[1][1])) &\n",
    "            (df['DOLatitude'].between(NEW_YORK_BOX_COORDS[0][0], NEW_YORK_BOX_COORDS[1][0])) &\n",
    "            (df['DOLongitude'].between(NEW_YORK_BOX_COORDS[0][1], NEW_YORK_BOX_COORDS[1][1])) &\n",
    "            (~df['tpep_pickup_datetime'].isna()) &\n",
    "            (~df['tpep_dropoff_datetime'].isna()) &\n",
    "            (df['trip_distance'] > 0)\n",
    "        )\n",
    "    \n",
    "    return df[valid]\n",
    "\n",
    "def get_and_clean_month(url:str)->pd.DataFrame:\n",
    "    \"\"\"\n",
    "    download and clean the data from the given url\n",
    "\n",
    "    Keyword arguements:\n",
    "    url -- the url to download the data\n",
    "\n",
    "    Returns:\n",
    "    pd.DataFrame -- the cleaned dataframe\n",
    "    \"\"\"\n",
    "    try:\n",
    "        parquet_file = f\"{url.split('/')[-1].strip()}\"\n",
    "        if os.path.exists(f\"{PARQUET_DIR}/{parquet_file}\"):\n",
    "            df = pd.read_parquet(f\"{PARQUET_DIR}/{parquet_file}\")\n",
    "        else:\n",
    "            # wget = f\"wget {url.strip()} -O {PARQUET_DIR}/{parquet_file}\"\n",
    "            # os.system(wget)\n",
    "\n",
    "            response = requests.get(url.strip(), stream=True)\n",
    "            response.raise_for_status()  # Raise an exception for HTTP errors\n",
    "            file_path = os.path.join(PARQUET_DIR, parquet_file)\n",
    "            # Save the content to the file\n",
    "            with open(file_path, 'wb') as f:\n",
    "                for chunk in response.iter_content(chunk_size=8192):\n",
    "                    f.write(chunk)\n",
    "            df = pd.read_parquet(f\"{PARQUET_DIR}/{parquet_file}\")\n",
    "            \n",
    "        n = calculate_sample_size(df.shape[0])\n",
    "        df = df.sample(n)\n",
    "        df = convert_location_id_to_lat_lon(df)\n",
    "        df = remove_invalid_record_of_taxi_data(df)\n",
    "\n",
    "        return df\n",
    "    except Exception as e:\n",
    "        raise\n"
   ]
  },
  {
   "cell_type": "code",
   "execution_count": 11,
   "metadata": {},
   "outputs": [],
   "source": [
    "def get_and_clean_taxi_data(parquet_urls:List[str]) -> pd.DataFrame:\n",
    "    \"\"\"\n",
    "    download and clean the data from the given urls\n",
    "\n",
    "    Keyword arguements:\n",
    "    parquet_urls -- the list of urls to download the data\n",
    "\n",
    "    Returns:\n",
    "    pd.DataFrame -- the cleaned dataframe\n",
    "    \"\"\"\n",
    "\n",
    "    all_taxi_dataframes = []\n",
    "    parquet_urls = filter_urls(parquet_urls,'(yellow)_tripdata_.*?(202[0-4])-([0-1][0-9])')\n",
    "    for parquet_url in tqdm(parquet_urls):\n",
    "        # maybe: first try to see if you've downloaded this exact\n",
    "        # file already and saved it before trying again\n",
    "        dataframe = get_and_clean_month(parquet_url)\n",
    "        # maybe: if the file hasn't been saved, save it so you can\n",
    "        # avoid re-downloading it if you re-run the function\n",
    "        \n",
    "        all_taxi_dataframes.append(dataframe)\n",
    "        \n",
    "    # create one gigantic dataframe with data from every month needed\n",
    "    taxi_data = pd.concat(all_taxi_dataframes)\n",
    "    return taxi_data"
   ]
  },
  {
   "cell_type": "code",
   "execution_count": 12,
   "metadata": {},
   "outputs": [
    {
     "name": "stderr",
     "output_type": "stream",
     "text": [
      "...\n",
      "----------------------------------------------------------------------\n",
      "Ran 3 tests in 0.002s\n",
      "\n",
      "OK\n"
     ]
    },
    {
     "data": {
      "text/plain": [
       "<unittest.runner.TextTestResult run=3 errors=0 failures=0>"
      ]
     },
     "execution_count": 12,
     "metadata": {},
     "output_type": "execute_result"
    }
   ],
   "source": [
    "def get_all_urls_from_taxi_page(url:str) -> List[str]:\n",
    "    \"\"\"\n",
    "    get all urls from the page of the given url\n",
    "\n",
    "    Keyword arguments:\n",
    "    url -- the url to get all urls from\n",
    "\n",
    "    Returns:\n",
    "    List[str] -- the list of all urls\n",
    "    \"\"\"\n",
    "    response = requests.get(url)\n",
    "    soup = bs4.BeautifulSoup(response.content, 'html.parser')\n",
    "    urls = [a['href'] for a in soup.find_all('a', href=True)]\n",
    "    return urls\n",
    "\n",
    "\n",
    "def find_all_parquet_urls(urls:List[str]) -> List[str]:\n",
    "    \"\"\"\n",
    "    filter the all parquet urls \n",
    "\n",
    "    Keyword arguments:\n",
    "    urls -- the list of urls to be filtered\n",
    "\n",
    "    Returns:\n",
    "    List[str] -- the list of filtered urls\n",
    "    \"\"\"\n",
    "    parquet_urls = [url for url in urls if 'parquet' in url]\n",
    "    return parquet_urls\n",
    "\n",
    "class TestFindAllParquetUrls(unittest.TestCase):\n",
    "    def test_find_all_parquet_urls_valid(self):\n",
    "        \"\"\"Test filtering with valid parquet URLs\"\"\"\n",
    "        urls = [\n",
    "            \"https://example.com/data_2023.parquet\",\n",
    "            \"https://example.com/data_2024.csv\",\n",
    "            \"https://example.com/file.parquet\",\n",
    "            \"https://example.com/otherfile.json\"\n",
    "        ]\n",
    "        expected = [\n",
    "            \"https://example.com/data_2023.parquet\",\n",
    "            \"https://example.com/file.parquet\"\n",
    "        ]\n",
    "        self.assertEqual(find_all_parquet_urls(urls), expected)\n",
    "\n",
    "    def test_find_all_parquet_urls_no_matches(self):\n",
    "        \"\"\"Test filtering when there are no parquet URLs\"\"\"\n",
    "        urls = [\n",
    "            \"https://example.com/data_2023.csv\",\n",
    "            \"https://example.com/data_2024.json\",\n",
    "            \"https://example.com/file.txt\"\n",
    "        ]\n",
    "        expected = []\n",
    "        self.assertEqual(find_all_parquet_urls(urls), expected)\n",
    "\n",
    "    def test_find_all_parquet_urls_empty(self):\n",
    "        \"\"\"Test filtering with an empty list\"\"\"\n",
    "        urls = []\n",
    "        expected = []\n",
    "        self.assertEqual(find_all_parquet_urls(urls), expected)\n",
    "\n",
    "\n",
    "unittest.TextTestRunner().run(unittest.TestLoader().loadTestsFromTestCase(TestFindAllParquetUrls))"
   ]
  },
  {
   "cell_type": "code",
   "execution_count": 13,
   "metadata": {},
   "outputs": [],
   "source": [
    "def get_taxi_data() ->pd.DataFrame:\n",
    "    \"\"\" \n",
    "    get the taxi data from the TLC website\n",
    "    \n",
    "    Returns:\n",
    "    pd.DataFrame -- the taxi data\n",
    "    \"\"\"\n",
    "    if not os.path.exists(PARQUET_DIR):\n",
    "        os.mkdir(PARQUET_DIR)\n",
    "    all_urls = get_all_urls_from_taxi_page(TLC_URL)\n",
    "    all_parquet_urls = find_all_parquet_urls(all_urls)\n",
    "    taxi_data = get_and_clean_taxi_data(all_parquet_urls)\n",
    "    return taxi_data"
   ]
  },
  {
   "cell_type": "code",
   "execution_count": 14,
   "metadata": {},
   "outputs": [
    {
     "name": "stderr",
     "output_type": "stream",
     "text": [
      "100%|██████████| 57/57 [00:15<00:00,  3.63it/s]\n"
     ]
    }
   ],
   "source": [
    "taxi_data_uncleaned = get_taxi_data()"
   ]
  },
  {
   "cell_type": "markdown",
   "metadata": {},
   "source": [
    "Normalize Columns"
   ]
  },
  {
   "cell_type": "code",
   "execution_count": 15,
   "metadata": {},
   "outputs": [],
   "source": [
    "taxi_data_cleaned = taxi_data_uncleaned[['tpep_pickup_datetime','tpep_dropoff_datetime',\n",
    "                               'trip_distance','fare_amount','extra','mta_tax','improvement_surcharge',\n",
    "                               'tolls_amount',\n",
    "                               'PULatitude','PULongitude',\n",
    "                               'DOLatitude','DOLongitude']]\n",
    "\n",
    "taxi_data_cleaned['base_fare'] = taxi_data_cleaned['fare_amount'] \n",
    "taxi_data_cleaned['tax'] = taxi_data_cleaned['mta_tax'] + taxi_data_cleaned['extra']\n",
    "taxi_data_cleaned['tolls'] = taxi_data_cleaned['tolls_amount']\n",
    "taxi_data_cleaned['surcharge'] = taxi_data_cleaned['improvement_surcharge']\n",
    "taxi_data_cleaned = taxi_data_cleaned.rename(columns={'tpep_pickup_datetime':'trip_pickup_datetime',\n",
    "                                                      'tpep_dropoff_datetime':'trip_dropoff_datetime',\n",
    "                                                      'trip_distance':'trip_miles',\n",
    "                                                      'base_fare':'base_fare',\n",
    "                                                      'tax':'tax',\n",
    "                                                      'tolls':'tolls',\n",
    "                                                      'PULatitude':'pickup_latitude',\n",
    "                                                      'PULongitude':'pickup_longitude',\n",
    "                                                      'DOLatitude':'dropoff_latitude',\n",
    "                                                      'DOLongitude':'dropoff_longitude'})\n",
    "taxi_data_cleaned = taxi_data_cleaned[['trip_pickup_datetime','trip_dropoff_datetime','trip_miles','base_fare','tax','tolls','surcharge',\n",
    "                                       'pickup_latitude','pickup_longitude','dropoff_latitude','dropoff_longitude']]\n",
    "taxi_data = taxi_data_cleaned"
   ]
  },
  {
   "cell_type": "code",
   "execution_count": 16,
   "metadata": {},
   "outputs": [
    {
     "data": {
      "text/html": [
       "<div>\n",
       "<style scoped>\n",
       "    .dataframe tbody tr th:only-of-type {\n",
       "        vertical-align: middle;\n",
       "    }\n",
       "\n",
       "    .dataframe tbody tr th {\n",
       "        vertical-align: top;\n",
       "    }\n",
       "\n",
       "    .dataframe thead th {\n",
       "        text-align: right;\n",
       "    }\n",
       "</style>\n",
       "<table border=\"1\" class=\"dataframe\">\n",
       "  <thead>\n",
       "    <tr style=\"text-align: right;\">\n",
       "      <th></th>\n",
       "      <th>trip_pickup_datetime</th>\n",
       "      <th>trip_dropoff_datetime</th>\n",
       "      <th>trip_miles</th>\n",
       "      <th>base_fare</th>\n",
       "      <th>tax</th>\n",
       "      <th>tolls</th>\n",
       "      <th>surcharge</th>\n",
       "      <th>pickup_latitude</th>\n",
       "      <th>pickup_longitude</th>\n",
       "      <th>dropoff_latitude</th>\n",
       "      <th>dropoff_longitude</th>\n",
       "    </tr>\n",
       "  </thead>\n",
       "  <tbody>\n",
       "    <tr>\n",
       "      <th>0</th>\n",
       "      <td>2024-01-03 23:35:13</td>\n",
       "      <td>2024-01-03 23:41:41</td>\n",
       "      <td>1.16</td>\n",
       "      <td>8.6</td>\n",
       "      <td>1.5</td>\n",
       "      <td>0.00</td>\n",
       "      <td>1.0</td>\n",
       "      <td>40.758028</td>\n",
       "      <td>-73.977698</td>\n",
       "      <td>40.773633</td>\n",
       "      <td>-73.981532</td>\n",
       "    </tr>\n",
       "    <tr>\n",
       "      <th>1</th>\n",
       "      <td>2024-01-01 20:03:55</td>\n",
       "      <td>2024-01-01 20:36:52</td>\n",
       "      <td>17.31</td>\n",
       "      <td>70.0</td>\n",
       "      <td>0.5</td>\n",
       "      <td>6.94</td>\n",
       "      <td>1.0</td>\n",
       "      <td>40.678953</td>\n",
       "      <td>-73.790986</td>\n",
       "      <td>40.703358</td>\n",
       "      <td>-74.011515</td>\n",
       "    </tr>\n",
       "    <tr>\n",
       "      <th>2</th>\n",
       "      <td>2024-01-09 14:54:00</td>\n",
       "      <td>2024-01-09 15:14:25</td>\n",
       "      <td>2.14</td>\n",
       "      <td>18.4</td>\n",
       "      <td>0.5</td>\n",
       "      <td>0.00</td>\n",
       "      <td>1.0</td>\n",
       "      <td>40.758028</td>\n",
       "      <td>-73.977698</td>\n",
       "      <td>40.765484</td>\n",
       "      <td>-73.954739</td>\n",
       "    </tr>\n",
       "    <tr>\n",
       "      <th>3</th>\n",
       "      <td>2024-01-12 05:39:01</td>\n",
       "      <td>2024-01-12 06:05:24</td>\n",
       "      <td>21.50</td>\n",
       "      <td>98.6</td>\n",
       "      <td>1.0</td>\n",
       "      <td>21.38</td>\n",
       "      <td>1.0</td>\n",
       "      <td>40.762253</td>\n",
       "      <td>-73.989845</td>\n",
       "      <td>40.691831</td>\n",
       "      <td>-74.174000</td>\n",
       "    </tr>\n",
       "    <tr>\n",
       "      <th>4</th>\n",
       "      <td>2024-01-02 10:25:29</td>\n",
       "      <td>2024-01-02 10:31:10</td>\n",
       "      <td>0.80</td>\n",
       "      <td>7.2</td>\n",
       "      <td>3.0</td>\n",
       "      <td>0.00</td>\n",
       "      <td>1.0</td>\n",
       "      <td>40.766948</td>\n",
       "      <td>-73.959635</td>\n",
       "      <td>40.756688</td>\n",
       "      <td>-73.972356</td>\n",
       "    </tr>\n",
       "  </tbody>\n",
       "</table>\n",
       "</div>"
      ],
      "text/plain": [
       "  trip_pickup_datetime trip_dropoff_datetime  trip_miles  base_fare  tax  \\\n",
       "0  2024-01-03 23:35:13   2024-01-03 23:41:41        1.16        8.6  1.5   \n",
       "1  2024-01-01 20:03:55   2024-01-01 20:36:52       17.31       70.0  0.5   \n",
       "2  2024-01-09 14:54:00   2024-01-09 15:14:25        2.14       18.4  0.5   \n",
       "3  2024-01-12 05:39:01   2024-01-12 06:05:24       21.50       98.6  1.0   \n",
       "4  2024-01-02 10:25:29   2024-01-02 10:31:10        0.80        7.2  3.0   \n",
       "\n",
       "   tolls  surcharge  pickup_latitude  pickup_longitude  dropoff_latitude  \\\n",
       "0   0.00        1.0        40.758028        -73.977698         40.773633   \n",
       "1   6.94        1.0        40.678953        -73.790986         40.703358   \n",
       "2   0.00        1.0        40.758028        -73.977698         40.765484   \n",
       "3  21.38        1.0        40.762253        -73.989845         40.691831   \n",
       "4   0.00        1.0        40.766948        -73.959635         40.756688   \n",
       "\n",
       "   dropoff_longitude  \n",
       "0         -73.981532  \n",
       "1         -74.011515  \n",
       "2         -73.954739  \n",
       "3         -74.174000  \n",
       "4         -73.972356  "
      ]
     },
     "execution_count": 16,
     "metadata": {},
     "output_type": "execute_result"
    }
   ],
   "source": [
    "taxi_data.head()"
   ]
  },
  {
   "cell_type": "code",
   "execution_count": 17,
   "metadata": {},
   "outputs": [
    {
     "name": "stdout",
     "output_type": "stream",
     "text": [
      "<class 'pandas.core.frame.DataFrame'>\n",
      "Int64Index: 21215 entries, 0 to 376\n",
      "Data columns (total 11 columns):\n",
      " #   Column                 Non-Null Count  Dtype         \n",
      "---  ------                 --------------  -----         \n",
      " 0   trip_pickup_datetime   21215 non-null  datetime64[ns]\n",
      " 1   trip_dropoff_datetime  21215 non-null  datetime64[ns]\n",
      " 2   trip_miles             21215 non-null  float64       \n",
      " 3   base_fare              21215 non-null  float64       \n",
      " 4   tax                    21215 non-null  float64       \n",
      " 5   tolls                  21215 non-null  float64       \n",
      " 6   surcharge              21215 non-null  float64       \n",
      " 7   pickup_latitude        21215 non-null  float64       \n",
      " 8   pickup_longitude       21215 non-null  float64       \n",
      " 9   dropoff_latitude       21215 non-null  float64       \n",
      " 10  dropoff_longitude      21215 non-null  float64       \n",
      "dtypes: datetime64[ns](2), float64(9)\n",
      "memory usage: 1.9 MB\n"
     ]
    }
   ],
   "source": [
    "taxi_data.info()"
   ]
  },
  {
   "cell_type": "code",
   "execution_count": 18,
   "metadata": {},
   "outputs": [
    {
     "data": {
      "text/html": [
       "<div>\n",
       "<style scoped>\n",
       "    .dataframe tbody tr th:only-of-type {\n",
       "        vertical-align: middle;\n",
       "    }\n",
       "\n",
       "    .dataframe tbody tr th {\n",
       "        vertical-align: top;\n",
       "    }\n",
       "\n",
       "    .dataframe thead th {\n",
       "        text-align: right;\n",
       "    }\n",
       "</style>\n",
       "<table border=\"1\" class=\"dataframe\">\n",
       "  <thead>\n",
       "    <tr style=\"text-align: right;\">\n",
       "      <th></th>\n",
       "      <th>trip_miles</th>\n",
       "      <th>base_fare</th>\n",
       "      <th>tax</th>\n",
       "      <th>tolls</th>\n",
       "      <th>surcharge</th>\n",
       "      <th>pickup_latitude</th>\n",
       "      <th>pickup_longitude</th>\n",
       "      <th>dropoff_latitude</th>\n",
       "      <th>dropoff_longitude</th>\n",
       "    </tr>\n",
       "  </thead>\n",
       "  <tbody>\n",
       "    <tr>\n",
       "      <th>count</th>\n",
       "      <td>21215.000000</td>\n",
       "      <td>21215.000000</td>\n",
       "      <td>21215.000000</td>\n",
       "      <td>21215.000000</td>\n",
       "      <td>21215.000000</td>\n",
       "      <td>21215.000000</td>\n",
       "      <td>21215.000000</td>\n",
       "      <td>21215.000000</td>\n",
       "      <td>21215.000000</td>\n",
       "    </tr>\n",
       "    <tr>\n",
       "      <th>mean</th>\n",
       "      <td>3.322651</td>\n",
       "      <td>15.306648</td>\n",
       "      <td>1.701640</td>\n",
       "      <td>0.457852</td>\n",
       "      <td>0.549126</td>\n",
       "      <td>40.753322</td>\n",
       "      <td>-73.966494</td>\n",
       "      <td>40.755476</td>\n",
       "      <td>-73.970308</td>\n",
       "    </tr>\n",
       "    <tr>\n",
       "      <th>std</th>\n",
       "      <td>4.154507</td>\n",
       "      <td>14.761170</td>\n",
       "      <td>1.539493</td>\n",
       "      <td>1.840801</td>\n",
       "      <td>0.357935</td>\n",
       "      <td>0.032496</td>\n",
       "      <td>0.045564</td>\n",
       "      <td>0.033547</td>\n",
       "      <td>0.036921</td>\n",
       "    </tr>\n",
       "    <tr>\n",
       "      <th>min</th>\n",
       "      <td>0.010000</td>\n",
       "      <td>-500.000000</td>\n",
       "      <td>-8.000000</td>\n",
       "      <td>-12.750000</td>\n",
       "      <td>-1.000000</td>\n",
       "      <td>40.576961</td>\n",
       "      <td>-74.029892</td>\n",
       "      <td>40.576961</td>\n",
       "      <td>-74.174000</td>\n",
       "    </tr>\n",
       "    <tr>\n",
       "      <th>25%</th>\n",
       "      <td>1.080000</td>\n",
       "      <td>7.200000</td>\n",
       "      <td>0.500000</td>\n",
       "      <td>0.000000</td>\n",
       "      <td>0.300000</td>\n",
       "      <td>40.740439</td>\n",
       "      <td>-73.989845</td>\n",
       "      <td>40.740337</td>\n",
       "      <td>-73.989845</td>\n",
       "    </tr>\n",
       "    <tr>\n",
       "      <th>50%</th>\n",
       "      <td>1.810000</td>\n",
       "      <td>10.700000</td>\n",
       "      <td>1.000000</td>\n",
       "      <td>0.000000</td>\n",
       "      <td>0.300000</td>\n",
       "      <td>40.758028</td>\n",
       "      <td>-73.977698</td>\n",
       "      <td>40.758028</td>\n",
       "      <td>-73.977698</td>\n",
       "    </tr>\n",
       "    <tr>\n",
       "      <th>75%</th>\n",
       "      <td>3.400000</td>\n",
       "      <td>17.700000</td>\n",
       "      <td>3.000000</td>\n",
       "      <td>0.000000</td>\n",
       "      <td>1.000000</td>\n",
       "      <td>40.773633</td>\n",
       "      <td>-73.961764</td>\n",
       "      <td>40.775932</td>\n",
       "      <td>-73.959635</td>\n",
       "    </tr>\n",
       "    <tr>\n",
       "      <th>max</th>\n",
       "      <td>39.940000</td>\n",
       "      <td>150.000000</td>\n",
       "      <td>12.250000</td>\n",
       "      <td>33.760000</td>\n",
       "      <td>1.000000</td>\n",
       "      <td>40.897932</td>\n",
       "      <td>-73.739473</td>\n",
       "      <td>40.899529</td>\n",
       "      <td>-73.726655</td>\n",
       "    </tr>\n",
       "  </tbody>\n",
       "</table>\n",
       "</div>"
      ],
      "text/plain": [
       "         trip_miles     base_fare           tax         tolls     surcharge  \\\n",
       "count  21215.000000  21215.000000  21215.000000  21215.000000  21215.000000   \n",
       "mean       3.322651     15.306648      1.701640      0.457852      0.549126   \n",
       "std        4.154507     14.761170      1.539493      1.840801      0.357935   \n",
       "min        0.010000   -500.000000     -8.000000    -12.750000     -1.000000   \n",
       "25%        1.080000      7.200000      0.500000      0.000000      0.300000   \n",
       "50%        1.810000     10.700000      1.000000      0.000000      0.300000   \n",
       "75%        3.400000     17.700000      3.000000      0.000000      1.000000   \n",
       "max       39.940000    150.000000     12.250000     33.760000      1.000000   \n",
       "\n",
       "       pickup_latitude  pickup_longitude  dropoff_latitude  dropoff_longitude  \n",
       "count     21215.000000      21215.000000      21215.000000       21215.000000  \n",
       "mean         40.753322        -73.966494         40.755476         -73.970308  \n",
       "std           0.032496          0.045564          0.033547           0.036921  \n",
       "min          40.576961        -74.029892         40.576961         -74.174000  \n",
       "25%          40.740439        -73.989845         40.740337         -73.989845  \n",
       "50%          40.758028        -73.977698         40.758028         -73.977698  \n",
       "75%          40.773633        -73.961764         40.775932         -73.959635  \n",
       "max          40.897932        -73.739473         40.899529         -73.726655  "
      ]
     },
     "execution_count": 18,
     "metadata": {},
     "output_type": "execute_result"
    }
   ],
   "source": [
    "taxi_data.describe()"
   ]
  },
  {
   "cell_type": "markdown",
   "metadata": {},
   "source": [
    "### Processing Uber Data"
   ]
  },
  {
   "cell_type": "code",
   "execution_count": 19,
   "metadata": {},
   "outputs": [],
   "source": [
    "def remove_invalid_records_of_uber_data(df: pd.DataFrame) -> pd.DataFrame:\n",
    "    \"\"\"\n",
    "    Remove invalid data points from the Uber dataset.\n",
    "\n",
    "    Keyword arguments:\n",
    "    df -- the DataFrame to clean\n",
    "\n",
    "    Returns:\n",
    "    pd.DataFrame -- the cleaned DataFrame\n",
    "    \"\"\"\n",
    "    valid = (\n",
    "        (df['PULatitude'].between(NEW_YORK_BOX_COORDS[0][0], NEW_YORK_BOX_COORDS[1][0])) &\n",
    "        (df['PULongitude'].between(NEW_YORK_BOX_COORDS[0][1], NEW_YORK_BOX_COORDS[1][1])) &\n",
    "        (df['DOLatitude'].between(NEW_YORK_BOX_COORDS[0][0], NEW_YORK_BOX_COORDS[1][0])) &\n",
    "        (df['DOLongitude'].between(NEW_YORK_BOX_COORDS[0][1], NEW_YORK_BOX_COORDS[1][1])) &\n",
    "        (~df['pickup_datetime'].isna()) &\n",
    "        (~df['dropoff_datetime'].isna()) &\n",
    "        (df['trip_miles'] > 0)\n",
    "    )\n",
    "\n",
    "    # Return the filtered DataFrame\n",
    "    return df[valid]\n",
    "\n",
    "\n",
    "def get_and_clean_uber_month(url:List[str]) -> pd.DataFrame:\n",
    "    \"\"\"\n",
    "    download and clean the data from the given url of uber\n",
    "\n",
    "    Keyword arguements:\n",
    "    url -- the url to download the data\n",
    "\n",
    "    Returns:\n",
    "    pd.DataFrame -- the cleaned dataframe\n",
    "    \"\"\"\n",
    "\n",
    "    try:\n",
    "        parquet_file = f\"{url.split('/')[-1].strip()}\"\n",
    "        if os.path.exists(f\"{PARQUET_DIR}/{parquet_file}\"):\n",
    "            df = pd.read_parquet(f\"{PARQUET_DIR}/{parquet_file}\")\n",
    "        else:\n",
    "            # wget = f\"wget {url.strip()} -O {PARQUET_DIR}/{parquet_file}\"\n",
    "            # os.system(wget)\n",
    "\n",
    "            response = requests.get(url.strip(), stream=True)\n",
    "            response.raise_for_status()\n",
    "            file_path = os.path.join(PARQUET_DIR, parquet_file)\n",
    "            with open(file_path, 'wb') as f:\n",
    "                for chunk in response.iter_content(chunk_size=8192):\n",
    "                    f.write(chunk)\n",
    "            df = pd.read_parquet(f\"{PARQUET_DIR}/{parquet_file}\")\n",
    "            \n",
    "        n = calculate_sample_size(df.shape[0])\n",
    "        df = df[df['hvfhs_license_num']=='HV0003']\n",
    "        df = df.sample(n)\n",
    "        df = convert_location_id_to_lat_lon(df)\n",
    "        df = remove_invalid_records_of_uber_data(df)\n",
    "\n",
    "        return df\n",
    "    except Exception as e:\n",
    "        raise\n"
   ]
  },
  {
   "cell_type": "code",
   "execution_count": 20,
   "metadata": {},
   "outputs": [],
   "source": [
    "def get_and_clean_uber_data(parquet_urls:List[str]) -> pd.DataFrame:\n",
    "    \"\"\"\n",
    "    download and clean the data from the given urls of uber\n",
    "\n",
    "    Keyword arguements:\n",
    "    parquet_urls -- the list of urls to download the data\n",
    "\n",
    "    Returns:\n",
    "    pd.DataFrame -- the cleaned dataframe\n",
    "    \"\"\"\n",
    "\n",
    "    all_uber_dataframes = []\n",
    "\n",
    "    uber_parquet_urls = filter_urls(parquet_urls, re_pattern='(fhvhv)_tripdata_.*?(202[0-4])-([0-1][0-9])')\n",
    "\n",
    "    for parquet_url in tqdm(uber_parquet_urls):\n",
    "        # maybe: first try to see if you've downloaded this exact\n",
    "        # file already and saved it before trying again\n",
    "        dataframe = get_and_clean_uber_month(parquet_url)\n",
    "        # maybe: if the file hasn't been saved, save it so you can\n",
    "        # avoid re-downloading it if you re-run the function\n",
    "        \n",
    "        all_uber_dataframes.append(dataframe)\n",
    "        \n",
    "    # create one gigantic dataframe with data from every month needed\n",
    "    uber_data = pd.concat(all_uber_dataframes)\n",
    "    return uber_data"
   ]
  },
  {
   "cell_type": "code",
   "execution_count": 21,
   "metadata": {},
   "outputs": [],
   "source": [
    "def get_uber_data() -> pd.DataFrame :\n",
    "    \"\"\"\n",
    "    get the uber data from the TLC website\n",
    "\n",
    "    Returns:\n",
    "    pd.DataFrame -- the uber data\n",
    "    \"\"\"\n",
    "\n",
    "    if not os.path.exists(PARQUET_DIR):\n",
    "        os.mkdir(PARQUET_DIR)\n",
    "    all_urls = get_all_urls_from_taxi_page(TLC_URL)\n",
    "    all_parquet_urls = find_all_parquet_urls(all_urls)\n",
    "    taxi_data = get_and_clean_uber_data(all_parquet_urls)\n",
    "    return taxi_data"
   ]
  },
  {
   "cell_type": "code",
   "execution_count": 22,
   "metadata": {},
   "outputs": [
    {
     "name": "stderr",
     "output_type": "stream",
     "text": [
      "100%|██████████| 57/57 [06:52<00:00,  7.24s/it]\n"
     ]
    }
   ],
   "source": [
    "uber_data_uncleaned = get_uber_data()"
   ]
  },
  {
   "cell_type": "markdown",
   "metadata": {},
   "source": [
    "### Normalize Columns"
   ]
  },
  {
   "cell_type": "code",
   "execution_count": 23,
   "metadata": {},
   "outputs": [],
   "source": [
    "uber_data_cleaned = uber_data_uncleaned[['pickup_datetime','dropoff_datetime','trip_miles',\n",
    "                               'base_passenger_fare','tolls','bcf','sales_tax','congestion_surcharge',\n",
    "                               'PULatitude','PULongitude',\n",
    "                               'DOLatitude','DOLongitude']]\n",
    "\n",
    "uber_data_cleaned['base_fare'] = uber_data_cleaned['base_passenger_fare'] #+ uber_data_cleaned['bcf']\n",
    "uber_data_cleaned['surcharge'] = uber_data_cleaned['congestion_surcharge']\n",
    "uber_data_cleaned['tax'] = uber_data_cleaned['sales_tax'] +   uber_data_cleaned['bcf'] # TODO: check if this is correct\n",
    "uber_data_cleaned['tolls'] = uber_data_cleaned['tolls']\n",
    "uber_data_cleaned = uber_data_cleaned.rename(columns={\n",
    "    'trip_miles':'trip_distance',\n",
    "    'pickup_datetime':'trip_pickup_datetime',\n",
    "    'dropoff_datetime':'trip_dropoff_datetime',\n",
    "    'base_fare':'base_fare',\n",
    "    'tax':'tax',\n",
    "    'tolls':'tolls',\n",
    "    'surcharge':'surcharge',\n",
    "    'PULatitude':'pickup_latitude',\n",
    "    'PULongitude':'pickup_longitude',\n",
    "    'DOLatitude':'dropoff_latitude',\n",
    "    'DOLongitude':'dropoff_longitude'\n",
    "})\n",
    "\n",
    "uber_data_cleaned = uber_data_cleaned[['trip_pickup_datetime','trip_dropoff_datetime','trip_distance','base_fare','tax','tolls','surcharge',\n",
    "                                       'pickup_latitude','pickup_longitude','dropoff_latitude','dropoff_longitude']]\n",
    "\n",
    "uber_data = uber_data_cleaned"
   ]
  },
  {
   "cell_type": "code",
   "execution_count": 24,
   "metadata": {},
   "outputs": [
    {
     "data": {
      "text/html": [
       "<div>\n",
       "<style scoped>\n",
       "    .dataframe tbody tr th:only-of-type {\n",
       "        vertical-align: middle;\n",
       "    }\n",
       "\n",
       "    .dataframe tbody tr th {\n",
       "        vertical-align: top;\n",
       "    }\n",
       "\n",
       "    .dataframe thead th {\n",
       "        text-align: right;\n",
       "    }\n",
       "</style>\n",
       "<table border=\"1\" class=\"dataframe\">\n",
       "  <thead>\n",
       "    <tr style=\"text-align: right;\">\n",
       "      <th></th>\n",
       "      <th>trip_pickup_datetime</th>\n",
       "      <th>trip_dropoff_datetime</th>\n",
       "      <th>trip_distance</th>\n",
       "      <th>base_fare</th>\n",
       "      <th>tax</th>\n",
       "      <th>tolls</th>\n",
       "      <th>surcharge</th>\n",
       "      <th>pickup_latitude</th>\n",
       "      <th>pickup_longitude</th>\n",
       "      <th>dropoff_latitude</th>\n",
       "      <th>dropoff_longitude</th>\n",
       "    </tr>\n",
       "  </thead>\n",
       "  <tbody>\n",
       "    <tr>\n",
       "      <th>0</th>\n",
       "      <td>2024-01-01 18:30:58</td>\n",
       "      <td>2024-01-01 19:13:48</td>\n",
       "      <td>7.22</td>\n",
       "      <td>39.06</td>\n",
       "      <td>5.35</td>\n",
       "      <td>6.94</td>\n",
       "      <td>2.75</td>\n",
       "      <td>40.738324</td>\n",
       "      <td>-73.892173</td>\n",
       "      <td>40.759818</td>\n",
       "      <td>-73.984196</td>\n",
       "    </tr>\n",
       "    <tr>\n",
       "      <th>1</th>\n",
       "      <td>2024-01-17 19:27:35</td>\n",
       "      <td>2024-01-17 19:37:05</td>\n",
       "      <td>1.66</td>\n",
       "      <td>11.36</td>\n",
       "      <td>1.32</td>\n",
       "      <td>0.00</td>\n",
       "      <td>0.00</td>\n",
       "      <td>40.864474</td>\n",
       "      <td>-73.847422</td>\n",
       "      <td>40.873973</td>\n",
       "      <td>-73.828264</td>\n",
       "    </tr>\n",
       "    <tr>\n",
       "      <th>2</th>\n",
       "      <td>2024-01-17 16:56:14</td>\n",
       "      <td>2024-01-17 17:15:35</td>\n",
       "      <td>3.55</td>\n",
       "      <td>13.69</td>\n",
       "      <td>1.59</td>\n",
       "      <td>0.00</td>\n",
       "      <td>0.00</td>\n",
       "      <td>40.864002</td>\n",
       "      <td>-73.864901</td>\n",
       "      <td>40.897932</td>\n",
       "      <td>-73.852215</td>\n",
       "    </tr>\n",
       "    <tr>\n",
       "      <th>3</th>\n",
       "      <td>2024-01-10 10:07:08</td>\n",
       "      <td>2024-01-10 10:41:24</td>\n",
       "      <td>6.87</td>\n",
       "      <td>43.16</td>\n",
       "      <td>5.02</td>\n",
       "      <td>0.00</td>\n",
       "      <td>2.75</td>\n",
       "      <td>40.652355</td>\n",
       "      <td>-74.011271</td>\n",
       "      <td>40.718938</td>\n",
       "      <td>-73.990896</td>\n",
       "    </tr>\n",
       "    <tr>\n",
       "      <th>4</th>\n",
       "      <td>2024-01-09 18:50:07</td>\n",
       "      <td>2024-01-09 19:02:29</td>\n",
       "      <td>1.56</td>\n",
       "      <td>15.75</td>\n",
       "      <td>1.83</td>\n",
       "      <td>0.00</td>\n",
       "      <td>0.00</td>\n",
       "      <td>40.700856</td>\n",
       "      <td>-73.971189</td>\n",
       "      <td>40.687967</td>\n",
       "      <td>-73.962364</td>\n",
       "    </tr>\n",
       "  </tbody>\n",
       "</table>\n",
       "</div>"
      ],
      "text/plain": [
       "  trip_pickup_datetime trip_dropoff_datetime  trip_distance  base_fare   tax  \\\n",
       "0  2024-01-01 18:30:58   2024-01-01 19:13:48           7.22      39.06  5.35   \n",
       "1  2024-01-17 19:27:35   2024-01-17 19:37:05           1.66      11.36  1.32   \n",
       "2  2024-01-17 16:56:14   2024-01-17 17:15:35           3.55      13.69  1.59   \n",
       "3  2024-01-10 10:07:08   2024-01-10 10:41:24           6.87      43.16  5.02   \n",
       "4  2024-01-09 18:50:07   2024-01-09 19:02:29           1.56      15.75  1.83   \n",
       "\n",
       "   tolls  surcharge  pickup_latitude  pickup_longitude  dropoff_latitude  \\\n",
       "0   6.94       2.75        40.738324        -73.892173         40.759818   \n",
       "1   0.00       0.00        40.864474        -73.847422         40.873973   \n",
       "2   0.00       0.00        40.864002        -73.864901         40.897932   \n",
       "3   0.00       2.75        40.652355        -74.011271         40.718938   \n",
       "4   0.00       0.00        40.700856        -73.971189         40.687967   \n",
       "\n",
       "   dropoff_longitude  \n",
       "0         -73.984196  \n",
       "1         -73.828264  \n",
       "2         -73.852215  \n",
       "3         -73.990896  \n",
       "4         -73.962364  "
      ]
     },
     "execution_count": 24,
     "metadata": {},
     "output_type": "execute_result"
    }
   ],
   "source": [
    "uber_data.head()"
   ]
  },
  {
   "cell_type": "code",
   "execution_count": 25,
   "metadata": {},
   "outputs": [
    {
     "name": "stdout",
     "output_type": "stream",
     "text": [
      "<class 'pandas.core.frame.DataFrame'>\n",
      "Int64Index: 21125 entries, 0 to 384\n",
      "Data columns (total 11 columns):\n",
      " #   Column                 Non-Null Count  Dtype         \n",
      "---  ------                 --------------  -----         \n",
      " 0   trip_pickup_datetime   21125 non-null  datetime64[ns]\n",
      " 1   trip_dropoff_datetime  21125 non-null  datetime64[ns]\n",
      " 2   trip_distance          21125 non-null  float64       \n",
      " 3   base_fare              21125 non-null  float64       \n",
      " 4   tax                    21125 non-null  float64       \n",
      " 5   tolls                  21125 non-null  float64       \n",
      " 6   surcharge              21125 non-null  float64       \n",
      " 7   pickup_latitude        21125 non-null  float64       \n",
      " 8   pickup_longitude       21125 non-null  float64       \n",
      " 9   dropoff_latitude       21125 non-null  float64       \n",
      " 10  dropoff_longitude      21125 non-null  float64       \n",
      "dtypes: datetime64[ns](2), float64(9)\n",
      "memory usage: 1.9 MB\n"
     ]
    }
   ],
   "source": [
    "uber_data.info()"
   ]
  },
  {
   "cell_type": "code",
   "execution_count": 26,
   "metadata": {},
   "outputs": [
    {
     "data": {
      "text/html": [
       "<div>\n",
       "<style scoped>\n",
       "    .dataframe tbody tr th:only-of-type {\n",
       "        vertical-align: middle;\n",
       "    }\n",
       "\n",
       "    .dataframe tbody tr th {\n",
       "        vertical-align: top;\n",
       "    }\n",
       "\n",
       "    .dataframe thead th {\n",
       "        text-align: right;\n",
       "    }\n",
       "</style>\n",
       "<table border=\"1\" class=\"dataframe\">\n",
       "  <thead>\n",
       "    <tr style=\"text-align: right;\">\n",
       "      <th></th>\n",
       "      <th>trip_distance</th>\n",
       "      <th>base_fare</th>\n",
       "      <th>tax</th>\n",
       "      <th>tolls</th>\n",
       "      <th>surcharge</th>\n",
       "      <th>pickup_latitude</th>\n",
       "      <th>pickup_longitude</th>\n",
       "      <th>dropoff_latitude</th>\n",
       "      <th>dropoff_longitude</th>\n",
       "    </tr>\n",
       "  </thead>\n",
       "  <tbody>\n",
       "    <tr>\n",
       "      <th>count</th>\n",
       "      <td>21125.000000</td>\n",
       "      <td>21125.00000</td>\n",
       "      <td>21125.000000</td>\n",
       "      <td>21125.000000</td>\n",
       "      <td>21125.000000</td>\n",
       "      <td>21125.000000</td>\n",
       "      <td>21125.000000</td>\n",
       "      <td>21125.000000</td>\n",
       "      <td>21125.000000</td>\n",
       "    </tr>\n",
       "    <tr>\n",
       "      <th>mean</th>\n",
       "      <td>4.398231</td>\n",
       "      <td>21.05624</td>\n",
       "      <td>2.503148</td>\n",
       "      <td>0.637860</td>\n",
       "      <td>1.050698</td>\n",
       "      <td>40.737298</td>\n",
       "      <td>-73.934341</td>\n",
       "      <td>40.736851</td>\n",
       "      <td>-73.934347</td>\n",
       "    </tr>\n",
       "    <tr>\n",
       "      <th>std</th>\n",
       "      <td>4.283429</td>\n",
       "      <td>15.38491</td>\n",
       "      <td>1.882100</td>\n",
       "      <td>2.528845</td>\n",
       "      <td>1.332115</td>\n",
       "      <td>0.068212</td>\n",
       "      <td>0.064609</td>\n",
       "      <td>0.068926</td>\n",
       "      <td>0.067149</td>\n",
       "    </tr>\n",
       "    <tr>\n",
       "      <th>min</th>\n",
       "      <td>0.010000</td>\n",
       "      <td>-26.80000</td>\n",
       "      <td>0.000000</td>\n",
       "      <td>0.000000</td>\n",
       "      <td>0.000000</td>\n",
       "      <td>40.561994</td>\n",
       "      <td>-74.170887</td>\n",
       "      <td>40.561994</td>\n",
       "      <td>-74.186419</td>\n",
       "    </tr>\n",
       "    <tr>\n",
       "      <th>25%</th>\n",
       "      <td>1.560000</td>\n",
       "      <td>10.54000</td>\n",
       "      <td>1.220000</td>\n",
       "      <td>0.000000</td>\n",
       "      <td>0.000000</td>\n",
       "      <td>40.691201</td>\n",
       "      <td>-73.984196</td>\n",
       "      <td>40.690787</td>\n",
       "      <td>-73.984052</td>\n",
       "    </tr>\n",
       "    <tr>\n",
       "      <th>50%</th>\n",
       "      <td>2.820000</td>\n",
       "      <td>16.61000</td>\n",
       "      <td>1.940000</td>\n",
       "      <td>0.000000</td>\n",
       "      <td>0.000000</td>\n",
       "      <td>40.737699</td>\n",
       "      <td>-73.948522</td>\n",
       "      <td>40.737699</td>\n",
       "      <td>-73.947442</td>\n",
       "    </tr>\n",
       "    <tr>\n",
       "      <th>75%</th>\n",
       "      <td>5.640000</td>\n",
       "      <td>26.34000</td>\n",
       "      <td>3.120000</td>\n",
       "      <td>0.000000</td>\n",
       "      <td>2.750000</td>\n",
       "      <td>40.774376</td>\n",
       "      <td>-73.899735</td>\n",
       "      <td>40.774376</td>\n",
       "      <td>-73.895620</td>\n",
       "    </tr>\n",
       "    <tr>\n",
       "      <th>max</th>\n",
       "      <td>46.340000</td>\n",
       "      <td>202.88000</td>\n",
       "      <td>21.220000</td>\n",
       "      <td>44.600000</td>\n",
       "      <td>2.750000</td>\n",
       "      <td>40.899529</td>\n",
       "      <td>-73.726655</td>\n",
       "      <td>40.899529</td>\n",
       "      <td>-73.726655</td>\n",
       "    </tr>\n",
       "  </tbody>\n",
       "</table>\n",
       "</div>"
      ],
      "text/plain": [
       "       trip_distance    base_fare           tax         tolls     surcharge  \\\n",
       "count   21125.000000  21125.00000  21125.000000  21125.000000  21125.000000   \n",
       "mean        4.398231     21.05624      2.503148      0.637860      1.050698   \n",
       "std         4.283429     15.38491      1.882100      2.528845      1.332115   \n",
       "min         0.010000    -26.80000      0.000000      0.000000      0.000000   \n",
       "25%         1.560000     10.54000      1.220000      0.000000      0.000000   \n",
       "50%         2.820000     16.61000      1.940000      0.000000      0.000000   \n",
       "75%         5.640000     26.34000      3.120000      0.000000      2.750000   \n",
       "max        46.340000    202.88000     21.220000     44.600000      2.750000   \n",
       "\n",
       "       pickup_latitude  pickup_longitude  dropoff_latitude  dropoff_longitude  \n",
       "count     21125.000000      21125.000000      21125.000000       21125.000000  \n",
       "mean         40.737298        -73.934341         40.736851         -73.934347  \n",
       "std           0.068212          0.064609          0.068926           0.067149  \n",
       "min          40.561994        -74.170887         40.561994         -74.186419  \n",
       "25%          40.691201        -73.984196         40.690787         -73.984052  \n",
       "50%          40.737699        -73.948522         40.737699         -73.947442  \n",
       "75%          40.774376        -73.899735         40.774376         -73.895620  \n",
       "max          40.899529        -73.726655         40.899529         -73.726655  "
      ]
     },
     "execution_count": 26,
     "metadata": {},
     "output_type": "execute_result"
    }
   ],
   "source": [
    "uber_data.describe()"
   ]
  },
  {
   "cell_type": "markdown",
   "metadata": {},
   "source": [
    "### Processing Weather Data"
   ]
  },
  {
   "cell_type": "code",
   "execution_count": 27,
   "metadata": {},
   "outputs": [],
   "source": [
    "def get_all_weather_csvs(directory:str) -> List[str]:\n",
    "    \"\"\"\n",
    "    list all the csv files in the given directory\n",
    "\n",
    "    Keyword arguments:\n",
    "    directory -- the directory to list the csv files\n",
    "\n",
    "    Returns:\n",
    "    List[str] -- the list of csv files\n",
    "    \"\"\"\n",
    "    return [ f\"{directory}/{file}\" for file in os.listdir(directory)]"
   ]
  },
  {
   "cell_type": "code",
   "execution_count": 28,
   "metadata": {},
   "outputs": [],
   "source": [
    "def clean_month_weather_data_hourly(csv_file:str) -> pd.DataFrame:\n",
    "    \"\"\"\n",
    "    clean and collect the weather data hourly\n",
    "\n",
    "    Keyword arguments:\n",
    "    csv_file -- the csv file to be cleaned\n",
    "\n",
    "    Returns:\n",
    "    pd.DataFrame -- the cleaned dataframe\n",
    "    \"\"\"\n",
    "\n",
    "    try:\n",
    "        # parse the DATE and fetch the DATE_hour column and select the required columns\n",
    "        df = pd.read_csv(csv_file)\n",
    "        df['DATE'] =  pd.to_datetime(df['DATE'])\n",
    "        df['DATE_hour'] = df['DATE'].dt.strftime('%Y-%m-%d-%H')\n",
    "        df = df.drop_duplicates(subset='DATE_hour', keep='first')\n",
    "        df = df[['DATE_hour','HourlyPrecipitation','HourlyWindSpeed']]\n",
    "        # replace T with 0.01\n",
    "        df['HourlyPrecipitation'] = df['HourlyPrecipitation'].replace('T', 0.00001)\n",
    "        return df\n",
    "    except Exception as e:\n",
    "        print(csv_file)"
   ]
  },
  {
   "cell_type": "code",
   "execution_count": 29,
   "metadata": {},
   "outputs": [],
   "source": [
    "def clean_month_weather_data_daily(csv_file:str) -> pd.DataFrame:\n",
    "    \"\"\"\n",
    "    clean and collect the weather data daily\n",
    "\n",
    "    Keyword arguments:\n",
    "    csv_file -- the csv file to be cleaned\n",
    "\n",
    "    Returns:\n",
    "    pd.DataFrame -- the cleaned dataframe\n",
    "    \"\"\"\n",
    "    try:\n",
    "        # using the last record of the day to represent the weather of the day\n",
    "        df = pd.read_csv(csv_file)\n",
    "        # df = df[df['DailyWeather'].notna()]#[['DailyWeather','DailyAverageDryBulbTemperature']]\n",
    "        df['DATE'] =  pd.to_datetime(df['DATE'])\n",
    "        df['DATE_day'] = df['DATE'].dt.strftime('%Y-%m-%d')\n",
    "        df['DailyPrecipitation'] = df['DailyPrecipitation'].replace('T', 0.00001).astype(float)\n",
    "        df['DailySnowfall'] = df['DailySnowfall'].replace('T', 0.00001).astype(float)\n",
    "        df[ 'DailyAverageWindSpeed'] =  df[ 'DailyAverageWindSpeed'].astype(float)\n",
    "        # Fill missing values in specified columns with their respective column means\n",
    "        df[['DailyPrecipitation', 'DailySnowfall', 'DailyAverageWindSpeed']] = (\n",
    "            df[['DailyPrecipitation', 'DailySnowfall', 'DailyAverageWindSpeed']].apply(\n",
    "                lambda col: col.fillna(col.mean() if col.mean() is not None else 0)\n",
    "            )\n",
    "        )\n",
    "\n",
    "        df = df.drop_duplicates(subset='DATE_day', keep='last')\n",
    "        df = df[['DATE_day','DailyPrecipitation','DailySnowfall','DailyAverageWindSpeed']]\n",
    "\n",
    "        return df\n",
    "    except Exception as e:\n",
    "        print(csv_file)\n",
    "        raise\n"
   ]
  },
  {
   "cell_type": "code",
   "execution_count": 30,
   "metadata": {},
   "outputs": [],
   "source": [
    "def load_and_clean_weather_data() -> Tuple[pd.DataFrame,pd.DataFrame]:\n",
    "    \"\"\"\n",
    "    load and clean the weather data\n",
    "\n",
    "    Returns:\n",
    "    Tuple[pd.DataFrame,pd.DataFrame] -- the cleaned hourly and daily weather data    \n",
    "    \"\"\"\n",
    "\n",
    "    weather_csv_files = get_all_weather_csvs(WEATHER_CSV_DIR)\n",
    "    \n",
    "    hourly_dataframes = []\n",
    "    daily_dataframes = []\n",
    "        \n",
    "    for csv_file in weather_csv_files:\n",
    "        hourly_dataframe = clean_month_weather_data_hourly(csv_file)\n",
    "        daily_dataframe = clean_month_weather_data_daily(csv_file)\n",
    "        hourly_dataframes.append(hourly_dataframe)\n",
    "        daily_dataframes.append(daily_dataframe)\n",
    "        \n",
    "    # create two dataframes with hourly & daily data from every month\n",
    "    hourly_data = pd.concat(hourly_dataframes)\n",
    "    daily_data = pd.concat(daily_dataframes)\n",
    "    \n",
    "    return hourly_data, daily_data"
   ]
  },
  {
   "cell_type": "code",
   "execution_count": 31,
   "metadata": {},
   "outputs": [
    {
     "name": "stdout",
     "output_type": "stream",
     "text": [
      "['STATION', 'DATE', 'LATITUDE', 'LONGITUDE', 'ELEVATION', 'NAME', 'REPORT_TYPE', 'SOURCE', 'HourlyAltimeterSetting', 'HourlyDewPointTemperature', 'HourlyDryBulbTemperature', 'HourlyPrecipitation', 'HourlyPresentWeatherType', 'HourlyPressureChange', 'HourlyPressureTendency', 'HourlyRelativeHumidity', 'HourlySkyConditions', 'HourlySeaLevelPressure', 'HourlyStationPressure', 'HourlyVisibility', 'HourlyWetBulbTemperature', 'HourlyWindDirection', 'HourlyWindGustSpeed', 'HourlyWindSpeed', 'Sunrise', 'Sunset', 'DailyAverageDewPointTemperature', 'DailyAverageDryBulbTemperature', 'DailyAverageRelativeHumidity', 'DailyAverageSeaLevelPressure', 'DailyAverageStationPressure', 'DailyAverageWetBulbTemperature', 'DailyAverageWindSpeed', 'DailyCoolingDegreeDays', 'DailyDepartureFromNormalAverageTemperature', 'DailyHeatingDegreeDays', 'DailyMaximumDryBulbTemperature', 'DailyMinimumDryBulbTemperature', 'DailyPeakWindDirection', 'DailyPeakWindSpeed', 'DailyPrecipitation', 'DailySnowDepth', 'DailySnowfall', 'DailySustainedWindDirection', 'DailySustainedWindSpeed', 'DailyWeather', 'MonthlyAverageRH', 'MonthlyDaysWithGT001Precip', 'MonthlyDaysWithGT010Precip', 'MonthlyDaysWithGT32Temp', 'MonthlyDaysWithGT90Temp', 'MonthlyDaysWithLT0Temp', 'MonthlyDaysWithLT32Temp', 'MonthlyDepartureFromNormalAverageTemperature', 'MonthlyDepartureFromNormalCoolingDegreeDays', 'MonthlyDepartureFromNormalHeatingDegreeDays', 'MonthlyDepartureFromNormalMaximumTemperature', 'MonthlyDepartureFromNormalMinimumTemperature', 'MonthlyDepartureFromNormalPrecipitation', 'MonthlyDewpointTemperature', 'MonthlyGreatestPrecip', 'MonthlyGreatestPrecipDate', 'MonthlyGreatestSnowDepth', 'MonthlyGreatestSnowDepthDate', 'MonthlyGreatestSnowfall', 'MonthlyGreatestSnowfallDate', 'MonthlyMaxSeaLevelPressureValue', 'MonthlyMaxSeaLevelPressureValueDate', 'MonthlyMaxSeaLevelPressureValueTime', 'MonthlyMaximumTemperature', 'MonthlyMeanTemperature', 'MonthlyMinSeaLevelPressureValue', 'MonthlyMinSeaLevelPressureValueDate', 'MonthlyMinSeaLevelPressureValueTime', 'MonthlyMinimumTemperature', 'MonthlySeaLevelPressure', 'MonthlyStationPressure', 'MonthlyTotalLiquidPrecipitation', 'MonthlyTotalSnowfall', 'MonthlyWetBulb', 'AWND', 'CDSD', 'CLDD', 'DSNW', 'HDSD', 'HTDD', 'DYTS', 'DYHF', 'NormalsCoolingDegreeDay', 'NormalsHeatingDegreeDay', 'ShortDurationEndDate005', 'ShortDurationEndDate010', 'ShortDurationEndDate015', 'ShortDurationEndDate020', 'ShortDurationEndDate030', 'ShortDurationEndDate045', 'ShortDurationEndDate060', 'ShortDurationEndDate080', 'ShortDurationEndDate100', 'ShortDurationEndDate120', 'ShortDurationEndDate150', 'ShortDurationEndDate180', 'ShortDurationPrecipitationValue005', 'ShortDurationPrecipitationValue010', 'ShortDurationPrecipitationValue015', 'ShortDurationPrecipitationValue020', 'ShortDurationPrecipitationValue030', 'ShortDurationPrecipitationValue045', 'ShortDurationPrecipitationValue060', 'ShortDurationPrecipitationValue080', 'ShortDurationPrecipitationValue100', 'ShortDurationPrecipitationValue120', 'ShortDurationPrecipitationValue150', 'ShortDurationPrecipitationValue180', 'REM', 'BackupDirection', 'BackupDistance', 'BackupDistanceUnit', 'BackupElements', 'BackupElevation', 'BackupEquipment', 'BackupLatitude', 'BackupLongitude', 'BackupName', 'WindEquipmentChangeDate']\n"
     ]
    }
   ],
   "source": [
    "print(list(pd.read_csv('weather_data/2020_weather.csv').columns))"
   ]
  },
  {
   "cell_type": "code",
   "execution_count": 32,
   "metadata": {},
   "outputs": [],
   "source": [
    "hourly_weather_data, daily_weather_data = load_and_clean_weather_data()"
   ]
  },
  {
   "cell_type": "code",
   "execution_count": 33,
   "metadata": {},
   "outputs": [
    {
     "data": {
      "text/html": [
       "<div>\n",
       "<style scoped>\n",
       "    .dataframe tbody tr th:only-of-type {\n",
       "        vertical-align: middle;\n",
       "    }\n",
       "\n",
       "    .dataframe tbody tr th {\n",
       "        vertical-align: top;\n",
       "    }\n",
       "\n",
       "    .dataframe thead th {\n",
       "        text-align: right;\n",
       "    }\n",
       "</style>\n",
       "<table border=\"1\" class=\"dataframe\">\n",
       "  <thead>\n",
       "    <tr style=\"text-align: right;\">\n",
       "      <th></th>\n",
       "      <th>DATE_hour</th>\n",
       "      <th>HourlyPrecipitation</th>\n",
       "      <th>HourlyWindSpeed</th>\n",
       "    </tr>\n",
       "  </thead>\n",
       "  <tbody>\n",
       "    <tr>\n",
       "      <th>0</th>\n",
       "      <td>2020-01-01-00</td>\n",
       "      <td>0.00</td>\n",
       "      <td>8.0</td>\n",
       "    </tr>\n",
       "    <tr>\n",
       "      <th>1</th>\n",
       "      <td>2020-01-01-01</td>\n",
       "      <td>0.00</td>\n",
       "      <td>8.0</td>\n",
       "    </tr>\n",
       "    <tr>\n",
       "      <th>2</th>\n",
       "      <td>2020-01-01-02</td>\n",
       "      <td>0.00</td>\n",
       "      <td>14.0</td>\n",
       "    </tr>\n",
       "    <tr>\n",
       "      <th>3</th>\n",
       "      <td>2020-01-01-03</td>\n",
       "      <td>0.00</td>\n",
       "      <td>11.0</td>\n",
       "    </tr>\n",
       "    <tr>\n",
       "      <th>4</th>\n",
       "      <td>2020-01-01-04</td>\n",
       "      <td>0.00</td>\n",
       "      <td>6.0</td>\n",
       "    </tr>\n",
       "  </tbody>\n",
       "</table>\n",
       "</div>"
      ],
      "text/plain": [
       "       DATE_hour HourlyPrecipitation  HourlyWindSpeed\n",
       "0  2020-01-01-00                0.00              8.0\n",
       "1  2020-01-01-01                0.00              8.0\n",
       "2  2020-01-01-02                0.00             14.0\n",
       "3  2020-01-01-03                0.00             11.0\n",
       "4  2020-01-01-04                0.00              6.0"
      ]
     },
     "execution_count": 33,
     "metadata": {},
     "output_type": "execute_result"
    }
   ],
   "source": [
    "hourly_weather_data.head()"
   ]
  },
  {
   "cell_type": "code",
   "execution_count": 34,
   "metadata": {},
   "outputs": [
    {
     "name": "stdout",
     "output_type": "stream",
     "text": [
      "<class 'pandas.core.frame.DataFrame'>\n",
      "Int64Index: 42143 entries, 0 to 11634\n",
      "Data columns (total 3 columns):\n",
      " #   Column               Non-Null Count  Dtype  \n",
      "---  ------               --------------  -----  \n",
      " 0   DATE_hour            42143 non-null  object \n",
      " 1   HourlyPrecipitation  38054 non-null  object \n",
      " 2   HourlyWindSpeed      38426 non-null  float64\n",
      "dtypes: float64(1), object(2)\n",
      "memory usage: 1.3+ MB\n"
     ]
    }
   ],
   "source": [
    "hourly_weather_data.info()"
   ]
  },
  {
   "cell_type": "code",
   "execution_count": 35,
   "metadata": {},
   "outputs": [
    {
     "data": {
      "text/html": [
       "<div>\n",
       "<style scoped>\n",
       "    .dataframe tbody tr th:only-of-type {\n",
       "        vertical-align: middle;\n",
       "    }\n",
       "\n",
       "    .dataframe tbody tr th {\n",
       "        vertical-align: top;\n",
       "    }\n",
       "\n",
       "    .dataframe thead th {\n",
       "        text-align: right;\n",
       "    }\n",
       "</style>\n",
       "<table border=\"1\" class=\"dataframe\">\n",
       "  <thead>\n",
       "    <tr style=\"text-align: right;\">\n",
       "      <th></th>\n",
       "      <th>HourlyWindSpeed</th>\n",
       "    </tr>\n",
       "  </thead>\n",
       "  <tbody>\n",
       "    <tr>\n",
       "      <th>count</th>\n",
       "      <td>38426.000000</td>\n",
       "    </tr>\n",
       "    <tr>\n",
       "      <th>mean</th>\n",
       "      <td>5.097824</td>\n",
       "    </tr>\n",
       "    <tr>\n",
       "      <th>std</th>\n",
       "      <td>16.520609</td>\n",
       "    </tr>\n",
       "    <tr>\n",
       "      <th>min</th>\n",
       "      <td>0.000000</td>\n",
       "    </tr>\n",
       "    <tr>\n",
       "      <th>25%</th>\n",
       "      <td>3.000000</td>\n",
       "    </tr>\n",
       "    <tr>\n",
       "      <th>50%</th>\n",
       "      <td>5.000000</td>\n",
       "    </tr>\n",
       "    <tr>\n",
       "      <th>75%</th>\n",
       "      <td>7.000000</td>\n",
       "    </tr>\n",
       "    <tr>\n",
       "      <th>max</th>\n",
       "      <td>2237.000000</td>\n",
       "    </tr>\n",
       "  </tbody>\n",
       "</table>\n",
       "</div>"
      ],
      "text/plain": [
       "       HourlyWindSpeed\n",
       "count     38426.000000\n",
       "mean          5.097824\n",
       "std          16.520609\n",
       "min           0.000000\n",
       "25%           3.000000\n",
       "50%           5.000000\n",
       "75%           7.000000\n",
       "max        2237.000000"
      ]
     },
     "execution_count": 35,
     "metadata": {},
     "output_type": "execute_result"
    }
   ],
   "source": [
    "hourly_weather_data.describe()"
   ]
  },
  {
   "cell_type": "code",
   "execution_count": 36,
   "metadata": {},
   "outputs": [
    {
     "data": {
      "text/html": [
       "<div>\n",
       "<style scoped>\n",
       "    .dataframe tbody tr th:only-of-type {\n",
       "        vertical-align: middle;\n",
       "    }\n",
       "\n",
       "    .dataframe tbody tr th {\n",
       "        vertical-align: top;\n",
       "    }\n",
       "\n",
       "    .dataframe thead th {\n",
       "        text-align: right;\n",
       "    }\n",
       "</style>\n",
       "<table border=\"1\" class=\"dataframe\">\n",
       "  <thead>\n",
       "    <tr style=\"text-align: right;\">\n",
       "      <th></th>\n",
       "      <th>DATE_day</th>\n",
       "      <th>DailyPrecipitation</th>\n",
       "      <th>DailySnowfall</th>\n",
       "      <th>DailyAverageWindSpeed</th>\n",
       "    </tr>\n",
       "  </thead>\n",
       "  <tbody>\n",
       "    <tr>\n",
       "      <th>24</th>\n",
       "      <td>2020-01-01</td>\n",
       "      <td>0.00000</td>\n",
       "      <td>0.0</td>\n",
       "      <td>8.6</td>\n",
       "    </tr>\n",
       "    <tr>\n",
       "      <th>49</th>\n",
       "      <td>2020-01-02</td>\n",
       "      <td>0.00000</td>\n",
       "      <td>0.0</td>\n",
       "      <td>5.4</td>\n",
       "    </tr>\n",
       "    <tr>\n",
       "      <th>86</th>\n",
       "      <td>2020-01-03</td>\n",
       "      <td>0.15000</td>\n",
       "      <td>0.0</td>\n",
       "      <td>3.4</td>\n",
       "    </tr>\n",
       "    <tr>\n",
       "      <th>144</th>\n",
       "      <td>2020-01-04</td>\n",
       "      <td>0.27000</td>\n",
       "      <td>0.0</td>\n",
       "      <td>4.4</td>\n",
       "    </tr>\n",
       "    <tr>\n",
       "      <th>169</th>\n",
       "      <td>2020-01-05</td>\n",
       "      <td>0.00001</td>\n",
       "      <td>0.0</td>\n",
       "      <td>11.3</td>\n",
       "    </tr>\n",
       "  </tbody>\n",
       "</table>\n",
       "</div>"
      ],
      "text/plain": [
       "       DATE_day  DailyPrecipitation  DailySnowfall  DailyAverageWindSpeed\n",
       "24   2020-01-01             0.00000            0.0                    8.6\n",
       "49   2020-01-02             0.00000            0.0                    5.4\n",
       "86   2020-01-03             0.15000            0.0                    3.4\n",
       "144  2020-01-04             0.27000            0.0                    4.4\n",
       "169  2020-01-05             0.00001            0.0                   11.3"
      ]
     },
     "execution_count": 36,
     "metadata": {},
     "output_type": "execute_result"
    }
   ],
   "source": [
    "daily_weather_data.head()"
   ]
  },
  {
   "cell_type": "code",
   "execution_count": 37,
   "metadata": {},
   "outputs": [
    {
     "name": "stdout",
     "output_type": "stream",
     "text": [
      "<class 'pandas.core.frame.DataFrame'>\n",
      "Int64Index: 1757 entries, 24 to 11638\n",
      "Data columns (total 4 columns):\n",
      " #   Column                 Non-Null Count  Dtype  \n",
      "---  ------                 --------------  -----  \n",
      " 0   DATE_day               1757 non-null   object \n",
      " 1   DailyPrecipitation     1757 non-null   float64\n",
      " 2   DailySnowfall          1757 non-null   float64\n",
      " 3   DailyAverageWindSpeed  1757 non-null   float64\n",
      "dtypes: float64(3), object(1)\n",
      "memory usage: 68.6+ KB\n"
     ]
    }
   ],
   "source": [
    "daily_weather_data.info()"
   ]
  },
  {
   "cell_type": "code",
   "execution_count": 38,
   "metadata": {},
   "outputs": [
    {
     "data": {
      "text/html": [
       "<div>\n",
       "<style scoped>\n",
       "    .dataframe tbody tr th:only-of-type {\n",
       "        vertical-align: middle;\n",
       "    }\n",
       "\n",
       "    .dataframe tbody tr th {\n",
       "        vertical-align: top;\n",
       "    }\n",
       "\n",
       "    .dataframe thead th {\n",
       "        text-align: right;\n",
       "    }\n",
       "</style>\n",
       "<table border=\"1\" class=\"dataframe\">\n",
       "  <thead>\n",
       "    <tr style=\"text-align: right;\">\n",
       "      <th></th>\n",
       "      <th>DailyPrecipitation</th>\n",
       "      <th>DailySnowfall</th>\n",
       "      <th>DailyAverageWindSpeed</th>\n",
       "    </tr>\n",
       "  </thead>\n",
       "  <tbody>\n",
       "    <tr>\n",
       "      <th>count</th>\n",
       "      <td>1757.000000</td>\n",
       "      <td>1757.000000</td>\n",
       "      <td>1757.000000</td>\n",
       "    </tr>\n",
       "    <tr>\n",
       "      <th>mean</th>\n",
       "      <td>0.141044</td>\n",
       "      <td>0.038742</td>\n",
       "      <td>5.014147</td>\n",
       "    </tr>\n",
       "    <tr>\n",
       "      <th>std</th>\n",
       "      <td>0.408459</td>\n",
       "      <td>0.490489</td>\n",
       "      <td>2.266054</td>\n",
       "    </tr>\n",
       "    <tr>\n",
       "      <th>min</th>\n",
       "      <td>0.000000</td>\n",
       "      <td>0.000000</td>\n",
       "      <td>0.600000</td>\n",
       "    </tr>\n",
       "    <tr>\n",
       "      <th>25%</th>\n",
       "      <td>0.000000</td>\n",
       "      <td>0.000000</td>\n",
       "      <td>3.300000</td>\n",
       "    </tr>\n",
       "    <tr>\n",
       "      <th>50%</th>\n",
       "      <td>0.000000</td>\n",
       "      <td>0.000000</td>\n",
       "      <td>4.800000</td>\n",
       "    </tr>\n",
       "    <tr>\n",
       "      <th>75%</th>\n",
       "      <td>0.100000</td>\n",
       "      <td>0.000000</td>\n",
       "      <td>6.200000</td>\n",
       "    </tr>\n",
       "    <tr>\n",
       "      <th>max</th>\n",
       "      <td>7.130000</td>\n",
       "      <td>14.800000</td>\n",
       "      <td>14.200000</td>\n",
       "    </tr>\n",
       "  </tbody>\n",
       "</table>\n",
       "</div>"
      ],
      "text/plain": [
       "       DailyPrecipitation  DailySnowfall  DailyAverageWindSpeed\n",
       "count         1757.000000    1757.000000            1757.000000\n",
       "mean             0.141044       0.038742               5.014147\n",
       "std              0.408459       0.490489               2.266054\n",
       "min              0.000000       0.000000               0.600000\n",
       "25%              0.000000       0.000000               3.300000\n",
       "50%              0.000000       0.000000               4.800000\n",
       "75%              0.100000       0.000000               6.200000\n",
       "max              7.130000      14.800000              14.200000"
      ]
     },
     "execution_count": 38,
     "metadata": {},
     "output_type": "execute_result"
    }
   ],
   "source": [
    "daily_weather_data.describe()"
   ]
  },
  {
   "cell_type": "markdown",
   "metadata": {},
   "source": [
    "Part 2: Storing Cleaned Data"
   ]
  },
  {
   "cell_type": "code",
   "execution_count": 39,
   "metadata": {},
   "outputs": [],
   "source": [
    "engine = db.create_engine(DATABASE_URL)"
   ]
  },
  {
   "cell_type": "code",
   "execution_count": 40,
   "metadata": {},
   "outputs": [],
   "source": [
    "# if using SQL (as opposed to SQLAlchemy), define the commands \n",
    "# to create your 4 tables/dataframes\n",
    "HOURLY_WEATHER_SCHEMA = \"\"\"\n",
    "\n",
    "DROP TABLE IF EXISTS hourly_weather;\n",
    "CREATE TABLE hourly_weather  (\n",
    "    DATE_hour TEXT PRIMARY KEY,\n",
    "    HourlyPrecipitation REAL,\n",
    "    HourlyWindSpeed REAL\n",
    ");\n",
    "\n",
    "\"\"\"\n",
    "\n",
    "DAILY_WEATHER_SCHEMA = \"\"\"\n",
    "\n",
    "DROP TABLE IF EXISTS daily_weather;\n",
    "CREATE TABLE daily_weather (\n",
    "    DATE_day TEXT PRIMARY KEY,\n",
    "    DailyPrecipitation REAL,\n",
    "    DailySnowfall REAL,\n",
    "    DailyAverageWindSpeed REAL\n",
    ");\n",
    "\n",
    "\"\"\"\n",
    "\n",
    "TAXI_TRIPS_SCHEMA = \"\"\"\n",
    "\n",
    "\n",
    "DROP TABLE IF EXISTS taxi_trips;\n",
    "CREATE TABLE taxi_trips (\n",
    "    id INTEGER PRIMARY KEY AUTOINCREMENT,\n",
    "    trip_pickup_datetime TEXT,\n",
    "    trip_dropoff_datetime TEXT,\n",
    "    trip_miles REAL,\n",
    "    base_fare REAL,\n",
    "    tax REAL,\n",
    "    tolls REAL,\n",
    "    surcharge REAL,\n",
    "    pickup_latitude REAL,\n",
    "    pickup_longitude REAL,\n",
    "    dropoff_latitude REAL,\n",
    "    dropoff_longitude REAL\n",
    ");\n",
    "\n",
    "\"\"\"\n",
    "\n",
    "UBER_TRIPS_SCHEMA = \"\"\"\n",
    "\n",
    "DROP TABLE IF EXISTS uber_trips;\n",
    "CREATE TABLE uber_trips (\n",
    "    id INTEGER PRIMARY KEY AUTOINCREMENT,\n",
    "    trip_pickup_datetime TEXT,\n",
    "    trip_dropoff_datetime TEXT,\n",
    "    trip_distance REAL,\n",
    "    base_fare REAL,\n",
    "    tax REAL,\n",
    "    tolls REAL,\n",
    "    surcharge REAL,\n",
    "    pickup_latitude REAL,\n",
    "    pickup_longitude REAL,\n",
    "    dropoff_latitude REAL,\n",
    "    dropoff_longitude REAL\n",
    ");\n",
    "\n",
    "\"\"\""
   ]
  },
  {
   "cell_type": "code",
   "execution_count": 41,
   "metadata": {},
   "outputs": [],
   "source": [
    "# create that required schema.sql file\n",
    "with open(DATABASE_SCHEMA_FILE, \"w\") as f:\n",
    "    f.write(HOURLY_WEATHER_SCHEMA)\n",
    "    f.write(DAILY_WEATHER_SCHEMA)\n",
    "    f.write(TAXI_TRIPS_SCHEMA)\n",
    "    f.write(UBER_TRIPS_SCHEMA)"
   ]
  },
  {
   "cell_type": "code",
   "execution_count": 42,
   "metadata": {},
   "outputs": [],
   "source": [
    "with open(DATABASE_SCHEMA_FILE, \"r\") as f:\n",
    "    sql_script = f.read()\n",
    "\n",
    "with engine.connect() as connection:\n",
    "    for statement in sql_script.split(\";\"):\n",
    "        statement = statement.strip()\n",
    "        if statement:  # Skip empty statements\n",
    "            connection.execute(text(statement))\n",
    "    "
   ]
  },
  {
   "cell_type": "markdown",
   "metadata": {},
   "source": [
    "Add Data to Database"
   ]
  },
  {
   "cell_type": "code",
   "execution_count": 43,
   "metadata": {},
   "outputs": [],
   "source": [
    "def write_dataframes_to_table(table_to_df_dict:Dict[str,pd.DataFrame]):\n",
    "    \"\"\"\n",
    "    write the dataframes to the tables in the database\n",
    "\n",
    "    Keyword arguments:\n",
    "    table_to_df_dict -- the dictionary of table name to dataframe mapping\n",
    "    \n",
    "    \"\"\"\n",
    "\n",
    "    for k,v in table_to_df_dict.items():\n",
    "        v.to_sql(k, con=engine, if_exists='replace', index=False)"
   ]
  },
  {
   "cell_type": "code",
   "execution_count": 44,
   "metadata": {},
   "outputs": [],
   "source": [
    "map_table_name_to_dataframe = {\n",
    "    \"taxi_trips\": taxi_data_cleaned,\n",
    "    \"uber_trips\": uber_data_cleaned,\n",
    "    \"hourly_weather\": hourly_weather_data,\n",
    "    \"daily_weather\": daily_weather_data,\n",
    "}"
   ]
  },
  {
   "cell_type": "code",
   "execution_count": 45,
   "metadata": {},
   "outputs": [],
   "source": [
    "write_dataframes_to_table(map_table_name_to_dataframe)"
   ]
  },
  {
   "cell_type": "markdown",
   "metadata": {},
   "source": [
    "Part 3: Understanding the Data"
   ]
  },
  {
   "cell_type": "code",
   "execution_count": 46,
   "metadata": {},
   "outputs": [],
   "source": [
    "# Helper function to write the queries to file\n",
    "def write_query_to_file(query:str, outfile:str):\n",
    "    with open(f\"{QUERY_DIRECTORY}/{outfile}\", \"w\") as f:\n",
    "        f.write(query)"
   ]
  },
  {
   "cell_type": "markdown",
   "metadata": {},
   "source": [
    "Query 1"
   ]
  },
  {
   "cell_type": "code",
   "execution_count": 47,
   "metadata": {},
   "outputs": [],
   "source": [
    "QUERY_1_FILENAME = \"query1.sql\"\n",
    "\n",
    "QUERY_1 = \"\"\"\n",
    "SELECT \n",
    "    strftime('%H', trip_pickup_datetime) AS pickup_hour, \n",
    "    COUNT(*) AS trip_count\n",
    "FROM \n",
    "    taxi_trips\n",
    "GROUP BY \n",
    "    pickup_hour\n",
    "ORDER BY \n",
    "    trip_count DESC\n",
    "\n",
    "\"\"\""
   ]
  },
  {
   "cell_type": "code",
   "execution_count": 48,
   "metadata": {},
   "outputs": [
    {
     "data": {
      "text/html": [
       "<div>\n",
       "<style scoped>\n",
       "    .dataframe tbody tr th:only-of-type {\n",
       "        vertical-align: middle;\n",
       "    }\n",
       "\n",
       "    .dataframe tbody tr th {\n",
       "        vertical-align: top;\n",
       "    }\n",
       "\n",
       "    .dataframe thead th {\n",
       "        text-align: right;\n",
       "    }\n",
       "</style>\n",
       "<table border=\"1\" class=\"dataframe\">\n",
       "  <thead>\n",
       "    <tr style=\"text-align: right;\">\n",
       "      <th></th>\n",
       "      <th>pickup_hour</th>\n",
       "      <th>trip_count</th>\n",
       "    </tr>\n",
       "  </thead>\n",
       "  <tbody>\n",
       "    <tr>\n",
       "      <th>0</th>\n",
       "      <td>18</td>\n",
       "      <td>1470</td>\n",
       "    </tr>\n",
       "    <tr>\n",
       "      <th>1</th>\n",
       "      <td>17</td>\n",
       "      <td>1404</td>\n",
       "    </tr>\n",
       "    <tr>\n",
       "      <th>2</th>\n",
       "      <td>16</td>\n",
       "      <td>1364</td>\n",
       "    </tr>\n",
       "    <tr>\n",
       "      <th>3</th>\n",
       "      <td>15</td>\n",
       "      <td>1358</td>\n",
       "    </tr>\n",
       "    <tr>\n",
       "      <th>4</th>\n",
       "      <td>14</td>\n",
       "      <td>1346</td>\n",
       "    </tr>\n",
       "    <tr>\n",
       "      <th>5</th>\n",
       "      <td>19</td>\n",
       "      <td>1337</td>\n",
       "    </tr>\n",
       "    <tr>\n",
       "      <th>6</th>\n",
       "      <td>12</td>\n",
       "      <td>1259</td>\n",
       "    </tr>\n",
       "    <tr>\n",
       "      <th>7</th>\n",
       "      <td>13</td>\n",
       "      <td>1256</td>\n",
       "    </tr>\n",
       "    <tr>\n",
       "      <th>8</th>\n",
       "      <td>11</td>\n",
       "      <td>1188</td>\n",
       "    </tr>\n",
       "    <tr>\n",
       "      <th>9</th>\n",
       "      <td>20</td>\n",
       "      <td>1105</td>\n",
       "    </tr>\n",
       "    <tr>\n",
       "      <th>10</th>\n",
       "      <td>10</td>\n",
       "      <td>1067</td>\n",
       "    </tr>\n",
       "    <tr>\n",
       "      <th>11</th>\n",
       "      <td>21</td>\n",
       "      <td>1023</td>\n",
       "    </tr>\n",
       "    <tr>\n",
       "      <th>12</th>\n",
       "      <td>22</td>\n",
       "      <td>972</td>\n",
       "    </tr>\n",
       "    <tr>\n",
       "      <th>13</th>\n",
       "      <td>09</td>\n",
       "      <td>948</td>\n",
       "    </tr>\n",
       "    <tr>\n",
       "      <th>14</th>\n",
       "      <td>08</td>\n",
       "      <td>849</td>\n",
       "    </tr>\n",
       "    <tr>\n",
       "      <th>15</th>\n",
       "      <td>23</td>\n",
       "      <td>742</td>\n",
       "    </tr>\n",
       "    <tr>\n",
       "      <th>16</th>\n",
       "      <td>07</td>\n",
       "      <td>688</td>\n",
       "    </tr>\n",
       "    <tr>\n",
       "      <th>17</th>\n",
       "      <td>00</td>\n",
       "      <td>504</td>\n",
       "    </tr>\n",
       "    <tr>\n",
       "      <th>18</th>\n",
       "      <td>01</td>\n",
       "      <td>355</td>\n",
       "    </tr>\n",
       "    <tr>\n",
       "      <th>19</th>\n",
       "      <td>06</td>\n",
       "      <td>354</td>\n",
       "    </tr>\n",
       "    <tr>\n",
       "      <th>20</th>\n",
       "      <td>02</td>\n",
       "      <td>216</td>\n",
       "    </tr>\n",
       "    <tr>\n",
       "      <th>21</th>\n",
       "      <td>03</td>\n",
       "      <td>159</td>\n",
       "    </tr>\n",
       "    <tr>\n",
       "      <th>22</th>\n",
       "      <td>05</td>\n",
       "      <td>148</td>\n",
       "    </tr>\n",
       "    <tr>\n",
       "      <th>23</th>\n",
       "      <td>04</td>\n",
       "      <td>103</td>\n",
       "    </tr>\n",
       "  </tbody>\n",
       "</table>\n",
       "</div>"
      ],
      "text/plain": [
       "   pickup_hour  trip_count\n",
       "0           18        1470\n",
       "1           17        1404\n",
       "2           16        1364\n",
       "3           15        1358\n",
       "4           14        1346\n",
       "5           19        1337\n",
       "6           12        1259\n",
       "7           13        1256\n",
       "8           11        1188\n",
       "9           20        1105\n",
       "10          10        1067\n",
       "11          21        1023\n",
       "12          22         972\n",
       "13          09         948\n",
       "14          08         849\n",
       "15          23         742\n",
       "16          07         688\n",
       "17          00         504\n",
       "18          01         355\n",
       "19          06         354\n",
       "20          02         216\n",
       "21          03         159\n",
       "22          05         148\n",
       "23          04         103"
      ]
     },
     "execution_count": 48,
     "metadata": {},
     "output_type": "execute_result"
    }
   ],
   "source": [
    "# execute query either via sqlalchemy\n",
    "with engine.connect() as con:\n",
    "    results = con.execute(db.text(QUERY_1)).fetchall()\n",
    "results\n",
    "\n",
    "# or via pandas\n",
    "results1_df = pd.read_sql(QUERY_1, con=engine)\n",
    "results1_df"
   ]
  },
  {
   "cell_type": "code",
   "execution_count": 49,
   "metadata": {},
   "outputs": [],
   "source": [
    "write_query_to_file(QUERY_1, QUERY_1_FILENAME)"
   ]
  },
  {
   "cell_type": "markdown",
   "metadata": {},
   "source": [
    "Query 2"
   ]
  },
  {
   "cell_type": "code",
   "execution_count": 50,
   "metadata": {},
   "outputs": [],
   "source": [
    "QUERY_2_FILENAME = \"query2.sql\"\n",
    "\n",
    "QUERY_2 = \"\"\"\n",
    "SELECT \n",
    "    strftime('%w', trip_pickup_datetime) AS day_of_week, \n",
    "    CASE strftime('%w', trip_pickup_datetime)\n",
    "        WHEN '0' THEN 'Sunday'\n",
    "        WHEN '1' THEN 'Monday'\n",
    "        WHEN '2' THEN 'Tuesday'\n",
    "        WHEN '3' THEN 'Wednesday'\n",
    "        WHEN '4' THEN 'Thursday'\n",
    "        WHEN '5' THEN 'Friday'\n",
    "        WHEN '6' THEN 'Saturday'\n",
    "    END AS day_of_week_name,\n",
    "    COUNT(*) AS trip_count\n",
    "FROM \n",
    "    uber_trips\n",
    "GROUP BY \n",
    "    day_of_week_name\n",
    "ORDER BY \n",
    "    trip_count DESC\n",
    "\n",
    "\"\"\""
   ]
  },
  {
   "cell_type": "code",
   "execution_count": 51,
   "metadata": {},
   "outputs": [
    {
     "data": {
      "text/html": [
       "<div>\n",
       "<style scoped>\n",
       "    .dataframe tbody tr th:only-of-type {\n",
       "        vertical-align: middle;\n",
       "    }\n",
       "\n",
       "    .dataframe tbody tr th {\n",
       "        vertical-align: top;\n",
       "    }\n",
       "\n",
       "    .dataframe thead th {\n",
       "        text-align: right;\n",
       "    }\n",
       "</style>\n",
       "<table border=\"1\" class=\"dataframe\">\n",
       "  <thead>\n",
       "    <tr style=\"text-align: right;\">\n",
       "      <th></th>\n",
       "      <th>day_of_week</th>\n",
       "      <th>day_of_week_name</th>\n",
       "      <th>trip_count</th>\n",
       "    </tr>\n",
       "  </thead>\n",
       "  <tbody>\n",
       "    <tr>\n",
       "      <th>0</th>\n",
       "      <td>6</td>\n",
       "      <td>Saturday</td>\n",
       "      <td>3514</td>\n",
       "    </tr>\n",
       "    <tr>\n",
       "      <th>1</th>\n",
       "      <td>5</td>\n",
       "      <td>Friday</td>\n",
       "      <td>3313</td>\n",
       "    </tr>\n",
       "    <tr>\n",
       "      <th>2</th>\n",
       "      <td>4</td>\n",
       "      <td>Thursday</td>\n",
       "      <td>3068</td>\n",
       "    </tr>\n",
       "    <tr>\n",
       "      <th>3</th>\n",
       "      <td>0</td>\n",
       "      <td>Sunday</td>\n",
       "      <td>2979</td>\n",
       "    </tr>\n",
       "    <tr>\n",
       "      <th>4</th>\n",
       "      <td>3</td>\n",
       "      <td>Wednesday</td>\n",
       "      <td>2908</td>\n",
       "    </tr>\n",
       "    <tr>\n",
       "      <th>5</th>\n",
       "      <td>2</td>\n",
       "      <td>Tuesday</td>\n",
       "      <td>2776</td>\n",
       "    </tr>\n",
       "    <tr>\n",
       "      <th>6</th>\n",
       "      <td>1</td>\n",
       "      <td>Monday</td>\n",
       "      <td>2567</td>\n",
       "    </tr>\n",
       "  </tbody>\n",
       "</table>\n",
       "</div>"
      ],
      "text/plain": [
       "  day_of_week day_of_week_name  trip_count\n",
       "0           6         Saturday        3514\n",
       "1           5           Friday        3313\n",
       "2           4         Thursday        3068\n",
       "3           0           Sunday        2979\n",
       "4           3        Wednesday        2908\n",
       "5           2          Tuesday        2776\n",
       "6           1           Monday        2567"
      ]
     },
     "execution_count": 51,
     "metadata": {},
     "output_type": "execute_result"
    }
   ],
   "source": [
    "# execute query either via sqlalchemy\n",
    "with engine.connect() as con:\n",
    "    results = con.execute(db.text(QUERY_2)).fetchall()\n",
    "results\n",
    "\n",
    "# or via pandas\n",
    "results2_df = pd.read_sql(QUERY_2, con=engine)\n",
    "results2_df"
   ]
  },
  {
   "cell_type": "code",
   "execution_count": 52,
   "metadata": {},
   "outputs": [],
   "source": [
    "write_query_to_file(QUERY_2, QUERY_2_FILENAME)"
   ]
  },
  {
   "cell_type": "markdown",
   "metadata": {},
   "source": [
    "Query 3"
   ]
  },
  {
   "cell_type": "code",
   "execution_count": 53,
   "metadata": {},
   "outputs": [],
   "source": [
    "QUERY_3_FILENAME = \"query3.sql\"\n",
    "\n",
    "QUERY_3 = \"\"\"\n",
    "WITH combined_trips AS (\n",
    "    SELECT \n",
    "        trip_miles AS trip_distance,\n",
    "        trip_pickup_datetime\n",
    "    FROM \n",
    "        taxi_trips\n",
    "    WHERE \n",
    "        strftime('%Y-%m', trip_pickup_datetime) = '2024-01'\n",
    "    \n",
    "    UNION ALL\n",
    "    \n",
    "    SELECT \n",
    "        trip_distance AS trip_distance,\n",
    "        trip_pickup_datetime\n",
    "    FROM \n",
    "        uber_trips\n",
    "    WHERE \n",
    "        strftime('%Y-%m', trip_pickup_datetime) = '2024-01'\n",
    "),\n",
    "sorted_trips AS (\n",
    "    SELECT \n",
    "        trip_distance,\n",
    "        ROW_NUMBER() OVER (ORDER BY trip_distance) AS row_num,\n",
    "        COUNT(*) OVER () AS total_rows\n",
    "    FROM \n",
    "        combined_trips\n",
    "),\n",
    "percentile_row AS (\n",
    "    SELECT \n",
    "        trip_distance\n",
    "    FROM \n",
    "        sorted_trips\n",
    "    WHERE \n",
    "        row_num = CAST(0.95 * total_rows AS INTEGER)\n",
    ")\n",
    "SELECT \n",
    "    trip_distance AS percentile_95\n",
    "FROM \n",
    "    percentile_row;\n",
    "\"\"\""
   ]
  },
  {
   "cell_type": "code",
   "execution_count": 54,
   "metadata": {},
   "outputs": [
    {
     "data": {
      "text/html": [
       "<div>\n",
       "<style scoped>\n",
       "    .dataframe tbody tr th:only-of-type {\n",
       "        vertical-align: middle;\n",
       "    }\n",
       "\n",
       "    .dataframe tbody tr th {\n",
       "        vertical-align: top;\n",
       "    }\n",
       "\n",
       "    .dataframe thead th {\n",
       "        text-align: right;\n",
       "    }\n",
       "</style>\n",
       "<table border=\"1\" class=\"dataframe\">\n",
       "  <thead>\n",
       "    <tr style=\"text-align: right;\">\n",
       "      <th></th>\n",
       "      <th>percentile_95</th>\n",
       "    </tr>\n",
       "  </thead>\n",
       "  <tbody>\n",
       "    <tr>\n",
       "      <th>0</th>\n",
       "      <td>15.62</td>\n",
       "    </tr>\n",
       "  </tbody>\n",
       "</table>\n",
       "</div>"
      ],
      "text/plain": [
       "   percentile_95\n",
       "0          15.62"
      ]
     },
     "execution_count": 54,
     "metadata": {},
     "output_type": "execute_result"
    }
   ],
   "source": [
    "# execute query either via sqlalchemy\n",
    "with engine.connect() as con:\n",
    "    results = con.execute(db.text(QUERY_3)).fetchall()\n",
    "results\n",
    "\n",
    "# or via pandas\n",
    "results3_df = pd.read_sql(QUERY_3, con=engine)\n",
    "results3_df"
   ]
  },
  {
   "cell_type": "code",
   "execution_count": 55,
   "metadata": {},
   "outputs": [],
   "source": [
    "write_query_to_file(QUERY_3, QUERY_3_FILENAME)"
   ]
  },
  {
   "cell_type": "markdown",
   "metadata": {},
   "source": [
    "### Query 4 "
   ]
  },
  {
   "cell_type": "code",
   "execution_count": 56,
   "metadata": {},
   "outputs": [],
   "source": [
    "QUERY_4_FILENAME = \"query4.sql\"\n",
    "\n",
    "QUERY_4 = \"\"\"\n",
    "\n",
    "WITH all_trips AS (\n",
    "    SELECT \n",
    "        strftime('%Y-%m-%d', trip_pickup_datetime) AS trip_date,\n",
    "        trip_miles AS trip_distance\n",
    "    FROM \n",
    "        taxi_trips\n",
    "    WHERE \n",
    "        strftime('%Y', trip_pickup_datetime) = '2023'\n",
    "\n",
    "    UNION ALL\n",
    "\n",
    "    SELECT \n",
    "        strftime('%Y-%m-%d', trip_pickup_datetime) AS trip_date,\n",
    "        trip_distance AS trip_distance\n",
    "    FROM \n",
    "        uber_trips\n",
    "    WHERE \n",
    "        strftime('%Y', trip_pickup_datetime) = '2023'\n",
    "),\n",
    "daily_rides AS (\n",
    "    SELECT \n",
    "        trip_date,\n",
    "        COUNT(*) AS total_rides,\n",
    "        AVG(trip_distance) AS avg_trip_distance\n",
    "    FROM \n",
    "        all_trips\n",
    "    GROUP BY \n",
    "        trip_date\n",
    "),\n",
    "top_days AS (\n",
    "    SELECT \n",
    "        trip_date,\n",
    "        total_rides,\n",
    "        avg_trip_distance\n",
    "    FROM \n",
    "        daily_rides\n",
    "    ORDER BY \n",
    "        total_rides DESC\n",
    "    LIMIT 10\n",
    ")\n",
    "SELECT \n",
    "    t.trip_date,\n",
    "    t.total_rides,\n",
    "    t.avg_trip_distance,\n",
    "    d.DailyPrecipitation AS avg_daily_precipitation,\n",
    "    d.DailyAverageWindSpeed AS avg_daily_wind_speed\n",
    "FROM \n",
    "    top_days t\n",
    "LEFT JOIN \n",
    "    daily_weather d\n",
    "ON \n",
    "    t.trip_date = d.DATE_day\n",
    "ORDER BY \n",
    "    t.total_rides DESC;\n",
    "\n",
    "\"\"\""
   ]
  },
  {
   "cell_type": "code",
   "execution_count": 57,
   "metadata": {},
   "outputs": [
    {
     "data": {
      "text/html": [
       "<div>\n",
       "<style scoped>\n",
       "    .dataframe tbody tr th:only-of-type {\n",
       "        vertical-align: middle;\n",
       "    }\n",
       "\n",
       "    .dataframe tbody tr th {\n",
       "        vertical-align: top;\n",
       "    }\n",
       "\n",
       "    .dataframe thead th {\n",
       "        text-align: right;\n",
       "    }\n",
       "</style>\n",
       "<table border=\"1\" class=\"dataframe\">\n",
       "  <thead>\n",
       "    <tr style=\"text-align: right;\">\n",
       "      <th></th>\n",
       "      <th>DATE_day</th>\n",
       "      <th>DailyPrecipitation</th>\n",
       "      <th>DailySnowfall</th>\n",
       "      <th>DailyAverageWindSpeed</th>\n",
       "    </tr>\n",
       "  </thead>\n",
       "  <tbody>\n",
       "    <tr>\n",
       "      <th>6483</th>\n",
       "      <td>2023-07-22</td>\n",
       "      <td>0.0</td>\n",
       "      <td>0.0</td>\n",
       "      <td>3.1</td>\n",
       "    </tr>\n",
       "  </tbody>\n",
       "</table>\n",
       "</div>"
      ],
      "text/plain": [
       "        DATE_day  DailyPrecipitation  DailySnowfall  DailyAverageWindSpeed\n",
       "6483  2023-07-22                 0.0            0.0                    3.1"
      ]
     },
     "execution_count": 57,
     "metadata": {},
     "output_type": "execute_result"
    }
   ],
   "source": [
    "daily_weather_data[daily_weather_data['DATE_day'] == '2023-07-22']"
   ]
  },
  {
   "cell_type": "code",
   "execution_count": 58,
   "metadata": {},
   "outputs": [
    {
     "data": {
      "text/html": [
       "<div>\n",
       "<style scoped>\n",
       "    .dataframe tbody tr th:only-of-type {\n",
       "        vertical-align: middle;\n",
       "    }\n",
       "\n",
       "    .dataframe tbody tr th {\n",
       "        vertical-align: top;\n",
       "    }\n",
       "\n",
       "    .dataframe thead th {\n",
       "        text-align: right;\n",
       "    }\n",
       "</style>\n",
       "<table border=\"1\" class=\"dataframe\">\n",
       "  <thead>\n",
       "    <tr style=\"text-align: right;\">\n",
       "      <th></th>\n",
       "      <th>trip_date</th>\n",
       "      <th>total_rides</th>\n",
       "      <th>avg_trip_distance</th>\n",
       "      <th>avg_daily_precipitation</th>\n",
       "      <th>avg_daily_wind_speed</th>\n",
       "    </tr>\n",
       "  </thead>\n",
       "  <tbody>\n",
       "    <tr>\n",
       "      <th>0</th>\n",
       "      <td>2023-06-02</td>\n",
       "      <td>40</td>\n",
       "      <td>2.466750</td>\n",
       "      <td>0.24000</td>\n",
       "      <td>2.0</td>\n",
       "    </tr>\n",
       "    <tr>\n",
       "      <th>1</th>\n",
       "      <td>2023-07-22</td>\n",
       "      <td>39</td>\n",
       "      <td>4.036667</td>\n",
       "      <td>0.00000</td>\n",
       "      <td>3.1</td>\n",
       "    </tr>\n",
       "    <tr>\n",
       "      <th>2</th>\n",
       "      <td>2023-12-09</td>\n",
       "      <td>38</td>\n",
       "      <td>3.951053</td>\n",
       "      <td>0.00001</td>\n",
       "      <td>2.1</td>\n",
       "    </tr>\n",
       "    <tr>\n",
       "      <th>3</th>\n",
       "      <td>2023-12-13</td>\n",
       "      <td>38</td>\n",
       "      <td>2.867105</td>\n",
       "      <td>0.00000</td>\n",
       "      <td>6.7</td>\n",
       "    </tr>\n",
       "    <tr>\n",
       "      <th>4</th>\n",
       "      <td>2023-06-03</td>\n",
       "      <td>37</td>\n",
       "      <td>3.908649</td>\n",
       "      <td>0.00000</td>\n",
       "      <td>7.7</td>\n",
       "    </tr>\n",
       "    <tr>\n",
       "      <th>5</th>\n",
       "      <td>2023-12-04</td>\n",
       "      <td>37</td>\n",
       "      <td>3.294054</td>\n",
       "      <td>0.00000</td>\n",
       "      <td>6.0</td>\n",
       "    </tr>\n",
       "    <tr>\n",
       "      <th>6</th>\n",
       "      <td>2023-02-04</td>\n",
       "      <td>35</td>\n",
       "      <td>3.664571</td>\n",
       "      <td>0.00000</td>\n",
       "      <td>8.7</td>\n",
       "    </tr>\n",
       "    <tr>\n",
       "      <th>7</th>\n",
       "      <td>2023-02-09</td>\n",
       "      <td>35</td>\n",
       "      <td>4.044000</td>\n",
       "      <td>0.00000</td>\n",
       "      <td>3.6</td>\n",
       "    </tr>\n",
       "    <tr>\n",
       "      <th>8</th>\n",
       "      <td>2023-02-19</td>\n",
       "      <td>35</td>\n",
       "      <td>4.860571</td>\n",
       "      <td>0.00000</td>\n",
       "      <td>3.4</td>\n",
       "    </tr>\n",
       "    <tr>\n",
       "      <th>9</th>\n",
       "      <td>2023-02-24</td>\n",
       "      <td>35</td>\n",
       "      <td>4.073429</td>\n",
       "      <td>0.00000</td>\n",
       "      <td>8.8</td>\n",
       "    </tr>\n",
       "  </tbody>\n",
       "</table>\n",
       "</div>"
      ],
      "text/plain": [
       "    trip_date  total_rides  avg_trip_distance  avg_daily_precipitation  \\\n",
       "0  2023-06-02           40           2.466750                  0.24000   \n",
       "1  2023-07-22           39           4.036667                  0.00000   \n",
       "2  2023-12-09           38           3.951053                  0.00001   \n",
       "3  2023-12-13           38           2.867105                  0.00000   \n",
       "4  2023-06-03           37           3.908649                  0.00000   \n",
       "5  2023-12-04           37           3.294054                  0.00000   \n",
       "6  2023-02-04           35           3.664571                  0.00000   \n",
       "7  2023-02-09           35           4.044000                  0.00000   \n",
       "8  2023-02-19           35           4.860571                  0.00000   \n",
       "9  2023-02-24           35           4.073429                  0.00000   \n",
       "\n",
       "   avg_daily_wind_speed  \n",
       "0                   2.0  \n",
       "1                   3.1  \n",
       "2                   2.1  \n",
       "3                   6.7  \n",
       "4                   7.7  \n",
       "5                   6.0  \n",
       "6                   8.7  \n",
       "7                   3.6  \n",
       "8                   3.4  \n",
       "9                   8.8  "
      ]
     },
     "execution_count": 58,
     "metadata": {},
     "output_type": "execute_result"
    }
   ],
   "source": [
    "# execute query either via sqlalchemy\n",
    "with engine.connect() as con:\n",
    "    results = con.execute(db.text(QUERY_4)).fetchall()\n",
    "results\n",
    "\n",
    "# or via pandas\n",
    "results4_df=  pd.read_sql(QUERY_4, con=engine)\n",
    "results4_df"
   ]
  },
  {
   "cell_type": "code",
   "execution_count": 59,
   "metadata": {},
   "outputs": [],
   "source": [
    "write_query_to_file(QUERY_4, QUERY_4_FILENAME)"
   ]
  },
  {
   "cell_type": "markdown",
   "metadata": {},
   "source": [
    "### Query 5"
   ]
  },
  {
   "cell_type": "code",
   "execution_count": 60,
   "metadata": {},
   "outputs": [],
   "source": [
    "QUERY_5_FILENAME = \"query5.sql\"\n",
    "\n",
    "QUERY_5 = \"\"\"\n",
    "WITH snowiest_days AS (\n",
    "    SELECT \n",
    "        DATE_day AS snow_date,\n",
    "        DailySnowfall\n",
    "    FROM \n",
    "        daily_weather\n",
    "    WHERE \n",
    "        DATE_day BETWEEN '2020-01-01' AND '2024-08-31'\n",
    "        AND DailySnowfall IS NOT NULL\n",
    "    ORDER BY \n",
    "        DailySnowfall DESC\n",
    "    LIMIT 10\n",
    "),\n",
    "all_trips AS (\n",
    "    SELECT \n",
    "        strftime('%Y-%m-%d', trip_pickup_datetime) AS trip_date\n",
    "    FROM \n",
    "        taxi_trips\n",
    "    WHERE \n",
    "        strftime('%Y-%m-%d', trip_pickup_datetime) BETWEEN '2020-01-01' AND '2024-08-31'\n",
    "\n",
    "    UNION ALL\n",
    "\n",
    "    SELECT \n",
    "        strftime('%Y-%m-%d', trip_pickup_datetime) AS trip_date\n",
    "    FROM \n",
    "        uber_trips\n",
    "    WHERE \n",
    "        strftime('%Y-%m-%d', trip_pickup_datetime) BETWEEN '2020-01-01' AND '2024-08-31'\n",
    "),\n",
    "snow_day_rides AS (\n",
    "    SELECT \n",
    "        s.snow_date,\n",
    "        s.DailySnowfall,\n",
    "        COUNT(a.trip_date) AS total_rides\n",
    "    FROM \n",
    "        snowiest_days s\n",
    "    LEFT JOIN \n",
    "        all_trips a\n",
    "    ON \n",
    "        s.snow_date = a.trip_date\n",
    "    GROUP BY \n",
    "        s.snow_date, s.DailySnowfall\n",
    "    ORDER BY \n",
    "        s.DailySnowfall DESC\n",
    ")\n",
    "SELECT \n",
    "    snow_date,\n",
    "    DailySnowfall,\n",
    "    total_rides\n",
    "FROM \n",
    "    snow_day_rides\n",
    "ORDER BY \n",
    "    DailySnowfall DESC;\n",
    "\"\"\""
   ]
  },
  {
   "cell_type": "code",
   "execution_count": 61,
   "metadata": {},
   "outputs": [
    {
     "data": {
      "text/html": [
       "<div>\n",
       "<style scoped>\n",
       "    .dataframe tbody tr th:only-of-type {\n",
       "        vertical-align: middle;\n",
       "    }\n",
       "\n",
       "    .dataframe tbody tr th {\n",
       "        vertical-align: top;\n",
       "    }\n",
       "\n",
       "    .dataframe thead th {\n",
       "        text-align: right;\n",
       "    }\n",
       "</style>\n",
       "<table border=\"1\" class=\"dataframe\">\n",
       "  <thead>\n",
       "    <tr style=\"text-align: right;\">\n",
       "      <th></th>\n",
       "      <th>snow_date</th>\n",
       "      <th>DailySnowfall</th>\n",
       "      <th>total_rides</th>\n",
       "    </tr>\n",
       "  </thead>\n",
       "  <tbody>\n",
       "    <tr>\n",
       "      <th>0</th>\n",
       "      <td>2021-02-01</td>\n",
       "      <td>14.8</td>\n",
       "      <td>8</td>\n",
       "    </tr>\n",
       "    <tr>\n",
       "      <th>1</th>\n",
       "      <td>2022-01-29</td>\n",
       "      <td>7.3</td>\n",
       "      <td>12</td>\n",
       "    </tr>\n",
       "    <tr>\n",
       "      <th>2</th>\n",
       "      <td>2020-12-16</td>\n",
       "      <td>6.5</td>\n",
       "      <td>25</td>\n",
       "    </tr>\n",
       "    <tr>\n",
       "      <th>3</th>\n",
       "      <td>2022-01-07</td>\n",
       "      <td>5.8</td>\n",
       "      <td>20</td>\n",
       "    </tr>\n",
       "    <tr>\n",
       "      <th>4</th>\n",
       "      <td>2021-02-07</td>\n",
       "      <td>4.5</td>\n",
       "      <td>10</td>\n",
       "    </tr>\n",
       "    <tr>\n",
       "      <th>5</th>\n",
       "      <td>2020-12-17</td>\n",
       "      <td>4.0</td>\n",
       "      <td>16</td>\n",
       "    </tr>\n",
       "    <tr>\n",
       "      <th>6</th>\n",
       "      <td>2021-02-18</td>\n",
       "      <td>3.2</td>\n",
       "      <td>20</td>\n",
       "    </tr>\n",
       "    <tr>\n",
       "      <th>7</th>\n",
       "      <td>2024-02-13</td>\n",
       "      <td>3.2</td>\n",
       "      <td>13</td>\n",
       "    </tr>\n",
       "    <tr>\n",
       "      <th>8</th>\n",
       "      <td>2020-01-18</td>\n",
       "      <td>2.1</td>\n",
       "      <td>18</td>\n",
       "    </tr>\n",
       "    <tr>\n",
       "      <th>9</th>\n",
       "      <td>2024-02-17</td>\n",
       "      <td>2.0</td>\n",
       "      <td>21</td>\n",
       "    </tr>\n",
       "  </tbody>\n",
       "</table>\n",
       "</div>"
      ],
      "text/plain": [
       "    snow_date  DailySnowfall  total_rides\n",
       "0  2021-02-01           14.8            8\n",
       "1  2022-01-29            7.3           12\n",
       "2  2020-12-16            6.5           25\n",
       "3  2022-01-07            5.8           20\n",
       "4  2021-02-07            4.5           10\n",
       "5  2020-12-17            4.0           16\n",
       "6  2021-02-18            3.2           20\n",
       "7  2024-02-13            3.2           13\n",
       "8  2020-01-18            2.1           18\n",
       "9  2024-02-17            2.0           21"
      ]
     },
     "execution_count": 61,
     "metadata": {},
     "output_type": "execute_result"
    }
   ],
   "source": [
    "# execute query either via sqlalchemy\n",
    "with engine.connect() as con:\n",
    "    results = con.execute(db.text(QUERY_5)).fetchall()\n",
    "results\n",
    "\n",
    "# or via pandas\n",
    "results5_df = pd.read_sql(QUERY_5, con=engine)\n",
    "results5_df"
   ]
  },
  {
   "cell_type": "code",
   "execution_count": 62,
   "metadata": {},
   "outputs": [],
   "source": [
    "write_query_to_file(QUERY_5, QUERY_5_FILENAME)"
   ]
  },
  {
   "cell_type": "markdown",
   "metadata": {},
   "source": [
    "### Query 6"
   ]
  },
  {
   "cell_type": "code",
   "execution_count": 63,
   "metadata": {},
   "outputs": [],
   "source": [
    "QUERY_6_FILENAME = \"query6.sql\"\n",
    "\n",
    "QUERY_6 = \"\"\"\n",
    "WITH RECURSIVE hours AS (\n",
    "    -- Generate all hours between 2023-09-25 00:00 and 2023-10-03 23:59\n",
    "    SELECT datetime('2023-09-25 00:00') AS DATE_hour\n",
    "    UNION ALL\n",
    "    SELECT datetime(DATE_hour, '+1 hour')\n",
    "    FROM hours\n",
    "    WHERE DATE_hour < '2023-10-03 23:00:00' -- Stop at the last hour\n",
    "),\n",
    "hours_format AS (\n",
    "\n",
    "    SELECT \n",
    "        strftime('%Y-%m-%d-%H', DATE_hour) as DATE_hour\n",
    "    FROM hours as h \n",
    "),\n",
    "rides AS (\n",
    "    -- Aggregate rides by hour\n",
    "    SELECT \n",
    "        strftime('%Y-%m-%d-%H', trip_pickup_datetime) AS DATE_hour,\n",
    "        COUNT(*) AS num_rides\n",
    "    FROM (\n",
    "        SELECT trip_pickup_datetime FROM taxi_trips\n",
    "        UNION ALL\n",
    "        SELECT trip_pickup_datetime FROM uber_trips\n",
    "    )\n",
    "    GROUP BY DATE_hour\n",
    ")\n",
    "SELECT \n",
    "    h.DATE_hour,\n",
    "    COALESCE(r.num_rides, 0) AS num_rides,\n",
    "    COALESCE(w.HourlyPrecipitation, 0.0) AS hourly_precipitation,\n",
    "    COALESCE(w.HourlyWindSpeed, 0.0) AS hourly_wind_speed\n",
    "FROM \n",
    "    hours_format h\n",
    "LEFT JOIN \n",
    "    rides r ON h.DATE_hour = r.DATE_hour\n",
    "LEFT JOIN \n",
    "    hourly_weather w ON h.DATE_hour = w.DATE_hour\n",
    "ORDER BY \n",
    "    h.DATE_hour;\n",
    "\"\"\""
   ]
  },
  {
   "cell_type": "code",
   "execution_count": 64,
   "metadata": {},
   "outputs": [
    {
     "data": {
      "text/html": [
       "<div>\n",
       "<style scoped>\n",
       "    .dataframe tbody tr th:only-of-type {\n",
       "        vertical-align: middle;\n",
       "    }\n",
       "\n",
       "    .dataframe tbody tr th {\n",
       "        vertical-align: top;\n",
       "    }\n",
       "\n",
       "    .dataframe thead th {\n",
       "        text-align: right;\n",
       "    }\n",
       "</style>\n",
       "<table border=\"1\" class=\"dataframe\">\n",
       "  <thead>\n",
       "    <tr style=\"text-align: right;\">\n",
       "      <th></th>\n",
       "      <th>DATE_hour</th>\n",
       "      <th>num_rides</th>\n",
       "      <th>hourly_precipitation</th>\n",
       "      <th>hourly_wind_speed</th>\n",
       "    </tr>\n",
       "  </thead>\n",
       "  <tbody>\n",
       "    <tr>\n",
       "      <th>0</th>\n",
       "      <td>2023-09-25-00</td>\n",
       "      <td>0</td>\n",
       "      <td>0.01</td>\n",
       "      <td>8.0</td>\n",
       "    </tr>\n",
       "    <tr>\n",
       "      <th>1</th>\n",
       "      <td>2023-09-25-01</td>\n",
       "      <td>0</td>\n",
       "      <td>0.01</td>\n",
       "      <td>6.0</td>\n",
       "    </tr>\n",
       "    <tr>\n",
       "      <th>2</th>\n",
       "      <td>2023-09-25-02</td>\n",
       "      <td>0</td>\n",
       "      <td>0.07</td>\n",
       "      <td>7.0</td>\n",
       "    </tr>\n",
       "    <tr>\n",
       "      <th>3</th>\n",
       "      <td>2023-09-25-03</td>\n",
       "      <td>0</td>\n",
       "      <td>0.02</td>\n",
       "      <td>0.0</td>\n",
       "    </tr>\n",
       "    <tr>\n",
       "      <th>4</th>\n",
       "      <td>2023-09-25-04</td>\n",
       "      <td>0</td>\n",
       "      <td>0.01</td>\n",
       "      <td>6.0</td>\n",
       "    </tr>\n",
       "    <tr>\n",
       "      <th>...</th>\n",
       "      <td>...</td>\n",
       "      <td>...</td>\n",
       "      <td>...</td>\n",
       "      <td>...</td>\n",
       "    </tr>\n",
       "    <tr>\n",
       "      <th>211</th>\n",
       "      <td>2023-10-03-19</td>\n",
       "      <td>3</td>\n",
       "      <td>0.00</td>\n",
       "      <td>0.0</td>\n",
       "    </tr>\n",
       "    <tr>\n",
       "      <th>212</th>\n",
       "      <td>2023-10-03-20</td>\n",
       "      <td>0</td>\n",
       "      <td>0.00</td>\n",
       "      <td>0.0</td>\n",
       "    </tr>\n",
       "    <tr>\n",
       "      <th>213</th>\n",
       "      <td>2023-10-03-21</td>\n",
       "      <td>3</td>\n",
       "      <td>0.00</td>\n",
       "      <td>0.0</td>\n",
       "    </tr>\n",
       "    <tr>\n",
       "      <th>214</th>\n",
       "      <td>2023-10-03-22</td>\n",
       "      <td>0</td>\n",
       "      <td>0.00</td>\n",
       "      <td>0.0</td>\n",
       "    </tr>\n",
       "    <tr>\n",
       "      <th>215</th>\n",
       "      <td>2023-10-03-23</td>\n",
       "      <td>1</td>\n",
       "      <td>0.00</td>\n",
       "      <td>0.0</td>\n",
       "    </tr>\n",
       "  </tbody>\n",
       "</table>\n",
       "<p>216 rows × 4 columns</p>\n",
       "</div>"
      ],
      "text/plain": [
       "         DATE_hour  num_rides hourly_precipitation  hourly_wind_speed\n",
       "0    2023-09-25-00          0                 0.01                8.0\n",
       "1    2023-09-25-01          0                 0.01                6.0\n",
       "2    2023-09-25-02          0                 0.07                7.0\n",
       "3    2023-09-25-03          0                 0.02                0.0\n",
       "4    2023-09-25-04          0                 0.01                6.0\n",
       "..             ...        ...                  ...                ...\n",
       "211  2023-10-03-19          3                 0.00                0.0\n",
       "212  2023-10-03-20          0                 0.00                0.0\n",
       "213  2023-10-03-21          3                 0.00                0.0\n",
       "214  2023-10-03-22          0                 0.00                0.0\n",
       "215  2023-10-03-23          1                 0.00                0.0\n",
       "\n",
       "[216 rows x 4 columns]"
      ]
     },
     "execution_count": 64,
     "metadata": {},
     "output_type": "execute_result"
    }
   ],
   "source": [
    "# execute query either via sqlalchemy\n",
    "with engine.connect() as con:\n",
    "    results = con.execute(db.text(QUERY_6)).fetchall()\n",
    "results\n",
    "\n",
    "# or via pandas\n",
    "results6_df = pd.read_sql(QUERY_6, con=engine)\n",
    "results6_df"
   ]
  },
  {
   "cell_type": "code",
   "execution_count": 65,
   "metadata": {},
   "outputs": [],
   "source": [
    "write_query_to_file(QUERY_6, QUERY_6_FILENAME)"
   ]
  },
  {
   "cell_type": "markdown",
   "metadata": {},
   "source": [
    "## Part 4: Visualizing the Data"
   ]
  },
  {
   "cell_type": "markdown",
   "metadata": {},
   "source": [
    "### Visualization 1"
   ]
  },
  {
   "cell_type": "code",
   "execution_count": 66,
   "metadata": {},
   "outputs": [],
   "source": [
    "def get_data_for_visual_1() -> pd.DataFrame:\n",
    "    \"\"\"\n",
    "    get the data for the first visual\n",
    "\n",
    "    Returns:\n",
    "    pd.DataFrame -- the data for the first visual\n",
    "    \"\"\"\n",
    "\n",
    "\n",
    "    sql = \"\"\"\n",
    "    SELECT \n",
    "        strftime('%H', trip_pickup_datetime) AS pickup_hour, \n",
    "        COUNT(*) AS trip_count\n",
    "    FROM \n",
    "        taxi_trips\n",
    "    GROUP BY \n",
    "        pickup_hour\n",
    "    ORDER BY \n",
    "        trip_count DESC\n",
    "    \"\"\"\n",
    "\n",
    "    with engine.connect() as con:\n",
    "        results = pd.read_sql(sql, con=engine)\n",
    "\n",
    "    return results\n",
    "\n",
    "\n",
    "def plot_visual_1(topk:int=5) -> None :\n",
    "    \"\"\"\n",
    "    create the first visual\n",
    "\n",
    "    Keyword arguments:\n",
    "    topk -- the top k values to be shown (default: {5})\n",
    "\n",
    "    \"\"\"\n",
    "\n",
    "\n",
    "    figure, axes = plt.subplots(figsize=(20, 10))\n",
    "    df = get_data_for_visual_1()\n",
    "    df = df.head(topk)\n",
    "    df.plot(x='pickup_hour', y='trip_count', kind='bar', ax=axes)\n",
    "    for i in range(len(df)):\n",
    "        plt.text(i, df['trip_count'][i], df['trip_count'][i], ha='center', va='bottom')\n",
    "    plt.title(\" Hour for Taxi Trips\")\n",
    "    \n",
    "    plt.show()"
   ]
  },
  {
   "cell_type": "code",
   "execution_count": 67,
   "metadata": {},
   "outputs": [
    {
     "data": {
      "application/vnd.jupyter.widget-view+json": {
       "model_id": "1453c940710e4ac9ba40d5b425abd974",
       "version_major": 2,
       "version_minor": 0
      },
      "text/plain": [
       "interactive(children=(IntSlider(value=5, description='topk', max=15, min=-5), Output()), _dom_classes=('widget…"
      ]
     },
     "metadata": {},
     "output_type": "display_data"
    },
    {
     "data": {
      "text/plain": [
       "<function __main__.plot_visual_1(topk: int = 5) -> None>"
      ]
     },
     "execution_count": 67,
     "metadata": {},
     "output_type": "execute_result"
    }
   ],
   "source": [
    "interact(plot_visual_1, topk=5)"
   ]
  },
  {
   "cell_type": "markdown",
   "metadata": {},
   "source": [
    "### Visualization 2"
   ]
  },
  {
   "cell_type": "code",
   "execution_count": 68,
   "metadata": {},
   "outputs": [],
   "source": [
    "def get_data_for_visual_2() -> pd.DataFrame:\n",
    "    \"\"\"\n",
    "    get the data for the  visual\n",
    "\n",
    "    Returns:\n",
    "    pd.DataFrame -- the data for the visual\n",
    "    \"\"\"\n",
    "\n",
    "    sql = \"\"\"\n",
    "    WITH combined_data AS (\n",
    "        SELECT\n",
    "            strftime('%m', trip_pickup_datetime) AS month,\n",
    "            trip_miles AS distance\n",
    "        FROM taxi_trips\n",
    "        WHERE trip_pickup_datetime >= '2020-01-01' AND trip_pickup_datetime <= '2024-08-31'\n",
    "\n",
    "        UNION ALL\n",
    "\n",
    "        SELECT\n",
    "            strftime('%m', trip_pickup_datetime) AS month,\n",
    "            trip_distance AS distance\n",
    "        FROM uber_trips\n",
    "        WHERE trip_pickup_datetime >= '2020-01-01' AND trip_pickup_datetime <= '2024-08-31'\n",
    "    )\n",
    "    SELECT\n",
    "        month,\n",
    "        distance\n",
    "    FROM combined_data\n",
    "\n",
    "    \"\"\"\n",
    "\n",
    "    with engine.connect() as con:\n",
    "        results = pd.read_sql(sql, con=engine)\n",
    "    return results\n",
    "\n",
    "def plot_visual_2(selected_months) -> None:\n",
    "    \"\"\"\n",
    "    plot the second visual\n",
    "\n",
    "    Keyword arguments:\n",
    "    selected_months -- the selected months to be plotted\n",
    "    \n",
    "    \"\"\"\n",
    "\n",
    "    df = get_data_for_visual_2()\n",
    "\n",
    "    # Filter data based on selected months\n",
    "    filtered_df = df[df[\"month\"].isin(selected_months)]\n",
    "\n",
    "\n",
    "    filtered_df = filtered_df.groupby(\"month\").agg(avg_distance=(\"distance\", \"mean\"), variance=(\"distance\", \"sem\"),\n",
    "                                                   count=(\"distance\", \"count\")).reset_index()\n",
    "\n",
    "    confidence = 0.90\n",
    "\n",
    "    z_score = t.ppf((1 + confidence) / 2, filtered_df[\"count\"] - 1)\n",
    "    filtered_df[\"ci_lower\"] = filtered_df[\"avg_distance\"] - z_score * filtered_df[\"variance\"]\n",
    "    filtered_df[\"ci_upper\"] = filtered_df[\"avg_distance\"] + z_score * filtered_df[\"variance\"]\n",
    "\n",
    "\n",
    "    figure, axes = plt.subplots(figsize=(12, 6))\n",
    "    axes.plot(\n",
    "        filtered_df[\"month\"],\n",
    "        filtered_df[\"avg_distance\"],\n",
    "        color=\"blue\",\n",
    "        marker=\"o\",\n",
    "        label=\"Average Distance\"\n",
    "    )\n",
    "\n",
    "    axes.fill_between(\n",
    "        filtered_df[\"month\"],\n",
    "        filtered_df[\"ci_lower\"],\n",
    "        filtered_df[\"ci_upper\"], \n",
    "        color=\"blue\",\n",
    "        alpha=0.2,\n",
    "        label=\"90% Confidence Interval\"\n",
    "    )\n",
    "\n",
    "    axes.set_xticks(range(len(filtered_df)))\n",
    "    axes.set_xticklabels(filtered_df[\"month\"], fontsize=12)\n",
    "\n",
    "    axes.set_title(\"Average Distance Traveled Per Month (Filtered)\", fontsize=16)\n",
    "    axes.set_xlabel(\"Month\", fontsize=14)\n",
    "    axes.set_ylabel(\"Average Distance (miles)\", fontsize=14)\n",
    "    axes.legend(fontsize=12)\n",
    "    axes.grid(axis=\"y\", linestyle=\"--\", alpha=0.7)\n",
    "    plt.show()\n",
    "\n",
    "month_selector = SelectMultiple(\n",
    "    options=['Jan', 'Feb', 'Mar', 'Apr', 'May', 'Jun', \n",
    "             'Jul', 'Aug', 'Sep', 'Oct', 'Nov', 'Dec'],\n",
    "    value=['Jan', 'Feb'],  # Default selected months\n",
    "    description='Months',\n",
    "    disabled=False\n",
    ")\n",
    "\n",
    "\n",
    "def on_month_selection(selected_months:List[str]) -> None:\n",
    "    \"\"\"\n",
    "    get the selected months and plot the visual\n",
    "\n",
    "    Keyword arguments:\n",
    "    selected_months -- the selected months\n",
    "\n",
    "    \"\"\"\n",
    "\n",
    "    month_map = {name: f\"{idx + 1:02d}\" for idx, name in enumerate(month_selector.options)}\n",
    "    selected_indices = [month_map[month] for month in selected_months]\n",
    "    plot_visual_2(selected_indices)\n",
    "    "
   ]
  },
  {
   "cell_type": "code",
   "execution_count": 69,
   "metadata": {},
   "outputs": [
    {
     "data": {
      "application/vnd.jupyter.widget-view+json": {
       "model_id": "2d976ab167d1484fbbad1591e127bccc",
       "version_major": 2,
       "version_minor": 0
      },
      "text/plain": [
       "interactive(children=(SelectMultiple(description='Months', index=(0, 1), options=('Jan', 'Feb', 'Mar', 'Apr', …"
      ]
     },
     "metadata": {},
     "output_type": "display_data"
    },
    {
     "data": {
      "text/plain": [
       "<function __main__.on_month_selection(selected_months: List[str]) -> None>"
      ]
     },
     "execution_count": 69,
     "metadata": {},
     "output_type": "execute_result"
    }
   ],
   "source": [
    "interact(on_month_selection, selected_months=month_selector)"
   ]
  },
  {
   "cell_type": "markdown",
   "metadata": {},
   "source": [
    "### Visualization 3"
   ]
  },
  {
   "cell_type": "code",
   "execution_count": 70,
   "metadata": {},
   "outputs": [
    {
     "data": {
      "application/vnd.plotly.v1+json": {
       "config": {
        "plotlyServerURL": "https://plot.ly"
       },
       "data": [
        {
         "alignmentgroup": "True",
         "hovertemplate": "Airport=EWR<br>Day of the Week=%{x}<br>Number of Rides=%{y}<extra></extra>",
         "legendgroup": "EWR",
         "marker": {
          "color": "#636efa",
          "pattern": {
           "shape": ""
          }
         },
         "name": "EWR",
         "offsetgroup": "EWR",
         "orientation": "v",
         "showlegend": true,
         "textposition": "auto",
         "type": "bar",
         "x": [
          "Sunday",
          "Monday",
          "Tuesday",
          "Wednesday",
          "Thursday",
          "Friday",
          "Saturday"
         ],
         "xaxis": "x",
         "y": [
          22,
          22,
          19,
          14,
          27,
          22,
          19
         ],
         "yaxis": "y"
        },
        {
         "alignmentgroup": "True",
         "hovertemplate": "Airport=JFK<br>Day of the Week=%{x}<br>Number of Rides=%{y}<extra></extra>",
         "legendgroup": "JFK",
         "marker": {
          "color": "#EF553B",
          "pattern": {
           "shape": ""
          }
         },
         "name": "JFK",
         "offsetgroup": "JFK",
         "orientation": "v",
         "showlegend": true,
         "textposition": "auto",
         "type": "bar",
         "x": [
          "Sunday",
          "Monday",
          "Tuesday",
          "Wednesday",
          "Thursday",
          "Friday",
          "Saturday"
         ],
         "xaxis": "x",
         "y": [
          82,
          61,
          70,
          74,
          83,
          95,
          63
         ],
         "yaxis": "y"
        },
        {
         "alignmentgroup": "True",
         "hovertemplate": "Airport=LGA<br>Day of the Week=%{x}<br>Number of Rides=%{y}<extra></extra>",
         "legendgroup": "LGA",
         "marker": {
          "color": "#00cc96",
          "pattern": {
           "shape": ""
          }
         },
         "name": "LGA",
         "offsetgroup": "LGA",
         "orientation": "v",
         "showlegend": true,
         "textposition": "auto",
         "type": "bar",
         "x": [
          "Sunday",
          "Monday",
          "Tuesday",
          "Wednesday",
          "Thursday",
          "Friday",
          "Saturday"
         ],
         "xaxis": "x",
         "y": [
          86,
          83,
          73,
          78,
          92,
          97,
          56
         ],
         "yaxis": "y"
        }
       ],
       "layout": {
        "barmode": "group",
        "legend": {
         "title": {
          "text": "Airport"
         },
         "tracegroupgap": 0
        },
        "template": {
         "data": {
          "bar": [
           {
            "error_x": {
             "color": "#2a3f5f"
            },
            "error_y": {
             "color": "#2a3f5f"
            },
            "marker": {
             "line": {
              "color": "#E5ECF6",
              "width": 0.5
             },
             "pattern": {
              "fillmode": "overlay",
              "size": 10,
              "solidity": 0.2
             }
            },
            "type": "bar"
           }
          ],
          "barpolar": [
           {
            "marker": {
             "line": {
              "color": "#E5ECF6",
              "width": 0.5
             },
             "pattern": {
              "fillmode": "overlay",
              "size": 10,
              "solidity": 0.2
             }
            },
            "type": "barpolar"
           }
          ],
          "carpet": [
           {
            "aaxis": {
             "endlinecolor": "#2a3f5f",
             "gridcolor": "white",
             "linecolor": "white",
             "minorgridcolor": "white",
             "startlinecolor": "#2a3f5f"
            },
            "baxis": {
             "endlinecolor": "#2a3f5f",
             "gridcolor": "white",
             "linecolor": "white",
             "minorgridcolor": "white",
             "startlinecolor": "#2a3f5f"
            },
            "type": "carpet"
           }
          ],
          "choropleth": [
           {
            "colorbar": {
             "outlinewidth": 0,
             "ticks": ""
            },
            "type": "choropleth"
           }
          ],
          "contour": [
           {
            "colorbar": {
             "outlinewidth": 0,
             "ticks": ""
            },
            "colorscale": [
             [
              0,
              "#0d0887"
             ],
             [
              0.1111111111111111,
              "#46039f"
             ],
             [
              0.2222222222222222,
              "#7201a8"
             ],
             [
              0.3333333333333333,
              "#9c179e"
             ],
             [
              0.4444444444444444,
              "#bd3786"
             ],
             [
              0.5555555555555556,
              "#d8576b"
             ],
             [
              0.6666666666666666,
              "#ed7953"
             ],
             [
              0.7777777777777778,
              "#fb9f3a"
             ],
             [
              0.8888888888888888,
              "#fdca26"
             ],
             [
              1,
              "#f0f921"
             ]
            ],
            "type": "contour"
           }
          ],
          "contourcarpet": [
           {
            "colorbar": {
             "outlinewidth": 0,
             "ticks": ""
            },
            "type": "contourcarpet"
           }
          ],
          "heatmap": [
           {
            "colorbar": {
             "outlinewidth": 0,
             "ticks": ""
            },
            "colorscale": [
             [
              0,
              "#0d0887"
             ],
             [
              0.1111111111111111,
              "#46039f"
             ],
             [
              0.2222222222222222,
              "#7201a8"
             ],
             [
              0.3333333333333333,
              "#9c179e"
             ],
             [
              0.4444444444444444,
              "#bd3786"
             ],
             [
              0.5555555555555556,
              "#d8576b"
             ],
             [
              0.6666666666666666,
              "#ed7953"
             ],
             [
              0.7777777777777778,
              "#fb9f3a"
             ],
             [
              0.8888888888888888,
              "#fdca26"
             ],
             [
              1,
              "#f0f921"
             ]
            ],
            "type": "heatmap"
           }
          ],
          "heatmapgl": [
           {
            "colorbar": {
             "outlinewidth": 0,
             "ticks": ""
            },
            "colorscale": [
             [
              0,
              "#0d0887"
             ],
             [
              0.1111111111111111,
              "#46039f"
             ],
             [
              0.2222222222222222,
              "#7201a8"
             ],
             [
              0.3333333333333333,
              "#9c179e"
             ],
             [
              0.4444444444444444,
              "#bd3786"
             ],
             [
              0.5555555555555556,
              "#d8576b"
             ],
             [
              0.6666666666666666,
              "#ed7953"
             ],
             [
              0.7777777777777778,
              "#fb9f3a"
             ],
             [
              0.8888888888888888,
              "#fdca26"
             ],
             [
              1,
              "#f0f921"
             ]
            ],
            "type": "heatmapgl"
           }
          ],
          "histogram": [
           {
            "marker": {
             "pattern": {
              "fillmode": "overlay",
              "size": 10,
              "solidity": 0.2
             }
            },
            "type": "histogram"
           }
          ],
          "histogram2d": [
           {
            "colorbar": {
             "outlinewidth": 0,
             "ticks": ""
            },
            "colorscale": [
             [
              0,
              "#0d0887"
             ],
             [
              0.1111111111111111,
              "#46039f"
             ],
             [
              0.2222222222222222,
              "#7201a8"
             ],
             [
              0.3333333333333333,
              "#9c179e"
             ],
             [
              0.4444444444444444,
              "#bd3786"
             ],
             [
              0.5555555555555556,
              "#d8576b"
             ],
             [
              0.6666666666666666,
              "#ed7953"
             ],
             [
              0.7777777777777778,
              "#fb9f3a"
             ],
             [
              0.8888888888888888,
              "#fdca26"
             ],
             [
              1,
              "#f0f921"
             ]
            ],
            "type": "histogram2d"
           }
          ],
          "histogram2dcontour": [
           {
            "colorbar": {
             "outlinewidth": 0,
             "ticks": ""
            },
            "colorscale": [
             [
              0,
              "#0d0887"
             ],
             [
              0.1111111111111111,
              "#46039f"
             ],
             [
              0.2222222222222222,
              "#7201a8"
             ],
             [
              0.3333333333333333,
              "#9c179e"
             ],
             [
              0.4444444444444444,
              "#bd3786"
             ],
             [
              0.5555555555555556,
              "#d8576b"
             ],
             [
              0.6666666666666666,
              "#ed7953"
             ],
             [
              0.7777777777777778,
              "#fb9f3a"
             ],
             [
              0.8888888888888888,
              "#fdca26"
             ],
             [
              1,
              "#f0f921"
             ]
            ],
            "type": "histogram2dcontour"
           }
          ],
          "mesh3d": [
           {
            "colorbar": {
             "outlinewidth": 0,
             "ticks": ""
            },
            "type": "mesh3d"
           }
          ],
          "parcoords": [
           {
            "line": {
             "colorbar": {
              "outlinewidth": 0,
              "ticks": ""
             }
            },
            "type": "parcoords"
           }
          ],
          "pie": [
           {
            "automargin": true,
            "type": "pie"
           }
          ],
          "scatter": [
           {
            "fillpattern": {
             "fillmode": "overlay",
             "size": 10,
             "solidity": 0.2
            },
            "type": "scatter"
           }
          ],
          "scatter3d": [
           {
            "line": {
             "colorbar": {
              "outlinewidth": 0,
              "ticks": ""
             }
            },
            "marker": {
             "colorbar": {
              "outlinewidth": 0,
              "ticks": ""
             }
            },
            "type": "scatter3d"
           }
          ],
          "scattercarpet": [
           {
            "marker": {
             "colorbar": {
              "outlinewidth": 0,
              "ticks": ""
             }
            },
            "type": "scattercarpet"
           }
          ],
          "scattergeo": [
           {
            "marker": {
             "colorbar": {
              "outlinewidth": 0,
              "ticks": ""
             }
            },
            "type": "scattergeo"
           }
          ],
          "scattergl": [
           {
            "marker": {
             "colorbar": {
              "outlinewidth": 0,
              "ticks": ""
             }
            },
            "type": "scattergl"
           }
          ],
          "scattermapbox": [
           {
            "marker": {
             "colorbar": {
              "outlinewidth": 0,
              "ticks": ""
             }
            },
            "type": "scattermapbox"
           }
          ],
          "scatterpolar": [
           {
            "marker": {
             "colorbar": {
              "outlinewidth": 0,
              "ticks": ""
             }
            },
            "type": "scatterpolar"
           }
          ],
          "scatterpolargl": [
           {
            "marker": {
             "colorbar": {
              "outlinewidth": 0,
              "ticks": ""
             }
            },
            "type": "scatterpolargl"
           }
          ],
          "scatterternary": [
           {
            "marker": {
             "colorbar": {
              "outlinewidth": 0,
              "ticks": ""
             }
            },
            "type": "scatterternary"
           }
          ],
          "surface": [
           {
            "colorbar": {
             "outlinewidth": 0,
             "ticks": ""
            },
            "colorscale": [
             [
              0,
              "#0d0887"
             ],
             [
              0.1111111111111111,
              "#46039f"
             ],
             [
              0.2222222222222222,
              "#7201a8"
             ],
             [
              0.3333333333333333,
              "#9c179e"
             ],
             [
              0.4444444444444444,
              "#bd3786"
             ],
             [
              0.5555555555555556,
              "#d8576b"
             ],
             [
              0.6666666666666666,
              "#ed7953"
             ],
             [
              0.7777777777777778,
              "#fb9f3a"
             ],
             [
              0.8888888888888888,
              "#fdca26"
             ],
             [
              1,
              "#f0f921"
             ]
            ],
            "type": "surface"
           }
          ],
          "table": [
           {
            "cells": {
             "fill": {
              "color": "#EBF0F8"
             },
             "line": {
              "color": "white"
             }
            },
            "header": {
             "fill": {
              "color": "#C8D4E3"
             },
             "line": {
              "color": "white"
             }
            },
            "type": "table"
           }
          ]
         },
         "layout": {
          "annotationdefaults": {
           "arrowcolor": "#2a3f5f",
           "arrowhead": 0,
           "arrowwidth": 1
          },
          "autotypenumbers": "strict",
          "coloraxis": {
           "colorbar": {
            "outlinewidth": 0,
            "ticks": ""
           }
          },
          "colorscale": {
           "diverging": [
            [
             0,
             "#8e0152"
            ],
            [
             0.1,
             "#c51b7d"
            ],
            [
             0.2,
             "#de77ae"
            ],
            [
             0.3,
             "#f1b6da"
            ],
            [
             0.4,
             "#fde0ef"
            ],
            [
             0.5,
             "#f7f7f7"
            ],
            [
             0.6,
             "#e6f5d0"
            ],
            [
             0.7,
             "#b8e186"
            ],
            [
             0.8,
             "#7fbc41"
            ],
            [
             0.9,
             "#4d9221"
            ],
            [
             1,
             "#276419"
            ]
           ],
           "sequential": [
            [
             0,
             "#0d0887"
            ],
            [
             0.1111111111111111,
             "#46039f"
            ],
            [
             0.2222222222222222,
             "#7201a8"
            ],
            [
             0.3333333333333333,
             "#9c179e"
            ],
            [
             0.4444444444444444,
             "#bd3786"
            ],
            [
             0.5555555555555556,
             "#d8576b"
            ],
            [
             0.6666666666666666,
             "#ed7953"
            ],
            [
             0.7777777777777778,
             "#fb9f3a"
            ],
            [
             0.8888888888888888,
             "#fdca26"
            ],
            [
             1,
             "#f0f921"
            ]
           ],
           "sequentialminus": [
            [
             0,
             "#0d0887"
            ],
            [
             0.1111111111111111,
             "#46039f"
            ],
            [
             0.2222222222222222,
             "#7201a8"
            ],
            [
             0.3333333333333333,
             "#9c179e"
            ],
            [
             0.4444444444444444,
             "#bd3786"
            ],
            [
             0.5555555555555556,
             "#d8576b"
            ],
            [
             0.6666666666666666,
             "#ed7953"
            ],
            [
             0.7777777777777778,
             "#fb9f3a"
            ],
            [
             0.8888888888888888,
             "#fdca26"
            ],
            [
             1,
             "#f0f921"
            ]
           ]
          },
          "colorway": [
           "#636efa",
           "#EF553B",
           "#00cc96",
           "#ab63fa",
           "#FFA15A",
           "#19d3f3",
           "#FF6692",
           "#B6E880",
           "#FF97FF",
           "#FECB52"
          ],
          "font": {
           "color": "#2a3f5f"
          },
          "geo": {
           "bgcolor": "white",
           "lakecolor": "white",
           "landcolor": "#E5ECF6",
           "showlakes": true,
           "showland": true,
           "subunitcolor": "white"
          },
          "hoverlabel": {
           "align": "left"
          },
          "hovermode": "closest",
          "mapbox": {
           "style": "light"
          },
          "paper_bgcolor": "white",
          "plot_bgcolor": "#E5ECF6",
          "polar": {
           "angularaxis": {
            "gridcolor": "white",
            "linecolor": "white",
            "ticks": ""
           },
           "bgcolor": "#E5ECF6",
           "radialaxis": {
            "gridcolor": "white",
            "linecolor": "white",
            "ticks": ""
           }
          },
          "scene": {
           "xaxis": {
            "backgroundcolor": "#E5ECF6",
            "gridcolor": "white",
            "gridwidth": 2,
            "linecolor": "white",
            "showbackground": true,
            "ticks": "",
            "zerolinecolor": "white"
           },
           "yaxis": {
            "backgroundcolor": "#E5ECF6",
            "gridcolor": "white",
            "gridwidth": 2,
            "linecolor": "white",
            "showbackground": true,
            "ticks": "",
            "zerolinecolor": "white"
           },
           "zaxis": {
            "backgroundcolor": "#E5ECF6",
            "gridcolor": "white",
            "gridwidth": 2,
            "linecolor": "white",
            "showbackground": true,
            "ticks": "",
            "zerolinecolor": "white"
           }
          },
          "shapedefaults": {
           "line": {
            "color": "#2a3f5f"
           }
          },
          "ternary": {
           "aaxis": {
            "gridcolor": "white",
            "linecolor": "white",
            "ticks": ""
           },
           "baxis": {
            "gridcolor": "white",
            "linecolor": "white",
            "ticks": ""
           },
           "bgcolor": "#E5ECF6",
           "caxis": {
            "gridcolor": "white",
            "linecolor": "white",
            "ticks": ""
           }
          },
          "title": {
           "x": 0.05
          },
          "xaxis": {
           "automargin": true,
           "gridcolor": "white",
           "linecolor": "white",
           "ticks": "",
           "title": {
            "standoff": 15
           },
           "zerolinecolor": "white",
           "zerolinewidth": 2
          },
          "yaxis": {
           "automargin": true,
           "gridcolor": "white",
           "linecolor": "white",
           "ticks": "",
           "title": {
            "standoff": 15
           },
           "zerolinecolor": "white",
           "zerolinewidth": 2
          }
         }
        },
        "title": {
         "text": "Number of Rides to Airports by Day of the Week"
        },
        "xaxis": {
         "anchor": "y",
         "categoryarray": [
          "Sunday",
          "Monday",
          "Tuesday",
          "Wednesday",
          "Thursday",
          "Friday",
          "Saturday"
         ],
         "categoryorder": "array",
         "domain": [
          0,
          1
         ],
         "title": {
          "text": "Day of the Week"
         }
        },
        "yaxis": {
         "anchor": "x",
         "domain": [
          0,
          1
         ],
         "title": {
          "text": "Number of Rides"
         }
        }
       }
      }
     },
     "metadata": {},
     "output_type": "display_data"
    }
   ],
   "source": [
    "def get_data_for_visual_3() -> pd.DataFrame:\n",
    "    \"\"\"\n",
    "    get the data for the  visual\n",
    "\n",
    "    Returns:\n",
    "    pd.DataFrame -- the data for the visual\n",
    "    \"\"\"\n",
    "\n",
    "    sql = f\"\"\"\n",
    "    WITH airport_dropoffs AS (\n",
    "        SELECT\n",
    "            trip_dropoff_datetime,\n",
    "            strftime('%w', trip_dropoff_datetime) AS day_of_week, -- 0=Sunday, ..., 6=Saturday\n",
    "            CASE\n",
    "                WHEN dropoff_latitude BETWEEN {LGA_BOX_COORDS[0][0]} AND {LGA_BOX_COORDS[1][0]} AND dropoff_longitude BETWEEN {LGA_BOX_COORDS[0][1]} AND {LGA_BOX_COORDS[1][1]} THEN 'LGA'\n",
    "                WHEN dropoff_latitude BETWEEN {JFK_BOX_COORDS[0][0]} AND {JFK_BOX_COORDS[1][0]} AND dropoff_longitude BETWEEN {JFK_BOX_COORDS[0][1]} AND {JFK_BOX_COORDS[1][1]} THEN 'JFK'\n",
    "                WHEN dropoff_latitude BETWEEN {EWR_BOX_COORDS[0][0]} AND {EWR_BOX_COORDS[1][0]} AND dropoff_longitude BETWEEN {EWR_BOX_COORDS[0][1]} AND {EWR_BOX_COORDS[1][1]} THEN 'EWR'\n",
    "            END AS airport\n",
    "        FROM (\n",
    "            SELECT trip_dropoff_datetime, dropoff_latitude, dropoff_longitude FROM taxi_trips\n",
    "            UNION ALL\n",
    "            SELECT trip_dropoff_datetime, dropoff_latitude, dropoff_longitude FROM uber_trips\n",
    "        )\n",
    "        WHERE trip_dropoff_datetime BETWEEN '2020-01-01' AND '2024-08-31'\n",
    "    )\n",
    "    SELECT \n",
    "        airport, \n",
    "        day_of_week, \n",
    "        COUNT(*) AS ride_count\n",
    "    FROM airport_dropoffs\n",
    "    WHERE airport IS NOT NULL\n",
    "    GROUP BY airport, day_of_week\n",
    "    ORDER BY airport, day_of_week;\n",
    "\n",
    "    \"\"\"\n",
    "\n",
    "    results = pd.read_sql(sql, con=engine)\n",
    "    return results\n",
    "\n",
    "def plot_visual_3() -> None :\n",
    "    \"\"\"plot the third visual\"\"\"\n",
    "\n",
    "    df = get_data_for_visual_3()\n",
    "    df['day_of_week'] = df['day_of_week'].astype(int)\n",
    "    day_names = [\"Sunday\", \"Monday\", \"Tuesday\", \"Wednesday\", \"Thursday\", \"Friday\", \"Saturday\"]\n",
    "    df[\"day_of_week\"] = df[\"day_of_week\"].apply(lambda x: day_names[x])\n",
    "    fig = px.bar(df, x='day_of_week', y='ride_count', color='airport', barmode='group',\n",
    "                 category_orders={\"day_of_week\": day_names},\n",
    "                 labels={'day_of_week': 'Day of the Week', 'ride_count': 'Number of Rides', 'airport': 'Airport'},\n",
    "                 title='Number of Rides to Airports by Day of the Week')\n",
    "    fig.show()\n",
    "\n",
    "\n",
    "plot_visual_3()"
   ]
  },
  {
   "cell_type": "markdown",
   "metadata": {},
   "source": [
    "### Visualization 4"
   ]
  },
  {
   "cell_type": "code",
   "execution_count": 71,
   "metadata": {},
   "outputs": [],
   "source": [
    "def get_data_for_visual_4() -> pd.DataFrame:\n",
    "    \"\"\"\n",
    "    get the data for the  visual\n",
    "\n",
    "    Returns:\n",
    "    pd.DataFrame -- the data for the visual\n",
    "    \"\"\"\n",
    "\n",
    "    sql = \"\"\"\n",
    "    WITH taxi_monthly AS (\n",
    "        SELECT \n",
    "            strftime('%Y-%m', trip_pickup_datetime) AS month,\n",
    "            SUM(base_fare) AS total_fare,\n",
    "            SUM(surcharge) AS total_surcharge,\n",
    "            SUM(tax) AS total_tax,\n",
    "            SUM(tolls) AS total_tolls,\n",
    "            'Yellow Taxi' AS service\n",
    "        FROM taxi_trips\n",
    "        WHERE trip_pickup_datetime >= '2020-01-01' AND trip_pickup_datetime <= '2024-08-31'\n",
    "        GROUP BY month\n",
    "    ),\n",
    "    -- Uber Trips Monthly Aggregation\n",
    "    uber_monthly AS (\n",
    "        SELECT \n",
    "            strftime('%Y-%m', trip_pickup_datetime) AS month,\n",
    "            SUM(base_fare) AS total_fare,\n",
    "            SUM(surcharge) AS total_surcharge,\n",
    "            SUM(tax) AS total_tax,\n",
    "            SUM(tolls) AS total_tolls,\n",
    "            'Uber' AS service\n",
    "        FROM uber_trips\n",
    "        WHERE trip_pickup_datetime >= '2020-01-01' AND trip_pickup_datetime <= '2024-08-31'\n",
    "        GROUP BY month\n",
    "    )\n",
    "    SELECT * FROM taxi_monthly\n",
    "    UNION ALL\n",
    "    SELECT * FROM uber_monthly\n",
    "    ORDER BY month, service;\n",
    "    \"\"\"\n",
    "    results = pd.read_sql(sql, con=engine)\n",
    "    return results\n",
    "\n",
    "def plot_visual_4(start_date:str,end_date:str) -> None:\n",
    "    \"\"\"\n",
    "    plot the fourth visual\n",
    "\n",
    "    Keyword arguments:\n",
    "    start_date -- the start date\n",
    "    end_date -- the end date\n",
    "    \"\"\"\n",
    "\n",
    "\n",
    "    df = get_data_for_visual_4()\n",
    "\n",
    "    df[\"month\"] = pd.to_datetime(df[\"month\"]).dt.strftime(\"%Y-%m\")\n",
    "    df = df[(df[\"month\"] >= start_date) & (df[\"month\"] <= end_date)]\n",
    "\n",
    "\n",
    "    df_melted = df.melt(\n",
    "        id_vars=[\"month\", \"service\"],\n",
    "        value_vars=[\"total_fare\", \"total_surcharge\", \"total_tax\", \"total_tolls\"],\n",
    "        var_name=\"category\",\n",
    "        value_name=\"amount\"\n",
    "    )\n",
    "\n",
    "    plt.figure(figsize=(20, 10))\n",
    "    sns.barplot(\n",
    "        data=df_melted,\n",
    "        x=\"month\", \n",
    "        y=\"amount\", \n",
    "        hue=\"service\", \n",
    "        palette=\"Set2\"\n",
    "    )\n",
    "    plt.title(\"Monthly Earnings by Service (2020-2024)\", fontsize=16)\n",
    "    plt.xlabel(\"Month\", fontsize=14)\n",
    "    plt.ylabel(\"Total Amount (USD)\", fontsize=14)\n",
    "    plt.xticks(rotation=45, fontsize=10)\n",
    "    plt.yticks(fontsize=12)\n",
    "    plt.legend(title=\"Service\", fontsize=12)\n",
    "    plt.grid(axis=\"y\", linestyle=\"--\", alpha=0.7)\n",
    "    plt.tight_layout()\n",
    "    plt.show()\n",
    "\n",
    "\n",
    "start_date_picker = widgets.DatePicker(\n",
    "    description='Pick start Date',\n",
    "    disabled=False\n",
    ")\n",
    "end_date_picker = widgets.DatePicker(\n",
    "    description='Pick end Date',\n",
    "    disabled=False\n",
    ")\n",
    "\n",
    "def on_date_selection(start_date:str, end_date:str) -> None:\n",
    "    \"\"\"\n",
    "    get the selected dates and plot the visual\n",
    "\n",
    "    Keyword arguments:\n",
    "    start_date -- the start date\n",
    "    end_date -- the end date\n",
    "    \n",
    "    \"\"\"\n",
    "\n",
    "    if start_date is None:\n",
    "        start_date = '2020-01'\n",
    "    else:\n",
    "        start_date = start_date.strftime('%Y-%m')\n",
    "    if end_date is None:\n",
    "        end_date = '2024-08'\n",
    "    else:\n",
    "        end_date = end_date.strftime('%Y-%m')\n",
    "    plot_visual_4(start_date, end_date)"
   ]
  },
  {
   "cell_type": "code",
   "execution_count": 72,
   "metadata": {},
   "outputs": [
    {
     "data": {
      "application/vnd.jupyter.widget-view+json": {
       "model_id": "5599782404534b3a91fb21ce84f957c0",
       "version_major": 2,
       "version_minor": 0
      },
      "text/plain": [
       "interactive(children=(DatePicker(value=None, description='Pick start Date'), DatePicker(value=None, descriptio…"
      ]
     },
     "metadata": {},
     "output_type": "display_data"
    },
    {
     "data": {
      "text/plain": [
       "<function __main__.on_date_selection(start_date: str, end_date: str) -> None>"
      ]
     },
     "execution_count": 72,
     "metadata": {},
     "output_type": "execute_result"
    }
   ],
   "source": [
    "interact(on_date_selection, start_date=start_date_picker, end_date=end_date_picker)"
   ]
  },
  {
   "cell_type": "markdown",
   "metadata": {},
   "source": [
    "### Visualization 5 "
   ]
  },
  {
   "cell_type": "code",
   "execution_count": 73,
   "metadata": {},
   "outputs": [
    {
     "data": {
      "image/png": "[encoded data removed]",
      "text/plain": [
       "<Figure size 1600x1200 with 4 Axes>"
      ]
     },
     "metadata": {},
     "output_type": "display_data"
    }
   ],
   "source": [
    "def get_data_for_visual_5() -> pd.DataFrame:\n",
    "    \"\"\"\n",
    "    get the data for the  visual\n",
    "\n",
    "    Returns:\n",
    "    pd.DataFrame -- the data for the visual\n",
    "    \"\"\"\n",
    "\n",
    "    sql = \"\"\"\n",
    "    WITH yellow_taxi_data AS (\n",
    "        SELECT\n",
    "            trip_pickup_datetime,\n",
    "            trip_miles AS distance,\n",
    "            (base_fare + tax + tolls + surcharge) - base_fare AS tip,\n",
    "            COALESCE(DailyPrecipitation, 0) AS precipitation\n",
    "        FROM taxi_trips\n",
    "        LEFT JOIN daily_weather\n",
    "            ON strftime('%Y-%m-%d', trip_pickup_datetime) = DATE_day\n",
    "        WHERE strftime('%Y', trip_pickup_datetime) IN ('2022', '2023')\n",
    "    ),\n",
    "    uber_data AS (\n",
    "        SELECT\n",
    "            trip_pickup_datetime,\n",
    "            trip_distance AS distance,\n",
    "            (base_fare + tax + tolls + surcharge) - base_fare AS tip,\n",
    "            COALESCE(DailyPrecipitation, 0) AS precipitation\n",
    "        FROM uber_trips\n",
    "        LEFT JOIN daily_weather\n",
    "            ON strftime('%Y-%m-%d', trip_pickup_datetime) = DATE_day\n",
    "        WHERE strftime('%Y', trip_pickup_datetime) IN ('2022', '2023')\n",
    "    )\n",
    "    SELECT 'Yellow Taxi' AS service, * FROM yellow_taxi_data\n",
    "    UNION ALL\n",
    "    SELECT 'Uber' AS service, * FROM uber_data;\n",
    "    \"\"\"\n",
    "    results = pd.read_sql(sql, con=engine)\n",
    "    return results\n",
    "\n",
    "def plot_visual_5() -> None:\n",
    "    \"\"\"plot the fifth visual\"\"\"\n",
    "\n",
    "    fig, axes = plt.subplots(2, 2, figsize=(16, 12))\n",
    "    fig.suptitle(\"Effect of Distance and Precipitation on Tips (2022-2023)\", fontsize=18)\n",
    "    df = get_data_for_visual_5()\n",
    "    # remove tip less than 0 \n",
    "    df = df[df[\"tip\"]>=0]\n",
    "    yellow_df = df[df[\"service\"] == \"Yellow Taxi\"]\n",
    "    axes[0, 0].scatter(yellow_df[\"distance\"], yellow_df[\"tip\"], alpha=0.6, color=\"gold\")\n",
    "    axes[0, 0].set_title(\"Yellow Taxi: Tip vs Distance\", fontsize=14)\n",
    "    axes[0, 0].set_xlabel(\"Distance (miles)\", fontsize=12)\n",
    "    axes[0, 0].set_ylabel(\"Tip (USD)\", fontsize=12)\n",
    "    axes[0, 0].grid(alpha=0.5)\n",
    "\n",
    "\n",
    "    uber_df = df[df[\"service\"] == \"Uber\"]\n",
    "    axes[0, 1].scatter(uber_df[\"distance\"], uber_df[\"tip\"], alpha=0.6, color=\"blue\")\n",
    "    axes[0, 1].set_title(\"Uber: Tip vs Distance\", fontsize=14)\n",
    "    axes[0, 1].set_xlabel(\"Distance (miles)\", fontsize=12)\n",
    "    axes[0, 1].set_ylabel(\"Tip (USD)\", fontsize=12)\n",
    "    axes[0, 1].grid(alpha=0.5)\n",
    "\n",
    "    axes[1, 0].scatter(yellow_df[\"precipitation\"].astype(float), yellow_df[\"tip\"], alpha=0.6, color=\"gold\")\n",
    "    axes[1, 0].set_title(\"Yellow Taxi: Tip vs Precipitation\", fontsize=14)\n",
    "    axes[1, 0].set_xlabel(\"Precipitation (inches)\", fontsize=12)\n",
    "    axes[1, 0].set_ylabel(\"Tip (USD)\", fontsize=12)\n",
    "    axes[1, 0].grid(alpha=0.5)\n",
    "\n",
    "    # Scatter Plot 4: Uber - Tip vs Precipitation\n",
    "    axes[1, 1].scatter(uber_df[\"precipitation\"].astype(float), uber_df[\"tip\"], alpha=0.6, color=\"blue\")\n",
    "    axes[1, 1].set_title(\"Uber: Tip vs Precipitation\", fontsize=14)\n",
    "    axes[1, 1].set_xlabel(\"Precipitation (inches)\", fontsize=12)\n",
    "    axes[1, 1].set_ylabel(\"Tip (USD)\", fontsize=12)\n",
    "    axes[1, 1].grid(alpha=0.5)\n",
    "\n",
    "    # Adjust layout\n",
    "    plt.tight_layout(rect=[0, 0, 1, 0.95])\n",
    "    plt.show()\n",
    "\n",
    "plot_visual_5()\n"
   ]
  },
  {
   "cell_type": "markdown",
   "metadata": {},
   "source": [
    "### Visualization 6 "
   ]
  },
  {
   "cell_type": "code",
   "execution_count": 74,
   "metadata": {},
   "outputs": [
    {
     "data": {
      "text/html": [
       "<div style=\"width:100%;\"><div style=\"position:relative;width:100%;height:0;padding-bottom:60%;\"><span style=\"color:#565656\">Make this Notebook Trusted to load map: File -> Trust Notebook</span><iframe srcdoc=\"&lt;!DOCTYPE html&gt;\n",
       "&lt;html&gt;\n",
       "&lt;head&gt;\n",
       "    \n",
       "    &lt;meta http-equiv=&quot;content-type&quot; content=&quot;text/html; charset=UTF-8&quot; /&gt;\n",
       "    \n",
       "        &lt;script&gt;\n",
       "            L_NO_TOUCH = false;\n",
       "            L_DISABLE_3D = false;\n",
       "        &lt;/script&gt;\n",
       "    \n",
       "    &lt;style&gt;html, body {width: 100%;height: 100%;margin: 0;padding: 0;}&lt;/style&gt;\n",
       "    &lt;style&gt;#map {position:absolute;top:0;bottom:0;right:0;left:0;}&lt;/style&gt;\n",
       "    &lt;script src=&quot;https://cdn.jsdelivr.net/npm/leaflet@1.9.3/dist/leaflet.js&quot;&gt;&lt;/script&gt;\n",
       "    &lt;script src=&quot;https://code.jquery.com/jquery-3.7.1.min.js&quot;&gt;&lt;/script&gt;\n",
       "    &lt;script src=&quot;https://cdn.jsdelivr.net/npm/bootstrap@5.2.2/dist/js/bootstrap.bundle.min.js&quot;&gt;&lt;/script&gt;\n",
       "    &lt;script src=&quot;https://cdnjs.cloudflare.com/ajax/libs/Leaflet.awesome-markers/2.0.2/leaflet.awesome-markers.js&quot;&gt;&lt;/script&gt;\n",
       "    &lt;link rel=&quot;stylesheet&quot; href=&quot;https://cdn.jsdelivr.net/npm/leaflet@1.9.3/dist/leaflet.css&quot;/&gt;\n",
       "    &lt;link rel=&quot;stylesheet&quot; href=&quot;https://cdn.jsdelivr.net/npm/bootstrap@5.2.2/dist/css/bootstrap.min.css&quot;/&gt;\n",
       "    &lt;link rel=&quot;stylesheet&quot; href=&quot;https://netdna.bootstrapcdn.com/bootstrap/3.0.0/css/bootstrap-glyphicons.css&quot;/&gt;\n",
       "    &lt;link rel=&quot;stylesheet&quot; href=&quot;https://cdn.jsdelivr.net/npm/@fortawesome/fontawesome-free@6.2.0/css/all.min.css&quot;/&gt;\n",
       "    &lt;link rel=&quot;stylesheet&quot; href=&quot;https://cdnjs.cloudflare.com/ajax/libs/Leaflet.awesome-markers/2.0.2/leaflet.awesome-markers.css&quot;/&gt;\n",
       "    &lt;link rel=&quot;stylesheet&quot; href=&quot;https://cdn.jsdelivr.net/gh/python-visualization/folium/folium/templates/leaflet.awesome.rotate.min.css&quot;/&gt;\n",
       "    \n",
       "            &lt;meta name=&quot;viewport&quot; content=&quot;width=device-width,\n",
       "                initial-scale=1.0, maximum-scale=1.0, user-scalable=no&quot; /&gt;\n",
       "            &lt;style&gt;\n",
       "                #map_1772123087df200625ae85d516a4a3a0 {\n",
       "                    position: relative;\n",
       "                    width: 100.0%;\n",
       "                    height: 100.0%;\n",
       "                    left: 0.0%;\n",
       "                    top: 0.0%;\n",
       "                }\n",
       "                .leaflet-container { font-size: 1rem; }\n",
       "            &lt;/style&gt;\n",
       "        \n",
       "    &lt;script src=&quot;https://cdn.jsdelivr.net/gh/python-visualization/folium@main/folium/templates/leaflet_heat.min.js&quot;&gt;&lt;/script&gt;\n",
       "&lt;/head&gt;\n",
       "&lt;body&gt;\n",
       "    \n",
       "    \n",
       "            &lt;div class=&quot;folium-map&quot; id=&quot;map_1772123087df200625ae85d516a4a3a0&quot; &gt;&lt;/div&gt;\n",
       "        \n",
       "&lt;/body&gt;\n",
       "&lt;script&gt;\n",
       "    \n",
       "    \n",
       "            var map_1772123087df200625ae85d516a4a3a0 = L.map(\n",
       "                &quot;map_1772123087df200625ae85d516a4a3a0&quot;,\n",
       "                {\n",
       "                    center: [40.7128, -74.006],\n",
       "                    crs: L.CRS.EPSG3857,\n",
       "                    zoom: 12,\n",
       "                    zoomControl: true,\n",
       "                    preferCanvas: false,\n",
       "                }\n",
       "            );\n",
       "\n",
       "            \n",
       "\n",
       "        \n",
       "    \n",
       "            var tile_layer_5d954cdf541a3c2b23b58e5322504a49 = L.tileLayer(\n",
       "                &quot;https://tile.openstreetmap.org/{z}/{x}/{y}.png&quot;,\n",
       "                {&quot;attribution&quot;: &quot;\\u0026copy; \\u003ca href=\\&quot;https://www.openstreetmap.org/copyright\\&quot;\\u003eOpenStreetMap\\u003c/a\\u003e contributors&quot;, &quot;detectRetina&quot;: false, &quot;maxNativeZoom&quot;: 19, &quot;maxZoom&quot;: 19, &quot;minZoom&quot;: 0, &quot;noWrap&quot;: false, &quot;opacity&quot;: 1, &quot;subdomains&quot;: &quot;abc&quot;, &quot;tms&quot;: false}\n",
       "            );\n",
       "        \n",
       "    \n",
       "            tile_layer_5d954cdf541a3c2b23b58e5322504a49.addTo(map_1772123087df200625ae85d516a4a3a0);\n",
       "        \n",
       "    \n",
       "            var heat_map_bdc5fec3463b5bf1b058625513fc29e0 = L.heatLayer(\n",
       "                [[40.727620195909545, -73.9859374568246], [40.75672894163307, -73.96514579918421], [40.75981761719184, -73.98419648907571], [40.78043643718997, -73.95701169835736], [40.67763538934728, -73.96758681222953], [40.71203815707447, -74.01607915192923], [40.7736332930271, -73.98153220639182], [40.78043643718997, -73.95701169835736], [40.766237725041876, -73.99513522075519], [40.747745793643915, -73.97849159965226], [40.762252755319366, -73.98984464313301], [40.74227862901228, -73.99697141558364], [40.77596522876096, -73.98764554944384], [40.78043643718997, -73.95701169835736], [40.74991407790217, -73.97044256869238], [40.75672894163307, -73.96514579918421], [40.736824057618975, -73.98405213268919], [40.71203815707447, -74.01607915192923], [40.7644214057868, -73.97756868222719], [40.758028043526274, -73.97769793122403], [40.60142943983517, -73.9835370967223], [40.791704934427074, -73.97304890061594], [40.678953310115254, -73.79098635986958], [40.72088889344527, -73.99691854183823], [40.765484087889845, -73.95473878380503], [40.766948216383234, -73.9596347414917], [40.80945696112528, -73.96176359682921], [40.75981761719184, -73.98419648907571], [40.75351275872571, -73.9887865991153], [40.73457600733177, -74.00287495910837], [40.7404389785964, -73.97649472376757], [40.731820636016764, -73.97659767323344], [40.74033744175702, -73.99045782354733], [40.81207445859209, -73.88553752149427], [40.78043643718997, -73.95701169835736], [40.791704934427074, -73.97304890061594], [40.71880391812993, -73.95741813122187], [40.791704934427074, -73.97304890061594], [40.75668765218882, -73.97235594352028], [40.736824057618975, -73.98405213268919], [40.727620195909545, -73.9859374568246], [40.78396143031378, -73.97863194845081], [40.78043643718997, -73.95701169835736], [40.75981761719184, -73.98419648907571], [40.73457600733177, -74.00287495910837], [40.73457600733177, -74.00287495910837], [40.74991407790217, -73.97044256869238], [40.78396143031378, -73.97863194845081], [40.70680845166585, -74.0074959856243], [40.73503540069664, -74.0089841047853], [40.70680845166585, -74.0074959856243], [40.78043643718997, -73.95701169835736], [40.7404389785964, -73.97649472376757], [40.78043643718997, -73.95701169835736], [40.717772736265175, -74.00787970866403], [40.747745793643915, -73.97849159965226], [40.747745793643915, -73.97849159965226], [40.74033744175702, -73.99045782354733], [40.736824057618975, -73.98405213268919], [40.748497181405, -73.99243753697608], [40.76861518381155, -73.96563453538072], [40.77876585543437, -73.95100987481798], [40.736824057618975, -73.98405213268919], [40.791704934427074, -73.97304890061594], [40.74857462935672, -73.98515639467684], [40.728340391372306, -73.99738026020043], [40.77437570593249, -73.87362864289108], [40.758028043526274, -73.97769793122403], [40.727620195909545, -73.9859374568246], [40.79001075149545, -73.94575026755156], [40.762252755319366, -73.98984464313301], [40.74033744175702, -73.99045782354733], [40.758028043526274, -73.97769793122403], [40.75351275872571, -73.9887865991153], [40.75351275872571, -73.9887865991153], [40.747745793643915, -73.97849159965226], [40.86607500072778, -73.91930823586193], [40.748427555065724, -73.99991742024713], [40.71473250693941, -73.9830245583349], [40.78043643718997, -73.95701169835736], [40.736824057618975, -73.98405213268919], [40.78043643718997, -73.95701169835736], [40.79001075149545, -73.94575026755156], [40.748427555065724, -73.99991742024713], [40.78247809974789, -73.96555356545913], [40.753309065983395, -74.00401512528647], [40.6609351965506, -73.87682061127201], [40.727620195909545, -73.9859374568246], [40.7736332930271, -73.98153220639182], [40.79796199310004, -73.9681683330924], [40.748427555065724, -73.99991742024713], [40.71880391812993, -73.95741813122187], [40.791704934427074, -73.97304890061594], [40.766948216383234, -73.9596347414917], [40.75668765218882, -73.97235594352028], [40.75668765218882, -73.97235594352028], [40.70335790323615, -74.01151502922325], [40.762252755319366, -73.98984464313301], [40.75981761719184, -73.98419648907571], [40.80734716766524, -73.9168219380646], [40.762252755319366, -73.98984464313301], [40.78396143031378, -73.97863194845081], [40.747745793643915, -73.97849159965226], [40.766237725041876, -73.99513522075519], [40.717772736265175, -74.00787970866403], [40.75668765218882, -73.97235594352028], [40.75668765218882, -73.97235594352028], [40.703916440465754, -73.95859684507171], [40.73457600733177, -74.00287495910837], [40.73457600733177, -74.00287495910837], [40.72388811004171, -74.00153756565634], [40.748427555065724, -73.99991742024713], [40.80945696112528, -73.96176359682921], [40.758028043526274, -73.97769793122403], [40.78396143031378, -73.97863194845081], [40.75672894163307, -73.96514579918421], [40.748427555065724, -73.99991742024713], [40.63094965524547, -73.98866123078287], [40.74991407790217, -73.97044256869238], [40.80197049389963, -73.96547951516966], [40.765484087889845, -73.95473878380503], [40.78043643718997, -73.95701169835736], [40.7108799333774, -73.95990462730533], [40.75672894163307, -73.96514579918421], [40.75981761719184, -73.98419648907571], [40.747745793643915, -73.97849159965226], [40.77876585543437, -73.95100987481798], [40.7644214057868, -73.97756868222719], [40.762252755319366, -73.98984464313301], [40.728340391372306, -73.99738026020043], [40.69078679421093, -73.97488208618897], [40.78247809974789, -73.96555356545913], [40.766948216383234, -73.9596347414917], [40.73457600733177, -74.00287495910837], [40.762252755319366, -73.98984464313301], [40.78396143031378, -73.97863194845081], [40.78396143031378, -73.97863194845081], [40.791704934427074, -73.97304890061594], [40.78247809974789, -73.96555356545913], [40.77437570593249, -73.87362864289108], [40.79001075149545, -73.94575026755156], [40.72950628420885, -73.94954030482212], [40.7404389785964, -73.97649472376757], [40.75351275872571, -73.9887865991153], [40.75668765218882, -73.97235594352028], [40.747745793643915, -73.97849159965226], [40.670374325917265, -73.98141374048753], [40.78043643718997, -73.95701169835736], [40.88240311320921, -73.91066467564433], [40.758028043526274, -73.97769793122403], [40.68665124165608, -73.99672403175197], [40.73457600733177, -74.00287495910837], [40.75351275872571, -73.9887865991153], [40.78043643718997, -73.95701169835736], [40.758028043526274, -73.97769793122403], [40.670374325917265, -73.98141374048753], [40.74857462935672, -73.98515639467684], [40.80945696112528, -73.96176359682921], [40.79001075149545, -73.94575026755156], [40.75981761719184, -73.98419648907571], [40.77876585543437, -73.95100987481798], [40.74423471780147, -73.90630644197877], [40.78396143031378, -73.97863194845081], [40.762252755319366, -73.98984464313301], [40.74033744175702, -73.99045782354733], [40.75981761719184, -73.98419648907571], [40.75351275872571, -73.9887865991153], [40.727620195909545, -73.9859374568246], [40.7404389785964, -73.97649472376757], [40.7736332930271, -73.98153220639182], [40.75672894163307, -73.96514579918421], [40.762252755319366, -73.98984464313301], [40.76149256216374, -73.91969431946067], [40.78043643718997, -73.95701169835736], [40.75668765218882, -73.97235594352028], [40.7376989564444, -73.92467306585043], [40.71893835938025, -73.99089626184734], [40.75351275872571, -73.9887865991153], [40.75668765218882, -73.97235594352028], [40.86607500072778, -73.91930823586193], [40.791704934427074, -73.97304890061594], [40.76861518381155, -73.96563453538072], [40.747745793643915, -73.97849159965226], [40.748497181405, -73.99243753697608], [40.7404389785964, -73.97649472376757], [40.74537943399859, -73.94889145447952], [40.78396143031378, -73.97863194845081], [40.78247809974789, -73.96555356545913], [40.791704934427074, -73.97304890061594], [40.748497181405, -73.99243753697608], [40.7736332930271, -73.98153220639182], [40.71893835938025, -73.99089626184734], [40.748427555065724, -73.99991742024713], [40.709138940671856, -74.013022771749], [40.80945696112528, -73.96176359682921], [40.747745793643915, -73.97849159965226], [40.74033744175702, -73.99045782354733], [40.71473250693941, -73.9830245583349], [40.758028043526274, -73.97769793122403], [40.74227862901228, -73.99697141558364], [40.75981761719184, -73.98419648907571], [40.75981761719184, -73.98419648907571], [40.69078679421093, -73.97488208618897], [40.74537943399859, -73.94889145447952], [40.762252755319366, -73.98984464313301], [40.78043643718997, -73.95701169835736], [40.79001075149545, -73.94575026755156], [40.78043643718997, -73.95701169835736], [40.75672894163307, -73.96514579918421], [40.7404389785964, -73.97649472376757], [40.753309065983395, -74.00401512528647], [40.76861518381155, -73.96563453538072], [40.73457600733177, -74.00287495910837], [40.747745793643915, -73.97849159965226], [40.78043643718997, -73.95701169835736], [40.77876585543437, -73.95100987481798], [40.82701265492538, -73.9485217302088], [40.78043643718997, -73.95701169835736], [40.762252755319366, -73.98984464313301], [40.7736332930271, -73.98153220639182], [40.717772736265175, -74.00787970866403], [40.70680845166585, -74.0074959856243], [40.64698489239519, -73.78653298334979], [40.717772736265175, -74.00787970866403], [40.766948216383234, -73.9596347414917], [40.753309065983395, -74.00401512528647], [40.77596522876096, -73.98764554944384], [40.748497181405, -73.99243753697608], [40.71203815707447, -74.01607915192923], [40.7736332930271, -73.98153220639182], [40.765484087889845, -73.95473878380503], [40.76149256216374, -73.91969431946067], [40.74033744175702, -73.99045782354733], [40.8011694805865, -73.9373456081249], [40.74991407790217, -73.97044256869238], [40.86400220602362, -73.86490099876721], [40.7736332930271, -73.98153220639182], [40.73257907302703, -73.99430477051168], [40.69120144680612, -73.76314612543838], [40.77596522876096, -73.98764554944384], [40.775932403149945, -73.94651035601463], [40.70335790323615, -74.01151502922325], [40.78396143031378, -73.97863194845081], [40.75351275872571, -73.9887865991153], [40.75668765218882, -73.97235594352028], [40.70436877745512, -73.79397965822719], [40.78396143031378, -73.97863194845081], [40.7262904102812, -74.00748581800953], [40.75668765218882, -73.97235594352028], [40.7404389785964, -73.97649472376757], [40.731820636016764, -73.97659767323344], [40.69579822121126, -73.99525011996623], [40.74857462935672, -73.98515639467684], [40.69579822121126, -73.99525011996623], [40.78247809974789, -73.96555356545913], [40.75351275872571, -73.9887865991153], [40.74857462935672, -73.98515639467684], [40.73457600733177, -74.00287495910837], [40.727620195909545, -73.9859374568246], [40.77876585543437, -73.95100987481798], [40.74227862901228, -73.99697141558364], [40.766948216383234, -73.9596347414917], [40.73257907302703, -73.99430477051168], [40.75672894163307, -73.96514579918421], [40.7090727427931, -74.00366456329895], [40.7736332930271, -73.98153220639182], [40.78043643718997, -73.95701169835736], [40.748497181405, -73.99243753697608], [40.766948216383234, -73.9596347414917], [40.76149256216374, -73.91969431946067], [40.7644214057868, -73.97756868222719], [40.74991407790217, -73.97044256869238], [40.74033744175702, -73.99045782354733], [40.78396143031378, -73.97863194845081], [40.73457600733177, -74.00287495910837], [40.728340391372306, -73.99738026020043], [40.748427555065724, -73.99991742024713], [40.71893835938025, -73.99089626184734], [40.70680845166585, -74.0074959856243], [40.7736332930271, -73.98153220639182], [40.670374325917265, -73.98141374048753], [40.77876585543437, -73.95100987481798], [40.78396143031378, -73.97863194845081], [40.74033744175702, -73.99045782354733], [40.77596522876096, -73.98764554944384], [40.762252755319366, -73.98984464313301], [40.747745793643915, -73.97849159965226], [40.758028043526274, -73.97769793122403], [40.7736332930271, -73.98153220639182], [40.748427555065724, -73.99991742024713], [40.74991407790217, -73.97044256869238], [40.75981761719184, -73.98419648907571], [40.67446941826648, -73.93928705867958], [40.77876585543437, -73.95100987481798], [40.753309065983395, -74.00401512528647], [40.76861518381155, -73.96563453538072], [40.762252755319366, -73.98984464313301], [40.766948216383234, -73.9596347414917], [40.78043643718997, -73.95701169835736], [40.75672894163307, -73.96514579918421], [40.78396143031378, -73.97863194845081], [40.7644214057868, -73.97756868222719], [40.758028043526274, -73.97769793122403], [40.79001075149545, -73.94575026755156], [40.78396143031378, -73.97863194845081], [40.748427555065724, -73.99991742024713], [40.73457600733177, -74.00287495910837], [40.727620195909545, -73.9859374568246], [40.75981761719184, -73.98419648907571], [40.748427555065724, -73.99991742024713], [40.765484087889845, -73.95473878380503], [40.75668765218882, -73.97235594352028], [40.804333949794604, -73.9512920024351], [40.72388811004171, -74.00153756565634], [40.747745793643915, -73.97849159965226], [40.74857462935672, -73.98515639467684], [40.78043643718997, -73.95701169835736], [40.748427555065724, -73.99991742024713], [40.758028043526274, -73.97769793122403], [40.748427555065724, -73.99991742024713], [40.76861518381155, -73.96563453538072], [40.64698489239519, -73.78653298334979], [40.71245931177952, -73.99815149899052], [40.758028043526274, -73.97769793122403], [40.80945696112528, -73.96176359682921], [40.717772736265175, -74.00787970866403], [40.762252755319366, -73.98984464313301], [40.727620195909545, -73.9859374568246], [40.71473250693941, -73.9830245583349], [40.74033744175702, -73.99045782354733], [40.76149256216374, -73.91969431946067], [40.72388811004171, -74.00153756565634], [40.7262904102812, -74.00748581800953], [40.762252755319366, -73.98984464313301], [40.71473250693941, -73.9830245583349], [40.71893835938025, -73.99089626184734], [40.75981761719184, -73.98419648907571], [40.75351275872571, -73.9887865991153], [40.79001075149545, -73.94575026755156], [40.76861518381155, -73.96563453538072], [40.766237725041876, -73.99513522075519], [40.74537943399859, -73.94889145447952], [40.748427555065724, -73.99991742024713], [40.74033744175702, -73.99045782354733], [40.74227862901228, -73.99697141558364], [40.72950628420885, -73.94954030482212], [40.74033744175702, -73.99045782354733], [40.748427555065724, -73.99991742024713], [40.74537943399859, -73.94889145447952], [40.78043643718997, -73.95701169835736], [40.748427555065724, -73.99991742024713], [40.78043643718997, -73.95701169835736], [40.766237725041876, -73.99513522075519], [40.73503540069664, -74.0089841047853], [40.74857462935672, -73.98515639467684], [40.75351275872571, -73.9887865991153], [40.76861518381155, -73.96563453538072], [40.758028043526274, -73.97769793122403], [40.75981761719184, -73.98419648907571], [40.78396143031378, -73.97863194845081], [40.766948216383234, -73.9596347414917], [40.72143227502133, -73.84766941187527], [40.766237725041876, -73.99513522075519], [40.62092404874623, -73.95682460583801], [40.804333949794604, -73.9512920024351], [40.78043643718997, -73.95701169835736], [40.75672894163307, -73.96514579918421], [40.748497181405, -73.99243753697608], [40.7404389785964, -73.97649472376757], [40.728340391372306, -73.99738026020043], [40.71880391812993, -73.95741813122187], [40.736824057618975, -73.98405213268919], [40.70436877745512, -73.79397965822719], [40.73257907302703, -73.99430477051168], [40.762252755319366, -73.98984464313301], [40.74227862901228, -73.99697141558364], [40.75981761719184, -73.98419648907571], [40.75351275872571, -73.9887865991153], [40.728340391372306, -73.99738026020043], [40.74991407790217, -73.97044256869238], [40.766948216383234, -73.9596347414917], [40.766948216383234, -73.9596347414917], [40.74857462935672, -73.98515639467684], [40.736824057618975, -73.98405213268919], [40.77876585543437, -73.95100987481798], [40.78043643718997, -73.95701169835736], [40.77876585543437, -73.95100987481798], [40.75668765218882, -73.97235594352028], [40.76861518381155, -73.96563453538072], [40.71893835938025, -73.99089626184734], [40.694427554088776, -73.79096393223055], [40.762252755319366, -73.98984464313301], [40.762252755319366, -73.98984464313301], [40.766237725041876, -73.99513522075519], [40.7404389785964, -73.97649472376757], [40.758028043526274, -73.97769793122403], [40.748497181405, -73.99243753697608], [40.747745793643915, -73.97849159965226], [40.78043643718997, -73.95701169835736], [40.77876585543437, -73.95100987481798], [40.77437570593249, -73.87362864289108], [40.77596522876096, -73.98764554944384], [40.76861518381155, -73.96563453538072], [40.775932403149945, -73.94651035601463], [40.73503540069664, -74.0089841047853], [40.748427555065724, -73.99991742024713], [40.736824057618975, -73.98405213268919], [40.7644214057868, -73.97756868222719], [40.75981761719184, -73.98419648907571], [40.71893835938025, -73.99089626184734], [40.747745793643915, -73.97849159965226], [40.766948216383234, -73.9596347414917], [40.7736332930271, -73.98153220639182], [40.75668765218882, -73.97235594352028], [40.75981761719184, -73.98419648907571], [40.75668765218882, -73.97235594352028], [40.74857462935672, -73.98515639467684], [40.731820636016764, -73.97659767323344], [40.7736332930271, -73.98153220639182], [40.74857462935672, -73.98515639467684], [40.70436877745512, -73.79397965822719], [40.765484087889845, -73.95473878380503], [40.736824057618975, -73.98405213268919], [40.75672894163307, -73.96514579918421], [40.74857462935672, -73.98515639467684], [40.791704934427074, -73.97304890061594], [40.78247809974789, -73.96555356545913], [40.76861518381155, -73.96563453538072], [40.791704934427074, -73.97304890061594], [40.69078679421093, -73.97488208618897], [40.709138940671856, -74.013022771749], [40.748497181405, -73.99243753697608], [40.78396143031378, -73.97863194845081], [40.80945696112528, -73.96176359682921], [40.74227862901228, -73.99697141558364], [40.727620195909545, -73.9859374568246], [40.747745793643915, -73.97849159965226], [40.78396143031378, -73.97863194845081], [40.78247809974789, -73.96555356545913], [40.748427555065724, -73.99991742024713], [40.75981761719184, -73.98419648907571], [40.74033744175702, -73.99045782354733], [40.748427555065724, -73.99991742024713], [40.74033744175702, -73.99045782354733], [40.74227862901228, -73.99697141558364], [40.79796199310004, -73.9681683330924], [40.78043643718997, -73.95701169835736], [40.74857462935672, -73.98515639467684], [40.78043643718997, -73.95701169835736], [40.70680845166585, -74.0074959856243], [40.775932403149945, -73.94651035601463], [40.78043643718997, -73.95701169835736], [40.762252755319366, -73.98984464313301], [40.747745793643915, -73.97849159965226], [40.78091235579127, -73.84281349543195], [40.78396143031378, -73.97863194845081], [40.76861518381155, -73.96563453538072], [40.828988230484576, -73.92440873264253], [40.78247809974789, -73.96555356545913], [40.80945696112528, -73.96176359682921], [40.76061560532161, -73.73933714992883], [40.71203815707447, -74.01607915192923], [40.82701265492538, -73.9485217302088], [40.76861518381155, -73.96563453538072], [40.75981761719184, -73.98419648907571], [40.76861518381155, -73.96563453538072], [40.79796199310004, -73.9681683330924], [40.77876585543437, -73.95100987481798], [40.7644214057868, -73.97756868222719], [40.748497181405, -73.99243753697608], [40.748497181405, -73.99243753697608], [40.69078679421093, -73.97488208618897], [40.747745793643915, -73.97849159965226], [40.74033744175702, -73.99045782354733], [40.717772736265175, -74.00787970866403], [40.766237725041876, -73.99513522075519], [40.8011694805865, -73.9373456081249], [40.74033744175702, -73.99045782354733], [40.75981761719184, -73.98419648907571], [40.77742692053278, -73.90540773409828], [40.7644214057868, -73.97756868222719], [40.74857462935672, -73.98515639467684], [40.64698489239519, -73.78653298334979], [40.75668765218882, -73.97235594352028], [40.75981761719184, -73.98419648907571], [40.76861518381155, -73.96563453538072], [40.75672894163307, -73.96514579918421], [40.80945696112528, -73.96176359682921], [40.748427555065724, -73.99991742024713], [40.7644214057868, -73.97756868222719], [40.75351275872571, -73.9887865991153], [40.7736332930271, -73.98153220639182], [40.76861518381155, -73.96563453538072], [40.758028043526274, -73.97769793122403], [40.74033744175702, -73.99045782354733], [40.717772736265175, -74.00787970866403], [40.74537943399859, -73.94889145447952], [40.7644214057868, -73.97756868222719], [40.75351275872571, -73.9887865991153], [40.748497181405, -73.99243753697608], [40.76861518381155, -73.96563453538072], [40.75981761719184, -73.98419648907571], [40.73257907302703, -73.99430477051168], [40.758028043526274, -73.97769793122403], [40.74857462935672, -73.98515639467684], [40.82701265492538, -73.9485217302088], [40.8011694805865, -73.9373456081249], [40.7736332930271, -73.98153220639182], [40.758028043526274, -73.97769793122403], [40.747745793643915, -73.97849159965226], [40.766948216383234, -73.9596347414917], [40.7644214057868, -73.97756868222719], [40.791704934427074, -73.97304890061594], [40.74537943399859, -73.94889145447952], [40.7644214057868, -73.97756868222719], [40.75981761719184, -73.98419648907571], [40.78043643718997, -73.95701169835736], [40.727620195909545, -73.9859374568246], [40.75668765218882, -73.97235594352028], [40.694427554088776, -73.79096393223055], [40.766948216383234, -73.9596347414917], [40.78043643718997, -73.95701169835736], [40.75668765218882, -73.97235594352028], [40.70680845166585, -74.0074959856243], [40.679199014097094, -73.99595619089146], [40.766948216383234, -73.9596347414917], [40.7736332930271, -73.98153220639182], [40.762252755319366, -73.98984464313301], [40.70680845166585, -74.0074959856243], [40.828988230484576, -73.92440873264253], [40.791704934427074, -73.97304890061594], [40.74033744175702, -73.99045782354733], [40.71893835938025, -73.99089626184734], [40.76861518381155, -73.96563453538072], [40.79796199310004, -73.9681683330924], [40.717772736265175, -74.00787970866403], [40.70805099798807, -73.82871246597531], [40.731820636016764, -73.97659767323344], [40.753309065983395, -74.00401512528647], [40.758028043526274, -73.97769793122403], [40.75668765218882, -73.97235594352028], [40.79796199310004, -73.9681683330924], [40.748427555065724, -73.99991742024713], [40.747745793643915, -73.97849159965226], [40.75672894163307, -73.96514579918421], [40.736824057618975, -73.98405213268919], [40.74033744175702, -73.99045782354733], [40.748427555065724, -73.99991742024713], [40.717772736265175, -74.00787970866403], [40.7644214057868, -73.97756868222719], [40.78247809974789, -73.96555356545913], [40.74857462935672, -73.98515639467684], [40.765484087889845, -73.95473878380503], [40.7736332930271, -73.98153220639182], [40.76861518381155, -73.96563453538072], [40.75668765218882, -73.97235594352028], [40.736824057618975, -73.98405213268919], [40.78043643718997, -73.95701169835736], [40.75981761719184, -73.98419648907571], [40.747745793643915, -73.97849159965226], [40.78043643718997, -73.95701169835736], [40.76861518381155, -73.96563453538072], [40.78396143031378, -73.97863194845081], [40.8011694805865, -73.9373456081249], [40.79796199310004, -73.9681683330924], [40.758028043526274, -73.97769793122403], [40.7542425205003, -73.93482888929137], [40.75668765218882, -73.97235594352028], [40.688168186954954, -73.93188826440708], [40.78247809974789, -73.96555356545913], [40.736824057618975, -73.98405213268919], [40.7736332930271, -73.98153220639182], [40.77876585543437, -73.95100987481798], [40.80945696112528, -73.96176359682921], [40.765484087889845, -73.95473878380503], [40.73257907302703, -73.99430477051168], [40.753309065983395, -74.00401512528647], [40.75672894163307, -73.96514579918421], [40.79796199310004, -73.9681683330924], [40.75981761719184, -73.98419648907571], [40.7736332930271, -73.98153220639182], [40.73457600733177, -74.00287495910837], [40.78043643718997, -73.95701169835736], [40.72388811004171, -74.00153756565634], [40.748497181405, -73.99243753697608], [40.78043643718997, -73.95701169835736], [40.775932403149945, -73.94651035601463], [40.64698489239519, -73.78653298334979], [40.7736332930271, -73.98153220639182], [40.75672894163307, -73.96514579918421], [40.76861518381155, -73.96563453538072], [40.758028043526274, -73.97769793122403], [40.841708771119784, -73.94139910573644], [40.77596522876096, -73.98764554944384], [40.7644214057868, -73.97756868222719], [40.804333949794604, -73.9512920024351], [40.736824057618975, -73.98405213268919], [40.72088889344527, -73.99691854183823], [40.736824057618975, -73.98405213268919], [40.7644214057868, -73.97756868222719], [40.747745793643915, -73.97849159965226], [40.76861518381155, -73.96563453538072], [40.70680845166585, -74.0074959856243], [40.74857462935672, -73.98515639467684], [40.78043643718997, -73.95701169835736], [40.736824057618975, -73.98405213268919], [40.748427555065724, -73.99991742024713], [40.727620195909545, -73.9859374568246], [40.766948216383234, -73.9596347414917], [40.72088889344527, -73.99691854183823], [40.76861518381155, -73.96563453538072], [40.71203815707447, -74.01607915192923], [40.74991407790217, -73.97044256869238], [40.76861518381155, -73.96563453538072], [40.76861518381155, -73.96563453538072], [40.76861518381155, -73.96563453538072], [40.78043643718997, -73.95701169835736], [40.766948216383234, -73.9596347414917], [40.74033744175702, -73.99045782354733], [40.78043643718997, -73.95701169835736], [40.74227862901228, -73.99697141558364], [40.75668765218882, -73.97235594352028], [40.78043643718997, -73.95701169835736], [40.76861518381155, -73.96563453538072], [40.73457600733177, -74.00287495910837], [40.73257907302703, -73.99430477051168], [40.75672894163307, -73.96514579918421], [40.766237725041876, -73.99513522075519], [40.758028043526274, -73.97769793122403], [40.771570243583376, -73.92833318686121], [40.728340391372306, -73.99738026020043], [40.77596522876096, -73.98764554944384], [40.78043643718997, -73.95701169835736], [40.75668765218882, -73.97235594352028], [40.727620195909545, -73.9859374568246], [40.77876585543437, -73.95100987481798], [40.75981761719184, -73.98419648907571], [40.7644214057868, -73.97756868222719], [40.75351275872571, -73.9887865991153], [40.78396143031378, -73.97863194845081], [40.765484087889845, -73.95473878380503], [40.76861518381155, -73.96563453538072], [40.747745793643915, -73.97849159965226], [40.736824057618975, -73.98405213268919], [40.77596522876096, -73.98764554944384], [40.766948216383234, -73.9596347414917], [40.76861518381155, -73.96563453538072], [40.758028043526274, -73.97769793122403], [40.74857462935672, -73.98515639467684], [40.74537943399859, -73.94889145447952], [40.736824057618975, -73.98405213268919], [40.747745793643915, -73.97849159965226], [40.791704934427074, -73.97304890061594], [40.76861518381155, -73.96563453538072], [40.753309065983395, -74.00401512528647], [40.727620195909545, -73.9859374568246], [40.766237725041876, -73.99513522075519], [40.70680845166585, -74.0074959856243], [40.758028043526274, -73.97769793122403], [40.69533752946114, -73.98608600498397], [40.753309065983395, -74.00401512528647], [40.71893835938025, -73.99089626184734], [40.766948216383234, -73.9596347414917], [40.77876585543437, -73.95100987481798], [40.747745793643915, -73.97849159965226], [40.78043643718997, -73.95701169835736], [40.753309065983395, -74.00401512528647], [40.78396143031378, -73.97863194845081], [40.72388811004171, -74.00153756565634], [40.727620195909545, -73.9859374568246], [40.748497181405, -73.99243753697608], [40.670374325917265, -73.98141374048753], [40.753309065983395, -74.00401512528647], [40.762252755319366, -73.98984464313301], [40.74991407790217, -73.97044256869238], [40.7542425205003, -73.93482888929137], [40.78043643718997, -73.95701169835736], [40.76861518381155, -73.96563453538072], [40.775932403149945, -73.94651035601463], [40.64698489239519, -73.78653298334979], [40.76861518381155, -73.96563453538072], [40.78043643718997, -73.95701169835736], [40.758028043526274, -73.97769793122403], [40.76861518381155, -73.96563453538072], [40.78247809974789, -73.96555356545913], [40.775932403149945, -73.94651035601463], [40.748427555065724, -73.99991742024713], [40.75668765218882, -73.97235594352028], [40.72388811004171, -74.00153756565634], [40.765484087889845, -73.95473878380503], [40.753309065983395, -74.00401512528647], [40.728340391372306, -73.99738026020043], [40.78396143031378, -73.97863194845081], [40.73446262820092, -73.77725346665987], [40.72088889344527, -73.99691854183823], [40.7644214057868, -73.97756868222719], [40.75981761719184, -73.98419648907571], [40.77876585543437, -73.95100987481798], [40.75351275872571, -73.9887865991153], [40.74857462935672, -73.98515639467684], [40.758028043526274, -73.97769793122403], [40.76861518381155, -73.96563453538072], [40.762252755319366, -73.98984464313301], [40.791704934427074, -73.97304890061594], [40.69533752946114, -73.98608600498397], [40.77742692053278, -73.90540773409828], [40.723752141584804, -73.97696825691766], [40.77437570593249, -73.87362864289108], [40.78247809974789, -73.96555356545913], [40.75981761719184, -73.98419648907571], [40.70335790323615, -74.01151502922325], [40.75672894163307, -73.96514579918421], [40.727620195909545, -73.9859374568246], [40.7404389785964, -73.97649472376757], [40.68796745714746, -73.96236353818358], [40.747745793643915, -73.97849159965226], [40.79001075149545, -73.94575026755156], [40.728340391372306, -73.99738026020043], [40.6248349236082, -74.02989237418782], [40.78043643718997, -73.95701169835736], [40.76861518381155, -73.96563453538072], [40.73503540069664, -74.0089841047853], [40.74033744175702, -73.99045782354733], [40.7736332930271, -73.98153220639182], [40.74033744175702, -73.99045782354733], [40.758028043526274, -73.97769793122403], [40.79001075149545, -73.94575026755156], [40.75672894163307, -73.96514579918421], [40.7736332930271, -73.98153220639182], [40.727620195909545, -73.9859374568246], [40.723752141584804, -73.97696825691766], [40.74227862901228, -73.99697141558364], [40.74537943399859, -73.94889145447952], [40.728340391372306, -73.99738026020043], [40.76335220113314, -73.86839559842021], [40.75668765218882, -73.97235594352028], [40.74227862901228, -73.99697141558364], [40.76861518381155, -73.96563453538072], [40.78396143031378, -73.97863194845081], [40.73457600733177, -74.00287495910837], [40.7644214057868, -73.97756868222719], [40.766948216383234, -73.9596347414917], [40.67446941826648, -73.93928705867958], [40.78043643718997, -73.95701169835736], [40.727620195909545, -73.9859374568246], [40.64698489239519, -73.78653298334979], [40.727620195909545, -73.9859374568246], [40.78396143031378, -73.97863194845081], [40.71893835938025, -73.99089626184734], [40.804333949794604, -73.9512920024351], [40.727620195909545, -73.9859374568246], [40.74033744175702, -73.99045782354733], [40.71893835938025, -73.99089626184734], [40.77437570593249, -73.87362864289108], [40.766948216383234, -73.9596347414917], [40.78043643718997, -73.95701169835736], [40.747745793643915, -73.97849159965226], [40.78043643718997, -73.95701169835736], [40.79001075149545, -73.94575026755156], [40.8011694805865, -73.9373456081249], [40.7542425205003, -73.93482888929137], [40.7404389785964, -73.97649472376757], [40.76861518381155, -73.96563453538072], [40.748427555065724, -73.99991742024713], [40.7090727427931, -74.00366456329895], [40.75351275872571, -73.9887865991153], [40.73257907302703, -73.99430477051168], [40.791704934427074, -73.97304890061594], [40.748497181405, -73.99243753697608], [40.727620195909545, -73.9859374568246], [40.70680845166585, -74.0074959856243], [40.748497181405, -73.99243753697608], [40.727620195909545, -73.9859374568246], [40.84905837739125, -73.90512221938542], [40.75981761719184, -73.98419648907571], [40.775932403149945, -73.94651035601463], [40.765484087889845, -73.95473878380503], [40.804333949794604, -73.9512920024351], [40.80945696112528, -73.96176359682921], [40.775932403149945, -73.94651035601463], [40.791704934427074, -73.97304890061594], [40.79796199310004, -73.9681683330924], [40.75672894163307, -73.96514579918421], [40.73457600733177, -74.00287495910837], [40.71893835938025, -73.99089626184734], [40.76861518381155, -73.96563453538072], [40.83782699169885, -73.92615723620783], [40.74033744175702, -73.99045782354733], [40.723752141584804, -73.97696825691766], [40.73503540069664, -74.0089841047853], [40.791704934427074, -73.97304890061594], [40.7644214057868, -73.97756868222719], [40.731820636016764, -73.97659767323344], [40.857108283314425, -73.93283148761294], [40.77596522876096, -73.98764554944384], [40.78043643718997, -73.95701169835736], [40.74991407790217, -73.97044256869238], [40.75672894163307, -73.96514579918421], [40.69454235438128, -73.8309240744999], [40.7736332930271, -73.98153220639182], [40.817858557708156, -73.85813498781437], [40.73257907302703, -73.99430477051168], [40.7644214057868, -73.97756868222719], [40.78043643718997, -73.95701169835736], [40.69120144680612, -73.76314612543838], [40.728340391372306, -73.99738026020043], [40.78396143031378, -73.97863194845081], [40.791704934427074, -73.97304890061594], [40.748497181405, -73.99243753697608], [40.717772736265175, -74.00787970866403], [40.71473250693941, -73.9830245583349], [40.75351275872571, -73.9887865991153], [40.748427555065724, -73.99991742024713], [40.753309065983395, -74.00401512528647], [40.74857462935672, -73.98515639467684], [40.75668765218882, -73.97235594352028], [40.72388811004171, -74.00153756565634], [40.70680845166585, -74.0074959856243], [40.69533752946114, -73.98608600498397], [40.8011694805865, -73.9373456081249], [40.791704934427074, -73.97304890061594], [40.728340391372306, -73.99738026020043], [40.7376989564444, -73.92467306585043], [40.74857462935672, -73.98515639467684], [40.70335790323615, -74.01151502922325], [40.76149256216374, -73.91969431946067], [40.791704934427074, -73.97304890061594], [40.74227862901228, -73.99697141558364], [40.76861518381155, -73.96563453538072], [40.75668765218882, -73.97235594352028], [40.736824057618975, -73.98405213268919], [40.766948216383234, -73.9596347414917], [40.758028043526274, -73.97769793122403], [40.717772736265175, -74.00787970866403], [40.75981761719184, -73.98419648907571], [40.688168186954954, -73.93188826440708], [40.709138940671856, -74.013022771749], [40.8011694805865, -73.9373456081249], [40.685633741320636, -73.98611382213662], [40.765484087889845, -73.95473878380503], [40.7736332930271, -73.98153220639182], [40.753309065983395, -74.00401512528647], [40.73457600733177, -74.00287495910837], [40.72399507493355, -73.9023296813137], [40.80945696112528, -73.96176359682921], [40.76861518381155, -73.96563453538072], [40.75672894163307, -73.96514579918421], [40.758028043526274, -73.97769793122403], [40.791704934427074, -73.97304890061594], [40.78247809974789, -73.96555356545913], [40.79001075149545, -73.94575026755156], [40.70680845166585, -74.0074959856243], [40.74227862901228, -73.99697141558364], [40.79796199310004, -73.9681683330924], [40.758028043526274, -73.97769793122403], [40.75672894163307, -73.96514579918421], [40.731820636016764, -73.97659767323344], [40.766237725041876, -73.99513522075519], [40.75668765218882, -73.97235594352028], [40.765484087889845, -73.95473878380503], [40.766237725041876, -73.99513522075519], [40.64698489239519, -73.78653298334979], [40.766948216383234, -73.9596347414917], [40.728340391372306, -73.99738026020043], [40.7404389785964, -73.97649472376757], [40.748497181405, -73.99243753697608], [40.758028043526274, -73.97769793122403], [40.775932403149945, -73.94651035601463], [40.748427555065724, -73.99991742024713], [40.747745793643915, -73.97849159965226], [40.727620195909545, -73.9859374568246], [40.7404389785964, -73.97649472376757], [40.758028043526274, -73.97769793122403], [40.7108799333774, -73.95990462730533], [40.727620195909545, -73.9859374568246], [40.76861518381155, -73.96563453538072], [40.7376989564444, -73.92467306585043], [40.748497181405, -73.99243753697608], [40.75981761719184, -73.98419648907571], [40.73503540069664, -74.0089841047853], [40.77876585543437, -73.95100987481798], [40.736824057618975, -73.98405213268919], [40.775932403149945, -73.94651035601463], [40.77876585543437, -73.95100987481798], [40.78043643718997, -73.95701169835736], [40.75668765218882, -73.97235594352028], [40.7262904102812, -74.00748581800953], [40.75351275872571, -73.9887865991153], [40.8011694805865, -73.9373456081249], [40.7644214057868, -73.97756868222719], [40.69533752946114, -73.98608600498397], [40.75668765218882, -73.97235594352028], [40.765484087889845, -73.95473878380503], [40.762252755319366, -73.98984464313301], [40.717772736265175, -74.00787970866403], [40.75672894163307, -73.96514579918421], [40.68872135698128, -73.85576675985419], [40.758028043526274, -73.97769793122403], [40.758028043526274, -73.97769793122403], [40.82751255686402, -73.90235177500071], [40.75668765218882, -73.97235594352028], [40.78043643718997, -73.95701169835736], [40.723752141584804, -73.97696825691766], [40.775932403149945, -73.94651035601463], [40.791704934427074, -73.97304890061594], [40.791704934427074, -73.97304890061594], [40.74227862901228, -73.99697141558364], [40.75672894163307, -73.96514579918421], [40.78043643718997, -73.95701169835736], [40.79001075149545, -73.94575026755156], [40.717772736265175, -74.00787970866403], [40.78396143031378, -73.97863194845081], [40.791704934427074, -73.97304890061594], [40.791704934427074, -73.97304890061594], [40.76861518381155, -73.96563453538072], [40.74857462935672, -73.98515639467684], [40.70680845166585, -74.0074959856243], [40.7736332930271, -73.98153220639182], [40.766237725041876, -73.99513522075519], [40.79796199310004, -73.9681683330924], [40.75981761719184, -73.98419648907571], [40.79001075149545, -73.94575026755156], [40.748427555065724, -73.99991742024713], [40.762252755319366, -73.98984464313301], [40.82701265492538, -73.9485217302088], [40.78396143031378, -73.97863194845081], [40.747745793643915, -73.97849159965226], [40.78043643718997, -73.95701169835736], [40.72088889344527, -73.99691854183823], [40.77437570593249, -73.87362864289108], [40.84496041014609, -73.8855218158743], [40.77742692053278, -73.90540773409828], [40.74857462935672, -73.98515639467684], [40.75731206303919, -73.88531724061082], [40.75981761719184, -73.98419648907571], [40.78043643718997, -73.95701169835736], [40.64698489239519, -73.78653298334979], [40.75672894163307, -73.96514579918421], [40.791704934427074, -73.97304890061594], [40.775932403149945, -73.94651035601463], [40.74857462935672, -73.98515639467684], [40.766948216383234, -73.9596347414917], [40.7644214057868, -73.97756868222719], [40.74991407790217, -73.97044256869238], [40.658744450856695, -73.94744164500473], [40.77876585543437, -73.95100987481798], [40.75981761719184, -73.98419648907571], [40.79796199310004, -73.9681683330924], [40.75351275872571, -73.9887865991153], [40.81825786111924, -73.94077166756266], [40.73503540069664, -74.0089841047853], [40.73832381382601, -73.89217338112864], [40.74857462935672, -73.98515639467684], [40.78043643718997, -73.95701169835736], [40.76861518381155, -73.96563453538072], [40.72088889344527, -73.99691854183823], [40.717772736265175, -74.00787970866403], [40.766948216383234, -73.9596347414917], [40.73257907302703, -73.99430477051168], [40.71473250693941, -73.9830245583349], [40.74857462935672, -73.98515639467684], [40.75351275872571, -73.9887865991153], [40.762252755319366, -73.98984464313301], [40.76861518381155, -73.96563453538072], [40.766948216383234, -73.9596347414917], [40.73457600733177, -74.00287495910837], [40.758028043526274, -73.97769793122403], [40.7090727427931, -74.00366456329895], [40.78043643718997, -73.95701169835736], [40.747745793643915, -73.97849159965226], [40.7005221995192, -73.91771053131578], [40.75668765218882, -73.97235594352028], [40.80945696112528, -73.96176359682921], [40.7262904102812, -74.00748581800953], [40.76861518381155, -73.96563453538072], [40.736824057618975, -73.98405213268919], [40.748427555065724, -73.99991742024713], [40.70680845166585, -74.0074959856243], [40.748497181405, -73.99243753697608], [40.75981761719184, -73.98419648907571], [40.791704934427074, -73.97304890061594], [40.78043643718997, -73.95701169835736], [40.765484087889845, -73.95473878380503], [40.775932403149945, -73.94651035601463], [40.804333949794604, -73.9512920024351], [40.75981761719184, -73.98419648907571], [40.70335790323615, -74.01151502922325], [40.78043643718997, -73.95701169835736], [40.78396143031378, -73.97863194845081], [40.77876585543437, -73.95100987481798], [40.78043643718997, -73.95701169835736], [40.76861518381155, -73.96563453538072], [40.723752141584804, -73.97696825691766], [40.766948216383234, -73.9596347414917], [40.791704934427074, -73.97304890061594], [40.75668765218882, -73.97235594352028], [40.81825786111924, -73.94077166756266], [40.727620195909545, -73.9859374568246], [40.747745793643915, -73.97849159965226], [40.791704934427074, -73.97304890061594], [40.766237725041876, -73.99513522075519], [40.747745793643915, -73.97849159965226], [40.727620195909545, -73.9859374568246], [40.766948216383234, -73.9596347414917], [40.775932403149945, -73.94651035601463], [40.75981761719184, -73.98419648907571], [40.78396143031378, -73.97863194845081], [40.747745793643915, -73.97849159965226], [40.765484087889845, -73.95473878380503], [40.762252755319366, -73.98984464313301], [40.7736332930271, -73.98153220639182], [40.758028043526274, -73.97769793122403], [40.75668765218882, -73.97235594352028], [40.69183120640148, -74.17400027276294], [40.7404389785964, -73.97649472376757], [40.75668765218882, -73.97235594352028], [40.76149256216374, -73.91969431946067], [40.61961946783515, -74.0138014874401], [40.76861518381155, -73.96563453538072], [40.76861518381155, -73.96563453538072], [40.74857462935672, -73.98515639467684], [40.77437570593249, -73.87362864289108], [40.78043643718997, -73.95701169835736], [40.766948216383234, -73.9596347414917], [40.75731206303919, -73.88531724061082], [40.71473250693941, -73.9830245583349], [40.762252755319366, -73.98984464313301], [40.78247809974789, -73.96555356545913], [40.753309065983395, -74.00401512528647], [40.75981761719184, -73.98419648907571], [40.727620195909545, -73.9859374568246], [40.64698489239519, -73.78653298334979], [40.723752141584804, -73.97696825691766], [40.766948216383234, -73.9596347414917], [40.73457600733177, -74.00287495910837], [40.7404389785964, -73.97649472376757], [40.74857462935672, -73.98515639467684], [40.72088889344527, -73.99691854183823], [40.70652679441957, -73.90170926444723], [40.762252755319366, -73.98984464313301], [40.762252755319366, -73.98984464313301], [40.75672894163307, -73.96514579918421], [40.791704934427074, -73.97304890061594], [40.78043643718997, -73.95701169835736], [40.736824057618975, -73.98405213268919], [40.71203815707447, -74.01607915192923], [40.76861518381155, -73.96563453538072], [40.74857462935672, -73.98515639467684], [40.731820636016764, -73.97659767323344], [40.73503540069664, -74.0089841047853], [40.75668765218882, -73.97235594352028], [40.748427555065724, -73.99991742024713], [40.75668765218882, -73.97235594352028], [40.78043643718997, -73.95701169835736], [40.7736332930271, -73.98153220639182], [40.758028043526274, -73.97769793122403], [40.7108799333774, -73.95990462730533], [40.717772736265175, -74.00787970866403], [40.78247809974789, -73.96555356545913], [40.75981761719184, -73.98419648907571], [40.727620195909545, -73.9859374568246], [40.791704934427074, -73.97304890061594], [40.78247809974789, -73.96555356545913], [40.727620195909545, -73.9859374568246], [40.74227862901228, -73.99697141558364], [40.75668765218882, -73.97235594352028], [40.77596522876096, -73.98764554944384], [40.727620195909545, -73.9859374568246], [40.78247809974789, -73.96555356545913], [40.748497181405, -73.99243753697608], [40.74991407790217, -73.97044256869238], [40.78043643718997, -73.95701169835736], [40.76861518381155, -73.96563453538072], [40.76861518381155, -73.96563453538072], [40.6609351965506, -73.87682061127201], [40.78396143031378, -73.97863194845081], [40.7736332930271, -73.98153220639182], [40.747745793643915, -73.97849159965226], [40.736824057618975, -73.98405213268919], [40.79001075149545, -73.94575026755156], [40.736824057618975, -73.98405213268919], [40.78396143031378, -73.97863194845081], [40.758028043526274, -73.97769793122403], [40.75981761719184, -73.98419648907571], [40.76861518381155, -73.96563453538072], [40.73257907302703, -73.99430477051168], [40.76861518381155, -73.96563453538072], [40.75672894163307, -73.96514579918421], [40.79796199310004, -73.9681683330924], [40.74857462935672, -73.98515639467684], [40.748427555065724, -73.99991742024713], [40.717772736265175, -74.00787970866403], [40.78396143031378, -73.97863194845081], [40.76861518381155, -73.96563453538072], [40.74033744175702, -73.99045782354733], [40.71893835938025, -73.99089626184734], [40.77437570593249, -73.87362864289108], [40.78247809974789, -73.96555356545913], [40.76149256216374, -73.91969431946067], [40.75668765218882, -73.97235594352028], [40.791704934427074, -73.97304890061594], [40.7736332930271, -73.98153220639182], [40.74423471780147, -73.90630644197877], [40.762252755319366, -73.98984464313301], [40.7736332930271, -73.98153220639182], [40.7736332930271, -73.98153220639182], [40.76861518381155, -73.96563453538072], [40.748497181405, -73.99243753697608], [40.7404389785964, -73.97649472376757], [40.7736332930271, -73.98153220639182], [40.762252755319366, -73.98984464313301], [40.731820636016764, -73.97659767323344], [40.74991407790217, -73.97044256869238], [40.747745793643915, -73.97849159965226], [40.73257907302703, -73.99430477051168], [40.70680845166585, -74.0074959856243], [40.76061560532161, -73.73933714992883], [40.78396143031378, -73.97863194845081], [40.7736332930271, -73.98153220639182], [40.758028043526274, -73.97769793122403], [40.766237725041876, -73.99513522075519], [40.758028043526274, -73.97769793122403], [40.7736332930271, -73.98153220639182], [40.78043643718997, -73.95701169835736], [40.685633741320636, -73.98611382213662], [40.727620195909545, -73.9859374568246], [40.7644214057868, -73.97756868222719], [40.736824057618975, -73.98405213268919], [40.78396143031378, -73.97863194845081], [40.71245931177952, -73.99815149899052], [40.717772736265175, -74.00787970866403], [40.78396143031378, -73.97863194845081], [40.74227862901228, -73.99697141558364], [40.758028043526274, -73.97769793122403], [40.80945696112528, -73.96176359682921], [40.766948216383234, -73.9596347414917], [40.8011694805865, -73.9373456081249], [40.8011694805865, -73.9373456081249], [40.74857462935672, -73.98515639467684], [40.758028043526274, -73.97769793122403], [40.762252755319366, -73.98984464313301], [40.78043643718997, -73.95701169835736], [40.72088889344527, -73.99691854183823], [40.78247809974789, -73.96555356545913], [40.75672894163307, -73.96514579918421], [40.8011694805865, -73.9373456081249], [40.78043643718997, -73.95701169835736], [40.828988230484576, -73.92440873264253], [40.77596522876096, -73.98764554944384], [40.762252755319366, -73.98984464313301], [40.79001075149545, -73.94575026755156], [40.753309065983395, -74.00401512528647], [40.77596522876096, -73.98764554944384], [40.766237725041876, -73.99513522075519], [40.766948216383234, -73.9596347414917], [40.841708771119784, -73.94139910573644], [40.748497181405, -73.99243753697608], [40.81797514762944, -73.95378223705632], [40.77596522876096, -73.98764554944384], [40.78396143031378, -73.97863194845081], [40.775932403149945, -73.94651035601463], [40.75351275872571, -73.9887865991153], [40.8011694805865, -73.9373456081249], [40.804333949794604, -73.9512920024351], [40.78043643718997, -73.95701169835736], [40.75351275872571, -73.9887865991153], [40.82701265492538, -73.9485217302088], [40.69579822121126, -73.99525011996623], [40.74537943399859, -73.94889145447952], [40.775932403149945, -73.94651035601463], [40.74267210348263, -73.75462173612375], [40.775932403149945, -73.94651035601463], [40.765484087889845, -73.95473878380503], [40.817858557708156, -73.85813498781437], [40.83141669708519, -73.91502929553265], [40.81825786111924, -73.94077166756266], [40.79796199310004, -73.9681683330924], [40.7542425205003, -73.93482888929137], [40.762252755319366, -73.98984464313301], [40.8011694805865, -73.9373456081249], [40.7404389785964, -73.97649472376757], [40.76861518381155, -73.96563453538072], [40.78247809974789, -73.96555356545913], [40.74033744175702, -73.99045782354733], [40.75351275872571, -73.9887865991153], [40.709138940671856, -74.013022771749], [40.765484087889845, -73.95473878380503], [40.69078679421093, -73.97488208618897], [40.70680845166585, -74.0074959856243], [40.79001075149545, -73.94575026755156], [40.73503540069664, -74.0089841047853], [40.8011694805865, -73.9373456081249], [40.79001075149545, -73.94575026755156], [40.79001075149545, -73.94575026755156], [40.748427555065724, -73.99991742024713], [40.747745793643915, -73.97849159965226], [40.84274917609802, -73.90031590586487], [40.748497181405, -73.99243753697608], [40.736824057618975, -73.98405213268919], [40.747745793643915, -73.97849159965226], [40.82701265492538, -73.9485217302088], [40.74033744175702, -73.99045782354733], [40.78396143031378, -73.97863194845081], [40.766948216383234, -73.9596347414917], [40.7404389785964, -73.97649472376757], [40.87651237544555, -73.8956200178548], [40.804333949794604, -73.9512920024351], [40.675548862280856, -74.00917849113294], [40.79796199310004, -73.9681683330924], [40.77742692053278, -73.90540773409828], [40.65235464953843, -74.01127116962884], [40.78043643718997, -73.95701169835736], [40.71893835938025, -73.99089626184734], [40.762252755319366, -73.98984464313301], [40.775932403149945, -73.94651035601463], [40.7736332930271, -73.98153220639182], [40.80197049389963, -73.96547951516966], [40.72399507493355, -73.9023296813137], [40.79001075149545, -73.94575026755156], [40.76861518381155, -73.96563453538072], [40.74857462935672, -73.98515639467684], [40.762252755319366, -73.98984464313301], [40.765484087889845, -73.95473878380503], [40.804333949794604, -73.9512920024351], [40.73457600733177, -74.00287495910837], [40.73949564677819, -73.87711833280915], [40.80945696112528, -73.96176359682921], [40.685633741320636, -73.98611382213662], [40.76861518381155, -73.96563453538072], [40.765484087889845, -73.95473878380503], [40.76861518381155, -73.96563453538072], [40.79796199310004, -73.9681683330924], [40.74991407790217, -73.97044256869238], [40.77876585543437, -73.95100987481798], [40.75668765218882, -73.97235594352028], [40.75668765218882, -73.97235594352028], [40.76335220113314, -73.86839559842021], [40.76861518381155, -73.96563453538072], [40.75668765218882, -73.97235594352028], [40.702258938822524, -73.98570161582289], [40.7404389785964, -73.97649472376757], [40.7404389785964, -73.97649472376757], [40.857108283314425, -73.93283148761294], [40.81825786111924, -73.94077166756266], [40.791704934427074, -73.97304890061594], [40.78043643718997, -73.95701169835736], [40.727620195909545, -73.9859374568246], [40.75668765218882, -73.97235594352028], [40.765484087889845, -73.95473878380503], [40.71893835938025, -73.99089626184734], [40.694427554088776, -73.79096393223055], [40.804333949794604, -73.9512920024351], [40.74991407790217, -73.97044256869238], [40.75672894163307, -73.96514579918421], [40.766948216383234, -73.9596347414917], [40.75668765218882, -73.97235594352028], [40.77876585543437, -73.95100987481798], [40.79796199310004, -73.9681683330924], [40.7736332930271, -73.98153220639182], [40.828988230484576, -73.92440873264253], [40.7736332930271, -73.98153220639182], [40.766948216383234, -73.9596347414917], [40.74857462935672, -73.98515639467684], [40.766948216383234, -73.9596347414917], [40.748497181405, -73.99243753697608], [40.747745793643915, -73.97849159965226], [40.78043643718997, -73.95701169835736], [40.78247809974789, -73.96555356545913], [40.8525211492635, -73.91597542466437], [40.77876585543437, -73.95100987481798], [40.81825786111924, -73.94077166756266], [40.78043643718997, -73.95701169835736], [40.82701265492538, -73.9485217302088], [40.652364804077415, -73.92225097400492], [40.83782699169885, -73.92615723620783], [40.828988230484576, -73.92440873264253], [40.78043643718997, -73.95701169835736], [40.79001075149545, -73.94575026755156], [40.7644214057868, -73.97756868222719], [40.78396143031378, -73.97863194845081], [40.775932403149945, -73.94651035601463], [40.73257907302703, -73.99430477051168], [40.74857462935672, -73.98515639467684], [40.762252755319366, -73.98984464313301], [40.75672894163307, -73.96514579918421], [40.73503540069664, -74.0089841047853], [40.5920234643643, -73.94050716694063], [40.748427555065724, -73.99991742024713], [40.791704934427074, -73.97304890061594], [40.791704934427074, -73.97304890061594], [40.75668765218882, -73.97235594352028], [40.78043643718997, -73.95701169835736], [40.717772736265175, -74.00787970866403], [40.75672894163307, -73.96514579918421], [40.82701265492538, -73.9485217302088], [40.74991407790217, -73.97044256869238], [40.765484087889845, -73.95473878380503], [40.80945696112528, -73.96176359682921], [40.68796745714746, -73.96236353818358], [40.89952906437649, -73.90698710771423], [40.73257907302703, -73.99430477051168], [40.717772736265175, -74.00787970866403], [40.678953310115254, -73.79098635986958], [40.8011694805865, -73.9373456081249], [40.679199014097094, -73.99595619089146], [40.7736332930271, -73.98153220639182], [40.80945696112528, -73.96176359682921], [40.80945696112528, -73.96176359682921], [40.76861518381155, -73.96563453538072], [40.72388811004171, -74.00153756565634], [40.81825786111924, -73.94077166756266], [40.74991407790217, -73.97044256869238], [40.723752141584804, -73.97696825691766], [40.702258938822524, -73.98570161582289], [40.75668765218882, -73.97235594352028], [40.78043643718997, -73.95701169835736], [40.717772736265175, -74.00787970866403], [40.658744450856695, -73.94744164500473], [40.78396143031378, -73.97863194845081], [40.80197049389963, -73.96547951516966], [40.61221825780563, -73.99525857986231], [40.80945696112528, -73.96176359682921], [40.766237725041876, -73.99513522075519], [40.74227862901228, -73.99697141558364], [40.75672894163307, -73.96514579918421], [40.804333949794604, -73.9512920024351], [40.8011694805865, -73.9373456081249], [40.727620195909545, -73.9859374568246], [40.762252755319366, -73.98984464313301], [40.75668765218882, -73.97235594352028], [40.766948216383234, -73.9596347414917], [40.8011694805865, -73.9373456081249], [40.828988230484576, -73.92440873264253], [40.71893835938025, -73.99089626184734], [40.748427555065724, -73.99991742024713], [40.7404389785964, -73.97649472376757], [40.791704934427074, -73.97304890061594], [40.7404389785964, -73.97649472376757], [40.727620195909545, -73.9859374568246], [40.748427555065724, -73.99991742024713], [40.75981761719184, -73.98419648907571], [40.75668765218882, -73.97235594352028], [40.7404389785964, -73.97649472376757], [40.7404389785964, -73.97649472376757], [40.79001075149545, -73.94575026755156], [40.753309065983395, -74.00401512528647], [40.8011694805865, -73.9373456081249], [40.748497181405, -73.99243753697608], [40.79001075149545, -73.94575026755156], [40.75672894163307, -73.96514579918421], [40.775932403149945, -73.94651035601463], [40.79001075149545, -73.94575026755156], [40.78043643718997, -73.95701169835736], [40.81825786111924, -73.94077166756266], [40.76861518381155, -73.96563453538072], [40.791704934427074, -73.97304890061594], [40.79001075149545, -73.94575026755156], [40.79001075149545, -73.94575026755156], [40.74227862901228, -73.99697141558364], [40.75672894163307, -73.96514579918421], [40.7404389785964, -73.97649472376757], [40.80945696112528, -73.96176359682921], [40.736824057618975, -73.98405213268919], [40.81825974768987, -73.91284939799155], [40.61797137588927, -74.08783880974954], [40.74991407790217, -73.97044256869238], [40.766948216383234, -73.9596347414917], [40.79001075149545, -73.94575026755156], [40.69078679421093, -73.97488208618897], [40.71473250693941, -73.9830245583349], [40.74033744175702, -73.99045782354733], [40.765484087889845, -73.95473878380503], [40.78043643718997, -73.95701169835736], [40.81825786111924, -73.94077166756266], [40.77876585543437, -73.95100987481798], [40.83399047727384, -73.88590003419148], [40.79001075149545, -73.94575026755156], [40.70652679441957, -73.90170926444723], [40.670374325917265, -73.98141374048753], [40.766948216383234, -73.9596347414917], [40.79001075149545, -73.94575026755156], [40.75981761719184, -73.98419648907571], [40.77876585543437, -73.95100987481798], [40.79001075149545, -73.94575026755156], [40.78396143031378, -73.97863194845081], [40.804333949794604, -73.9512920024351], [40.78396143031378, -73.97863194845081], [40.75981761719184, -73.98419648907571], [40.81825786111924, -73.94077166756266], [40.748497181405, -73.99243753697608], [40.77596522876096, -73.98764554944384], [40.74033744175702, -73.99045782354733], [40.7404389785964, -73.97649472376757], [40.748427555065724, -73.99991742024713], [40.80197049389963, -73.96547951516966], [40.79001075149545, -73.94575026755156], [40.77876585543437, -73.95100987481798], [40.7404389785964, -73.97649472376757], [40.765484087889845, -73.95473878380503], [40.7736332930271, -73.98153220639182], [40.77876585543437, -73.95100987481798], [40.7736332930271, -73.98153220639182], [40.658744450856695, -73.94744164500473], [40.736824057618975, -73.98405213268919], [40.7404389785964, -73.97649472376757], [40.766948216383234, -73.9596347414917], [40.791704934427074, -73.97304890061594], [40.758028043526274, -73.97769793122403], [40.857108283314425, -73.93283148761294], [40.73503540069664, -74.0089841047853], [40.731820636016764, -73.97659767323344], [40.791704934427074, -73.97304890061594], [40.7736332930271, -73.98153220639182], [40.75672894163307, -73.96514579918421], [40.79001075149545, -73.94575026755156], [40.78247809974789, -73.96555356545913], [40.747745793643915, -73.97849159965226], [40.79001075149545, -73.94575026755156], [40.841708771119784, -73.94139910573644], [40.7404389785964, -73.97649472376757], [40.8577466809159, -73.8754759505304], [40.70680845166585, -74.0074959856243], [40.717772736265175, -74.00787970866403], [40.77876585543437, -73.95100987481798], [40.78043643718997, -73.95701169835736], [40.766948216383234, -73.9596347414917], [40.75351275872571, -73.9887865991153], [40.74033744175702, -73.99045782354733], [40.78396143031378, -73.97863194845081], [40.78043643718997, -73.95701169835736], [40.775932403149945, -73.94651035601463], [40.79001075149545, -73.94575026755156], [40.762252755319366, -73.98984464313301], [40.72950628420885, -73.94954030482212], [40.78043643718997, -73.95701169835736], [40.748497181405, -73.99243753697608], [40.7644214057868, -73.97756868222719], [40.81825786111924, -73.94077166756266], [40.736824057618975, -73.98405213268919], [40.63790012347376, -73.96096824906373], [40.79001075149545, -73.94575026755156], [40.74033744175702, -73.99045782354733], [40.74227862901228, -73.99697141558364], [40.791704934427074, -73.97304890061594], [40.7376989564444, -73.92467306585043], [40.83141669708519, -73.91502929553265], [40.72088889344527, -73.99691854183823], [40.736824057618975, -73.98405213268919], [40.81207445859209, -73.88553752149427], [40.748497181405, -73.99243753697608], [40.77596522876096, -73.98764554944384], [40.82701265492538, -73.9485217302088], [40.81825786111924, -73.94077166756266], [40.736824057618975, -73.98405213268919], [40.765484087889845, -73.95473878380503], [40.81825786111924, -73.94077166756266], [40.736824057618975, -73.98405213268919], [40.804333949794604, -73.9512920024351], [40.765484087889845, -73.95473878380503], [40.748427555065724, -73.99991742024713], [40.791704934427074, -73.97304890061594], [40.80734716766524, -73.9168219380646], [40.74857462935672, -73.98515639467684], [40.748427555065724, -73.99991742024713], [40.7376989564444, -73.92467306585043], [40.83782699169885, -73.92615723620783], [40.748427555065724, -73.99991742024713], [40.723752141584804, -73.97696825691766], [40.78043643718997, -73.95701169835736], [40.8011694805865, -73.9373456081249], [40.78043643718997, -73.95701169835736], [40.766948216383234, -73.9596347414917], [40.791704934427074, -73.97304890061594], [40.7404389785964, -73.97649472376757], [40.8011694805865, -73.9373456081249], [40.76861518381155, -73.96563453538072], [40.703916440465754, -73.95859684507171], [40.8011694805865, -73.9373456081249], [40.73949564677819, -73.87711833280915], [40.766948216383234, -73.9596347414917], [40.775932403149945, -73.94651035601463], [40.775932403149945, -73.94651035601463], [40.81825786111924, -73.94077166756266], [40.758028043526274, -73.97769793122403], [40.71833677001376, -73.88005140814955], [40.7404389785964, -73.97649472376757], [40.7404389785964, -73.97649472376757], [40.728340391372306, -73.99738026020043], [40.73257907302703, -73.99430477051168], [40.78247809974789, -73.96555356545913], [40.804333949794604, -73.9512920024351], [40.765484087889845, -73.95473878380503], [40.762252755319366, -73.98984464313301], [40.7736332930271, -73.98153220639182], [40.84678289580979, -73.8506705770834], [40.727620195909545, -73.9859374568246], [40.804333949794604, -73.9512920024351], [40.79001075149545, -73.94575026755156], [40.765484087889845, -73.95473878380503], [40.79001075149545, -73.94575026755156], [40.747745793643915, -73.97849159965226], [40.78043643718997, -73.95701169835736], [40.74227862901228, -73.99697141558364], [40.80734716766524, -73.9168219380646], [40.804333949794604, -73.9512920024351], [40.79001075149545, -73.94575026755156], [40.727620195909545, -73.9859374568246], [40.765484087889845, -73.95473878380503], [40.69499431844209, -73.92224002165722], [40.75672894163307, -73.96514579918421], [40.74033744175702, -73.99045782354733], [40.762252755319366, -73.98984464313301], [40.81825786111924, -73.94077166756266], [40.7376989564444, -73.92467306585043], [40.74227862901228, -73.99697141558364], [40.79001075149545, -73.94575026755156], [40.765484087889845, -73.95473878380503], [40.727620195909545, -73.9859374568246], [40.72950628420885, -73.94954030482212], [40.83399047727384, -73.88590003419148], [40.717772736265175, -74.00787970866403], [40.75668765218882, -73.97235594352028], [40.79001075149545, -73.94575026755156], [40.78247809974789, -73.96555356545913], [40.81825974768987, -73.91284939799155], [40.81825786111924, -73.94077166756266], [40.67446941826648, -73.93928705867958], [40.762252755319366, -73.98984464313301], [40.89793202529465, -73.85221545370119], [40.747745793643915, -73.97849159965226], [40.74033744175702, -73.99045782354733], [40.79796199310004, -73.9681683330924], [40.7404389785964, -73.97649472376757], [40.78043643718997, -73.95701169835736], [40.7736332930271, -73.98153220639182], [40.747745793643915, -73.97849159965226], [40.7404389785964, -73.97649472376757], [40.747745793643915, -73.97849159965226], [40.736824057618975, -73.98405213268919], [40.728340391372306, -73.99738026020043], [40.77876585543437, -73.95100987481798], [40.765484087889845, -73.95473878380503], [40.7404389785964, -73.97649472376757], [40.7644214057868, -73.97756868222719], [40.71893835938025, -73.99089626184734], [40.79796199310004, -73.9681683330924], [40.74857462935672, -73.98515639467684], [40.748427555065724, -73.99991742024713], [40.75731206303919, -73.88531724061082], [40.765484087889845, -73.95473878380503], [40.69499431844209, -73.92224002165722], [40.75981761719184, -73.98419648907571], [40.78247809974789, -73.96555356545913], [40.762252755319366, -73.98984464313301], [40.72388811004171, -74.00153756565634], [40.723752141584804, -73.97696825691766], [40.78247809974789, -73.96555356545913], [40.766237725041876, -73.99513522075519], [40.762252755319366, -73.98984464313301], [40.748497181405, -73.99243753697608], [40.791704934427074, -73.97304890061594], [40.79001075149545, -73.94575026755156], [40.7404389785964, -73.97649472376757], [40.652364804077415, -73.92225097400492], [40.73257907302703, -73.99430477051168], [40.80945696112528, -73.96176359682921], [40.80734716766524, -73.9168219380646], [40.73446262820092, -73.77725346665987], [40.78396143031378, -73.97863194845081], [40.758028043526274, -73.97769793122403], [40.74033744175702, -73.99045782354733], [40.5809219719338, -73.96121676866854], [40.77876585543437, -73.95100987481798], [40.76861518381155, -73.96563453538072], [40.76861518381155, -73.96563453538072], [40.74033744175702, -73.99045782354733], [40.766948216383234, -73.9596347414917], [40.658744450856695, -73.94744164500473], [40.804333949794604, -73.9512920024351], [40.80945696112528, -73.96176359682921], [40.841708771119784, -73.94139910573644], [40.748497181405, -73.99243753697608], [40.758028043526274, -73.97769793122403], [40.7376989564444, -73.92467306585043], [40.79001075149545, -73.94575026755156], [40.775932403149945, -73.94651035601463], [40.691507494880646, -73.94990503507506], [40.791704934427074, -73.97304890061594], [40.86607500072778, -73.91930823586193], [40.7108799333774, -73.95990462730533], [40.7736332930271, -73.98153220639182], [40.63803713911708, -73.89973495669392], [40.747745793643915, -73.97849159965226], [40.87397305492026, -73.82826367307182], [40.766237725041876, -73.99513522075519], [40.791704934427074, -73.97304890061594], [40.7644214057868, -73.97756868222719], [40.736824057618975, -73.98405213268919], [40.8011694805865, -73.9373456081249], [40.75981761719184, -73.98419648907571], [40.7404389785964, -73.97649472376757], [40.857108283314425, -73.93283148761294], [40.75668765218882, -73.97235594352028], [40.762252755319366, -73.98984464313301], [40.79001075149545, -73.94575026755156], [40.79796199310004, -73.9681683330924], [40.74033744175702, -73.99045782354733], [40.83141669708519, -73.91502929553265], [40.75668765218882, -73.97235594352028], [40.758028043526274, -73.97769793122403], [40.775932403149945, -73.94651035601463], [40.804333949794604, -73.9512920024351], [40.8011694805865, -73.9373456081249], [40.75981761719184, -73.98419648907571], [40.75668765218882, -73.97235594352028], [40.73503540069664, -74.0089841047853], [40.77437570593249, -73.87362864289108], [40.75668765218882, -73.97235594352028], [40.74991407790217, -73.97044256869238], [40.775932403149945, -73.94651035601463], [40.79001075149545, -73.94575026755156], [40.74033744175702, -73.99045782354733], [40.8011694805865, -73.9373456081249], [40.75351275872571, -73.9887865991153], [40.7736332930271, -73.98153220639182], [40.804333949794604, -73.9512920024351], [40.658744450856695, -73.94744164500473], [40.841708771119784, -73.94139910573644], [40.74991407790217, -73.97044256869238], [40.77876585543437, -73.95100987481798], [40.791704934427074, -73.97304890061594], [40.71473250693941, -73.9830245583349], [40.76861518381155, -73.96563453538072], [40.79001075149545, -73.94575026755156], [40.717772736265175, -74.00787970866403], [40.76149256216374, -73.91969431946067], [40.74857462935672, -73.98515639467684], [40.77876585543437, -73.95100987481798], [40.79796199310004, -73.9681683330924], [40.77876585543437, -73.95100987481798], [40.775932403149945, -73.94651035601463], [40.748497181405, -73.99243753697608], [40.727620195909545, -73.9859374568246], [40.73457600733177, -74.00287495910837], [40.75668765218882, -73.97235594352028], [40.78043643718997, -73.95701169835736], [40.791704934427074, -73.97304890061594], [40.75668765218882, -73.97235594352028], [40.723752141584804, -73.97696825691766], [40.765484087889845, -73.95473878380503], [40.78247809974789, -73.96555356545913], [40.77876585543437, -73.95100987481798], [40.766237725041876, -73.99513522075519], [40.765484087889845, -73.95473878380503], [40.7736332930271, -73.98153220639182], [40.828988230484576, -73.92440873264253], [40.75672894163307, -73.96514579918421], [40.747745793643915, -73.97849159965226], [40.658744450856695, -73.94744164500473], [40.7736332930271, -73.98153220639182], [40.762252755319366, -73.98984464313301], [40.762252755319366, -73.98984464313301], [40.736824057618975, -73.98405213268919], [40.804333949794604, -73.9512920024351], [40.6442881743892, -73.93796627061693], [40.791704934427074, -73.97304890061594], [40.728340391372306, -73.99738026020043], [40.762252755319366, -73.98984464313301], [40.804333949794604, -73.9512920024351], [40.71203815707447, -74.01607915192923], [40.762252755319366, -73.98984464313301], [40.703916440465754, -73.95859684507171], [40.6609351965506, -73.87682061127201], [40.775932403149945, -73.94651035601463], [40.74227862901228, -73.99697141558364], [40.78396143031378, -73.97863194845081], [40.78396143031378, -73.97863194845081], [40.78396143031378, -73.97863194845081], [40.688168186954954, -73.93188826440708], [40.75672894163307, -73.96514579918421], [40.65235464953843, -74.01127116962884], [40.791704934427074, -73.97304890061594], [40.77437570593249, -73.87362864289108], [40.74991407790217, -73.97044256869238], [40.71893835938025, -73.99089626184734], [40.76861518381155, -73.96563453538072], [40.8011694805865, -73.9373456081249], [40.804333949794604, -73.9512920024351], [40.79796199310004, -73.9681683330924], [40.89952906437649, -73.90698710771423], [40.748427555065724, -73.99991742024713], [40.73446262820092, -73.77725346665987], [40.79796199310004, -73.9681683330924], [40.87651237544555, -73.8956200178548], [40.77876585543437, -73.95100987481798], [40.7644214057868, -73.97756868222719], [40.688168186954954, -73.93188826440708], [40.75351275872571, -73.9887865991153], [40.766237725041876, -73.99513522075519], [40.8011694805865, -73.9373456081249], [40.79001075149545, -73.94575026755156], [40.762252755319366, -73.98984464313301], [40.80197049389963, -73.96547951516966], [40.765484087889845, -73.95473878380503], [40.68796745714746, -73.96236353818358], [40.75351275872571, -73.9887865991153], [40.8011694805865, -73.9373456081249], [40.71473250693941, -73.9830245583349], [40.72088889344527, -73.99691854183823], [40.766948216383234, -73.9596347414917], [40.84678289580979, -73.8506705770834], [40.78043643718997, -73.95701169835736], [40.882157083047055, -73.8589482397575], [40.7404389785964, -73.97649472376757], [40.70805099798807, -73.82871246597531], [40.762252755319366, -73.98984464313301], [40.7644214057868, -73.97756868222719], [40.87397305492026, -73.82826367307182], [40.841708771119784, -73.94139910573644], [40.81825786111924, -73.94077166756266], [40.748497181405, -73.99243753697608], [40.717772736265175, -74.00787970866403], [40.69183120640148, -74.17400027276294], [40.81825786111924, -73.94077166756266], [40.747745793643915, -73.97849159965226], [40.727620195909545, -73.9859374568246], [40.81825786111924, -73.94077166756266], [40.78396143031378, -73.97863194845081], [40.78396143031378, -73.97863194845081], [40.77876585543437, -73.95100987481798], [40.762252755319366, -73.98984464313301], [40.7736332930271, -73.98153220639182], [40.727620195909545, -73.9859374568246], [40.679199014097094, -73.99595619089146], [40.83782699169885, -73.92615723620783], [40.78396143031378, -73.97863194845081], [40.79001075149545, -73.94575026755156], [40.6442881743892, -73.93796627061693], [40.72143227502133, -73.84766941187527], [40.73257907302703, -73.99430477051168], [40.79001075149545, -73.94575026755156], [40.73949564677819, -73.87711833280915], [40.67664410104018, -73.91363213611348], [40.74227862901228, -73.99697141558364], [40.76861518381155, -73.96563453538072], [40.78043643718997, -73.95701169835736], [40.77876585543437, -73.95100987481798], [40.79796199310004, -73.9681683330924], [40.748427555065724, -73.99991742024713], [40.766948216383234, -73.9596347414917], [40.73457600733177, -74.00287495910837], [40.79001075149545, -73.94575026755156], [40.70652679441957, -73.90170926444723], [40.762252755319366, -73.98984464313301], [40.79001075149545, -73.94575026755156], [40.8011694805865, -73.9373456081249], [40.748497181405, -73.99243753697608], [40.736824057618975, -73.98405213268919], [40.748427555065724, -73.99991742024713], [40.804333949794604, -73.9512920024351], [40.66654040578564, -73.94878853931498], [40.747745793643915, -73.97849159965226], [40.75668765218882, -73.97235594352028], [40.82701265492538, -73.9485217302088], [40.7736332930271, -73.98153220639182], [40.76861518381155, -73.96563453538072], [40.79001075149545, -73.94575026755156], [40.82751255686402, -73.90235177500071], [40.75672894163307, -73.96514579918421], [40.79001075149545, -73.94575026755156], [40.75672894163307, -73.96514579918421], [40.703916440465754, -73.95859684507171], [40.72143227502133, -73.84766941187527], [40.75351275872571, -73.9887865991153], [40.765484087889845, -73.95473878380503], [40.78247809974789, -73.96555356545913], [40.76861518381155, -73.96563453538072], [40.81797514762944, -73.95378223705632], [40.709138940671856, -74.013022771749], [40.7644214057868, -73.97756868222719], [40.762252755319366, -73.98984464313301], [40.670374325917265, -73.98141374048753], [40.748427555065724, -73.99991742024713], [40.81207445859209, -73.88553752149427], [40.84905837739125, -73.90512221938542], [40.8011694805865, -73.9373456081249], [40.74857462935672, -73.98515639467684], [40.817858557708156, -73.85813498781437], [40.82701265492538, -73.9485217302088], [40.77876585543437, -73.95100987481798], [40.727620195909545, -73.9859374568246], [40.717772736265175, -74.00787970866403], [40.81825786111924, -73.94077166756266], [40.82701265492538, -73.9485217302088], [40.766948216383234, -73.9596347414917], [40.76149256216374, -73.91969431946067], [40.79001075149545, -73.94575026755156], [40.758028043526274, -73.97769793122403], [40.79001075149545, -73.94575026755156], [40.8011694805865, -73.9373456081249], [40.87397305492026, -73.82826367307182], [40.857108283314425, -73.93283148761294], [40.766948216383234, -73.9596347414917], [40.74227862901228, -73.99697141558364], [40.7404389785964, -73.97649472376757], [40.766948216383234, -73.9596347414917], [40.75668765218882, -73.97235594352028], [40.841708771119784, -73.94139910573644], [40.71473250693941, -73.9830245583349], [40.8011694805865, -73.9373456081249], [40.736824057618975, -73.98405213268919], [40.7404389785964, -73.97649472376757], [40.765484087889845, -73.95473878380503], [40.76861518381155, -73.96563453538072], [40.748427555065724, -73.99991742024713], [40.762252755319366, -73.98984464313301], [40.78396143031378, -73.97863194845081], [40.727620195909545, -73.9859374568246], [40.63094965524547, -73.98866123078287], [40.804333949794604, -73.9512920024351], [40.791704934427074, -73.97304890061594], [40.765484087889845, -73.95473878380503], [40.685633741320636, -73.98611382213662], [40.74857462935672, -73.98515639467684], [40.77876585543437, -73.95100987481798], [40.75672894163307, -73.96514579918421], [40.78247809974789, -73.96555356545913], [40.75981761719184, -73.98419648907571], [40.79796199310004, -73.9681683330924], [40.78247809974789, -73.96555356545913], [40.75668765218882, -73.97235594352028], [40.74991407790217, -73.97044256869238], [40.804333949794604, -73.9512920024351], [40.762252755319366, -73.98984464313301], [40.80197049389963, -73.96547951516966], [40.766948216383234, -73.9596347414917], [40.75351275872571, -73.9887865991153], [40.76861518381155, -73.96563453538072], [40.86400220602362, -73.86490099876721], [40.877137602876616, -73.87902225226024], [40.74227862901228, -73.99697141558364], [40.875967802212436, -73.91037866410586], [40.75257923914961, -73.8630375448669], [40.8525211492635, -73.91597542466437], [40.75351275872571, -73.9887865991153], [40.7404389785964, -73.97649472376757], [40.81825786111924, -73.94077166756266], [40.766948216383234, -73.9596347414917], [40.75672894163307, -73.96514579918421], [40.83774866435355, -73.85798694048577], [40.75672894163307, -73.96514579918421], [40.78396143031378, -73.97863194845081], [40.736824057618975, -73.98405213268919], [40.67664410104018, -73.91363213611348], [40.8011694805865, -73.9373456081249], [40.81825786111924, -73.94077166756266], [40.841708771119784, -73.94139910573644], [40.736824057618975, -73.98405213268919], [40.78043643718997, -73.95701169835736], [40.69078679421093, -73.97488208618897], [40.766948216383234, -73.9596347414917], [40.75731206303919, -73.88531724061082], [40.78043643718997, -73.95701169835736], [40.8011694805865, -73.9373456081249], [40.766237725041876, -73.99513522075519], [40.81825786111924, -73.94077166756266], [40.80197049389963, -73.96547951516966], [40.75672894163307, -73.96514579918421], [40.606447701027626, -74.17088688155245], [40.74991407790217, -73.97044256869238], [40.76861518381155, -73.96563453538072], [40.765484087889845, -73.95473878380503], [40.7404389785964, -73.97649472376757], [40.77596522876096, -73.98764554944384], [40.841708771119784, -73.94139910573644], [40.67446941826648, -73.93928705867958], [40.841708771119784, -73.94139910573644], [40.77596522876096, -73.98764554944384], [40.81797514762944, -73.95378223705632], [40.78396143031378, -73.97863194845081], [40.841708771119784, -73.94139910573644], [40.857108283314425, -73.93283148761294], [40.766948216383234, -73.9596347414917], [40.762252755319366, -73.98984464313301], [40.84496041014609, -73.8855218158743], [40.758028043526274, -73.97769793122403], [40.74227862901228, -73.99697141558364], [40.74227862901228, -73.99697141558364], [40.753309065983395, -74.00401512528647], [40.74991407790217, -73.97044256869238], [40.78043643718997, -73.95701169835736], [40.75351275872571, -73.9887865991153], [40.765484087889845, -73.95473878380503], [40.71203815707447, -74.01607915192923], [40.70335790323615, -74.01151502922325], [40.77437570593249, -73.87362864289108], [40.79001075149545, -73.94575026755156], [40.7404389785964, -73.97649472376757], [40.791704934427074, -73.97304890061594], [40.74991407790217, -73.97044256869238], [40.857108283314425, -73.93283148761294], [40.84905837739125, -73.90512221938542], [40.748497181405, -73.99243753697608], [40.79001075149545, -73.94575026755156], [40.76861518381155, -73.96563453538072], [40.67446941826648, -73.93928705867958], [40.76861518381155, -73.96563453538072], [40.727620195909545, -73.9859374568246], [40.765484087889845, -73.95473878380503], [40.7542425205003, -73.93482888929137], [40.762252755319366, -73.98984464313301], [40.79796199310004, -73.9681683330924], [40.71473250693941, -73.9830245583349], [40.76861518381155, -73.96563453538072], [40.74537943399859, -73.94889145447952], [40.762252755319366, -73.98984464313301], [40.78043643718997, -73.95701169835736], [40.73457600733177, -74.00287495910837], [40.758028043526274, -73.97769793122403], [40.72088889344527, -73.99691854183823], [40.766237725041876, -73.99513522075519], [40.717772736265175, -74.00787970866403], [40.74033744175702, -73.99045782354733], [40.74991407790217, -73.97044256869238], [40.791704934427074, -73.97304890061594], [40.73457600733177, -74.00287495910837], [40.766948216383234, -73.9596347414917], [40.74227862901228, -73.99697141558364], [40.727620195909545, -73.9859374568246], [40.71245931177952, -73.99815149899052], [40.766237725041876, -73.99513522075519], [40.765484087889845, -73.95473878380503], [40.748497181405, -73.99243753697608], [40.736824057618975, -73.98405213268919], [40.80945696112528, -73.96176359682921], [40.652364804077415, -73.92225097400492], [40.73457600733177, -74.00287495910837], [40.77876585543437, -73.95100987481798], [40.791704934427074, -73.97304890061594], [40.73457600733177, -74.00287495910837], [40.775932403149945, -73.94651035601463], [40.765484087889845, -73.95473878380503], [40.78043643718997, -73.95701169835736], [40.63803713911708, -73.89973495669392], [40.804333949794604, -73.9512920024351], [40.78247809974789, -73.96555356545913], [40.77596522876096, -73.98764554944384], [40.717772736265175, -74.00787970866403], [40.758028043526274, -73.97769793122403], [40.75672894163307, -73.96514579918421], [40.75668765218882, -73.97235594352028], [40.78043643718997, -73.95701169835736], [40.731820636016764, -73.97659767323344], [40.70680845166585, -74.0074959856243], [40.74857462935672, -73.98515639467684], [40.78247809974789, -73.96555356545913], [40.78396143031378, -73.97863194845081], [40.79001075149545, -73.94575026755156], [40.736824057618975, -73.98405213268919], [40.841708771119784, -73.94139910573644], [40.758028043526274, -73.97769793122403], [40.76861518381155, -73.96563453538072], [40.766948216383234, -73.9596347414917], [40.736824057618975, -73.98405213268919], [40.762252755319366, -73.98984464313301], [40.76861518381155, -73.96563453538072], [40.691507494880646, -73.94990503507506], [40.64698489239519, -73.78653298334979], [40.7644214057868, -73.97756868222719], [40.78247809974789, -73.96555356545913], [40.7404389785964, -73.97649472376757], [40.727620195909545, -73.9859374568246], [40.678953310115254, -73.79098635986958], [40.74033744175702, -73.99045782354733], [40.762252755319366, -73.98984464313301], [40.765484087889845, -73.95473878380503], [40.80945696112528, -73.96176359682921], [40.79001075149545, -73.94575026755156], [40.762252755319366, -73.98984464313301], [40.723752141584804, -73.97696825691766], [40.753309065983395, -74.00401512528647], [40.791704934427074, -73.97304890061594], [40.736824057618975, -73.98405213268919], [40.758028043526274, -73.97769793122403], [40.75672894163307, -73.96514579918421], [40.79796199310004, -73.9681683330924], [40.7644214057868, -73.97756868222719], [40.78043643718997, -73.95701169835736], [40.717772736265175, -74.00787970866403], [40.80197049389963, -73.96547951516966], [40.76861518381155, -73.96563453538072], [40.775932403149945, -73.94651035601463], [40.765484087889845, -73.95473878380503], [40.762252755319366, -73.98984464313301], [40.7644214057868, -73.97756868222719], [40.8011694805865, -73.9373456081249], [40.727620195909545, -73.9859374568246], [40.76861518381155, -73.96563453538072], [40.6248349236082, -74.02989237418782], [40.74227862901228, -73.99697141558364], [40.791704934427074, -73.97304890061594], [40.81825786111924, -73.94077166756266], [40.7644214057868, -73.97756868222719], [40.75981761719184, -73.98419648907571], [40.775932403149945, -73.94651035601463], [40.77596522876096, -73.98764554944384], [40.7644214057868, -73.97756868222719], [40.765484087889845, -73.95473878380503], [40.75672894163307, -73.96514579918421], [40.652364804077415, -73.92225097400492], [40.77876585543437, -73.95100987481798], [40.762252755319366, -73.98984464313301], [40.77596522876096, -73.98764554944384], [40.841708771119784, -73.94139910573644], [40.61731493715172, -73.97032580128298], [40.766948216383234, -73.9596347414917], [40.766948216383234, -73.9596347414917], [40.78043643718997, -73.95701169835736], [40.747745793643915, -73.97849159965226], [40.73457600733177, -74.00287495910837], [40.5809219719338, -73.96121676866854], [40.75672894163307, -73.96514579918421], [40.77876585543437, -73.95100987481798], [40.78043643718997, -73.95701169835736], [40.77876585543437, -73.95100987481798], [40.79001075149545, -73.94575026755156], [40.77876585543437, -73.95100987481798], [40.775932403149945, -73.94651035601463], [40.73257907302703, -73.99430477051168], [40.727620195909545, -73.9859374568246], [40.76861518381155, -73.96563453538072], [40.69120144680612, -73.76314612543838], [40.72143227502133, -73.84766941187527], [40.76861518381155, -73.96563453538072], [40.748497181405, -73.99243753697608], [40.77596522876096, -73.98764554944384], [40.7736332930271, -73.98153220639182], [40.75981761719184, -73.98419648907571], [40.7404389785964, -73.97649472376757], [40.717772736265175, -74.00787970866403], [40.758028043526274, -73.97769793122403], [40.762252755319366, -73.98984464313301], [40.736824057618975, -73.98405213268919], [40.84274917609802, -73.90031590586487], [40.76861518381155, -73.96563453538072], [40.758028043526274, -73.97769793122403], [40.758028043526274, -73.97769793122403], [40.72950628420885, -73.94954030482212], [40.8011694805865, -73.9373456081249], [40.7736332930271, -73.98153220639182], [40.80945696112528, -73.96176359682921], [40.79001075149545, -73.94575026755156], [40.723752141584804, -73.97696825691766], [40.748427555065724, -73.99991742024713], [40.75672894163307, -73.96514579918421], [40.85815519618405, -73.89953593442151], [40.73257907302703, -73.99430477051168], [40.676154037213784, -73.81945963682762], [40.762252755319366, -73.98984464313301], [40.80945696112528, -73.96176359682921], [40.78043643718997, -73.95701169835736], [40.75981761719184, -73.98419648907571], [40.79001075149545, -73.94575026755156], [40.78247809974789, -73.96555356545913], [40.771570243583376, -73.92833318686121], [40.762252755319366, -73.98984464313301], [40.727620195909545, -73.9859374568246], [40.71880391812993, -73.95741813122187], [40.766948216383234, -73.9596347414917], [40.841708771119784, -73.94139910573644], [40.81207445859209, -73.88553752149427], [40.73503540069664, -74.0089841047853], [40.77596522876096, -73.98764554944384], [40.74227862901228, -73.99697141558364], [40.747745793643915, -73.97849159965226], [40.7736332930271, -73.98153220639182], [40.766948216383234, -73.9596347414917], [40.7736332930271, -73.98153220639182], [40.71245931177952, -73.99815149899052], [40.78396143031378, -73.97863194845081], [40.766237725041876, -73.99513522075519], [40.85815519618405, -73.89953593442151], [40.766948216383234, -73.9596347414917], [40.736824057618975, -73.98405213268919], [40.791704934427074, -73.97304890061594], [40.77876585543437, -73.95100987481798], [40.7644214057868, -73.97756868222719], [40.77876585543437, -73.95100987481798], [40.76861518381155, -73.96563453538072], [40.64698489239519, -73.78653298334979], [40.76861518381155, -73.96563453538072], [40.841708771119784, -73.94139910573644], [40.77596522876096, -73.98764554944384], [40.748427555065724, -73.99991742024713], [40.78819301672877, -73.81565681271003], [40.78396143031378, -73.97863194845081], [40.64698489239519, -73.78653298334979], [40.78043643718997, -73.95701169835736], [40.77876585543437, -73.95100987481798], [40.78396143031378, -73.97863194845081], [40.766237725041876, -73.99513522075519], [40.74537943399859, -73.94889145447952], [40.6609351965506, -73.87682061127201], [40.76031363502697, -73.94199705818421], [40.804333949794604, -73.9512920024351], [40.78043643718997, -73.95701169835736], [40.6609351965506, -73.87682061127201], [40.765484087889845, -73.95473878380503], [40.60142943983517, -73.9835370967223], [40.753309065983395, -74.00401512528647], [40.765484087889845, -73.95473878380503], [40.77742692053278, -73.90540773409828], [40.75668765218882, -73.97235594352028], [40.75351275872571, -73.9887865991153], [40.762252755319366, -73.98984464313301], [40.78043643718997, -73.95701169835736], [40.762252755319366, -73.98984464313301], [40.82701265492538, -73.9485217302088], [40.71833677001376, -73.88005140814955], [40.7108799333774, -73.95990462730533], [40.7404389785964, -73.97649472376757], [40.76861518381155, -73.96563453538072], [40.75672894163307, -73.96514579918421], [40.723752141584804, -73.97696825691766], [40.8011694805865, -73.9373456081249], [40.736824057618975, -73.98405213268919], [40.7404389785964, -73.97649472376757], [40.59405875281388, -73.78962208250078], [40.83399047727384, -73.88590003419148], [40.73457600733177, -74.00287495910837], [40.78396143031378, -73.97863194845081], [40.736824057618975, -73.98405213268919], [40.73503540069664, -74.0089841047853], [40.78043643718997, -73.95701169835736], [40.76031363502697, -73.94199705818421], [40.69533752946114, -73.98608600498397], [40.77876585543437, -73.95100987481798], [40.791704934427074, -73.97304890061594], [40.79001075149545, -73.94575026755156], [40.73257907302703, -73.99430477051168], [40.74991407790217, -73.97044256869238], [40.76861518381155, -73.96563453538072], [40.765484087889845, -73.95473878380503], [40.748497181405, -73.99243753697608], [40.74537943399859, -73.94889145447952], [40.77596522876096, -73.98764554944384], [40.70680845166585, -74.0074959856243], [40.765484087889845, -73.95473878380503], [40.67709779790901, -73.74423435166717], [40.81825786111924, -73.94077166756266], [40.78247809974789, -73.96555356545913], [40.766948216383234, -73.9596347414917], [40.76861518381155, -73.96563453538072], [40.7404389785964, -73.97649472376757], [40.78247809974789, -73.96555356545913], [40.748427555065724, -73.99991742024713], [40.747745793643915, -73.97849159965226], [40.658744450856695, -73.94744164500473], [40.79001075149545, -73.94575026755156], [40.775932403149945, -73.94651035601463], [40.723752141584804, -73.97696825691766], [40.747745793643915, -73.97849159965226], [40.685633741320636, -73.98611382213662], [40.80945696112528, -73.96176359682921], [40.76861518381155, -73.96563453538072], [40.804333949794604, -73.9512920024351], [40.775932403149945, -73.94651035601463], [40.758028043526274, -73.97769793122403], [40.75351275872571, -73.9887865991153], [40.60427284003078, -74.00748815801174], [40.804333949794604, -73.9512920024351], [40.75981761719184, -73.98419648907571], [40.8011694805865, -73.9373456081249], [40.7404389785964, -73.97649472376757], [40.79001075149545, -73.94575026755156], [40.804333949794604, -73.9512920024351], [40.79001075149545, -73.94575026755156], [40.7404389785964, -73.97649472376757], [40.75672894163307, -73.96514579918421], [40.72615563957923, -73.86333855806274], [40.766948216383234, -73.9596347414917], [40.7376989564444, -73.92467306585043], [40.7376989564444, -73.92467306585043], [40.723752141584804, -73.97696825691766], [40.79796199310004, -73.9681683330924], [40.75981761719184, -73.98419648907571], [40.71545451530519, -73.74153176997538], [40.71473250693941, -73.9830245583349], [40.765484087889845, -73.95473878380503], [40.77596522876096, -73.98764554944384], [40.76861518381155, -73.96563453538072], [40.75668765218882, -73.97235594352028], [40.804333949794604, -73.9512920024351], [40.758028043526274, -73.97769793122403], [40.74033744175702, -73.99045782354733], [40.79796199310004, -73.9681683330924], [40.74991407790217, -73.97044256869238], [40.81797514762944, -73.95378223705632], [40.75351275872571, -73.9887865991153], [40.74227862901228, -73.99697141558364], [40.75351275872571, -73.9887865991153], [40.766948216383234, -73.9596347414917], [40.75672894163307, -73.96514579918421], [40.78396143031378, -73.97863194845081], [40.775932403149945, -73.94651035601463], [40.77876585543437, -73.95100987481798], [40.748427555065724, -73.99991742024713], [40.71893835938025, -73.99089626184734], [40.7404389785964, -73.97649472376757], [40.71893835938025, -73.99089626184734], [40.775932403149945, -73.94651035601463], [40.76861518381155, -73.96563453538072], [40.762252755319366, -73.98984464313301], [40.762252755319366, -73.98984464313301], [40.68383976195102, -73.87817261050249], [40.81825786111924, -73.94077166756266], [40.74033744175702, -73.99045782354733], [40.841708771119784, -73.94139910573644], [40.81825786111924, -73.94077166756266], [40.791704934427074, -73.97304890061594], [40.76861518381155, -73.96563453538072], [40.78043643718997, -73.95701169835736], [40.79796199310004, -73.9681683330924], [40.73457600733177, -74.00287495910837], [40.81825786111924, -73.94077166756266], [40.75672894163307, -73.96514579918421], [40.766948216383234, -73.9596347414917], [40.79796199310004, -73.9681683330924], [40.77596522876096, -73.98764554944384], [40.78396143031378, -73.97863194845081], [40.791704934427074, -73.97304890061594], [40.7736332930271, -73.98153220639182], [40.775932403149945, -73.94651035601463], [40.63790012347376, -73.96096824906373], [40.73257907302703, -73.99430477051168], [40.7644214057868, -73.97756868222719], [40.7644214057868, -73.97756868222719], [40.717772736265175, -74.00787970866403], [40.68383976195102, -73.87817261050249], [40.79001075149545, -73.94575026755156], [40.731820636016764, -73.97659767323344], [40.747745793643915, -73.97849159965226], [40.748497181405, -73.99243753697608], [40.74991407790217, -73.97044256869238], [40.766948216383234, -73.9596347414917], [40.75672894163307, -73.96514579918421], [40.762252755319366, -73.98984464313301], [40.765484087889845, -73.95473878380503], [40.80197049389963, -73.96547951516966], [40.78043643718997, -73.95701169835736], [40.747745793643915, -73.97849159965226], [40.76861518381155, -73.96563453538072], [40.747745793643915, -73.97849159965226], [40.834165316827594, -73.87228927297001], [40.74033744175702, -73.99045782354733], [40.77876585543437, -73.95100987481798], [40.68665124165608, -73.99672403175197], [40.77876585543437, -73.95100987481798], [40.7404389785964, -73.97649472376757], [40.75351275872571, -73.9887865991153], [40.77876585543437, -73.95100987481798], [40.78043643718997, -73.95701169835736], [40.79001075149545, -73.94575026755156], [40.80734716766524, -73.9168219380646], [40.77876585543437, -73.95100987481798], [40.73257907302703, -73.99430477051168], [40.717772736265175, -74.00787970866403], [40.76861518381155, -73.96563453538072], [40.75668765218882, -73.97235594352028], [40.841708771119784, -73.94139910573644], [40.753309065983395, -74.00401512528647], [40.76861518381155, -73.96563453538072], [40.7404389785964, -73.97649472376757], [40.75981761719184, -73.98419648907571], [40.748497181405, -73.99243753697608], [40.76861518381155, -73.96563453538072], [40.753309065983395, -74.00401512528647], [40.72388811004171, -74.00153756565634], [40.762252755319366, -73.98984464313301], [40.79001075149545, -73.94575026755156], [40.78396143031378, -73.97863194845081], [40.78043643718997, -73.95701169835736], [40.841708771119784, -73.94139910573644], [40.658744450856695, -73.94744164500473], [40.7376989564444, -73.92467306585043], [40.758028043526274, -73.97769793122403], [40.7644214057868, -73.97756868222719], [40.753309065983395, -74.00401512528647], [40.75672894163307, -73.96514579918421], [40.7404389785964, -73.97649472376757], [40.75668765218882, -73.97235594352028], [40.71063928425106, -73.76113699730598], [40.7090727427931, -74.00366456329895], [40.76861518381155, -73.96563453538072], [40.80945696112528, -73.96176359682921], [40.791704934427074, -73.97304890061594], [40.747745793643915, -73.97849159965226], [40.753309065983395, -74.00401512528647], [40.6609351965506, -73.87682061127201], [40.77876585543437, -73.95100987481798], [40.63790012347376, -73.96096824906373], [40.81825786111924, -73.94077166756266], [40.79001075149545, -73.94575026755156], [40.78043643718997, -73.95701169835736], [40.753309065983395, -74.00401512528647], [40.74227862901228, -73.99697141558364], [40.7262904102812, -74.00748581800953], [40.77596522876096, -73.98764554944384], [40.77876585543437, -73.95100987481798], [40.709138940671856, -74.013022771749], [40.77876585543437, -73.95100987481798], [40.78043643718997, -73.95701169835736], [40.736824057618975, -73.98405213268919], [40.78396143031378, -73.97863194845081], [40.762252755319366, -73.98984464313301], [40.758028043526274, -73.97769793122403], [40.762252755319366, -73.98984464313301], [40.77596522876096, -73.98764554944384], [40.75668765218882, -73.97235594352028], [40.76861518381155, -73.96563453538072], [40.64698489239519, -73.78653298334979], [40.841708771119784, -73.94139910573644], [40.753309065983395, -74.00401512528647], [40.67446941826648, -73.93928705867958], [40.762252755319366, -73.98984464313301], [40.75672894163307, -73.96514579918421], [40.75672894163307, -73.96514579918421], [40.748497181405, -73.99243753697608], [40.78396143031378, -73.97863194845081], [40.82751255686402, -73.90235177500071], [40.80945696112528, -73.96176359682921], [40.736824057618975, -73.98405213268919], [40.7404389785964, -73.97649472376757], [40.87651237544555, -73.8956200178548], [40.7404389785964, -73.97649472376757], [40.75351275872571, -73.9887865991153], [40.78043643718997, -73.95701169835736], [40.766237725041876, -73.99513522075519], [40.804333949794604, -73.9512920024351], [40.736824057618975, -73.98405213268919], [40.775932403149945, -73.94651035601463], [40.828988230484576, -73.92440873264253], [40.8011694805865, -73.9373456081249], [40.775932403149945, -73.94651035601463], [40.766948216383234, -73.9596347414917], [40.80197049389963, -73.96547951516966], [40.75351275872571, -73.9887865991153], [40.8196759793049, -73.89895638182648], [40.748427555065724, -73.99991742024713], [40.75668765218882, -73.97235594352028], [40.685633741320636, -73.98611382213662], [40.804333949794604, -73.9512920024351], [40.728340391372306, -73.99738026020043], [40.74537943399859, -73.94889145447952], [40.77876585543437, -73.95100987481798], [40.727620195909545, -73.9859374568246], [40.765484087889845, -73.95473878380503], [40.771570243583376, -73.92833318686121], [40.6609351965506, -73.87682061127201], [40.736824057618975, -73.98405213268919], [40.73257907302703, -73.99430477051168], [40.79796199310004, -73.9681683330924], [40.791704934427074, -73.97304890061594], [40.75981761719184, -73.98419648907571], [40.766948216383234, -73.9596347414917], [40.77437570593249, -73.87362864289108], [40.74537943399859, -73.94889145447952], [40.736824057618975, -73.98405213268919], [40.791704934427074, -73.97304890061594], [40.736824057618975, -73.98405213268919], [40.736824057618975, -73.98405213268919], [40.75668765218882, -73.97235594352028], [40.68796745714746, -73.96236353818358], [40.78043643718997, -73.95701169835736], [40.748427555065724, -73.99991742024713], [40.765484087889845, -73.95473878380503], [40.727620195909545, -73.9859374568246], [40.76861518381155, -73.96563453538072], [40.748497181405, -73.99243753697608], [40.748427555065724, -73.99991742024713], [40.71203815707447, -74.01607915192923], [40.78043643718997, -73.95701169835736], [40.76861518381155, -73.96563453538072], [40.758028043526274, -73.97769793122403], [40.791704934427074, -73.97304890061594], [40.727620195909545, -73.9859374568246], [40.766237725041876, -73.99513522075519], [40.76110218983437, -73.82885869884261], [40.74033744175702, -73.99045782354733], [40.748497181405, -73.99243753697608], [40.77596522876096, -73.98764554944384], [40.766948216383234, -73.9596347414917], [40.753309065983395, -74.00401512528647], [40.77876585543437, -73.95100987481798], [40.76189974995507, -73.94995171169585], [40.81825786111924, -73.94077166756266], [40.69454235438128, -73.8309240744999], [40.841708771119784, -73.94139910573644], [40.791704934427074, -73.97304890061594], [40.74033744175702, -73.99045782354733], [40.748427555065724, -73.99991742024713], [40.74857462935672, -73.98515639467684], [40.791704934427074, -73.97304890061594], [40.775932403149945, -73.94651035601463], [40.804333949794604, -73.9512920024351], [40.791704934427074, -73.97304890061594], [40.727620195909545, -73.9859374568246], [40.8011694805865, -73.9373456081249], [40.77876585543437, -73.95100987481798], [40.73503540069664, -74.0089841047853], [40.758028043526274, -73.97769793122403], [40.80945696112528, -73.96176359682921], [40.748427555065724, -73.99991742024713], [40.73457600733177, -74.00287495910837], [40.723752141584804, -73.97696825691766], [40.736824057618975, -73.98405213268919], [40.77596522876096, -73.98764554944384], [40.76861518381155, -73.96563453538072], [40.747745793643915, -73.97849159965226], [40.75672894163307, -73.96514579918421], [40.82701265492538, -73.9485217302088], [40.77596522876096, -73.98764554944384], [40.8011694805865, -73.9373456081249], [40.78043643718997, -73.95701169835736], [40.7644214057868, -73.97756868222719], [40.758028043526274, -73.97769793122403], [40.77876585543437, -73.95100987481798], [40.78396143031378, -73.97863194845081], [40.78396143031378, -73.97863194845081], [40.78043643718997, -73.95701169835736], [40.7644214057868, -73.97756868222719], [40.758028043526274, -73.97769793122403], [40.72143227502133, -73.84766941187527], [40.791704934427074, -73.97304890061594], [40.76861518381155, -73.96563453538072], [40.791704934427074, -73.97304890061594], [40.80945696112528, -73.96176359682921], [40.76861518381155, -73.96563453538072], [40.791704934427074, -73.97304890061594], [40.75672894163307, -73.96514579918421], [40.7404389785964, -73.97649472376757], [40.758028043526274, -73.97769793122403], [40.76861518381155, -73.96563453538072], [40.79001075149545, -73.94575026755156], [40.736824057618975, -73.98405213268919], [40.75981761719184, -73.98419648907571], [40.753309065983395, -74.00401512528647], [40.83774866435355, -73.85798694048577], [40.727620195909545, -73.9859374568246], [40.67446941826648, -73.93928705867958], [40.75668765218882, -73.97235594352028], [40.74991407790217, -73.97044256869238], [40.6248349236082, -74.02989237418782], [40.766237725041876, -73.99513522075519], [40.83141669708519, -73.91502929553265], [40.75981761719184, -73.98419648907571], [40.70294583498471, -74.01556351255898], [40.766948216383234, -73.9596347414917], [40.765484087889845, -73.95473878380503], [40.80945696112528, -73.96176359682921], [40.765484087889845, -73.95473878380503], [40.736824057618975, -73.98405213268919], [40.73257907302703, -73.99430477051168], [40.79001075149545, -73.94575026755156], [40.766948216383234, -73.9596347414917], [40.74991407790217, -73.97044256869238], [40.70680845166585, -74.0074959856243], [40.74033744175702, -73.99045782354733], [40.77437570593249, -73.87362864289108], [40.77596522876096, -73.98764554944384], [40.76149256216374, -73.91969431946067], [40.791704934427074, -73.97304890061594], [40.78396143031378, -73.97863194845081], [40.69183120640148, -74.17400027276294], [40.8011694805865, -73.9373456081249], [40.766948216383234, -73.9596347414917], [40.81825786111924, -73.94077166756266], [40.747745793643915, -73.97849159965226], [40.7404389785964, -73.97649472376757], [40.7736332930271, -73.98153220639182], [40.78396143031378, -73.97863194845081], [40.7404389785964, -73.97649472376757], [40.78396143031378, -73.97863194845081], [40.74857462935672, -73.98515639467684], [40.7736332930271, -73.98153220639182], [40.727620195909545, -73.9859374568246], [40.766237725041876, -73.99513522075519], [40.73457600733177, -74.00287495910837], [40.69120144680612, -73.76314612543838], [40.7736332930271, -73.98153220639182], [40.69499431844209, -73.92224002165722], [40.715369882143555, -73.93679314491887], [40.727620195909545, -73.9859374568246], [40.77876585543437, -73.95100987481798], [40.766948216383234, -73.9596347414917], [40.77596522876096, -73.98764554944384], [40.766948216383234, -73.9596347414917], [40.758028043526274, -73.97769793122403], [40.775932403149945, -73.94651035601463], [40.78043643718997, -73.95701169835736], [40.766948216383234, -73.9596347414917], [40.7404389785964, -73.97649472376757], [40.79001075149545, -73.94575026755156], [40.78247809974789, -73.96555356545913], [40.7736332930271, -73.98153220639182], [40.766237725041876, -73.99513522075519], [40.828988230484576, -73.92440873264253], [40.78043643718997, -73.95701169835736], [40.80734716766524, -73.9168219380646], [40.78043643718997, -73.95701169835736], [40.78396143031378, -73.97863194845081], [40.765484087889845, -73.95473878380503], [40.75351275872571, -73.9887865991153], [40.76861518381155, -73.96563453538072], [40.762252755319366, -73.98984464313301], [40.68665124165608, -73.99672403175197], [40.766948216383234, -73.9596347414917], [40.765484087889845, -73.95473878380503], [40.73457600733177, -74.00287495910837], [40.753309065983395, -74.00401512528647], [40.728340391372306, -73.99738026020043], [40.7108799333774, -73.95990462730533], [40.74857462935672, -73.98515639467684], [40.85440471268924, -73.85439380221179], [40.748427555065724, -73.99991742024713], [40.758028043526274, -73.97769793122403], [40.7736332930271, -73.98153220639182], [40.75672894163307, -73.96514579918421], [40.748427555065724, -73.99991742024713], [40.75351275872571, -73.9887865991153], [40.80945696112528, -73.96176359682921], [40.8011694805865, -73.9373456081249], [40.75981761719184, -73.98419648907571], [40.676154037213784, -73.81945963682762], [40.78043643718997, -73.95701169835736], [40.76861518381155, -73.96563453538072], [40.75981761719184, -73.98419648907571], [40.72388811004171, -74.00153756565634], [40.74857462935672, -73.98515639467684], [40.76861518381155, -73.96563453538072], [40.73457600733177, -74.00287495910837], [40.727620195909545, -73.9859374568246], [40.765484087889845, -73.95473878380503], [40.670374325917265, -73.98141374048753], [40.748427555065724, -73.99991742024713], [40.762252755319366, -73.98984464313301], [40.7376989564444, -73.92467306585043], [40.7644214057868, -73.97756868222719], [40.765484087889845, -73.95473878380503], [40.765484087889845, -73.95473878380503], [40.73457600733177, -74.00287495910837], [40.7644214057868, -73.97756868222719], [40.78043643718997, -73.95701169835736], [40.80197049389963, -73.96547951516966], [40.775932403149945, -73.94651035601463], [40.76861518381155, -73.96563453538072], [40.75668765218882, -73.97235594352028], [40.78043643718997, -73.95701169835736], [40.72088889344527, -73.99691854183823], [40.791704934427074, -73.97304890061594], [40.79796199310004, -73.9681683330924], [40.80945696112528, -73.96176359682921], [40.82701265492538, -73.9485217302088], [40.731820636016764, -73.97659767323344], [40.841708771119784, -73.94139910573644], [40.81825786111924, -73.94077166756266], [40.804333949794604, -73.9512920024351], [40.766948216383234, -73.9596347414917], [40.6442881743892, -73.93796627061693], [40.747745793643915, -73.97849159965226], [40.73257907302703, -73.99430477051168], [40.766237725041876, -73.99513522075519], [40.86526419152494, -73.90591118270515], [40.7736332930271, -73.98153220639182], [40.76861518381155, -73.96563453538072], [40.765484087889845, -73.95473878380503], [40.75672894163307, -73.96514579918421], [40.828988230484576, -73.92440873264253], [40.775932403149945, -73.94651035601463], [40.75668765218882, -73.97235594352028], [40.76861518381155, -73.96563453538072], [40.75672894163307, -73.96514579918421], [40.70436877745512, -73.79397965822719], [40.7736332930271, -73.98153220639182], [40.78043643718997, -73.95701169835736], [40.766237725041876, -73.99513522075519], [40.7644214057868, -73.97756868222719], [40.7644214057868, -73.97756868222719], [40.75672894163307, -73.96514579918421], [40.766948216383234, -73.9596347414917], [40.84678289580979, -73.8506705770834], [40.78396143031378, -73.97863194845081], [40.78043643718997, -73.95701169835736], [40.747745793643915, -73.97849159965226], [40.75981761719184, -73.98419648907571], [40.8011694805865, -73.9373456081249], [40.75672894163307, -73.96514579918421], [40.765484087889845, -73.95473878380503], [40.78043643718997, -73.95701169835736], [40.747745793643915, -73.97849159965226], [40.74857462935672, -73.98515639467684], [40.747745793643915, -73.97849159965226], [40.7736332930271, -73.98153220639182], [40.8011694805865, -73.9373456081249], [40.75672894163307, -73.96514579918421], [40.75668765218882, -73.97235594352028], [40.748497181405, -73.99243753697608], [40.7736332930271, -73.98153220639182], [40.7644214057868, -73.97756868222719], [40.748497181405, -73.99243753697608], [40.89952906437649, -73.90698710771423], [40.775932403149945, -73.94651035601463], [40.758028043526274, -73.97769793122403], [40.80197049389963, -73.96547951516966], [40.766948216383234, -73.9596347414917], [40.81825786111924, -73.94077166756266], [40.78043643718997, -73.95701169835736], [40.79796199310004, -73.9681683330924], [40.75672894163307, -73.96514579918421], [40.736824057618975, -73.98405213268919], [40.72388811004171, -74.00153756565634], [40.75351275872571, -73.9887865991153], [40.77876585543437, -73.95100987481798], [40.8011694805865, -73.9373456081249], [40.85440471268924, -73.85439380221179], [40.709138940671856, -74.013022771749], [40.79796199310004, -73.9681683330924], [40.728340391372306, -73.99738026020043], [40.81825786111924, -73.94077166756266], [40.741406774829755, -73.85884524943998], [40.75181936699946, -73.85358156034265], [40.75672894163307, -73.96514579918421], [40.77876585543437, -73.95100987481798], [40.753309065983395, -74.00401512528647], [40.76861518381155, -73.96563453538072], [40.75668765218882, -73.97235594352028], [40.766948216383234, -73.9596347414917], [40.73457600733177, -74.00287495910837], [40.762252755319366, -73.98984464313301], [40.766948216383234, -73.9596347414917], [40.804333949794604, -73.9512920024351], [40.77876585543437, -73.95100987481798], [40.77876585543437, -73.95100987481798], [40.59405875281388, -73.78962208250078], [40.857108283314425, -73.93283148761294], [40.81825974768987, -73.91284939799155], [40.78043643718997, -73.95701169835736], [40.67664410104018, -73.91363213611348], [40.75668765218882, -73.97235594352028], [40.7736332930271, -73.98153220639182], [40.765484087889845, -73.95473878380503], [40.685633741320636, -73.98611382213662], [40.775932403149945, -73.94651035601463], [40.72388811004171, -74.00153756565634], [40.791704934427074, -73.97304890061594], [40.84496041014609, -73.8855218158743], [40.74991407790217, -73.97044256869238], [40.670374325917265, -73.98141374048753], [40.7542425205003, -73.93482888929137], [40.731820636016764, -73.97659767323344], [40.75351275872571, -73.9887865991153], [40.70335790323615, -74.01151502922325], [40.753309065983395, -74.00401512528647], [40.70436877745512, -73.79397965822719], [40.78247809974789, -73.96555356545913], [40.74033744175702, -73.99045782354733], [40.73457600733177, -74.00287495910837], [40.81825974768987, -73.91284939799155], [40.758028043526274, -73.97769793122403], [40.791704934427074, -73.97304890061594], [40.79796199310004, -73.9681683330924], [40.727620195909545, -73.9859374568246], [40.765484087889845, -73.95473878380503], [40.72088889344527, -73.99691854183823], [40.747745793643915, -73.97849159965226], [40.7404389785964, -73.97649472376757], [40.77596522876096, -73.98764554944384], [40.74857462935672, -73.98515639467684], [40.775932403149945, -73.94651035601463], [40.80945696112528, -73.96176359682921], [40.70335790323615, -74.01151502922325], [40.76861518381155, -73.96563453538072], [40.76861518381155, -73.96563453538072], [40.76861518381155, -73.96563453538072], [40.67664410104018, -73.91363213611348], [40.762252755319366, -73.98984464313301], [40.765484087889845, -73.95473878380503], [40.78247809974789, -73.96555356545913], [40.758028043526274, -73.97769793122403], [40.8011694805865, -73.9373456081249], [40.765484087889845, -73.95473878380503], [40.71893835938025, -73.99089626184734], [40.8011694805865, -73.9373456081249], [40.748427555065724, -73.99991742024713], [40.748427555065724, -73.99991742024713], [40.75351275872571, -73.9887865991153], [40.7404389785964, -73.97649472376757], [40.736824057618975, -73.98405213268919], [40.74537943399859, -73.94889145447952], [40.73457600733177, -74.00287495910837], [40.727620195909545, -73.9859374568246], [40.727620195909545, -73.9859374568246], [40.78396143031378, -73.97863194845081], [40.791704934427074, -73.97304890061594], [40.875967802212436, -73.91037866410586], [40.79001075149545, -73.94575026755156], [40.81825786111924, -73.94077166756266], [40.78043643718997, -73.95701169835736], [40.762252755319366, -73.98984464313301], [40.775932403149945, -73.94651035601463], [40.7736332930271, -73.98153220639182], [40.736824057618975, -73.98405213268919], [40.658744450856695, -73.94744164500473], [40.678953310115254, -73.79098635986958], [40.762252755319366, -73.98984464313301], [40.71473250693941, -73.9830245583349], [40.79001075149545, -73.94575026755156], [40.7736332930271, -73.98153220639182], [40.74033744175702, -73.99045782354733], [40.83782699169885, -73.92615723620783], [40.748427555065724, -73.99991742024713], [40.70436877745512, -73.79397965822719], [40.753309065983395, -74.00401512528647], [40.728340391372306, -73.99738026020043], [40.7736332930271, -73.98153220639182], [40.7542425205003, -73.93482888929137], [40.717772736265175, -74.00787970866403], [40.74227862901228, -73.99697141558364], [40.76861518381155, -73.96563453538072], [40.80945696112528, -73.96176359682921], [40.79796199310004, -73.9681683330924], [40.748497181405, -73.99243753697608], [40.717772736265175, -74.00787970866403], [40.748497181405, -73.99243753697608], [40.77742692053278, -73.90540773409828], [40.691507494880646, -73.94990503507506], [40.69078679421093, -73.97488208618897], [40.74991407790217, -73.97044256869238], [40.841708771119784, -73.94139910573644], [40.74857462935672, -73.98515639467684], [40.70680845166585, -74.0074959856243], [40.7644214057868, -73.97756868222719], [40.762252755319366, -73.98984464313301], [40.67446941826648, -73.93928705867958], [40.78396143031378, -73.97863194845081], [40.67664410104018, -73.91363213611348], [40.7644214057868, -73.97756868222719], [40.748427555065724, -73.99991742024713], [40.70680845166585, -74.0074959856243], [40.6442881743892, -73.93796627061693], [40.72088889344527, -73.99691854183823], [40.7644214057868, -73.97756868222719], [40.74227862901228, -73.99697141558364], [40.7644214057868, -73.97756868222719], [40.78043643718997, -73.95701169835736], [40.841708771119784, -73.94139910573644], [40.75672894163307, -73.96514579918421], [40.66654040578564, -73.94878853931498], [40.76110218983437, -73.82885869884261], [40.63803713911708, -73.89973495669392], [40.791704934427074, -73.97304890061594], [40.79796199310004, -73.9681683330924], [40.71893835938025, -73.99089626184734], [40.78043643718997, -73.95701169835736], [40.78396143031378, -73.97863194845081], [40.74991407790217, -73.97044256869238], [40.79001075149545, -73.94575026755156], [40.748497181405, -73.99243753697608], [40.766237725041876, -73.99513522075519], [40.74991407790217, -73.97044256869238], [40.8011694805865, -73.9373456081249], [40.74227862901228, -73.99697141558364], [40.775932403149945, -73.94651035601463], [40.748497181405, -73.99243753697608], [40.676154037213784, -73.81945963682762], [40.79001075149545, -73.94575026755156], [40.76861518381155, -73.96563453538072], [40.79796199310004, -73.9681683330924], [40.73503540069664, -74.0089841047853], [40.73257907302703, -73.99430477051168], [40.81797514762944, -73.95378223705632], [40.717772736265175, -74.00787970866403], [40.758028043526274, -73.97769793122403], [40.7644214057868, -73.97756868222719], [40.791704934427074, -73.97304890061594], [40.715369882143555, -73.93679314491887], [40.78043643718997, -73.95701169835736], [40.83774866435355, -73.85798694048577], [40.748427555065724, -73.99991742024713], [40.8011694805865, -73.9373456081249], [40.78043643718997, -73.95701169835736], [40.74227862901228, -73.99697141558364], [40.79001075149545, -73.94575026755156], [40.77596522876096, -73.98764554944384], [40.75668765218882, -73.97235594352028], [40.66218488071142, -73.76450578558227], [40.79796199310004, -73.9681683330924], [40.841708771119784, -73.94139910573644], [40.747745793643915, -73.97849159965226], [40.78247809974789, -73.96555356545913], [40.762252755319366, -73.98984464313301], [40.717772736265175, -74.00787970866403], [40.75672894163307, -73.96514579918421], [40.78043643718997, -73.95701169835736], [40.80197049389963, -73.96547951516966], [40.765484087889845, -73.95473878380503], [40.75351275872571, -73.9887865991153], [40.775932403149945, -73.94651035601463], [40.762252755319366, -73.98984464313301], [40.688168186954954, -73.93188826440708], [40.75672894163307, -73.96514579918421], [40.80945696112528, -73.96176359682921], [40.747745793643915, -73.97849159965226], [40.73457600733177, -74.00287495910837], [40.72088889344527, -73.99691854183823], [40.7736332930271, -73.98153220639182], [40.703916440465754, -73.95859684507171], [40.727620195909545, -73.9859374568246], [40.59995429251391, -73.96433367133905], [40.766948216383234, -73.9596347414917], [40.73503540069664, -74.0089841047853], [40.76861518381155, -73.96563453538072], [40.685633741320636, -73.98611382213662], [40.828988230484576, -73.92440873264253], [40.72388811004171, -74.00153756565634], [40.765484087889845, -73.95473878380503], [40.80945696112528, -73.96176359682921], [40.70652679441957, -73.90170926444723], [40.70335790323615, -74.01151502922325], [40.747745793643915, -73.97849159965226], [40.78247809974789, -73.96555356545913], [40.75668765218882, -73.97235594352028], [40.78396143031378, -73.97863194845081], [40.78043643718997, -73.95701169835736], [40.762252755319366, -73.98984464313301], [40.76861518381155, -73.96563453538072], [40.63803713911708, -73.89973495669392], [40.69120144680612, -73.76314612543838], [40.72088889344527, -73.99691854183823], [40.72388811004171, -74.00153756565634], [40.74227862901228, -73.99697141558364], [40.717772736265175, -74.00787970866403], [40.77876585543437, -73.95100987481798], [40.723752141584804, -73.97696825691766], [40.7736332930271, -73.98153220639182], [40.74857462935672, -73.98515639467684], [40.78043643718997, -73.95701169835736], [40.74537943399859, -73.94889145447952], [40.77596522876096, -73.98764554944384], [40.72388811004171, -74.00153756565634], [40.766948216383234, -73.9596347414917], [40.766948216383234, -73.9596347414917], [40.766948216383234, -73.9596347414917], [40.717772736265175, -74.00787970866403], [40.77437570593249, -73.87362864289108], [40.74227862901228, -73.99697141558364], [40.758028043526274, -73.97769793122403], [40.73503540069664, -74.0089841047853], [40.6248349236082, -74.02989237418782], [40.762252755319366, -73.98984464313301], [40.748427555065724, -73.99991742024713], [40.79001075149545, -73.94575026755156], [40.766237725041876, -73.99513522075519], [40.791704934427074, -73.97304890061594], [40.7644214057868, -73.97756868222719], [40.78043643718997, -73.95701169835736], [40.775932403149945, -73.94651035601463], [40.76861518381155, -73.96563453538072], [40.748427555065724, -73.99991742024713], [40.78396143031378, -73.97863194845081], [40.7644214057868, -73.97756868222719], [40.7376989564444, -73.92467306585043], [40.736824057618975, -73.98405213268919], [40.77437570593249, -73.87362864289108], [40.75668765218882, -73.97235594352028], [40.728340391372306, -73.99738026020043], [40.8011694805865, -73.9373456081249], [40.7644214057868, -73.97756868222719], [40.77876585543437, -73.95100987481798], [40.753309065983395, -74.00401512528647], [40.77437570593249, -73.87362864289108], [40.766948216383234, -73.9596347414917], [40.747745793643915, -73.97849159965226], [40.73949564677819, -73.87711833280915], [40.727620195909545, -73.9859374568246], [40.69183120640148, -74.17400027276294], [40.69579822121126, -73.99525011996623], [40.71893835938025, -73.99089626184734], [40.758028043526274, -73.97769793122403], [40.72088889344527, -73.99691854183823], [40.73257907302703, -73.99430477051168], [40.791704934427074, -73.97304890061594], [40.736824057618975, -73.98405213268919], [40.75981761719184, -73.98419648907571], [40.77876585543437, -73.95100987481798], [40.736824057618975, -73.98405213268919], [40.75731206303919, -73.88531724061082], [40.758028043526274, -73.97769793122403], [40.76861518381155, -73.96563453538072], [40.762252755319366, -73.98984464313301], [40.762252755319366, -73.98984464313301], [40.76861518381155, -73.96563453538072], [40.747745793643915, -73.97849159965226], [40.727620195909545, -73.9859374568246], [40.74991407790217, -73.97044256869238], [40.82701265492538, -73.9485217302088], [40.758028043526274, -73.97769793122403], [40.766948216383234, -73.9596347414917], [40.77876585543437, -73.95100987481798], [40.70680845166585, -74.0074959856243], [40.766948216383234, -73.9596347414917], [40.76861518381155, -73.96563453538072], [40.775932403149945, -73.94651035601463], [40.804333949794604, -73.9512920024351], [40.70680845166585, -74.0074959856243], [40.748497181405, -73.99243753697608], [40.76861518381155, -73.96563453538072], [40.6609351965506, -73.87682061127201], [40.748497181405, -73.99243753697608], [40.77437570593249, -73.87362864289108], [40.7644214057868, -73.97756868222719], [40.75668765218882, -73.97235594352028], [40.804333949794604, -73.9512920024351], [40.728340391372306, -73.99738026020043], [40.74537943399859, -73.94889145447952], [40.7404389785964, -73.97649472376757], [40.765484087889845, -73.95473878380503], [40.74857462935672, -73.98515639467684], [40.717772736265175, -74.00787970866403], [40.83399047727384, -73.88590003419148], [40.80945696112528, -73.96176359682921], [40.748427555065724, -73.99991742024713], [40.76861518381155, -73.96563453538072], [40.76149256216374, -73.91969431946067], [40.791704934427074, -73.97304890061594], [40.67709779790901, -73.74423435166717], [40.75668765218882, -73.97235594352028], [40.7404389785964, -73.97649472376757], [40.80945696112528, -73.96176359682921], [40.74537943399859, -73.94889145447952], [40.74857462935672, -73.98515639467684], [40.748497181405, -73.99243753697608], [40.74991407790217, -73.97044256869238], [40.7376989564444, -73.92467306585043], [40.728340391372306, -73.99738026020043], [40.78396143031378, -73.97863194845081], [40.7404389785964, -73.97649472376757], [40.77596522876096, -73.98764554944384], [40.7736332930271, -73.98153220639182], [40.762252755319366, -73.98984464313301], [40.75672894163307, -73.96514579918421], [40.753309065983395, -74.00401512528647], [40.73457600733177, -74.00287495910837], [40.765484087889845, -73.95473878380503], [40.75668765218882, -73.97235594352028], [40.75668765218882, -73.97235594352028], [40.762252755319366, -73.98984464313301], [40.75672894163307, -73.96514579918421], [40.75668765218882, -73.97235594352028], [40.78396143031378, -73.97863194845081], [40.736824057618975, -73.98405213268919], [40.75668765218882, -73.97235594352028], [40.73457600733177, -74.00287495910837], [40.79001075149545, -73.94575026755156], [40.717772736265175, -74.00787970866403], [40.73457600733177, -74.00287495910837], [40.72088889344527, -73.99691854183823], [40.736824057618975, -73.98405213268919], [40.74857462935672, -73.98515639467684], [40.766237725041876, -73.99513522075519], [40.688168186954954, -73.93188826440708], [40.73503540069664, -74.0089841047853], [40.748427555065724, -73.99991742024713], [40.747745793643915, -73.97849159965226], [40.78396143031378, -73.97863194845081], [40.81825786111924, -73.94077166756266], [40.76110218983437, -73.82885869884261], [40.766237725041876, -73.99513522075519], [40.74857462935672, -73.98515639467684], [40.7404389785964, -73.97649472376757], [40.736824057618975, -73.98405213268919], [40.762252755319366, -73.98984464313301], [40.766948216383234, -73.9596347414917], [40.70680845166585, -74.0074959856243], [40.736824057618975, -73.98405213268919], [40.775932403149945, -73.94651035601463], [40.78043643718997, -73.95701169835736], [40.78043643718997, -73.95701169835736], [40.894599127507, -73.88197807761944], [40.747745793643915, -73.97849159965226], [40.75981761719184, -73.98419648907571], [40.727620195909545, -73.9859374568246], [40.78396143031378, -73.97863194845081], [40.72388811004171, -74.00153756565634], [40.747745793643915, -73.97849159965226], [40.70652679441957, -73.90170926444723], [40.71245931177952, -73.99815149899052], [40.7644214057868, -73.97756868222719], [40.76861518381155, -73.96563453538072], [40.758028043526274, -73.97769793122403], [40.73457600733177, -74.00287495910837], [40.791704934427074, -73.97304890061594], [40.75981761719184, -73.98419648907571], [40.736824057618975, -73.98405213268919], [40.765484087889845, -73.95473878380503], [40.717772736265175, -74.00787970866403], [40.748497181405, -73.99243753697608], [40.70335790323615, -74.01151502922325], [40.74423471780147, -73.90630644197877], [40.59405875281388, -73.78962208250078], [40.75672894163307, -73.96514579918421], [40.766237725041876, -73.99513522075519], [40.75668765218882, -73.97235594352028], [40.77742692053278, -73.90540773409828], [40.77596522876096, -73.98764554944384], [40.75351275872571, -73.9887865991153], [40.766948216383234, -73.9596347414917], [40.78043643718997, -73.95701169835736], [40.841708771119784, -73.94139910573644], [40.7736332930271, -73.98153220639182], [40.817858557708156, -73.85813498781437], [40.81825786111924, -73.94077166756266], [40.727620195909545, -73.9859374568246], [40.791704934427074, -73.97304890061594], [40.748497181405, -73.99243753697608], [40.766237725041876, -73.99513522075519], [40.747745793643915, -73.97849159965226], [40.762252755319366, -73.98984464313301], [40.841708771119784, -73.94139910573644], [40.78043643718997, -73.95701169835736], [40.791704934427074, -73.97304890061594], [40.78247809974789, -73.96555356545913], [40.717772736265175, -74.00787970866403], [40.765484087889845, -73.95473878380503], [40.727620195909545, -73.9859374568246], [40.7736332930271, -73.98153220639182], [40.717772736265175, -74.00787970866403], [40.7644214057868, -73.97756868222719], [40.78043643718997, -73.95701169835736], [40.76861518381155, -73.96563453538072], [40.81825786111924, -73.94077166756266], [40.73457600733177, -74.00287495910837], [40.748497181405, -73.99243753697608], [40.748497181405, -73.99243753697608], [40.728340391372306, -73.99738026020043], [40.766948216383234, -73.9596347414917], [40.76861518381155, -73.96563453538072], [40.74857462935672, -73.98515639467684], [40.765484087889845, -73.95473878380503], [40.80197049389963, -73.96547951516966], [40.727620195909545, -73.9859374568246], [40.762252755319366, -73.98984464313301], [40.747745793643915, -73.97849159965226], [40.71473250693941, -73.9830245583349], [40.78043643718997, -73.95701169835736], [40.736824057618975, -73.98405213268919], [40.74857462935672, -73.98515639467684], [40.7404389785964, -73.97649472376757], [40.78043643718997, -73.95701169835736], [40.747745793643915, -73.97849159965226], [40.7644214057868, -73.97756868222719], [40.791704934427074, -73.97304890061594], [40.74991407790217, -73.97044256869238], [40.66400311792599, -73.91025783136136], [40.74033744175702, -73.99045782354733], [40.78396143031378, -73.97863194845081], [40.8011694805865, -73.9373456081249], [40.8011694805865, -73.9373456081249], [40.77596522876096, -73.98764554944384], [40.78043643718997, -73.95701169835736], [40.78043643718997, -73.95701169835736], [40.74227862901228, -73.99697141558364], [40.75668765218882, -73.97235594352028], [40.77742692053278, -73.90540773409828], [40.88240311320921, -73.91066467564433], [40.762252755319366, -73.98984464313301], [40.791704934427074, -73.97304890061594], [40.76861518381155, -73.96563453538072], [40.864473684775454, -73.84742223236714], [40.736824057618975, -73.98405213268919], [40.76861518381155, -73.96563453538072], [40.7404389785964, -73.97649472376757], [40.748497181405, -73.99243753697608], [40.77876585543437, -73.95100987481798], [40.75668765218882, -73.97235594352028], [40.7644214057868, -73.97756868222719], [40.77876585543437, -73.95100987481798], [40.63803713911708, -73.89973495669392], [40.73257907302703, -73.99430477051168], [40.7644214057868, -73.97756868222719], [40.87397305492026, -73.82826367307182], [40.736824057618975, -73.98405213268919], [40.76861518381155, -73.96563453538072], [40.791704934427074, -73.97304890061594], [40.75668765218882, -73.97235594352028], [40.762252755319366, -73.98984464313301], [40.766948216383234, -73.9596347414917], [40.7404389785964, -73.97649472376757], [40.7736332930271, -73.98153220639182], [40.81825786111924, -73.94077166756266], [40.791704934427074, -73.97304890061594], [40.8011694805865, -73.9373456081249], [40.841708771119784, -73.94139910573644], [40.775932403149945, -73.94651035601463], [40.78247809974789, -73.96555356545913], [40.73503540069664, -74.0089841047853], [40.71203815707447, -74.01607915192923], [40.78043643718997, -73.95701169835736], [40.748427555065724, -73.99991742024713], [40.78396143031378, -73.97863194845081], [40.78247809974789, -73.96555356545913], [40.68665124165608, -73.99672403175197], [40.771570243583376, -73.92833318686121], [40.7644214057868, -73.97756868222719], [40.78043643718997, -73.95701169835736], [40.765484087889845, -73.95473878380503], [40.76189974995507, -73.94995171169585], [40.76861518381155, -73.96563453538072], [40.60427284003078, -74.00748815801174], [40.81825786111924, -73.94077166756266], [40.76861518381155, -73.96563453538072], [40.765484087889845, -73.95473878380503], [40.78396143031378, -73.97863194845081], [40.758028043526274, -73.97769793122403], [40.83774866435355, -73.85798694048577], [40.74423471780147, -73.90630644197877], [40.747745793643915, -73.97849159965226], [40.691507494880646, -73.94990503507506], [40.74227862901228, -73.99697141558364], [40.7644214057868, -73.97756868222719], [40.76149256216374, -73.91969431946067], [40.77596522876096, -73.98764554944384], [40.758028043526274, -73.97769793122403], [40.76861518381155, -73.96563453538072], [40.762252755319366, -73.98984464313301], [40.791704934427074, -73.97304890061594], [40.75672894163307, -73.96514579918421], [40.8011694805865, -73.9373456081249], [40.78043643718997, -73.95701169835736], [40.78043643718997, -73.95701169835736], [40.71893835938025, -73.99089626184734], [40.766237725041876, -73.99513522075519], [40.74227862901228, -73.99697141558364], [40.748427555065724, -73.99991742024713], [40.748427555065724, -73.99991742024713], [40.71880391812993, -73.95741813122187], [40.791704934427074, -73.97304890061594], [40.748497181405, -73.99243753697608], [40.76861518381155, -73.96563453538072], [40.791704934427074, -73.97304890061594], [40.75672894163307, -73.96514579918421], [40.77596522876096, -73.98764554944384], [40.75672894163307, -73.96514579918421], [40.791704934427074, -73.97304890061594], [40.7376989564444, -73.92467306585043], [40.78043643718997, -73.95701169835736], [40.74033744175702, -73.99045782354733], [40.8011694805865, -73.9373456081249], [40.762252755319366, -73.98984464313301], [40.753309065983395, -74.00401512528647], [40.78396143031378, -73.97863194845081], [40.7627383754424, -73.77342181890134], [40.5920234643643, -73.94050716694063], [40.79001075149545, -73.94575026755156], [40.78247809974789, -73.96555356545913], [40.76861518381155, -73.96563453538072], [40.77876585543437, -73.95100987481798], [40.79001075149545, -73.94575026755156], [40.74991407790217, -73.97044256869238], [40.75668765218882, -73.97235594352028], [40.7736332930271, -73.98153220639182], [40.747745793643915, -73.97849159965226], [40.7404389785964, -73.97649472376757], [40.78043643718997, -73.95701169835736], [40.762252755319366, -73.98984464313301], [40.748427555065724, -73.99991742024713], [40.791704934427074, -73.97304890061594], [40.766948216383234, -73.9596347414917], [40.82701265492538, -73.9485217302088], [40.78043643718997, -73.95701169835736], [40.74537943399859, -73.94889145447952], [40.82701265492538, -73.9485217302088], [40.647527034323524, -73.88241292571799], [40.7262904102812, -74.00748581800953], [40.74991407790217, -73.97044256869238], [40.78043643718997, -73.95701169835736], [40.748497181405, -73.99243753697608], [40.7736332930271, -73.98153220639182], [40.8011694805865, -73.9373456081249], [40.748497181405, -73.99243753697608], [40.758028043526274, -73.97769793122403], [40.76861518381155, -73.96563453538072], [40.7376989564444, -73.92467306585043], [40.79796199310004, -73.9681683330924], [40.78396143031378, -73.97863194845081], [40.7404389785964, -73.97649472376757], [40.747745793643915, -73.97849159965226], [40.736824057618975, -73.98405213268919], [40.762252755319366, -73.98984464313301], [40.727620195909545, -73.9859374568246], [40.8011694805865, -73.9373456081249], [40.775932403149945, -73.94651035601463], [40.7376989564444, -73.92467306585043], [40.75672894163307, -73.96514579918421], [40.78396143031378, -73.97863194845081], [40.864473684775454, -73.84742223236714], [40.828988230484576, -73.92440873264253], [40.74857462935672, -73.98515639467684], [40.765484087889845, -73.95473878380503], [40.78247809974789, -73.96555356545913], [40.75672894163307, -73.96514579918421], [40.74227862901228, -73.99697141558364], [40.74033744175702, -73.99045782354733], [40.736824057618975, -73.98405213268919], [40.7644214057868, -73.97756868222719], [40.791704934427074, -73.97304890061594], [40.77876585543437, -73.95100987481798], [40.66162215835685, -73.9689137427063], [40.71245931177952, -73.99815149899052], [40.78043643718997, -73.95701169835736], [40.74227862901228, -73.99697141558364], [40.74033744175702, -73.99045782354733], [40.748497181405, -73.99243753697608], [40.77876585543437, -73.95100987481798], [40.74857462935672, -73.98515639467684], [40.747745793643915, -73.97849159965226], [40.8011694805865, -73.9373456081249], [40.766948216383234, -73.9596347414917], [40.80197049389963, -73.96547951516966], [40.748497181405, -73.99243753697608], [40.715369882143555, -73.93679314491887], [40.762252755319366, -73.98984464313301], [40.78247809974789, -73.96555356545913], [40.766948216383234, -73.9596347414917], [40.762252755319366, -73.98984464313301], [40.79796199310004, -73.9681683330924], [40.77876585543437, -73.95100987481798], [40.81825786111924, -73.94077166756266], [40.75351275872571, -73.9887865991153], [40.77596522876096, -73.98764554944384], [40.8011694805865, -73.9373456081249], [40.75981761719184, -73.98419648907571], [40.76861518381155, -73.96563453538072], [40.71473250693941, -73.9830245583349], [40.7404389785964, -73.97649472376757], [40.78043643718997, -73.95701169835736], [40.77876585543437, -73.95100987481798], [40.73257907302703, -73.99430477051168], [40.791704934427074, -73.97304890061594], [40.82701265492538, -73.9485217302088], [40.75351275872571, -73.9887865991153], [40.79001075149545, -73.94575026755156], [40.79796199310004, -73.9681683330924], [40.75668765218882, -73.97235594352028], [40.73257907302703, -73.99430477051168], [40.78043643718997, -73.95701169835736], [40.7736332930271, -73.98153220639182], [40.74537943399859, -73.94889145447952], [40.762252755319366, -73.98984464313301], [40.82751255686402, -73.90235177500071], [40.80945696112528, -73.96176359682921], [40.766948216383234, -73.9596347414917], [40.78043643718997, -73.95701169835736], [40.8011694805865, -73.9373456081249], [40.775932403149945, -73.94651035601463], [40.75981761719184, -73.98419648907571], [40.73257907302703, -73.99430477051168], [40.75672894163307, -73.96514579918421], [40.765484087889845, -73.95473878380503], [40.727620195909545, -73.9859374568246], [40.78396143031378, -73.97863194845081], [40.71833677001376, -73.88005140814955], [40.64059007067449, -73.97619898951328], [40.77596522876096, -73.98764554944384], [40.80945696112528, -73.96176359682921], [40.791704934427074, -73.97304890061594], [40.753309065983395, -74.00401512528647], [40.71245931177952, -73.99815149899052], [40.7404389785964, -73.97649472376757], [40.7090727427931, -74.00366456329895], [40.75668765218882, -73.97235594352028], [40.78043643718997, -73.95701169835736], [40.758028043526274, -73.97769793122403], [40.758028043526274, -73.97769793122403], [40.79001075149545, -73.94575026755156], [40.748427555065724, -73.99991742024713], [40.78043643718997, -73.95701169835736], [40.76861518381155, -73.96563453538072], [40.78396143031378, -73.97863194845081], [40.75981761719184, -73.98419648907571], [40.658744450856695, -73.94744164500473], [40.79001075149545, -73.94575026755156], [40.766948216383234, -73.9596347414917], [40.78043643718997, -73.95701169835736], [40.74033744175702, -73.99045782354733], [40.78043643718997, -73.95701169835736], [40.79796199310004, -73.9681683330924], [40.78396143031378, -73.97863194845081], [40.758028043526274, -73.97769793122403], [40.723752141584804, -73.97696825691766], [40.748497181405, -73.99243753697608], [40.79796199310004, -73.9681683330924], [40.758028043526274, -73.97769793122403], [40.748427555065724, -73.99991742024713], [40.736824057618975, -73.98405213268919], [40.765484087889845, -73.95473878380503], [40.775932403149945, -73.94651035601463], [40.72088889344527, -73.99691854183823], [40.71893835938025, -73.99089626184734], [40.71893835938025, -73.99089626184734], [40.78396143031378, -73.97863194845081], [40.75668765218882, -73.97235594352028], [40.76861518381155, -73.96563453538072], [40.7644214057868, -73.97756868222719], [40.7644214057868, -73.97756868222719], [40.758028043526274, -73.97769793122403], [40.8011694805865, -73.9373456081249], [40.73503540069664, -74.0089841047853], [40.7644214057868, -73.97756868222719], [40.748497181405, -73.99243753697608], [40.747745793643915, -73.97849159965226], [40.766948216383234, -73.9596347414917], [40.77437570593249, -73.87362864289108], [40.736824057618975, -73.98405213268919], [40.766948216383234, -73.9596347414917], [40.76861518381155, -73.96563453538072], [40.748497181405, -73.99243753697608], [40.7644214057868, -73.97756868222719], [40.74991407790217, -73.97044256869238], [40.78396143031378, -73.97863194845081], [40.7262904102812, -74.00748581800953], [40.80945696112528, -73.96176359682921], [40.78043643718997, -73.95701169835736], [40.766948216383234, -73.9596347414917], [40.7404389785964, -73.97649472376757], [40.766948216383234, -73.9596347414917], [40.753309065983395, -74.00401512528647], [40.78396143031378, -73.97863194845081], [40.72388811004171, -74.00153756565634], [40.70436877745512, -73.79397965822719], [40.747745793643915, -73.97849159965226], [40.75672894163307, -73.96514579918421], [40.804333949794604, -73.9512920024351], [40.75668765218882, -73.97235594352028], [40.76149256216374, -73.91969431946067], [40.75668765218882, -73.97235594352028], [40.77876585543437, -73.95100987481798], [40.78043643718997, -73.95701169835736], [40.71893835938025, -73.99089626184734], [40.73503540069664, -74.0089841047853], [40.74227862901228, -73.99697141558364], [40.8525211492635, -73.91597542466437], [40.74991407790217, -73.97044256869238], [40.771570243583376, -73.92833318686121], [40.78043643718997, -73.95701169835736], [40.77596522876096, -73.98764554944384], [40.75351275872571, -73.9887865991153], [40.762252755319366, -73.98984464313301], [40.61961946783515, -74.0138014874401], [40.78396143031378, -73.97863194845081], [40.71473250693941, -73.9830245583349], [40.76861518381155, -73.96563453538072], [40.76861518381155, -73.96563453538072], [40.7736332930271, -73.98153220639182], [40.75351275872571, -73.9887865991153], [40.79001075149545, -73.94575026755156], [40.765484087889845, -73.95473878380503], [40.75668765218882, -73.97235594352028], [40.81797514762944, -73.95378223705632], [40.69454235438128, -73.8309240744999], [40.75351275872571, -73.9887865991153], [40.79001075149545, -73.94575026755156], [40.74857462935672, -73.98515639467684], [40.7736332930271, -73.98153220639182], [40.758028043526274, -73.97769793122403], [40.77437570593249, -73.87362864289108], [40.77876585543437, -73.95100987481798], [40.74033744175702, -73.99045782354733], [40.758028043526274, -73.97769793122403], [40.69579822121126, -73.99525011996623], [40.7736332930271, -73.98153220639182], [40.791704934427074, -73.97304890061594], [40.78043643718997, -73.95701169835736], [40.75672894163307, -73.96514579918421], [40.72088889344527, -73.99691854183823], [40.76861518381155, -73.96563453538072], [40.75672894163307, -73.96514579918421], [40.81797514762944, -73.95378223705632], [40.81825786111924, -73.94077166756266], [40.728340391372306, -73.99738026020043], [40.765484087889845, -73.95473878380503], [40.73457600733177, -74.00287495910837], [40.736824057618975, -73.98405213268919], [40.758028043526274, -73.97769793122403], [40.73257907302703, -73.99430477051168], [40.80945696112528, -73.96176359682921], [40.747745793643915, -73.97849159965226], [40.748497181405, -73.99243753697608], [40.791704934427074, -73.97304890061594], [40.766948216383234, -73.9596347414917], [40.78043643718997, -73.95701169835736], [40.75668765218882, -73.97235594352028], [40.762252755319366, -73.98984464313301], [40.67763538934728, -73.96758681222953], [40.75668765218882, -73.97235594352028], [40.73257907302703, -73.99430477051168], [40.766948216383234, -73.9596347414917], [40.78043643718997, -73.95701169835736], [40.748497181405, -73.99243753697608], [40.70680845166585, -74.0074959856243], [40.66400311792599, -73.91025783136136], [40.72388811004171, -74.00153756565634], [40.765484087889845, -73.95473878380503], [40.78396143031378, -73.97863194845081], [40.7404389785964, -73.97649472376757], [40.70354561076288, -73.87573576709775], [40.791704934427074, -73.97304890061594], [40.77596522876096, -73.98764554944384], [40.73257907302703, -73.99430477051168], [40.70680845166585, -74.0074959856243], [40.74991407790217, -73.97044256869238], [40.762252755319366, -73.98984464313301], [40.8011694805865, -73.9373456081249], [40.717772736265175, -74.00787970866403], [40.81825786111924, -73.94077166756266], [40.77876585543437, -73.95100987481798], [40.76861518381155, -73.96563453538072], [40.71473250693941, -73.9830245583349], [40.78396143031378, -73.97863194845081], [40.78043643718997, -73.95701169835736], [40.76861518381155, -73.96563453538072], [40.74227862901228, -73.99697141558364], [40.71203815707447, -74.01607915192923], [40.791704934427074, -73.97304890061594], [40.73457600733177, -74.00287495910837], [40.691507494880646, -73.94990503507506], [40.727620195909545, -73.9859374568246], [40.78043643718997, -73.95701169835736], [40.76861518381155, -73.96563453538072], [40.75668765218882, -73.97235594352028], [40.7090727427931, -74.00366456329895], [40.73257907302703, -73.99430477051168], [40.758028043526274, -73.97769793122403], [40.78043643718997, -73.95701169835736], [40.71893835938025, -73.99089626184734], [40.7644214057868, -73.97756868222719], [40.7262904102812, -74.00748581800953], [40.78043643718997, -73.95701169835736], [40.69499431844209, -73.92224002165722], [40.7404389785964, -73.97649472376757], [40.7404389785964, -73.97649472376757], [40.723752141584804, -73.97696825691766], [40.74991407790217, -73.97044256869238], [40.75668765218882, -73.97235594352028], [40.78043643718997, -73.95701169835736], [40.717772736265175, -74.00787970866403], [40.727620195909545, -73.9859374568246], [40.7644214057868, -73.97756868222719], [40.76861518381155, -73.96563453538072], [40.74537943399859, -73.94889145447952], [40.79001075149545, -73.94575026755156], [40.75672894163307, -73.96514579918421], [40.78043643718997, -73.95701169835736], [40.882157083047055, -73.8589482397575], [40.76861518381155, -73.96563453538072], [40.75351275872571, -73.9887865991153], [40.7404389785964, -73.97649472376757], [40.728340391372306, -73.99738026020043], [40.736824057618975, -73.98405213268919], [40.74033744175702, -73.99045782354733], [40.758028043526274, -73.97769793122403], [40.78043643718997, -73.95701169835736], [40.74033744175702, -73.99045782354733], [40.747745793643915, -73.97849159965226], [40.688168186954954, -73.93188826440708], [40.762252755319366, -73.98984464313301], [40.736824057618975, -73.98405213268919], [40.75672894163307, -73.96514579918421], [40.75981761719184, -73.98419648907571], [40.79001075149545, -73.94575026755156], [40.736824057618975, -73.98405213268919], [40.8011694805865, -73.9373456081249], [40.765484087889845, -73.95473878380503], [40.63790012347376, -73.96096824906373], [40.74033744175702, -73.99045782354733], [40.723752141584804, -73.97696825691766], [40.79796199310004, -73.9681683330924], [40.766237725041876, -73.99513522075519], [40.74857462935672, -73.98515639467684], [40.775932403149945, -73.94651035601463], [40.76861518381155, -73.96563453538072], [40.75672894163307, -73.96514579918421], [40.79796199310004, -73.9681683330924], [40.748497181405, -73.99243753697608], [40.72833332297307, -73.8024442818622], [40.68665124165608, -73.99672403175197], [40.71203815707447, -74.01607915192923], [40.72388811004171, -74.00153756565634], [40.74033744175702, -73.99045782354733], [40.7736332930271, -73.98153220639182], [40.7404389785964, -73.97649472376757], [40.78043643718997, -73.95701169835736], [40.747745793643915, -73.97849159965226], [40.748497181405, -73.99243753697608], [40.78043643718997, -73.95701169835736], [40.76861518381155, -73.96563453538072], [40.78396143031378, -73.97863194845081], [40.73257907302703, -73.99430477051168], [40.78396143031378, -73.97863194845081], [40.775932403149945, -73.94651035601463], [40.762252755319366, -73.98984464313301], [40.747745793643915, -73.97849159965226], [40.68796745714746, -73.96236353818358], [40.75351275872571, -73.9887865991153], [40.766948216383234, -73.9596347414917], [40.75672894163307, -73.96514579918421], [40.78043643718997, -73.95701169835736], [40.80945696112528, -73.96176359682921], [40.75668765218882, -73.97235594352028], [40.79001075149545, -73.94575026755156], [40.72088889344527, -73.99691854183823], [40.72388811004171, -74.00153756565634], [40.73457600733177, -74.00287495910837], [40.78043643718997, -73.95701169835736], [40.81825786111924, -73.94077166756266], [40.688168186954954, -73.93188826440708], [40.748427555065724, -73.99991742024713], [40.75668765218882, -73.97235594352028], [40.7736332930271, -73.98153220639182], [40.791704934427074, -73.97304890061594], [40.78043643718997, -73.95701169835736], [40.78043643718997, -73.95701169835736], [40.79001075149545, -73.94575026755156], [40.78396143031378, -73.97863194845081], [40.78043643718997, -73.95701169835736], [40.717772736265175, -74.00787970866403], [40.73457600733177, -74.00287495910837], [40.78043643718997, -73.95701169835736], [40.75731206303919, -73.88531724061082], [40.8525211492635, -73.91597542466437], [40.762252755319366, -73.98984464313301], [40.727620195909545, -73.9859374568246], [40.75981761719184, -73.98419648907571], [40.727620195909545, -73.9859374568246], [40.77596522876096, -73.98764554944384], [40.74857462935672, -73.98515639467684], [40.77876585543437, -73.95100987481798], [40.8011694805865, -73.9373456081249], [40.76861518381155, -73.96563453538072], [40.736824057618975, -73.98405213268919], [40.78043643718997, -73.95701169835736], [40.72088889344527, -73.99691854183823], [40.80197049389963, -73.96547951516966], [40.762252755319366, -73.98984464313301], [40.723752141584804, -73.97696825691766], [40.73257907302703, -73.99430477051168], [40.78043643718997, -73.95701169835736], [40.78043643718997, -73.95701169835736], [40.7090727427931, -74.00366456329895], [40.63803713911708, -73.89973495669392], [40.8011694805865, -73.9373456081249], [40.748497181405, -73.99243753697608], [40.76149256216374, -73.91969431946067], [40.78247809974789, -73.96555356545913], [40.736824057618975, -73.98405213268919], [40.766948216383234, -73.9596347414917], [40.79796199310004, -73.9681683330924], [40.72088889344527, -73.99691854183823], [40.747745793643915, -73.97849159965226], [40.75981761719184, -73.98419648907571], [40.727620195909545, -73.9859374568246], [40.7644214057868, -73.97756868222719], [40.74991407790217, -73.97044256869238], [40.748497181405, -73.99243753697608], [40.81825786111924, -73.94077166756266], [40.747745793643915, -73.97849159965226], [40.753309065983395, -74.00401512528647], [40.765484087889845, -73.95473878380503], [40.79001075149545, -73.94575026755156], [40.75672894163307, -73.96514579918421], [40.7736332930271, -73.98153220639182], [40.766237725041876, -73.99513522075519], [40.841708771119784, -73.94139910573644], [40.7404389785964, -73.97649472376757], [40.78396143031378, -73.97863194845081], [40.7736332930271, -73.98153220639182], [40.766948216383234, -73.9596347414917], [40.73257907302703, -73.99430477051168], [40.76335220113314, -73.86839559842021], [40.758028043526274, -73.97769793122403], [40.73257907302703, -73.99430477051168], [40.685633741320636, -73.98611382213662], [40.74227862901228, -73.99697141558364], [40.791704934427074, -73.97304890061594], [40.69078679421093, -73.97488208618897], [40.74991407790217, -73.97044256869238], [40.728340391372306, -73.99738026020043], [40.76861518381155, -73.96563453538072], [40.73457600733177, -74.00287495910837], [40.67763538934728, -73.96758681222953], [40.74227862901228, -73.99697141558364], [40.748427555065724, -73.99991742024713], [40.72143227502133, -73.84766941187527], [40.74857462935672, -73.98515639467684], [40.78396143031378, -73.97863194845081], [40.78396143031378, -73.97863194845081], [40.765484087889845, -73.95473878380503], [40.762252755319366, -73.98984464313301], [40.75351275872571, -73.9887865991153], [40.78043643718997, -73.95701169835736], [40.78043643718997, -73.95701169835736], [40.78043643718997, -73.95701169835736], [40.70652679441957, -73.90170926444723], [40.7404389785964, -73.97649472376757], [40.670374325917265, -73.98141374048753], [40.747745793643915, -73.97849159965226], [40.77596522876096, -73.98764554944384], [40.78043643718997, -73.95701169835736], [40.736824057618975, -73.98405213268919], [40.775932403149945, -73.94651035601463], [40.748497181405, -73.99243753697608], [40.78396143031378, -73.97863194845081], [40.79796199310004, -73.9681683330924], [40.79796199310004, -73.9681683330924], [40.748497181405, -73.99243753697608], [40.766948216383234, -73.9596347414917], [40.748427555065724, -73.99991742024713], [40.78396143031378, -73.97863194845081], [40.84274917609802, -73.90031590586487], [40.74227862901228, -73.99697141558364], [40.78043643718997, -73.95701169835736], [40.791704934427074, -73.97304890061594], [40.77596522876096, -73.98764554944384], [40.75981761719184, -73.98419648907571], [40.78396143031378, -73.97863194845081], [40.766948216383234, -73.9596347414917], [40.727620195909545, -73.9859374568246], [40.7736332930271, -73.98153220639182], [40.78043643718997, -73.95701169835736], [40.73457600733177, -74.00287495910837], [40.78247809974789, -73.96555356545913], [40.766948216383234, -73.9596347414917], [40.74991407790217, -73.97044256869238], [40.775932403149945, -73.94651035601463], [40.747745793643915, -73.97849159965226], [40.6248349236082, -74.02989237418782], [40.78247809974789, -73.96555356545913], [40.747745793643915, -73.97849159965226], [40.77876585543437, -73.95100987481798], [40.72388811004171, -74.00153756565634], [40.765484087889845, -73.95473878380503], [40.76861518381155, -73.96563453538072], [40.753309065983395, -74.00401512528647], [40.747745793643915, -73.97849159965226], [40.762252755319366, -73.98984464313301], [40.7644214057868, -73.97756868222719], [40.762252755319366, -73.98984464313301], [40.753309065983395, -74.00401512528647], [40.79001075149545, -73.94575026755156], [40.75672894163307, -73.96514579918421], [40.79001075149545, -73.94575026755156], [40.748427555065724, -73.99991742024713], [40.717772736265175, -74.00787970866403], [40.7644214057868, -73.97756868222719], [40.804333949794604, -73.9512920024351], [40.736824057618975, -73.98405213268919], [40.75672894163307, -73.96514579918421], [40.8011694805865, -73.9373456081249], [40.747745793643915, -73.97849159965226], [40.78043643718997, -73.95701169835736], [40.766948216383234, -73.9596347414917], [40.76861518381155, -73.96563453538072], [40.75672894163307, -73.96514579918421], [40.753309065983395, -74.00401512528647], [40.766237725041876, -73.99513522075519], [40.758028043526274, -73.97769793122403], [40.78043643718997, -73.95701169835736], [40.74857462935672, -73.98515639467684], [40.775932403149945, -73.94651035601463], [40.7090727427931, -74.00366456329895], [40.753309065983395, -74.00401512528647], [40.74857462935672, -73.98515639467684], [40.727620195909545, -73.9859374568246], [40.758028043526274, -73.97769793122403], [40.717772736265175, -74.00787970866403], [40.75672894163307, -73.96514579918421], [40.78043643718997, -73.95701169835736], [40.765484087889845, -73.95473878380503], [40.73503540069664, -74.0089841047853], [40.748497181405, -73.99243753697608], [40.791704934427074, -73.97304890061594], [40.74033744175702, -73.99045782354733], [40.647527034323524, -73.88241292571799], [40.82701265492538, -73.9485217302088], [40.74227862901228, -73.99697141558364], [40.748427555065724, -73.99991742024713], [40.791704934427074, -73.97304890061594], [40.775932403149945, -73.94651035601463], [40.71893835938025, -73.99089626184734], [40.791704934427074, -73.97304890061594], [40.791704934427074, -73.97304890061594], [40.7644214057868, -73.97756868222719], [40.7644214057868, -73.97756868222719], [40.74991407790217, -73.97044256869238], [40.78043643718997, -73.95701169835736], [40.73257907302703, -73.99430477051168], [40.765484087889845, -73.95473878380503], [40.76861518381155, -73.96563453538072], [40.78247809974789, -73.96555356545913], [40.74227862901228, -73.99697141558364], [40.791704934427074, -73.97304890061594], [40.79001075149545, -73.94575026755156], [40.762252755319366, -73.98984464313301], [40.804333949794604, -73.9512920024351], [40.758028043526274, -73.97769793122403], [40.5920234643643, -73.94050716694063], [40.78043643718997, -73.95701169835736], [40.78043643718997, -73.95701169835736], [40.791704934427074, -73.97304890061594], [40.72388811004171, -74.00153756565634], [40.82701265492538, -73.9485217302088], [40.7736332930271, -73.98153220639182], [40.79001075149545, -73.94575026755156], [40.748497181405, -73.99243753697608], [40.81825786111924, -73.94077166756266], [40.73257907302703, -73.99430477051168], [40.80945696112528, -73.96176359682921], [40.775932403149945, -73.94651035601463], [40.766948216383234, -73.9596347414917], [40.77876585543437, -73.95100987481798], [40.74423471780147, -73.90630644197877], [40.73832381382601, -73.89217338112864], [40.77596522876096, -73.98764554944384], [40.78043643718997, -73.95701169835736], [40.75668765218882, -73.97235594352028], [40.80197049389963, -73.96547951516966], [40.78043643718997, -73.95701169835736], [40.78043643718997, -73.95701169835736], [40.804333949794604, -73.9512920024351], [40.77876585543437, -73.95100987481798], [40.75672894163307, -73.96514579918421], [40.791704934427074, -73.97304890061594], [40.77876585543437, -73.95100987481798], [40.717772736265175, -74.00787970866403], [40.74991407790217, -73.97044256869238], [40.74857462935672, -73.98515639467684], [40.758028043526274, -73.97769793122403], [40.766948216383234, -73.9596347414917], [40.76861518381155, -73.96563453538072], [40.76861518381155, -73.96563453538072], [40.76861518381155, -73.96563453538072], [40.74033744175702, -73.99045782354733], [40.76861518381155, -73.96563453538072], [40.731820636016764, -73.97659767323344], [40.7644214057868, -73.97756868222719], [40.77596522876096, -73.98764554944384], [40.76861518381155, -73.96563453538072], [40.73257907302703, -73.99430477051168], [40.7736332930271, -73.98153220639182], [40.75672894163307, -73.96514579918421], [40.804333949794604, -73.9512920024351], [40.78396143031378, -73.97863194845081], [40.717772736265175, -74.00787970866403], [40.736824057618975, -73.98405213268919], [40.73257907302703, -73.99430477051168], [40.762252755319366, -73.98984464313301], [40.73457600733177, -74.00287495910837], [40.78043643718997, -73.95701169835736], [40.748497181405, -73.99243753697608], [40.76861518381155, -73.96563453538072], [40.75668765218882, -73.97235594352028], [40.81825786111924, -73.94077166756266], [40.77596522876096, -73.98764554944384], [40.74857462935672, -73.98515639467684], [40.766948216383234, -73.9596347414917], [40.74227862901228, -73.99697141558364], [40.74423471780147, -73.90630644197877], [40.765484087889845, -73.95473878380503], [40.766948216383234, -73.9596347414917], [40.81825786111924, -73.94077166756266], [40.74227862901228, -73.99697141558364], [40.75351275872571, -73.9887865991153], [40.74991407790217, -73.97044256869238], [40.753309065983395, -74.00401512528647], [40.79796199310004, -73.9681683330924], [40.77596522876096, -73.98764554944384], [40.75981761719184, -73.98419648907571], [40.78043643718997, -73.95701169835736], [40.747745793643915, -73.97849159965226], [40.73457600733177, -74.00287495910837], [40.78043643718997, -73.95701169835736], [40.766948216383234, -73.9596347414917], [40.75668765218882, -73.97235594352028], [40.8011694805865, -73.9373456081249], [40.747745793643915, -73.97849159965226], [40.74857462935672, -73.98515639467684], [40.765484087889845, -73.95473878380503], [40.717772736265175, -74.00787970866403], [40.72388811004171, -74.00153756565634], [40.75981761719184, -73.98419648907571], [40.77596522876096, -73.98764554944384], [40.70680845166585, -74.0074959856243], [40.78043643718997, -73.95701169835736], [40.62627276333639, -73.93009701219934], [40.79001075149545, -73.94575026755156], [40.77596522876096, -73.98764554944384], [40.79796199310004, -73.9681683330924], [40.78043643718997, -73.95701169835736], [40.63790012347376, -73.96096824906373], [40.70680845166585, -74.0074959856243], [40.7404389785964, -73.97649472376757], [40.79001075149545, -73.94575026755156], [40.71893835938025, -73.99089626184734], [40.7404389785964, -73.97649472376757], [40.73257907302703, -73.99430477051168], [40.78043643718997, -73.95701169835736], [40.74991407790217, -73.97044256869238], [40.758028043526274, -73.97769793122403], [40.77876585543437, -73.95100987481798], [40.748427555065724, -73.99991742024713], [40.78396143031378, -73.97863194845081], [40.753309065983395, -74.00401512528647], [40.78043643718997, -73.95701169835736], [40.75668765218882, -73.97235594352028], [40.75668765218882, -73.97235594352028], [40.63897220516645, -74.10231250352726], [40.71893835938025, -73.99089626184734], [40.765484087889845, -73.95473878380503], [40.75981761719184, -73.98419648907571], [40.765484087889845, -73.95473878380503], [40.76861518381155, -73.96563453538072], [40.728340391372306, -73.99738026020043], [40.8011694805865, -73.9373456081249], [40.75668765218882, -73.97235594352028], [40.78043643718997, -73.95701169835736], [40.76861518381155, -73.96563453538072], [40.765484087889845, -73.95473878380503], [40.75981761719184, -73.98419648907571], [40.78396143031378, -73.97863194845081], [40.74033744175702, -73.99045782354733], [40.762252755319366, -73.98984464313301], [40.765484087889845, -73.95473878380503], [40.75672894163307, -73.96514579918421], [40.76861518381155, -73.96563453538072], [40.76861518381155, -73.96563453538072], [40.73257907302703, -73.99430477051168], [40.76861518381155, -73.96563453538072], [40.766948216383234, -73.9596347414917], [40.748497181405, -73.99243753697608], [40.71893835938025, -73.99089626184734], [40.85815519618405, -73.89953593442151], [40.766237725041876, -73.99513522075519], [40.73257907302703, -73.99430477051168], [40.78043643718997, -73.95701169835736], [40.64698489239519, -73.78653298334979], [40.758028043526274, -73.97769793122403], [40.75672894163307, -73.96514579918421], [40.7090727427931, -74.00366456329895], [40.64698489239519, -73.78653298334979], [40.79001075149545, -73.94575026755156], [40.78043643718997, -73.95701169835736], [40.76861518381155, -73.96563453538072], [40.77596522876096, -73.98764554944384], [40.78247809974789, -73.96555356545913], [40.753309065983395, -74.00401512528647], [40.78043643718997, -73.95701169835736], [40.75351275872571, -73.9887865991153], [40.78247809974789, -73.96555356545913], [40.75672894163307, -73.96514579918421], [40.7736332930271, -73.98153220639182], [40.748427555065724, -73.99991742024713], [40.78396143031378, -73.97863194845081], [40.76861518381155, -73.96563453538072], [40.791704934427074, -73.97304890061594], [40.75672894163307, -73.96514579918421], [40.72388811004171, -74.00153756565634], [40.765484087889845, -73.95473878380503], [40.76861518381155, -73.96563453538072], [40.747745793643915, -73.97849159965226], [40.74227862901228, -73.99697141558364], [40.758028043526274, -73.97769793122403], [40.77742692053278, -73.90540773409828], [40.748497181405, -73.99243753697608], [40.71473250693941, -73.9830245583349], [40.76861518381155, -73.96563453538072], [40.76861518381155, -73.96563453538072], [40.79796199310004, -73.9681683330924], [40.758028043526274, -73.97769793122403], [40.7736332930271, -73.98153220639182], [40.72143227502133, -73.84766941187527], [40.76861518381155, -73.96563453538072], [40.79001075149545, -73.94575026755156], [40.86607500072778, -73.91930823586193], [40.758028043526274, -73.97769793122403], [40.78043643718997, -73.95701169835736], [40.74033744175702, -73.99045782354733], [40.72399507493355, -73.9023296813137], [40.76861518381155, -73.96563453538072], [40.736824057618975, -73.98405213268919], [40.7644214057868, -73.97756868222719], [40.76861518381155, -73.96563453538072], [40.762252755319366, -73.98984464313301], [40.747745793643915, -73.97849159965226], [40.70652679441957, -73.90170926444723], [40.84274917609802, -73.90031590586487], [40.79001075149545, -73.94575026755156], [40.80945696112528, -73.96176359682921], [40.70680845166585, -74.0074959856243], [40.85440471268924, -73.85439380221179], [40.791704934427074, -73.97304890061594], [40.76861518381155, -73.96563453538072], [40.75981761719184, -73.98419648907571], [40.78043643718997, -73.95701169835736], [40.75981761719184, -73.98419648907571], [40.75981761719184, -73.98419648907571], [40.717772736265175, -74.00787970866403], [40.82701265492538, -73.9485217302088], [40.748427555065724, -73.99991742024713], [40.73457600733177, -74.00287495910837], [40.71203815707447, -74.01607915192923], [40.736824057618975, -73.98405213268919], [40.74227862901228, -73.99697141558364], [40.7736332930271, -73.98153220639182], [40.747745793643915, -73.97849159965226], [40.7404389785964, -73.97649472376757], [40.78043643718997, -73.95701169835736], [40.804333949794604, -73.9512920024351], [40.76861518381155, -73.96563453538072], [40.766237725041876, -73.99513522075519], [40.74991407790217, -73.97044256869238], [40.72088889344527, -73.99691854183823], [40.758028043526274, -73.97769793122403], [40.79001075149545, -73.94575026755156], [40.804333949794604, -73.9512920024351], [40.78043643718997, -73.95701169835736], [40.74857462935672, -73.98515639467684], [40.758028043526274, -73.97769793122403], [40.748427555065724, -73.99991742024713], [40.89793202529465, -73.85221545370119], [40.78396143031378, -73.97863194845081], [40.78043643718997, -73.95701169835736], [40.731820636016764, -73.97659767323344], [40.72088889344527, -73.99691854183823], [40.78043643718997, -73.95701169835736], [40.72399507493355, -73.9023296813137], [40.791704934427074, -73.97304890061594], [40.75668765218882, -73.97235594352028], [40.79796199310004, -73.9681683330924], [40.73457600733177, -74.00287495910837], [40.81797514762944, -73.95378223705632], [40.717772736265175, -74.00787970866403], [40.748497181405, -73.99243753697608], [40.71473250693941, -73.9830245583349], [40.73257907302703, -73.99430477051168], [40.77876585543437, -73.95100987481798], [40.75351275872571, -73.9887865991153], [40.766237725041876, -73.99513522075519], [40.766948216383234, -73.9596347414917], [40.7404389785964, -73.97649472376757], [40.78396143031378, -73.97863194845081], [40.79796199310004, -73.9681683330924], [40.78043643718997, -73.95701169835736], [40.7090727427931, -74.00366456329895], [40.78043643718997, -73.95701169835736], [40.857108283314425, -73.93283148761294], [40.766948216383234, -73.9596347414917], [40.77596522876096, -73.98764554944384], [40.78396143031378, -73.97863194845081], [40.74033744175702, -73.99045782354733], [40.78247809974789, -73.96555356545913], [40.765484087889845, -73.95473878380503], [40.766237725041876, -73.99513522075519], [40.727620195909545, -73.9859374568246], [40.748427555065724, -73.99991742024713], [40.762252755319366, -73.98984464313301], [40.75668765218882, -73.97235594352028], [40.758028043526274, -73.97769793122403], [40.75668765218882, -73.97235594352028], [40.728340391372306, -73.99738026020043], [40.7108799333774, -73.95990462730533], [40.762252755319366, -73.98984464313301], [40.765484087889845, -73.95473878380503], [40.7644214057868, -73.97756868222719], [40.758028043526274, -73.97769793122403], [40.758028043526274, -73.97769793122403], [40.7644214057868, -73.97756868222719], [40.73257907302703, -73.99430477051168], [40.79001075149545, -73.94575026755156], [40.75672894163307, -73.96514579918421], [40.74991407790217, -73.97044256869238], [40.765484087889845, -73.95473878380503], [40.7736332930271, -73.98153220639182], [40.758028043526274, -73.97769793122403], [40.78043643718997, -73.95701169835736], [40.67763538934728, -73.96758681222953], [40.747745793643915, -73.97849159965226], [40.748427555065724, -73.99991742024713], [40.747745793643915, -73.97849159965226], [40.71893835938025, -73.99089626184734], [40.77437570593249, -73.87362864289108], [40.78043643718997, -73.95701169835736], [40.79001075149545, -73.94575026755156], [40.67763538934728, -73.96758681222953], [40.74033744175702, -73.99045782354733], [40.78043643718997, -73.95701169835736], [40.76861518381155, -73.96563453538072], [40.766237725041876, -73.99513522075519], [40.736824057618975, -73.98405213268919], [40.791704934427074, -73.97304890061594], [40.8011694805865, -73.9373456081249], [40.7644214057868, -73.97756868222719], [40.76110218983437, -73.82885869884261], [40.72088889344527, -73.99691854183823], [40.791704934427074, -73.97304890061594], [40.77876585543437, -73.95100987481798], [40.76861518381155, -73.96563453538072], [40.762252755319366, -73.98984464313301], [40.79796199310004, -73.9681683330924], [40.75672894163307, -73.96514579918421], [40.753309065983395, -74.00401512528647], [40.736824057618975, -73.98405213268919], [40.728340391372306, -73.99738026020043], [40.75668765218882, -73.97235594352028], [40.73457600733177, -74.00287495910837], [40.766948216383234, -73.9596347414917], [40.753309065983395, -74.00401512528647], [40.731820636016764, -73.97659767323344], [40.74033744175702, -73.99045782354733], [40.74227862901228, -73.99697141558364], [40.76861518381155, -73.96563453538072], [40.78247809974789, -73.96555356545913], [40.71893835938025, -73.99089626184734], [40.77876585543437, -73.95100987481798], [40.727620195909545, -73.9859374568246], [40.78043643718997, -73.95701169835736], [40.80945696112528, -73.96176359682921], [40.78043643718997, -73.95701169835736], [40.762252755319366, -73.98984464313301], [40.728340391372306, -73.99738026020043], [40.7644214057868, -73.97756868222719], [40.73257907302703, -73.99430477051168], [40.75668765218882, -73.97235594352028], [40.77437570593249, -73.87362864289108], [40.727620195909545, -73.9859374568246], [40.7644214057868, -73.97756868222719], [40.736824057618975, -73.98405213268919], [40.74991407790217, -73.97044256869238], [40.74991407790217, -73.97044256869238], [40.765484087889845, -73.95473878380503], [40.766948216383234, -73.9596347414917], [40.8011694805865, -73.9373456081249], [40.7736332930271, -73.98153220639182], [40.71893835938025, -73.99089626184734], [40.766948216383234, -73.9596347414917], [40.7404389785964, -73.97649472376757], [40.736824057618975, -73.98405213268919], [40.77596522876096, -73.98764554944384], [40.74033744175702, -73.99045782354733], [40.74991407790217, -73.97044256869238], [40.709138940671856, -74.013022771749], [40.717772736265175, -74.00787970866403], [40.758028043526274, -73.97769793122403], [40.74033744175702, -73.99045782354733], [40.79001075149545, -73.94575026755156], [40.75731206303919, -73.88531724061082], [40.76861518381155, -73.96563453538072], [40.62627276333639, -73.93009701219934], [40.7736332930271, -73.98153220639182], [40.80945696112528, -73.96176359682921], [40.75672894163307, -73.96514579918421], [40.817858557708156, -73.85813498781437], [40.766948216383234, -73.9596347414917], [40.747745793643915, -73.97849159965226], [40.69454235438128, -73.8309240744999], [40.766948216383234, -73.9596347414917], [40.79796199310004, -73.9681683330924], [40.762252755319366, -73.98984464313301], [40.74033744175702, -73.99045782354733], [40.758028043526274, -73.97769793122403], [40.758028043526274, -73.97769793122403], [40.76861518381155, -73.96563453538072], [40.74857462935672, -73.98515639467684], [40.74537943399859, -73.94889145447952], [40.69579822121126, -73.99525011996623], [40.8011694805865, -73.9373456081249], [40.758028043526274, -73.97769793122403], [40.7404389785964, -73.97649472376757], [40.77596522876096, -73.98764554944384], [40.77876585543437, -73.95100987481798], [40.74227862901228, -73.99697141558364], [40.76861518381155, -73.96563453538072], [40.71893835938025, -73.99089626184734], [40.75981761719184, -73.98419648907571], [40.7404389785964, -73.97649472376757], [40.728340391372306, -73.99738026020043], [40.727620195909545, -73.9859374568246], [40.765484087889845, -73.95473878380503], [40.7736332930271, -73.98153220639182], [40.79796199310004, -73.9681683330924], [40.72088889344527, -73.99691854183823], [40.78043643718997, -73.95701169835736], [40.7736332930271, -73.98153220639182], [40.71893835938025, -73.99089626184734], [40.753309065983395, -74.00401512528647], [40.7376989564444, -73.92467306585043], [40.77876585543437, -73.95100987481798], [40.6609351965506, -73.87682061127201], [40.791704934427074, -73.97304890061594], [40.775932403149945, -73.94651035601463], [40.78043643718997, -73.95701169835736], [40.78043643718997, -73.95701169835736], [40.736824057618975, -73.98405213268919], [40.766948216383234, -73.9596347414917], [40.78396143031378, -73.97863194845081], [40.791704934427074, -73.97304890061594], [40.75731206303919, -73.88531724061082], [40.78043643718997, -73.95701169835736], [40.79796199310004, -73.9681683330924], [40.766948216383234, -73.9596347414917], [40.727620195909545, -73.9859374568246], [40.73548677976334, -73.72665537528704], [40.74033744175702, -73.99045782354733], [40.71833677001376, -73.88005140814955], [40.77876585543437, -73.95100987481798], [40.841708771119784, -73.94139910573644], [40.74991407790217, -73.97044256869238], [40.753309065983395, -74.00401512528647], [40.747745793643915, -73.97849159965226], [40.7736332930271, -73.98153220639182], [40.74857462935672, -73.98515639467684], [40.748497181405, -73.99243753697608], [40.78043643718997, -73.95701169835736], [40.78043643718997, -73.95701169835736], [40.73503540069664, -74.0089841047853], [40.78396143031378, -73.97863194845081], [40.765484087889845, -73.95473878380503], [40.77596522876096, -73.98764554944384], [40.75672894163307, -73.96514579918421], [40.78043643718997, -73.95701169835736], [40.7736332930271, -73.98153220639182], [40.748427555065724, -73.99991742024713], [40.73503540069664, -74.0089841047853], [40.76861518381155, -73.96563453538072], [40.76861518381155, -73.96563453538072], [40.74227862901228, -73.99697141558364], [40.74227862901228, -73.99697141558364], [40.78043643718997, -73.95701169835736], [40.762252755319366, -73.98984464313301], [40.74033744175702, -73.99045782354733], [40.791704934427074, -73.97304890061594], [40.78043643718997, -73.95701169835736], [40.74033744175702, -73.99045782354733], [40.78043643718997, -73.95701169835736], [40.75668765218882, -73.97235594352028], [40.8011694805865, -73.9373456081249], [40.74857462935672, -73.98515639467684], [40.74033744175702, -73.99045782354733], [40.72950628420885, -73.94954030482212], [40.7376989564444, -73.92467306585043], [40.7736332930271, -73.98153220639182], [40.7644214057868, -73.97756868222719], [40.758028043526274, -73.97769793122403], [40.7108799333774, -73.95990462730533], [40.7736332930271, -73.98153220639182], [40.85440471268924, -73.85439380221179], [40.80734716766524, -73.9168219380646], [40.762252755319366, -73.98984464313301], [40.7644214057868, -73.97756868222719], [40.765484087889845, -73.95473878380503], [40.80945696112528, -73.96176359682921], [40.84905837739125, -73.90512221938542], [40.775932403149945, -73.94651035601463], [40.78043643718997, -73.95701169835736], [40.762252755319366, -73.98984464313301], [40.78043643718997, -73.95701169835736], [40.75351275872571, -73.9887865991153], [40.75981761719184, -73.98419648907571], [40.76861518381155, -73.96563453538072], [40.78396143031378, -73.97863194845081], [40.71893835938025, -73.99089626184734], [40.76861518381155, -73.96563453538072], [40.765484087889845, -73.95473878380503], [40.76861518381155, -73.96563453538072], [40.766948216383234, -73.9596347414917], [40.76861518381155, -73.96563453538072], [40.75668765218882, -73.97235594352028], [40.747745793643915, -73.97849159965226], [40.78396143031378, -73.97863194845081], [40.78043643718997, -73.95701169835736], [40.78396143031378, -73.97863194845081], [40.81825786111924, -73.94077166756266], [40.75668765218882, -73.97235594352028], [40.765484087889845, -73.95473878380503], [40.74033744175702, -73.99045782354733], [40.74033744175702, -73.99045782354733], [40.709138940671856, -74.013022771749], [40.75672894163307, -73.96514579918421], [40.758028043526274, -73.97769793122403], [40.75351275872571, -73.9887865991153], [40.77876585543437, -73.95100987481798], [40.74991407790217, -73.97044256869238], [40.828988230484576, -73.92440873264253], [40.79796199310004, -73.9681683330924], [40.89952906437649, -73.90698710771423], [40.74033744175702, -73.99045782354733], [40.736824057618975, -73.98405213268919], [40.758028043526274, -73.97769793122403], [40.78396143031378, -73.97863194845081], [40.8011694805865, -73.9373456081249], [40.74991407790217, -73.97044256869238], [40.78043643718997, -73.95701169835736], [40.717772736265175, -74.00787970866403], [40.70680845166585, -74.0074959856243], [40.76861518381155, -73.96563453538072], [40.73257907302703, -73.99430477051168], [40.70680845166585, -74.0074959856243], [40.717772736265175, -74.00787970866403], [40.841708771119784, -73.94139910573644], [40.736824057618975, -73.98405213268919], [40.828988230484576, -73.92440873264253], [40.79001075149545, -73.94575026755156], [40.82701265492538, -73.9485217302088], [40.76861518381155, -73.96563453538072], [40.75351275872571, -73.9887865991153], [40.758028043526274, -73.97769793122403], [40.74227862901228, -73.99697141558364], [40.7736332930271, -73.98153220639182], [40.717772736265175, -74.00787970866403], [40.74033744175702, -73.99045782354733], [40.75981761719184, -73.98419648907571], [40.74227862901228, -73.99697141558364], [40.791704934427074, -73.97304890061594], [40.71473250693941, -73.9830245583349], [40.736824057618975, -73.98405213268919], [40.791704934427074, -73.97304890061594], [40.75981761719184, -73.98419648907571], [40.762252755319366, -73.98984464313301], [40.79796199310004, -73.9681683330924], [40.79796199310004, -73.9681683330924], [40.736824057618975, -73.98405213268919], [40.74227862901228, -73.99697141558364], [40.75668765218882, -73.97235594352028], [40.74033744175702, -73.99045782354733], [40.78396143031378, -73.97863194845081], [40.758028043526274, -73.97769793122403], [40.765484087889845, -73.95473878380503], [40.747745793643915, -73.97849159965226], [40.791704934427074, -73.97304890061594], [40.78333304726095, -73.78597227877705], [40.727620195909545, -73.9859374568246], [40.758028043526274, -73.97769793122403], [40.75668765218882, -73.97235594352028], [40.8011694805865, -73.9373456081249], [40.728340391372306, -73.99738026020043], [40.83141669708519, -73.91502929553265], [40.77596522876096, -73.98764554944384], [40.80945696112528, -73.96176359682921], [40.78043643718997, -73.95701169835736], [40.775932403149945, -73.94651035601463], [40.74033744175702, -73.99045782354733], [40.76861518381155, -73.96563453538072], [40.76861518381155, -73.96563453538072], [40.791704934427074, -73.97304890061594], [40.74991407790217, -73.97044256869238], [40.766948216383234, -73.9596347414917], [40.731820636016764, -73.97659767323344], [40.75351275872571, -73.9887865991153], [40.78043643718997, -73.95701169835736], [40.753309065983395, -74.00401512528647], [40.7644214057868, -73.97756868222719], [40.791704934427074, -73.97304890061594], [40.75672894163307, -73.96514579918421], [40.731820636016764, -73.97659767323344], [40.747745793643915, -73.97849159965226], [40.78396143031378, -73.97863194845081], [40.79001075149545, -73.94575026755156], [40.71893835938025, -73.99089626184734], [40.74857462935672, -73.98515639467684], [40.75981761719184, -73.98419648907571], [40.8011694805865, -73.9373456081249], [40.8011694805865, -73.9373456081249], [40.765484087889845, -73.95473878380503], [40.758028043526274, -73.97769793122403], [40.727620195909545, -73.9859374568246], [40.78396143031378, -73.97863194845081], [40.78247809974789, -73.96555356545913], [40.75351275872571, -73.9887865991153], [40.766948216383234, -73.9596347414917], [40.731820636016764, -73.97659767323344], [40.727620195909545, -73.9859374568246], [40.747745793643915, -73.97849159965226], [40.762252755319366, -73.98984464313301], [40.804333949794604, -73.9512920024351], [40.775932403149945, -73.94651035601463], [40.748497181405, -73.99243753697608], [40.748497181405, -73.99243753697608], [40.81825786111924, -73.94077166756266], [40.766948216383234, -73.9596347414917], [40.78043643718997, -73.95701169835736], [40.74227862901228, -73.99697141558364], [40.79001075149545, -73.94575026755156], [40.78247809974789, -73.96555356545913], [40.7404389785964, -73.97649472376757], [40.71473250693941, -73.9830245583349], [40.731820636016764, -73.97659767323344], [40.691507494880646, -73.94990503507506], [40.748427555065724, -73.99991742024713], [40.709138940671856, -74.013022771749], [40.78043643718997, -73.95701169835736], [40.67446941826648, -73.93928705867958], [40.717772736265175, -74.00787970866403], [40.775932403149945, -73.94651035601463], [40.791704934427074, -73.97304890061594], [40.73457600733177, -74.00287495910837], [40.748427555065724, -73.99991742024713], [40.748427555065724, -73.99991742024713], [40.76861518381155, -73.96563453538072], [40.7736332930271, -73.98153220639182], [40.791704934427074, -73.97304890061594], [40.791704934427074, -73.97304890061594], [40.72388811004171, -74.00153756565634], [40.75668765218882, -73.97235594352028], [40.76861518381155, -73.96563453538072], [40.72065523874957, -73.77610076139926], [40.78043643718997, -73.95701169835736], [40.717772736265175, -74.00787970866403], [40.75981761719184, -73.98419648907571], [40.76861518381155, -73.96563453538072], [40.74423471780147, -73.90630644197877], [40.748497181405, -73.99243753697608], [40.76861518381155, -73.96563453538072], [40.709138940671856, -74.013022771749], [40.73257907302703, -73.99430477051168], [40.77876585543437, -73.95100987481798], [40.7736332930271, -73.98153220639182], [40.75668765218882, -73.97235594352028], [40.75351275872571, -73.9887865991153], [40.766948216383234, -73.9596347414917], [40.73257907302703, -73.99430477051168], [40.728340391372306, -73.99738026020043], [40.74857462935672, -73.98515639467684], [40.7736332930271, -73.98153220639182], [40.78043643718997, -73.95701169835736], [40.75672894163307, -73.96514579918421], [40.74227862901228, -73.99697141558364], [40.79001075149545, -73.94575026755156], [40.73503540069664, -74.0089841047853], [40.791704934427074, -73.97304890061594], [40.79796199310004, -73.9681683330924], [40.791704934427074, -73.97304890061594], [40.766948216383234, -73.9596347414917], [40.7404389785964, -73.97649472376757], [40.68796745714746, -73.96236353818358], [40.74033744175702, -73.99045782354733], [40.7736332930271, -73.98153220639182], [40.652364804077415, -73.92225097400492], [40.727620195909545, -73.9859374568246], [40.78247809974789, -73.96555356545913], [40.77596522876096, -73.98764554944384], [40.85440471268924, -73.85439380221179], [40.791704934427074, -73.97304890061594], [40.79796199310004, -73.9681683330924], [40.78247809974789, -73.96555356545913], [40.8011694805865, -73.9373456081249], [40.804333949794604, -73.9512920024351], [40.78396143031378, -73.97863194845081], [40.758028043526274, -73.97769793122403], [40.753309065983395, -74.00401512528647], [40.7644214057868, -73.97756868222719], [40.8577466809159, -73.8754759505304], [40.73257907302703, -73.99430477051168], [40.748497181405, -73.99243753697608], [40.76861518381155, -73.96563453538072], [40.77596522876096, -73.98764554944384], [40.7644214057868, -73.97756868222719], [40.81825786111924, -73.94077166756266], [40.758028043526274, -73.97769793122403], [40.766948216383234, -73.9596347414917], [40.78396143031378, -73.97863194845081], [40.766948216383234, -73.9596347414917], [40.736824057618975, -73.98405213268919], [40.775932403149945, -73.94651035601463], [40.717772736265175, -74.00787970866403], [40.73503540069664, -74.0089841047853], [40.804333949794604, -73.9512920024351], [40.75668765218882, -73.97235594352028], [40.78043643718997, -73.95701169835736], [40.7644214057868, -73.97756868222719], [40.78043643718997, -73.95701169835736], [40.62092404874623, -73.95682460583801], [40.747745793643915, -73.97849159965226], [40.72388811004171, -74.00153756565634], [40.74227862901228, -73.99697141558364], [40.766948216383234, -73.9596347414917], [40.758028043526274, -73.97769793122403], [40.75668765218882, -73.97235594352028], [40.72388811004171, -74.00153756565634], [40.75668765218882, -73.97235594352028], [40.73457600733177, -74.00287495910837], [40.70680845166585, -74.0074959856243], [40.74033744175702, -73.99045782354733], [40.78247809974789, -73.96555356545913], [40.70335790323615, -74.01151502922325], [40.736824057618975, -73.98405213268919], [40.8011694805865, -73.9373456081249], [40.87651237544555, -73.8956200178548], [40.748427555065724, -73.99991742024713], [40.75981761719184, -73.98419648907571], [40.74537943399859, -73.94889145447952], [40.747745793643915, -73.97849159965226], [40.78043643718997, -73.95701169835736], [40.766948216383234, -73.9596347414917], [40.74227862901228, -73.99697141558364], [40.74991407790217, -73.97044256869238], [40.77876585543437, -73.95100987481798], [40.753309065983395, -74.00401512528647], [40.73457600733177, -74.00287495910837], [40.78247809974789, -73.96555356545913], [40.727620195909545, -73.9859374568246], [40.857108283314425, -73.93283148761294], [40.73257907302703, -73.99430477051168], [40.75672894163307, -73.96514579918421], [40.75731206303919, -73.88531724061082], [40.78043643718997, -73.95701169835736], [40.748497181405, -73.99243753697608], [40.80945696112528, -73.96176359682921], [40.652364804077415, -73.92225097400492], [40.81825974768987, -73.91284939799155], [40.7910007817113, -73.92459630024577], [40.78396143031378, -73.97863194845081], [40.76861518381155, -73.96563453538072], [40.75351275872571, -73.9887865991153], [40.758028043526274, -73.97769793122403], [40.736824057618975, -73.98405213268919], [40.74991407790217, -73.97044256869238], [40.78043643718997, -73.95701169835736], [40.74033744175702, -73.99045782354733], [40.791704934427074, -73.97304890061594], [40.758028043526274, -73.97769793122403], [40.75351275872571, -73.9887865991153], [40.736824057618975, -73.98405213268919], [40.74227862901228, -73.99697141558364], [40.748497181405, -73.99243753697608], [40.658744450856695, -73.94744164500473], [40.77437570593249, -73.87362864289108], [40.61961946783515, -74.0138014874401], [40.679199014097094, -73.99595619089146], [40.658247961230586, -73.8449185843852], [40.76861518381155, -73.96563453538072], [40.6248349236082, -74.02989237418782], [40.74423471780147, -73.90630644197877], [40.70335790323615, -74.01151502922325], [40.670374325917265, -73.98141374048753], [40.827902148587405, -73.86967965711676], [40.81825786111924, -73.94077166756266], [40.76149256216374, -73.91969431946067], [40.748497181405, -73.99243753697608], [40.65235464953843, -74.01127116962884], [40.81207445859209, -73.88553752149427], [40.63094965524547, -73.98866123078287], [40.74227862901228, -73.99697141558364], [40.741406774829755, -73.85884524943998], [40.75181936699946, -73.85358156034265], [40.652364804077415, -73.92225097400492], [40.74537943399859, -73.94889145447952], [40.717772736265175, -74.00787970866403], [40.76149256216374, -73.91969431946067], [40.679199014097094, -73.99595619089146], [40.71833677001376, -73.88005140814955], [40.74423471780147, -73.90630644197877], [40.81207445859209, -73.88553752149427], [40.69454235438128, -73.8309240744999], [40.685633741320636, -73.98611382213662], [40.80945696112528, -73.96176359682921], [40.709138940671856, -74.013022771749], [40.841708771119784, -73.94139910573644], [40.63094965524547, -73.98866123078287], [40.8011694805865, -73.9373456081249], [40.71245931177952, -73.99815149899052], [40.72950628420885, -73.94954030482212], [40.72388811004171, -74.00153756565634], [40.86526419152494, -73.90591118270515], [40.85440471268924, -73.85439380221179], [40.658744450856695, -73.94744164500473], [40.75672894163307, -73.96514579918421], [40.6609351965506, -73.87682061127201], [40.83141669708519, -73.91502929553265], [40.753309065983395, -74.00401512528647], [40.76149256216374, -73.91969431946067], [40.685633741320636, -73.98611382213662], [40.70652679441957, -73.90170926444723], [40.64698489239519, -73.78653298334979], [40.73949564677819, -73.87711833280915], [40.81207445859209, -73.88553752149427], [40.69120144680612, -73.76314612543838], [40.72143227502133, -73.84766941187527], [40.67351279686077, -73.99064727363114], [40.765484087889845, -73.95473878380503], [40.7376989564444, -73.92467306585043], [40.877137602876616, -73.87902225226024], [40.67763538934728, -73.96758681222953], [40.71880391812993, -73.95741813122187], [40.75351275872571, -73.9887865991153], [40.87397305492026, -73.82826367307182], [40.84905837739125, -73.90512221938542], [40.762252755319366, -73.98984464313301], [40.688168186954954, -73.93188826440708], [40.73457600733177, -74.00287495910837], [40.85440471268924, -73.85439380221179], [40.736824057618975, -73.98405213268919], [40.72143227502133, -73.84766941187527], [40.75668765218882, -73.97235594352028], [40.81797514762944, -73.95378223705632], [40.74227862901228, -73.99697141558364], [40.69499431844209, -73.92224002165722], [40.84496041014609, -73.8855218158743], [40.791704934427074, -73.97304890061594], [40.658744450856695, -73.94744164500473], [40.72065523874957, -73.77610076139926], [40.70805099798807, -73.82871246597531], [40.694427554088776, -73.79096393223055], [40.75981761719184, -73.98419648907571], [40.74423471780147, -73.90630644197877], [40.67664410104018, -73.91363213611348], [40.80734716766524, -73.9168219380646], [40.69579822121126, -73.99525011996623], [40.8525211492635, -73.91597542466437], [40.71159635794509, -73.80872901637517], [40.7108799333774, -73.95990462730533], [40.65235464953843, -74.01127116962884], [40.717772736265175, -74.00787970866403], [40.73832381382601, -73.89217338112864], [40.65785341801937, -73.73947255987292], [40.64188631576521, -74.00465205914723], [40.688168186954954, -73.93188826440708], [40.8011694805865, -73.9373456081249], [40.84678289580979, -73.8506705770834], [40.73257907302703, -73.99430477051168], [40.709138940671856, -74.013022771749], [40.7108799333774, -73.95990462730533], [40.75731206303919, -73.88531724061082], [40.74227862901228, -73.99697141558364], [40.728340391372306, -73.99738026020043], [40.758028043526274, -73.97769793122403], [40.71880391812993, -73.95741813122187], [40.78043643718997, -73.95701169835736], [40.753309065983395, -74.00401512528647], [40.75668765218882, -73.97235594352028], [40.67446941826648, -73.93928705867958], [40.762252755319366, -73.98984464313301], [40.65785341801937, -73.73947255987292], [40.69579822121126, -73.99525011996623], [40.76149256216374, -73.91969431946067], [40.676154037213784, -73.81945963682762], [40.86827620354774, -73.80785726631278], [40.76149256216374, -73.91969431946067], [40.6248349236082, -74.02989237418782], [40.70680845166585, -74.0074959856243], [40.69499431844209, -73.92224002165722], [40.74537943399859, -73.94889145447952], [40.86607500072778, -73.91930823586193], [40.69533752946114, -73.98608600498397], [40.71893835938025, -73.99089626184734], [40.67763538934728, -73.96758681222953], [40.82751255686402, -73.90235177500071], [40.61731493715172, -73.97032580128298], [40.8011694805865, -73.9373456081249], [40.75351275872571, -73.9887865991153], [40.62092404874623, -73.95682460583801], [40.791704934427074, -73.97304890061594], [40.804333949794604, -73.9512920024351], [40.89793202529465, -73.85221545370119], [40.80734716766524, -73.9168219380646], [40.817858557708156, -73.85813498781437], [40.63803713911708, -73.89973495669392], [40.728340391372306, -73.99738026020043], [40.63790012347376, -73.96096824906373], [40.765484087889845, -73.95473878380503], [40.75731206303919, -73.88531724061082], [40.67446941826648, -73.93928705867958], [40.74537943399859, -73.94889145447952], [40.66400311792599, -73.91025783136136], [40.7108799333774, -73.95990462730533], [40.828988230484576, -73.92440873264253], [40.766237725041876, -73.99513522075519], [40.80197049389963, -73.96547951516966], [40.766237725041876, -73.99513522075519], [40.74033744175702, -73.99045782354733], [40.827902148587405, -73.86967965711676], [40.86768245607542, -73.89018328872031], [40.73548677976334, -73.72665537528704], [40.68796745714746, -73.96236353818358], [40.75981761719184, -73.98419648907571], [40.69533752946114, -73.98608600498397], [40.63790012347376, -73.96096824906373], [40.748497181405, -73.99243753697608], [40.834165316827594, -73.87228927297001], [40.87651237544555, -73.8956200178548], [40.63790012347376, -73.96096824906373], [40.61221825780563, -73.99525857986231], [40.72950628420885, -73.94954030482212], [40.69120144680612, -73.76314612543838], [40.81797514762944, -73.95378223705632], [40.61221825780563, -73.99525857986231], [40.748427555065724, -73.99991742024713], [40.76149256216374, -73.91969431946067], [40.75103502557233, -73.78794887777894], [40.77742692053278, -73.90540773409828], [40.765484087889845, -73.95473878380503], [40.66162215835685, -73.9689137427063], [40.68383976195102, -73.87817261050249], [40.762252755319366, -73.98984464313301], [40.72088889344527, -73.99691854183823], [40.7404389785964, -73.97649472376757], [40.77742692053278, -73.90540773409828], [40.74033744175702, -73.99045782354733], [40.7005221995192, -73.91771053131578], [40.67446941826648, -73.93928705867958], [40.7644214057868, -73.97756868222719], [40.71893835938025, -73.99089626184734], [40.74857462935672, -73.98515639467684], [40.762252755319366, -73.98984464313301], [40.69078679421093, -73.97488208618897], [40.877137602876616, -73.87902225226024], [40.748497181405, -73.99243753697608], [40.70805099798807, -73.82871246597531], [40.762252755319366, -73.98984464313301], [40.87651237544555, -73.8956200178548], [40.73457600733177, -74.00287495910837], [40.753309065983395, -74.00401512528647], [40.758028043526274, -73.97769793122403], [40.73949564677819, -73.87711833280915], [40.78396143031378, -73.97863194845081], [40.74537943399859, -73.94889145447952], [40.758028043526274, -73.97769793122403], [40.72143227502133, -73.84766941187527], [40.64698489239519, -73.78653298334979], [40.766948216383234, -73.9596347414917], [40.69454235438128, -73.8309240744999], [40.76861518381155, -73.96563453538072], [40.766948216383234, -73.9596347414917], [40.76149256216374, -73.91969431946067], [40.75410888689297, -73.80729418212229], [40.77742692053278, -73.90540773409828], [40.68796745714746, -73.96236353818358], [40.841708771119784, -73.94139910573644], [40.7005221995192, -73.91771053131578], [40.762252755319366, -73.98984464313301], [40.61797137588927, -74.08783880974954], [40.606447701027626, -74.17088688155245], [40.89793202529465, -73.85221545370119], [40.62092404874623, -73.95682460583801], [40.77437570593249, -73.87362864289108], [40.71880391812993, -73.95741813122187], [40.63094965524547, -73.98866123078287], [40.84496041014609, -73.8855218158743], [40.83782699169885, -73.92615723620783], [40.85440471268924, -73.85439380221179], [40.70805099798807, -73.82871246597531], [40.76110218983437, -73.82885869884261], [40.63790012347376, -73.96096824906373], [40.77437570593249, -73.87362864289108], [40.7736332930271, -73.98153220639182], [40.841708771119784, -73.94139910573644], [40.691507494880646, -73.94990503507506], [40.882157083047055, -73.8589482397575], [40.85440471268924, -73.85439380221179], [40.69454235438128, -73.8309240744999], [40.67709779790901, -73.74423435166717], [40.717772736265175, -74.00787970866403], [40.685633741320636, -73.98611382213662], [40.64698489239519, -73.78653298334979], [40.75351275872571, -73.9887865991153], [40.69579822121126, -73.99525011996623], [40.70680845166585, -74.0074959856243], [40.77437570593249, -73.87362864289108], [40.64188631576521, -74.00465205914723], [40.88093541148942, -73.83664334408303], [40.77437570593249, -73.87362864289108], [40.88093541148942, -73.83664334408303], [40.78819301672877, -73.81565681271003], [40.748427555065724, -73.99991742024713], [40.75981761719184, -73.98419648907571], [40.75731206303919, -73.88531724061082], [40.77742692053278, -73.90540773409828], [40.69579822121126, -73.99525011996623], [40.758028043526274, -73.97769793122403], [40.727620195909545, -73.9859374568246], [40.6609351965506, -73.87682061127201], [40.857108283314425, -73.93283148761294], [40.741406774829755, -73.85884524943998], [40.75181936699946, -73.85358156034265], [40.75981761719184, -73.98419648907571], [40.66218488071142, -73.76450578558227], [40.685633741320636, -73.98611382213662], [40.88240311320921, -73.91066467564433], [40.817858557708156, -73.85813498781437], [40.71203815707447, -74.01607915192923], [40.753309065983395, -74.00401512528647], [40.775932403149945, -73.94651035601463], [40.72088889344527, -73.99691854183823], [40.67763538934728, -73.96758681222953], [40.69078679421093, -73.97488208618897], [40.76110218983437, -73.82885869884261], [40.72143227502133, -73.84766941187527], [40.728340391372306, -73.99738026020043], [40.71893835938025, -73.99089626184734], [40.817858557708156, -73.85813498781437], [40.67446941826648, -73.93928705867958], [40.77742692053278, -73.90540773409828], [40.69078679421093, -73.97488208618897], [40.7736332930271, -73.98153220639182], [40.771570243583376, -73.92833318686121], [40.71473250693941, -73.9830245583349], [40.72837768325732, -73.82119590387465], [40.64188631576521, -74.00465205914723], [40.73257907302703, -73.99430477051168], [40.75668765218882, -73.97235594352028], [40.70436877745512, -73.79397965822719], [40.74537943399859, -73.94889145447952], [40.58047327426203, -73.94362872180562], [40.77437570593249, -73.87362864289108], [40.71203815707447, -74.01607915192923], [40.6248349236082, -74.02989237418782], [40.57798249377506, -73.8434528147781], [40.61221825780563, -73.99525857986231], [40.76861518381155, -73.96563453538072], [40.61731493715172, -73.97032580128298], [40.817858557708156, -73.85813498781437], [40.748497181405, -73.99243753697608], [40.6168800077118, -74.12534779829357], [40.736824057618975, -73.98405213268919], [40.73832381382601, -73.89217338112864], [40.728340391372306, -73.99738026020043], [40.7644214057868, -73.97756868222719], [40.69454235438128, -73.8309240744999], [40.727620195909545, -73.9859374568246], [40.69499431844209, -73.92224002165722], [40.658744450856695, -73.94744164500473], [40.7376989564444, -73.92467306585043], [40.74375148543156, -73.81522935845769], [40.75410888689297, -73.80729418212229], [40.8196759793049, -73.89895638182648], [40.753309065983395, -74.00401512528647], [40.69499431844209, -73.92224002165722], [40.64059007067449, -73.97619898951328], [40.747745793643915, -73.97849159965226], [40.64059007067449, -73.97619898951328], [40.72143227502133, -73.84766941187527], [40.6442881743892, -73.93796627061693], [40.72088889344527, -73.99691854183823], [40.60243279341671, -73.75524369679592], [40.7108799333774, -73.95990462730533], [40.69454235438128, -73.8309240744999], [40.83141669708519, -73.91502929553265], [40.727620195909545, -73.9859374568246], [40.77437570593249, -73.87362864289108], [40.74857462935672, -73.98515639467684], [40.747745793643915, -73.97849159965226], [40.748497181405, -73.99243753697608], [40.7542425205003, -73.93482888929137], [40.64698489239519, -73.78653298334979], [40.63094965524547, -73.98866123078287], [40.68796745714746, -73.96236353818358], [40.74537943399859, -73.94889145447952], [40.72388811004171, -74.00153756565634], [40.857108283314425, -73.93283148761294], [40.72615563957923, -73.86333855806274], [40.75981761719184, -73.98419648907571], [40.72950628420885, -73.94954030482212], [40.80734716766524, -73.9168219380646], [40.74537943399859, -73.94889145447952], [40.78043643718997, -73.95701169835736], [40.588403465290384, -73.98143115020056], [40.588403465290384, -73.98143115020056], [40.652364804077415, -73.92225097400492], [40.73503540069664, -74.0089841047853], [40.63094965524547, -73.98866123078287], [40.64698489239519, -73.78653298334979], [40.7644214057868, -73.97756868222719], [40.83141669708519, -73.91502929553265], [40.658744450856695, -73.94744164500473], [40.60491359556376, -73.94813559494118], [40.83141669708519, -73.91502929553265], [40.827902148587405, -73.86967965711676], [40.747745793643915, -73.97849159965226], [40.7736332930271, -73.98153220639182], [40.69579822121126, -73.99525011996623], [40.709138940671856, -74.013022771749], [40.85815519618405, -73.89953593442151], [40.84274917609802, -73.90031590586487], [40.646116346895084, -73.95162318261012], [40.804333949794604, -73.9512920024351], [40.72088889344527, -73.99691854183823], [40.741406774829755, -73.85884524943998], [40.75181936699946, -73.85358156034265], [40.67446941826648, -73.93928705867958], [40.7108799333774, -73.95990462730533], [40.76149256216374, -73.91969431946067], [40.766237725041876, -73.99513522075519], [40.691507494880646, -73.94990503507506], [40.71545451530519, -73.74153176997538], [40.75731206303919, -73.88531724061082], [40.804333949794604, -73.9512920024351], [40.804333949794604, -73.9512920024351], [40.658744450856695, -73.94744164500473], [40.614590989275726, -73.91527709386857], [40.87397305492026, -73.82826367307182], [40.758028043526274, -73.97769793122403], [40.89793202529465, -73.85221545370119], [40.736824057618975, -73.98405213268919], [40.85440471268924, -73.85439380221179], [40.658744450856695, -73.94744164500473], [40.71880391812993, -73.95741813122187], [40.8196759793049, -73.89895638182648], [40.7005221995192, -73.91771053131578], [40.86768245607542, -73.89018328872031], [40.84678289580979, -73.8506705770834], [40.6609351965506, -73.87682061127201], [40.715369882143555, -73.93679314491887], [40.65235464953843, -74.01127116962884], [40.5809219719338, -73.96121676866854], [40.86607500072778, -73.91930823586193], [40.57176889293261, -74.1050190072149], [40.7108799333774, -73.95990462730533], [40.80197049389963, -73.96547951516966], [40.86400220602362, -73.86490099876721], [40.63790012347376, -73.96096824906373], [40.728340391372306, -73.99738026020043], [40.715369882143555, -73.93679314491887], [40.7005221995192, -73.91771053131578], [40.67351279686077, -73.99064727363114], [40.63790012347376, -73.96096824906373], [40.741406774829755, -73.85884524943998], [40.75181936699946, -73.85358156034265], [40.758028043526274, -73.97769793122403], [40.670374325917265, -73.98141374048753], [40.69183120640148, -74.17400027276294], [40.78819301672877, -73.81565681271003], [40.87651237544555, -73.8956200178548], [40.694427554088776, -73.79096393223055], [40.84274917609802, -73.90031590586487], [40.652364804077415, -73.92225097400492], [40.63803713911708, -73.89973495669392], [40.80945696112528, -73.96176359682921], [40.679199014097094, -73.99595619089146], [40.83210165963212, -73.84864070062376], [40.75668765218882, -73.97235594352028], [40.894599127507, -73.88197807761944], [40.727620195909545, -73.9859374568246], [40.882157083047055, -73.8589482397575], [40.672089706767316, -73.77303565610487], [40.70436877745512, -73.79397965822719], [40.753309065983395, -74.00401512528647], [40.69183120640148, -74.17400027276294], [40.69183120640148, -74.17400027276294], [40.670374325917265, -73.98141374048753], [40.652364804077415, -73.92225097400492], [40.75410888689297, -73.80729418212229], [40.79001075149545, -73.94575026755156], [40.72399507493355, -73.9023296813137], [40.727620195909545, -73.9859374568246], [40.72143227502133, -73.84766941187527], [40.69078679421093, -73.97488208618897], [40.89952906437649, -73.90698710771423], [40.75981761719184, -73.98419648907571], [40.72143227502133, -73.84766941187527], [40.70680845166585, -74.0074959856243], [40.63897220516645, -74.10231250352726], [40.81825786111924, -73.94077166756266], [40.7108799333774, -73.95990462730533], [40.67446941826648, -73.93928705867958], [40.63790012347376, -73.96096824906373], [40.67709779790901, -73.74423435166717], [40.88093541148942, -73.83664334408303], [40.81207445859209, -73.88553752149427], [40.74033744175702, -73.99045782354733], [40.7108799333774, -73.95990462730533], [40.78396143031378, -73.97863194845081], [40.747745793643915, -73.97849159965226], [40.678953310115254, -73.79098635986958], [40.6248349236082, -74.02989237418782], [40.8011694805865, -73.9373456081249], [40.80734716766524, -73.9168219380646], [40.766948216383234, -73.9596347414917], [40.74423471780147, -73.90630644197877], [40.7644214057868, -73.97756868222719], [40.70335790323615, -74.01151502922325], [40.77437570593249, -73.87362864289108], [40.62627276333639, -73.93009701219934], [40.65235464953843, -74.01127116962884], [40.74033744175702, -73.99045782354733], [40.741406774829755, -73.85884524943998], [40.75181936699946, -73.85358156034265], [40.73503540069664, -74.0089841047853], [40.64698489239519, -73.78653298334979], [40.87397305492026, -73.82826367307182], [40.7404389785964, -73.97649472376757], [40.748427555065724, -73.99991742024713], [40.717772736265175, -74.00787970866403], [40.688168186954954, -73.93188826440708], [40.748497181405, -73.99243753697608], [40.64698489239519, -73.78653298334979], [40.75672894163307, -73.96514579918421], [40.748427555065724, -73.99991742024713], [40.64698489239519, -73.78653298334979], [40.8525211492635, -73.91597542466437], [40.61731493715172, -73.97032580128298], [40.71880391812993, -73.95741813122187], [40.67446941826648, -73.93928705867958], [40.804333949794604, -73.9512920024351], [40.58047327426203, -73.94362872180562], [40.72088889344527, -73.99691854183823], [40.71063928425106, -73.76113699730598], [40.64059007067449, -73.97619898951328], [40.694427554088776, -73.79096393223055], [40.69078679421093, -73.97488208618897], [40.70680845166585, -74.0074959856243], [40.762252755319366, -73.98984464313301], [40.646116346895084, -73.95162318261012], [40.75668765218882, -73.97235594352028], [40.66162215835685, -73.9689137427063], [40.72950628420885, -73.94954030482212], [40.72143227502133, -73.84766941187527], [40.670374325917265, -73.98141374048753], [40.670374325917265, -73.98141374048753], [40.753309065983395, -74.00401512528647], [40.66655893903527, -73.89536411750328], [40.68383976195102, -73.87817261050249], [40.62092404874623, -73.95682460583801], [40.70652679441957, -73.90170926444723], [40.77742692053278, -73.90540773409828], [40.8525211492635, -73.91597542466437], [40.69533752946114, -73.98608600498397], [40.63790012347376, -73.96096824906373], [40.791704934427074, -73.97304890061594], [40.7736332930271, -73.98153220639182], [40.83141669708519, -73.91502929553265], [40.76861518381155, -73.96563453538072], [40.68383976195102, -73.87817261050249], [40.74227862901228, -73.99697141558364], [40.715369882143555, -73.93679314491887], [40.84905837739125, -73.90512221938542], [40.688168186954954, -73.93188826440708], [40.8525211492635, -73.91597542466437], [40.64698489239519, -73.78653298334979], [40.685633741320636, -73.98611382213662], [40.87397305492026, -73.82826367307182], [40.817858557708156, -73.85813498781437], [40.80945696112528, -73.96176359682921], [40.691507494880646, -73.94990503507506], [40.75981761719184, -73.98419648907571], [40.7108799333774, -73.95990462730533], [40.74537943399859, -73.94889145447952], [40.71880391812993, -73.95741813122187], [40.82701265492538, -73.9485217302088], [40.765484087889845, -73.95473878380503], [40.762252755319366, -73.98984464313301], [40.76861518381155, -73.96563453538072], [40.762252755319366, -73.98984464313301], [40.723752141584804, -73.97696825691766], [40.688168186954954, -73.93188826440708], [40.70652679441957, -73.90170926444723], [40.60491359556376, -73.94813559494118], [40.76861518381155, -73.96563453538072], [40.791704934427074, -73.97304890061594], [40.670374325917265, -73.98141374048753], [40.69579822121126, -73.99525011996623], [40.67446941826648, -73.93928705867958], [40.753309065983395, -74.00401512528647], [40.74991407790217, -73.97044256869238], [40.73949564677819, -73.87711833280915], [40.717772736265175, -74.00787970866403], [40.736824057618975, -73.98405213268919], [40.78043643718997, -73.95701169835736], [40.73949564677819, -73.87711833280915], [40.60491359556376, -73.94813559494118], [40.83141669708519, -73.91502929553265], [40.72388811004171, -74.00153756565634], [40.62627276333639, -73.93009701219934], [40.74033744175702, -73.99045782354733], [40.77876585543437, -73.95100987481798], [40.841708771119784, -73.94139910573644], [40.69078679421093, -73.97488208618897], [40.84905837739125, -73.90512221938542], [40.69499431844209, -73.92224002165722], [40.7644214057868, -73.97756868222719], [40.5920234643643, -73.94050716694063], [40.6609351965506, -73.87682061127201], [40.66654040578564, -73.94878853931498], [40.87397305492026, -73.82826367307182], [40.72615563957923, -73.86333855806274], [40.76861518381155, -73.96563453538072], [40.628166874572, -74.14078750231764], [40.747745793643915, -73.97849159965226], [40.68796745714746, -73.96236353818358], [40.75410888689297, -73.80729418212229], [40.86768245607542, -73.89018328872031], [40.80945696112528, -73.96176359682921], [40.727620195909545, -73.9859374568246], [40.86768245607542, -73.89018328872031], [40.804333949794604, -73.9512920024351], [40.89793202529465, -73.85221545370119], [40.7108799333774, -73.95990462730533], [40.62627276333639, -73.93009701219934], [40.6609351965506, -73.87682061127201], [40.8525211492635, -73.91597542466437], [40.75351275872571, -73.9887865991153], [40.75731206303919, -73.88531724061082], [40.7005221995192, -73.91771053131578], [40.691507494880646, -73.94990503507506], [40.69078679421093, -73.97488208618897], [40.79796199310004, -73.9681683330924], [40.72837768325732, -73.82119590387465], [40.70436877745512, -73.79397965822719], [40.74537943399859, -73.94889145447952], [40.762252755319366, -73.98984464313301], [40.75668765218882, -73.97235594352028], [40.77596522876096, -73.98764554944384], [40.74423471780147, -73.90630644197877], [40.747745793643915, -73.97849159965226], [40.72088889344527, -73.99691854183823], [40.76110218983437, -73.82885869884261], [40.727620195909545, -73.9859374568246], [40.82751255686402, -73.90235177500071], [40.67763538934728, -73.96758681222953], [40.74227862901228, -73.99697141558364], [40.75672894163307, -73.96514579918421], [40.762252755319366, -73.98984464313301], [40.74033744175702, -73.99045782354733], [40.748427555065724, -73.99991742024713], [40.864473684775454, -73.84742223236714], [40.83210165963212, -73.84864070062376], [40.715369882143555, -73.93679314491887], [40.63094965524547, -73.98866123078287], [40.74033744175702, -73.99045782354733], [40.678953310115254, -73.79098635986958], [40.71245931177952, -73.99815149899052], [40.676154037213784, -73.81945963682762], [40.653611871336636, -73.97798241330011], [40.8525211492635, -73.91597542466437], [40.685633741320636, -73.98611382213662], [40.74857462935672, -73.98515639467684], [40.83141669708519, -73.91502929553265], [40.678953310115254, -73.79098635986958], [40.72088889344527, -73.99691854183823], [40.68383976195102, -73.87817261050249], [40.69499431844209, -73.92224002165722], [40.6168800077118, -74.12534779829357], [40.864473684775454, -73.84742223236714], [40.82701265492538, -73.9485217302088], [40.691507494880646, -73.94990503507506], [40.76861518381155, -73.96563453538072], [40.877137602876616, -73.87902225226024], [40.72950628420885, -73.94954030482212], [40.74857462935672, -73.98515639467684], [40.753309065983395, -74.00401512528647], [40.81825786111924, -73.94077166756266], [40.74991407790217, -73.97044256869238], [40.717772736265175, -74.00787970866403], [40.66655893903527, -73.89536411750328], [40.71473250693941, -73.9830245583349], [40.64698489239519, -73.78653298334979], [40.75351275872571, -73.9887865991153], [40.86400220602362, -73.86490099876721], [40.7108799333774, -73.95990462730533], [40.74991407790217, -73.97044256869238], [40.8491726171826, -73.83158179959668], [40.74033744175702, -73.99045782354733], [40.628166874572, -74.14078750231764], [40.834165316827594, -73.87228927297001], [40.73949564677819, -73.87711833280915], [40.76861518381155, -73.96563453538072], [40.72143227502133, -73.84766941187527], [40.7644214057868, -73.97756868222719], [40.78043643718997, -73.95701169835736], [40.670374325917265, -73.98141374048753], [40.8525211492635, -73.91597542466437], [40.841708771119784, -73.94139910573644], [40.882157083047055, -73.8589482397575], [40.857108283314425, -73.93283148761294], [40.75257923914961, -73.8630375448669], [40.75981761719184, -73.98419648907571], [40.66654040578564, -73.94878853931498], [40.75981761719184, -73.98419648907571], [40.804333949794604, -73.9512920024351], [40.685633741320636, -73.98611382213662], [40.67446941826648, -73.93928705867958], [40.70652679441957, -73.90170926444723], [40.64698489239519, -73.78653298334979], [40.791704934427074, -73.97304890061594], [40.7404389785964, -73.97649472376757], [40.75981761719184, -73.98419648907571], [40.70805099798807, -73.82871246597531], [40.6609351965506, -73.87682061127201], [40.652364804077415, -73.92225097400492], [40.76110218983437, -73.82885869884261], [40.747745793643915, -73.97849159965226], [40.86400220602362, -73.86490099876721], [40.691507494880646, -73.94990503507506], [40.85777967544156, -73.88586748106961], [40.70680845166585, -74.0074959856243], [40.70354561076288, -73.87573576709775], [40.841708771119784, -73.94139910573644], [40.736824057618975, -73.98405213268919], [40.77742692053278, -73.90540773409828], [40.74857462935672, -73.98515639467684], [40.877137602876616, -73.87902225226024], [40.64698489239519, -73.78653298334979], [40.70680845166585, -74.0074959856243], [40.827902148587405, -73.86967965711676], [40.66655893903527, -73.89536411750328], [40.618769278732046, -74.07370444530248], [40.827902148587405, -73.86967965711676], [40.70680845166585, -74.0074959856243], [40.86526419152494, -73.90591118270515], [40.68796745714746, -73.96236353818358], [40.70652679441957, -73.90170926444723], [40.7644214057868, -73.97756868222719], [40.67351279686077, -73.99064727363114], [40.70680845166585, -74.0074959856243], [40.71833677001376, -73.88005140814955], [40.676154037213784, -73.81945963682762], [40.7404389785964, -73.97649472376757], [40.74537943399859, -73.94889145447952], [40.77742692053278, -73.90540773409828], [40.84678289580979, -73.8506705770834], [40.78091235579127, -73.84281349543195], [40.791704934427074, -73.97304890061594], [40.73949564677819, -73.87711833280915], [40.7108799333774, -73.95990462730533], [40.702258938822524, -73.98570161582289], [40.7005221995192, -73.91771053131578], [40.77742692053278, -73.90540773409828], [40.67709779790901, -73.74423435166717], [40.75731206303919, -73.88531724061082], [40.8233185838775, -73.82354011891947], [40.72088889344527, -73.99691854183823], [40.7376989564444, -73.92467306585043], [40.82751255686402, -73.90235177500071], [40.78091235579127, -73.84281349543195], [40.60142943983517, -73.9835370967223], [40.77437570593249, -73.87362864289108], [40.77437570593249, -73.87362864289108], [40.727620195909545, -73.9859374568246], [40.75668765218882, -73.97235594352028], [40.81797514762944, -73.95378223705632], [40.68796745714746, -73.96236353818358], [40.80945696112528, -73.96176359682921], [40.63803713911708, -73.89973495669392], [40.747745793643915, -73.97849159965226], [40.75668765218882, -73.97235594352028], [40.717772736265175, -74.00787970866403], [40.71880391812993, -73.95741813122187], [40.727620195909545, -73.9859374568246], [40.82751255686402, -73.90235177500071], [40.586786633051915, -74.08551235826918], [40.8011694805865, -73.9373456081249], [40.74857462935672, -73.98515639467684], [40.678953310115254, -73.79098635986958], [40.747745793643915, -73.97849159965226], [40.74033744175702, -73.99045782354733], [40.7262904102812, -74.00748581800953], [40.748497181405, -73.99243753697608], [40.7005221995192, -73.91771053131578], [40.762252755319366, -73.98984464313301], [40.766237725041876, -73.99513522075519], [40.76149256216374, -73.91969431946067], [40.691507494880646, -73.94990503507506], [40.670374325917265, -73.98141374048753], [40.76110218983437, -73.82885869884261], [40.79796199310004, -73.9681683330924], [40.691507494880646, -73.94990503507506], [40.834165316827594, -73.87228927297001], [40.747745793643915, -73.97849159965226], [40.83782699169885, -73.92615723620783], [40.8011694805865, -73.9373456081249], [40.64698489239519, -73.78653298334979], [40.7376989564444, -73.92467306585043], [40.70335790323615, -74.01151502922325], [40.67446941826648, -73.93928705867958], [40.606447701027626, -74.17088688155245], [40.83782699169885, -73.92615723620783], [40.804333949794604, -73.9512920024351], [40.72143227502133, -73.84766941187527], [40.857108283314425, -73.93283148761294], [40.74033744175702, -73.99045782354733], [40.688168186954954, -73.93188826440708], [40.88093541148942, -73.83664334408303], [40.7108799333774, -73.95990462730533], [40.685633741320636, -73.98611382213662], [40.691507494880646, -73.94990503507506], [40.70436877745512, -73.79397965822719], [40.88240311320921, -73.91066467564433], [40.69183120640148, -74.17400027276294], [40.67664410104018, -73.91363213611348], [40.71880391812993, -73.95741813122187], [40.66654040578564, -73.94878853931498], [40.78819301672877, -73.81565681271003], [40.84678289580979, -73.8506705770834], [40.85777967544156, -73.88586748106961], [40.85777967544156, -73.88586748106961], [40.59995429251391, -73.96433367133905], [40.66400311792599, -73.91025783136136], [40.86607500072778, -73.91930823586193], [40.717772736265175, -74.00787970866403], [40.817858557708156, -73.85813498781437], [40.828988230484576, -73.92440873264253], [40.67664410104018, -73.91363213611348], [40.60491359556376, -73.94813559494118], [40.74227862901228, -73.99697141558364], [40.83774866435355, -73.85798694048577], [40.791704934427074, -73.97304890061594], [40.66400311792599, -73.91025783136136], [40.85777967544156, -73.88586748106961], [40.5920234643643, -73.94050716694063], [40.86400220602362, -73.86490099876721], [40.57696075363779, -73.98794343407197], [40.600324146034595, -74.07177055895133], [40.77437570593249, -73.87362864289108], [40.7376989564444, -73.92467306585043], [40.83210165963212, -73.84864070062376], [40.71203815707447, -74.01607915192923], [40.71063928425106, -73.76113699730598], [40.77876585543437, -73.95100987481798], [40.75257923914961, -73.8630375448669], [40.76861518381155, -73.96563453538072], [40.63004939183071, -74.1028601101664], [40.69183120640148, -74.17400027276294], [40.63803713911708, -73.89973495669392], [40.78396143031378, -73.97863194845081], [40.6609351965506, -73.87682061127201], [40.74423471780147, -73.90630644197877], [40.82751255686402, -73.90235177500071], [40.81797514762944, -73.95378223705632], [40.715369882143555, -73.93679314491887], [40.69499431844209, -73.92224002165722], [40.81207445859209, -73.88553752149427], [40.647527034323524, -73.88241292571799], [40.63803713911708, -73.89973495669392], [40.65235464953843, -74.01127116962884], [40.758028043526274, -73.97769793122403], [40.59995429251391, -73.96433367133905], [40.71203815707447, -74.01607915192923], [40.74857462935672, -73.98515639467684], [40.74857462935672, -73.98515639467684], [40.77437570593249, -73.87362864289108], [40.70085573851714, -73.97118869233036], [40.68383976195102, -73.87817261050249], [40.753309065983395, -74.00401512528647], [40.77742692053278, -73.90540773409828], [40.762252755319366, -73.98984464313301], [40.80945696112528, -73.96176359682921], [40.86400220602362, -73.86490099876721], [40.78396143031378, -73.97863194845081], [40.86768245607542, -73.89018328872031], [40.841708771119784, -73.94139910573644], [40.606447701027626, -74.17088688155245], [40.6442881743892, -73.93796627061693], [40.676154037213784, -73.81945963682762], [40.82751255686402, -73.90235177500071], [40.81825974768987, -73.91284939799155], [40.61961946783515, -74.0138014874401], [40.741406774829755, -73.85884524943998], [40.75181936699946, -73.85358156034265], [40.691507494880646, -73.94990503507506], [40.717772736265175, -74.00787970866403], [40.75103502557233, -73.78794887777894], [40.717772736265175, -74.00787970866403], [40.75668765218882, -73.97235594352028], [40.75668765218882, -73.97235594352028], [40.64188631576521, -74.00465205914723], [40.6609351965506, -73.87682061127201], [40.747745793643915, -73.97849159965226], [40.7404389785964, -73.97649472376757], [40.614590989275726, -73.91527709386857], [40.747745793643915, -73.97849159965226], [40.79796199310004, -73.9681683330924], [40.67446941826648, -73.93928705867958], [40.66400311792599, -73.91025783136136], [40.64059007067449, -73.97619898951328], [40.86526419152494, -73.90591118270515], [40.7005221995192, -73.91771053131578], [40.67446941826648, -73.93928705867958], [40.66654040578564, -73.94878853931498], [40.7090727427931, -74.00366456329895], [40.70436877745512, -73.79397965822719], [40.74537943399859, -73.94889145447952], [40.758028043526274, -73.97769793122403], [40.66654040578564, -73.94878853931498], [40.67351279686077, -73.99064727363114], [40.828988230484576, -73.92440873264253], [40.88240311320921, -73.91066467564433], [40.728340391372306, -73.99738026020043], [40.652364804077415, -73.92225097400492], [40.6609351965506, -73.87682061127201], [40.728340391372306, -73.99738026020043], [40.62627276333639, -73.93009701219934], [40.85777967544156, -73.88586748106961], [40.828988230484576, -73.92440873264253], [40.723752141584804, -73.97696825691766], [40.76149256216374, -73.91969431946067], [40.691507494880646, -73.94990503507506], [40.83141669708519, -73.91502929553265], [40.80945696112528, -73.96176359682921], [40.77742692053278, -73.90540773409828], [40.64698489239519, -73.78653298334979], [40.77437570593249, -73.87362864289108], [40.74857462935672, -73.98515639467684], [40.747745793643915, -73.97849159965226], [40.817858557708156, -73.85813498781437], [40.7627383754424, -73.77342181890134], [40.77437570593249, -73.87362864289108], [40.8525211492635, -73.91597542466437], [40.791704934427074, -73.97304890061594], [40.82751255686402, -73.90235177500071], [40.614590989275726, -73.91527709386857], [40.80734716766524, -73.9168219380646], [40.5920234643643, -73.94050716694063], [40.84905837739125, -73.90512221938542], [40.81825974768987, -73.91284939799155], [40.81797514762944, -73.95378223705632], [40.73503540069664, -74.0089841047853], [40.58655462662636, -74.13297872511703], [40.82751255686402, -73.90235177500071], [40.83782699169885, -73.92615723620783], [40.65235464953843, -74.01127116962884], [40.676154037213784, -73.81945963682762], [40.688168186954954, -73.93188826440708], [40.67446941826648, -73.93928705867958], [40.678953310115254, -73.79098635986958], [40.67664410104018, -73.91363213611348], [40.68796745714746, -73.96236353818358], [40.679199014097094, -73.99595619089146], [40.69499431844209, -73.92224002165722], [40.74227862901228, -73.99697141558364], [40.63094965524547, -73.98866123078287], [40.79001075149545, -73.94575026755156], [40.70436877745512, -73.79397965822719], [40.658744450856695, -73.94744164500473], [40.63094965524547, -73.98866123078287], [40.652364804077415, -73.92225097400492], [40.6442881743892, -73.93796627061693], [40.71880391812993, -73.95741813122187], [40.652364804077415, -73.92225097400492], [40.81825974768987, -73.91284939799155], [40.74227862901228, -73.99697141558364], [40.89793202529465, -73.85221545370119], [40.77876585543437, -73.95100987481798], [40.66655893903527, -73.89536411750328], [40.817858557708156, -73.85813498781437], [40.694427554088776, -73.79096393223055], [40.753309065983395, -74.00401512528647], [40.76110218983437, -73.82885869884261], [40.65235464953843, -74.01127116962884], [40.5809219719338, -73.96121676866854], [40.775932403149945, -73.94651035601463], [40.7108799333774, -73.95990462730533], [40.62627276333639, -73.93009701219934], [40.81825974768987, -73.91284939799155], [40.81825974768987, -73.91284939799155], [40.74991407790217, -73.97044256869238], [40.66654040578564, -73.94878853931498], [40.62627276333639, -73.93009701219934], [40.71893835938025, -73.99089626184734], [40.84274917609802, -73.90031590586487], [40.614590989275726, -73.91527709386857], [40.728340391372306, -73.99738026020043], [40.86400220602362, -73.86490099876721], [40.72399507493355, -73.9023296813137], [40.758028043526274, -73.97769793122403], [40.81825974768987, -73.91284939799155], [40.715369882143555, -73.93679314491887], [40.86607500072778, -73.91930823586193], [40.69499431844209, -73.92224002165722], [40.702258938822524, -73.98570161582289], [40.69078679421093, -73.97488208618897], [40.817858557708156, -73.85813498781437], [40.72088889344527, -73.99691854183823], [40.7644214057868, -73.97756868222719], [40.84905837739125, -73.90512221938542], [40.84905837739125, -73.90512221938542], [40.7108799333774, -73.95990462730533], [40.828988230484576, -73.92440873264253], [40.6442881743892, -73.93796627061693], [40.71893835938025, -73.99089626184734], [40.64698489239519, -73.78653298334979], [40.66654040578564, -73.94878853931498], [40.68383976195102, -73.87817261050249], [40.67446941826648, -73.93928705867958], [40.69579822121126, -73.99525011996623], [40.71893835938025, -73.99089626184734], [40.69454235438128, -73.8309240744999], [40.82751255686402, -73.90235177500071], [40.67664410104018, -73.91363213611348], [40.758028043526274, -73.97769793122403], [40.857108283314425, -73.93283148761294], [40.73257907302703, -73.99430477051168], [40.73949564677819, -73.87711833280915], [40.76149256216374, -73.91969431946067], [40.70436877745512, -73.79397965822719], [40.741406774829755, -73.85884524943998], [40.75181936699946, -73.85358156034265], [40.6609351965506, -73.87682061127201], [40.78043643718997, -73.95701169835736], [40.84678289580979, -73.8506705770834], [40.78396143031378, -73.97863194845081], [40.72950628420885, -73.94954030482212], [40.71880391812993, -73.95741813122187], [40.748427555065724, -73.99991742024713], [40.74857462935672, -73.98515639467684], [40.678953310115254, -73.79098635986958], [40.75672894163307, -73.96514579918421], [40.72399507493355, -73.9023296813137], [40.80734716766524, -73.9168219380646], [40.72065523874957, -73.77610076139926], [40.73949564677819, -73.87711833280915], [40.71473250693941, -73.9830245583349], [40.69454235438128, -73.8309240744999], [40.75410888689297, -73.80729418212229], [40.73457600733177, -74.00287495910837], [40.828988230484576, -73.92440873264253], [40.79796199310004, -73.9681683330924], [40.81825786111924, -73.94077166756266], [40.81825786111924, -73.94077166756266], [40.74857462935672, -73.98515639467684], [40.84274917609802, -73.90031590586487], [40.78091235579127, -73.84281349543195], [40.67446941826648, -73.93928705867958], [40.85777967544156, -73.88586748106961], [40.7736332930271, -73.98153220639182], [40.762252755319366, -73.98984464313301], [40.66655893903527, -73.89536411750328], [40.8525211492635, -73.91597542466437], [40.6609351965506, -73.87682061127201], [40.8525211492635, -73.91597542466437], [40.715369882143555, -73.93679314491887], [40.75981761719184, -73.98419648907571], [40.80734716766524, -73.9168219380646], [40.827902148587405, -73.86967965711676], [40.64188631576521, -74.00465205914723], [40.74227862901228, -73.99697141558364], [40.6248349236082, -74.02989237418782], [40.8011694805865, -73.9373456081249], [40.81825786111924, -73.94077166756266], [40.73503540069664, -74.0089841047853], [40.727620195909545, -73.9859374568246], [40.691507494880646, -73.94990503507506], [40.685633741320636, -73.98611382213662], [40.84905837739125, -73.90512221938542], [40.828988230484576, -73.92440873264253], [40.72088889344527, -73.99691854183823], [40.63094965524547, -73.98866123078287], [40.84905837739125, -73.90512221938542], [40.715369882143555, -73.93679314491887], [40.72833332297307, -73.8024442818622], [40.86400220602362, -73.86490099876721], [40.89952906437649, -73.90698710771423], [40.688168186954954, -73.93188826440708], [40.82701265492538, -73.9485217302088], [40.89793202529465, -73.85221545370119], [40.817858557708156, -73.85813498781437], [40.7090727427931, -74.00366456329895], [40.74267210348263, -73.75462173612375], [40.60243279341671, -73.75524369679592], [40.80945696112528, -73.96176359682921], [40.8011694805865, -73.9373456081249], [40.6609351965506, -73.87682061127201], [40.758028043526274, -73.97769793122403], [40.80734716766524, -73.9168219380646], [40.6609351965506, -73.87682061127201], [40.74991407790217, -73.97044256869238], [40.68796745714746, -73.96236353818358], [40.717772736265175, -74.00787970866403], [40.834165316827594, -73.87228927297001], [40.67559499070673, -73.84704317269406], [40.81825974768987, -73.91284939799155], [40.64698489239519, -73.78653298334979], [40.73949564677819, -73.87711833280915], [40.72088889344527, -73.99691854183823], [40.717772736265175, -74.00787970866403], [40.841708771119784, -73.94139910573644], [40.775932403149945, -73.94651035601463], [40.81825786111924, -73.94077166756266], [40.75257923914961, -73.8630375448669], [40.75257923914961, -73.8630375448669], [40.89793202529465, -73.85221545370119], [40.748427555065724, -73.99991742024713], [40.59995429251391, -73.96433367133905], [40.7644214057868, -73.97756868222719], [40.57798249377506, -73.8434528147781], [40.63897220516645, -74.10231250352726], [40.75257923914961, -73.8630375448669], [40.77742692053278, -73.90540773409828], [40.6248349236082, -74.02989237418782], [40.83774866435355, -73.85798694048577], [40.64188631576521, -74.00465205914723], [40.82751255686402, -73.90235177500071], [40.76149256216374, -73.91969431946067], [40.841708771119784, -73.94139910573644], [40.72143227502133, -73.84766941187527], [40.83141669708519, -73.91502929553265], [40.882157083047055, -73.8589482397575], [40.70805099798807, -73.82871246597531], [40.827902148587405, -73.86967965711676], [40.78043643718997, -73.95701169835736], [40.727620195909545, -73.9859374568246], [40.741406774829755, -73.85884524943998], [40.75181936699946, -73.85358156034265], [40.82751255686402, -73.90235177500071], [40.75351275872571, -73.9887865991153], [40.79796199310004, -73.9681683330924], [40.64698489239519, -73.78653298334979], [40.77437570593249, -73.87362864289108], [40.77876585543437, -73.95100987481798], [40.775932403149945, -73.94651035601463], [40.64698489239519, -73.78653298334979], [40.76149256216374, -73.91969431946067], [40.75668765218882, -73.97235594352028], [40.68872135698128, -73.85576675985419], [40.79796199310004, -73.9681683330924], [40.6609351965506, -73.87682061127201], [40.766948216383234, -73.9596347414917], [40.85440471268924, -73.85439380221179], [40.727620195909545, -73.9859374568246], [40.73949564677819, -73.87711833280915], [40.766237725041876, -73.99513522075519], [40.676154037213784, -73.81945963682762], [40.70805099798807, -73.82871246597531], [40.68796745714746, -73.96236353818358], [40.8011694805865, -73.9373456081249], [40.80734716766524, -73.9168219380646], [40.75257923914961, -73.8630375448669], [40.77876585543437, -73.95100987481798], [40.80734716766524, -73.9168219380646], [40.70436877745512, -73.79397965822719], [40.84496041014609, -73.8855218158743], [40.75672894163307, -73.96514579918421], [40.652364804077415, -73.92225097400492], [40.753309065983395, -74.00401512528647], [40.75672894163307, -73.96514579918421], [40.694427554088776, -73.79096393223055], [40.68796745714746, -73.96236353818358], [40.81825786111924, -73.94077166756266], [40.679199014097094, -73.99595619089146], [40.63094965524547, -73.98866123078287], [40.88240311320921, -73.91066467564433], [40.7108799333774, -73.95990462730533], [40.83210165963212, -73.84864070062376], [40.7376989564444, -73.92467306585043], [40.76110218983437, -73.82885869884261], [40.71833677001376, -73.88005140814955], [40.758028043526274, -73.97769793122403], [40.81825786111924, -73.94077166756266], [40.8233185838775, -73.82354011891947], [40.84274917609802, -73.90031590586487], [40.791704934427074, -73.97304890061594], [40.70354561076288, -73.87573576709775], [40.69499431844209, -73.92224002165722], [40.694427554088776, -73.79096393223055], [40.747745793643915, -73.97849159965226], [40.80197049389963, -73.96547951516966], [40.748427555065724, -73.99991742024713], [40.63790012347376, -73.96096824906373], [40.63094965524547, -73.98866123078287], [40.882157083047055, -73.8589482397575], [40.628166874572, -74.14078750231764], [40.69579822121126, -73.99525011996623], [40.81207445859209, -73.88553752149427], [40.71063928425106, -73.76113699730598], [40.82701265492538, -73.9485217302088], [40.67351279686077, -73.99064727363114], [40.6609351965506, -73.87682061127201], [40.771570243583376, -73.92833318686121], [40.76835162630846, -73.8095458209943], [40.8011694805865, -73.9373456081249], [40.857108283314425, -73.93283148761294], [40.741406774829755, -73.85884524943998], [40.75181936699946, -73.85358156034265], [40.652364804077415, -73.92225097400492], [40.670374325917265, -73.98141374048753], [40.652364804077415, -73.92225097400492], [40.723752141584804, -73.97696825691766], [40.76031363502697, -73.94199705818421], [40.747745793643915, -73.97849159965226], [40.83774866435355, -73.85798694048577], [40.84274917609802, -73.90031590586487], [40.86768245607542, -73.89018328872031], [40.87651237544555, -73.8956200178548], [40.83774866435355, -73.85798694048577], [40.74375148543156, -73.81522935845769], [40.717772736265175, -74.00787970866403], [40.84496041014609, -73.8855218158743], [40.67446941826648, -73.93928705867958], [40.658744450856695, -73.94744164500473], [40.804333949794604, -73.9512920024351], [40.80734716766524, -73.9168219380646], [40.8491726171826, -73.83158179959668], [40.817858557708156, -73.85813498781437], [40.81825974768987, -73.91284939799155], [40.57696075363779, -73.98794343407197], [40.864473684775454, -73.84742223236714], [40.67446941826648, -73.93928705867958], [40.86526419152494, -73.90591118270515], [40.81825786111924, -73.94077166756266], [40.670374325917265, -73.98141374048753], [40.84905837739125, -73.90512221938542], [40.86768245607542, -73.89018328872031], [40.69499431844209, -73.92224002165722], [40.74423471780147, -73.90630644197877], [40.67446941826648, -73.93928705867958], [40.70436877745512, -73.79397965822719], [40.81797514762944, -73.95378223705632], [40.82701265492538, -73.9485217302088], [40.676154037213784, -73.81945963682762], [40.84496041014609, -73.8855218158743], [40.758028043526274, -73.97769793122403], [40.63803713911708, -73.89973495669392], [40.804333949794604, -73.9512920024351], [40.57696075363779, -73.98794343407197], [40.817858557708156, -73.85813498781437], [40.80734716766524, -73.9168219380646], [40.69078679421093, -73.97488208618897], [40.65235464953843, -74.01127116962884], [40.652364804077415, -73.92225097400492], [40.828988230484576, -73.92440873264253], [40.81825786111924, -73.94077166756266], [40.66654040578564, -73.94878853931498], [40.658744450856695, -73.94744164500473], [40.63790012347376, -73.96096824906373], [40.80945696112528, -73.96176359682921], [40.76110218983437, -73.82885869884261], [40.74857462935672, -73.98515639467684], [40.78819301672877, -73.81565681271003], [40.79001075149545, -73.94575026755156], [40.7404389785964, -73.97649472376757], [40.8011694805865, -73.9373456081249], [40.72399507493355, -73.9023296813137], [40.69499431844209, -73.92224002165722], [40.87397305492026, -73.82826367307182], [40.85815519618405, -73.89953593442151], [40.864473684775454, -73.84742223236714], [40.59405875281388, -73.78962208250078], [40.83399047727384, -73.88590003419148], [40.647527034323524, -73.88241292571799], [40.672089706767316, -73.77303565610487], [40.81825974768987, -73.91284939799155], [40.70680845166585, -74.0074959856243], [40.7090727427931, -74.00366456329895], [40.57696075363779, -73.98794343407197], [40.74991407790217, -73.97044256869238], [40.73949564677819, -73.87711833280915], [40.709138940671856, -74.013022771749], [40.8011694805865, -73.9373456081249], [40.67446941826648, -73.93928705867958], [40.877137602876616, -73.87902225226024], [40.804333949794604, -73.9512920024351], [40.57677363548704, -74.18641851305918], [40.6442881743892, -73.93796627061693], [40.7376989564444, -73.92467306585043], [40.67446941826648, -73.93928705867958], [40.77742692053278, -73.90540773409828], [40.736824057618975, -73.98405213268919], [40.675548862280856, -74.00917849113294], [40.8525211492635, -73.91597542466437], [40.70652679441957, -73.90170926444723], [40.8525211492635, -73.91597542466437], [40.70652679441957, -73.90170926444723], [40.728340391372306, -73.99738026020043], [40.83774866435355, -73.85798694048577], [40.69120144680612, -73.76314612543838], [40.76149256216374, -73.91969431946067], [40.85440471268924, -73.85439380221179], [40.80734716766524, -73.9168219380646], [40.73949564677819, -73.87711833280915], [40.728340391372306, -73.99738026020043], [40.63790012347376, -73.96096824906373], [40.71893835938025, -73.99089626184734], [40.7404389785964, -73.97649472376757], [40.857108283314425, -73.93283148761294], [40.81207445859209, -73.88553752149427], [40.877137602876616, -73.87902225226024], [40.76149256216374, -73.91969431946067], [40.65235464953843, -74.01127116962884], [40.81797514762944, -73.95378223705632], [40.857108283314425, -73.93283148761294], [40.685633741320636, -73.98611382213662], [40.81825786111924, -73.94077166756266], [40.670374325917265, -73.98141374048753], [40.69499431844209, -73.92224002165722], [40.658744450856695, -73.94744164500473], [40.84496041014609, -73.8855218158743], [40.75257923914961, -73.8630375448669], [40.85815519618405, -73.89953593442151], [40.80945696112528, -73.96176359682921], [40.676154037213784, -73.81945963682762], [40.80734716766524, -73.9168219380646], [40.652364804077415, -73.92225097400492], [40.68796745714746, -73.96236353818358], [40.8196759793049, -73.89895638182648], [40.64188631576521, -74.00465205914723], [40.7376989564444, -73.92467306585043], [40.66400311792599, -73.91025783136136], [40.70436877745512, -73.79397965822719], [40.75981761719184, -73.98419648907571], [40.71159635794509, -73.80872901637517], [40.63790012347376, -73.96096824906373], [40.67664410104018, -73.91363213611348], [40.87651237544555, -73.8956200178548], [40.72088889344527, -73.99691854183823], [40.67664410104018, -73.91363213611348], [40.79001075149545, -73.94575026755156], [40.72950628420885, -73.94954030482212], [40.71880391812993, -73.95741813122187], [40.60243279341671, -73.75524369679592], [40.8525211492635, -73.91597542466437], [40.76149256216374, -73.91969431946067], [40.658744450856695, -73.94744164500473], [40.68383976195102, -73.87817261050249], [40.63790012347376, -73.96096824906373], [40.77437570593249, -73.87362864289108], [40.84496041014609, -73.8855218158743], [40.69579822121126, -73.99525011996623], [40.83774866435355, -73.85798694048577], [40.81797514762944, -73.95378223705632], [40.67664410104018, -73.91363213611348], [40.6442881743892, -73.93796627061693], [40.84905837739125, -73.90512221938542], [40.82751255686402, -73.90235177500071], [40.670374325917265, -73.98141374048753], [40.66400311792599, -73.91025783136136], [40.765484087889845, -73.95473878380503], [40.76861518381155, -73.96563453538072], [40.81797514762944, -73.95378223705632], [40.86526419152494, -73.90591118270515], [40.67559499070673, -73.84704317269406], [40.71545451530519, -73.74153176997538], [40.676154037213784, -73.81945963682762], [40.676154037213784, -73.81945963682762], [40.86768245607542, -73.89018328872031], [40.69454235438128, -73.8309240744999], [40.670374325917265, -73.98141374048753], [40.8011694805865, -73.9373456081249], [40.804333949794604, -73.9512920024351], [40.817858557708156, -73.85813498781437], [40.817858557708156, -73.85813498781437], [40.81825786111924, -73.94077166756266], [40.77876585543437, -73.95100987481798], [40.67446941826648, -73.93928705867958], [40.67664410104018, -73.91363213611348], [40.688168186954954, -73.93188826440708], [40.614590989275726, -73.91527709386857], [40.63094965524547, -73.98866123078287], [40.76861518381155, -73.96563453538072], [40.78247809974789, -73.96555356545913], [40.76149256216374, -73.91969431946067], [40.69499431844209, -73.92224002165722], [40.70436877745512, -73.79397965822719], [40.81825786111924, -73.94077166756266], [40.88093541148942, -73.83664334408303], [40.7736332930271, -73.98153220639182], [40.86768245607542, -73.89018328872031], [40.84274917609802, -73.90031590586487], [40.80945696112528, -73.96176359682921], [40.76110218983437, -73.82885869884261], [40.688168186954954, -73.93188826440708], [40.81825786111924, -73.94077166756266], [40.841708771119784, -73.94139910573644], [40.841708771119784, -73.94139910573644], [40.69533752946114, -73.98608600498397], [40.81825786111924, -73.94077166756266], [40.83782699169885, -73.92615723620783], [40.78396143031378, -73.97863194845081], [40.882157083047055, -73.8589482397575], [40.652364804077415, -73.92225097400492], [40.81825786111924, -73.94077166756266], [40.87651237544555, -73.8956200178548], [40.6609351965506, -73.87682061127201], [40.84274917609802, -73.90031590586487], [40.80197049389963, -73.96547951516966], [40.647527034323524, -73.88241292571799], [40.84274917609802, -73.90031590586487], [40.63790012347376, -73.96096824906373], [40.67664410104018, -73.91363213611348], [40.60243279341671, -73.75524369679592], [40.6609351965506, -73.87682061127201], [40.86768245607542, -73.89018328872031], [40.67446941826648, -73.93928705867958], [40.688168186954954, -73.93188826440708], [40.64698489239519, -73.78653298334979], [40.670374325917265, -73.98141374048753], [40.76031363502697, -73.94199705818421], [40.82751255686402, -73.90235177500071], [40.6609351965506, -73.87682061127201], [40.6442881743892, -73.93796627061693], [40.81207445859209, -73.88553752149427], [40.6609351965506, -73.87682061127201], [40.658744450856695, -73.94744164500473], [40.72388811004171, -74.00153756565634], [40.63803713911708, -73.89973495669392], [40.64698489239519, -73.78653298334979], [40.84905837739125, -73.90512221938542], [40.85440471268924, -73.85439380221179], [40.84905837739125, -73.90512221938542], [40.70652679441957, -73.90170926444723], [40.84678289580979, -73.8506705770834], [40.882157083047055, -73.8589482397575], [40.63790012347376, -73.96096824906373], [40.63130769285306, -74.16723534170741], [40.762252755319366, -73.98984464313301], [40.76335220113314, -73.86839559842021], [40.81825786111924, -73.94077166756266], [40.67763538934728, -73.96758681222953], [40.66400311792599, -73.91025783136136], [40.758028043526274, -73.97769793122403], [40.57696075363779, -73.98794343407197], [40.86526419152494, -73.90591118270515], [40.89952906437649, -73.90698710771423], [40.87651237544555, -73.8956200178548], [40.68796745714746, -73.96236353818358], [40.89952906437649, -73.90698710771423], [40.6609351965506, -73.87682061127201], [40.877137602876616, -73.87902225226024], [40.791704934427074, -73.97304890061594], [40.8525211492635, -73.91597542466437], [40.82751255686402, -73.90235177500071], [40.6609351965506, -73.87682061127201], [40.86607500072778, -73.91930823586193], [40.57696075363779, -73.98794343407197], [40.67446941826648, -73.93928705867958], [40.691507494880646, -73.94990503507506], [40.70354561076288, -73.87573576709775], [40.715369882143555, -73.93679314491887], [40.61731493715172, -73.97032580128298], [40.775932403149945, -73.94651035601463], [40.691507494880646, -73.94990503507506], [40.67446941826648, -73.93928705867958], [40.618769278732046, -74.07370444530248], [40.83774866435355, -73.85798694048577], [40.688168186954954, -73.93188826440708], [40.88093541148942, -73.83664334408303], [40.84678289580979, -73.8506705770834], [40.672089706767316, -73.77303565610487], [40.84905837739125, -73.90512221938542], [40.63004939183071, -74.1028601101664], [40.86768245607542, -73.89018328872031], [40.82701265492538, -73.9485217302088], [40.68796745714746, -73.96236353818358], [40.81825786111924, -73.94077166756266], [40.8491726171826, -73.83158179959668], [40.771570243583376, -73.92833318686121], [40.68720074733727, -74.00291127745284], [40.804333949794604, -73.9512920024351], [40.77742692053278, -73.90540773409828], [40.79001075149545, -73.94575026755156], [40.877137602876616, -73.87902225226024], [40.63790012347376, -73.96096824906373], [40.6609351965506, -73.87682061127201], [40.66654040578564, -73.94878853931498], [40.67446941826648, -73.93928705867958], [40.71159635794509, -73.80872901637517], [40.69120144680612, -73.76314612543838], [40.8525211492635, -73.91597542466437], [40.66654040578564, -73.94878853931498], [40.84496041014609, -73.8855218158743], [40.84274917609802, -73.90031590586487], [40.658744450856695, -73.94744164500473], [40.66655893903527, -73.89536411750328], [40.614590989275726, -73.91527709386857], [40.702258938822524, -73.98570161582289], [40.71833677001376, -73.88005140814955], [40.882157083047055, -73.8589482397575], [40.69499431844209, -73.92224002165722], [40.741406774829755, -73.85884524943998], [40.75181936699946, -73.85358156034265], [40.57176889293261, -74.1050190072149], [40.84905837739125, -73.90512221938542], [40.74375148543156, -73.81522935845769], [40.72833332297307, -73.8024442818622], [40.73257907302703, -73.99430477051168], [40.83782699169885, -73.92615723620783], [40.83774866435355, -73.85798694048577], [40.8491726171826, -73.83158179959668], [40.791704934427074, -73.97304890061594], [40.765484087889845, -73.95473878380503], [40.76031363502697, -73.94199705818421], [40.658247961230586, -73.8449185843852], [40.60243279341671, -73.75524369679592], [40.6248349236082, -74.02989237418782], [40.59405875281388, -73.78962208250078], [40.71203815707447, -74.01607915192923], [40.84496041014609, -73.8855218158743], [40.75731206303919, -73.88531724061082], [40.834165316827594, -73.87228927297001], [40.73832381382601, -73.89217338112864], [40.5920234643643, -73.94050716694063], [40.73949564677819, -73.87711833280915], [40.775932403149945, -73.94651035601463], [40.670374325917265, -73.98141374048753], [40.723752141584804, -73.97696825691766], [40.70436877745512, -73.79397965822719], [40.828988230484576, -73.92440873264253], [40.7005221995192, -73.91771053131578], [40.81825786111924, -73.94077166756266], [40.766237725041876, -73.99513522075519], [40.827902148587405, -73.86967965711676], [40.84274917609802, -73.90031590586487], [40.87651237544555, -73.8956200178548], [40.68383976195102, -73.87817261050249], [40.76031363502697, -73.94199705818421], [40.80734716766524, -73.9168219380646], [40.83399047727384, -73.88590003419148], [40.709138940671856, -74.013022771749], [40.76335220113314, -73.86839559842021], [40.82701265492538, -73.9485217302088], [40.85777967544156, -73.88586748106961], [40.69499431844209, -73.92224002165722], [40.68383976195102, -73.87817261050249], [40.7005221995192, -73.91771053131578], [40.766237725041876, -73.99513522075519], [40.68872135698128, -73.85576675985419], [40.68383976195102, -73.87817261050249], [40.76149256216374, -73.91969431946067], [40.76335220113314, -73.86839559842021], [40.747745793643915, -73.97849159965226], [40.73832381382601, -73.89217338112864], [40.6442881743892, -73.93796627061693], [40.670374325917265, -73.98141374048753], [40.702258938822524, -73.98570161582289], [40.765484087889845, -73.95473878380503], [40.60243279341671, -73.75524369679592], [40.69120144680612, -73.76314612543838], [40.64188631576521, -74.00465205914723], [40.87237880957359, -73.92436981716106], [40.8011694805865, -73.9373456081249], [40.66400311792599, -73.91025783136136], [40.658744450856695, -73.94744164500473], [40.84496041014609, -73.8855218158743], [40.72088889344527, -73.99691854183823], [40.80734716766524, -73.9168219380646], [40.652364804077415, -73.92225097400492], [40.87397305492026, -73.82826367307182], [40.618769278732046, -74.07370444530248], [40.82701265492538, -73.9485217302088], [40.69454235438128, -73.8309240744999], [40.658744450856695, -73.94744164500473], [40.64698489239519, -73.78653298334979], [40.76110218983437, -73.82885869884261], [40.59405875281388, -73.78962208250078], [40.646116346895084, -73.95162318261012], [40.882157083047055, -73.8589482397575], [40.817858557708156, -73.85813498781437], [40.7005221995192, -73.91771053131578], [40.73949564677819, -73.87711833280915], [40.717772736265175, -74.00787970866403], [40.828988230484576, -73.92440873264253], [40.882157083047055, -73.8589482397575], [40.83774866435355, -73.85798694048577], [40.71473250693941, -73.9830245583349], [40.6442881743892, -73.93796627061693], [40.84274917609802, -73.90031590586487], [40.7542425205003, -73.93482888929137], [40.8525211492635, -73.91597542466437], [40.834165316827594, -73.87228927297001], [40.81825974768987, -73.91284939799155], [40.84678289580979, -73.8506705770834], [40.84496041014609, -73.8855218158743], [40.7090727427931, -74.00366456329895], [40.84274917609802, -73.90031590586487], [40.73457600733177, -74.00287495910837], [40.62627276333639, -73.93009701219934], [40.73503540069664, -74.0089841047853], [40.6609351965506, -73.87682061127201], [40.67446941826648, -73.93928705867958], [40.69579822121126, -73.99525011996623], [40.771570243583376, -73.92833318686121], [40.5809219719338, -73.96121676866854], [40.647527034323524, -73.88241292571799], [40.74227862901228, -73.99697141558364], [40.75731206303919, -73.88531724061082], [40.71893835938025, -73.99089626184734], [40.6168800077118, -74.12534779829357], [40.86768245607542, -73.89018328872031], [40.618769278732046, -74.07370444530248], [40.81825786111924, -73.94077166756266], [40.728340391372306, -73.99738026020043], [40.841708771119784, -73.94139910573644], [40.79001075149545, -73.94575026755156], [40.727620195909545, -73.9859374568246], [40.69499431844209, -73.92224002165722], [40.715369882143555, -73.93679314491887], [40.6609351965506, -73.87682061127201], [40.748427555065724, -73.99991742024713], [40.7005221995192, -73.91771053131578], [40.63790012347376, -73.96096824906373], [40.7736332930271, -73.98153220639182], [40.658744450856695, -73.94744164500473], [40.82701265492538, -73.9485217302088], [40.89952906437649, -73.90698710771423], [40.817858557708156, -73.85813498781437], [40.69499431844209, -73.92224002165722], [40.74857462935672, -73.98515639467684], [40.59995429251391, -73.96433367133905], [40.7005221995192, -73.91771053131578], [40.86768245607542, -73.89018328872031], [40.66400311792599, -73.91025783136136], [40.57696075363779, -73.98794343407197], [40.8525211492635, -73.91597542466437], [40.75672894163307, -73.96514579918421], [40.63897220516645, -74.10231250352726], [40.83141669708519, -73.91502929553265], [40.723752141584804, -73.97696825691766], [40.73949564677819, -73.87711833280915], [40.72950628420885, -73.94954030482212], [40.78043643718997, -73.95701169835736], [40.80734716766524, -73.9168219380646], [40.80734716766524, -73.9168219380646], [40.83774866435355, -73.85798694048577], [40.70680845166585, -74.0074959856243], [40.691507494880646, -73.94990503507506], [40.864473684775454, -73.84742223236714], [40.71893835938025, -73.99089626184734], [40.8011694805865, -73.9373456081249], [40.877137602876616, -73.87902225226024], [40.83782699169885, -73.92615723620783], [40.646116346895084, -73.95162318261012], [40.834165316827594, -73.87228927297001], [40.84274917609802, -73.90031590586487], [40.5920234643643, -73.94050716694063], [40.67664410104018, -73.91363213611348], [40.7005221995192, -73.91771053131578], [40.727620195909545, -73.9859374568246], [40.63803713911708, -73.89973495669392], [40.7005221995192, -73.91771053131578], [40.877137602876616, -73.87902225226024], [40.74423471780147, -73.90630644197877], [40.69499431844209, -73.92224002165722], [40.81207445859209, -73.88553752149427], [40.76110218983437, -73.82885869884261], [40.672089706767316, -73.77303565610487], [40.77596522876096, -73.98764554944384], [40.81825786111924, -73.94077166756266], [40.84905837739125, -73.90512221938542], [40.87397305492026, -73.82826367307182], [40.79001075149545, -73.94575026755156], [40.646116346895084, -73.95162318261012], [40.60142943983517, -73.9835370967223], [40.63803713911708, -73.89973495669392], [40.87651237544555, -73.8956200178548], [40.877137602876616, -73.87902225226024], [40.76149256216374, -73.91969431946067], [40.715369882143555, -73.93679314491887], [40.72088889344527, -73.99691854183823], [40.82751255686402, -73.90235177500071], [40.69454235438128, -73.8309240744999], [40.678953310115254, -73.79098635986958], [40.84274917609802, -73.90031590586487], [40.80945696112528, -73.96176359682921], [40.84905837739125, -73.90512221938542], [40.69533752946114, -73.98608600498397], [40.8196759793049, -73.89895638182648], [40.6609351965506, -73.87682061127201], [40.765484087889845, -73.95473878380503], [40.69499431844209, -73.92224002165722], [40.71159635794509, -73.80872901637517], [40.715369882143555, -73.93679314491887], [40.88093541148942, -73.83664334408303], [40.67446941826648, -73.93928705867958], [40.882157083047055, -73.8589482397575], [40.675548862280856, -74.00917849113294], [40.80734716766524, -73.9168219380646], [40.70805099798807, -73.82871246597531], [40.79001075149545, -73.94575026755156], [40.84274917609802, -73.90031590586487], [40.7376989564444, -73.92467306585043], [40.5920234643643, -73.94050716694063], [40.8011694805865, -73.9373456081249], [40.63790012347376, -73.96096824906373], [40.736824057618975, -73.98405213268919], [40.857108283314425, -73.93283148761294], [40.6609351965506, -73.87682061127201], [40.81825974768987, -73.91284939799155], [40.81797514762944, -73.95378223705632], [40.771570243583376, -73.92833318686121], [40.7262904102812, -74.00748581800953], [40.67446941826648, -73.93928705867958], [40.877137602876616, -73.87902225226024], [40.877137602876616, -73.87902225226024], [40.81825974768987, -73.91284939799155], [40.81207445859209, -73.88553752149427], [40.69078679421093, -73.97488208618897], [40.5809219719338, -73.96121676866854], [40.67446941826648, -73.93928705867958], [40.691507494880646, -73.94990503507506], [40.817858557708156, -73.85813498781437], [40.76149256216374, -73.91969431946067], [40.8525211492635, -73.91597542466437], [40.864473684775454, -73.84742223236714], [40.71545451530519, -73.74153176997538], [40.817858557708156, -73.85813498781437], [40.67446941826648, -73.93928705867958], [40.68720074733727, -74.00291127745284], [40.804333949794604, -73.9512920024351], [40.8525211492635, -73.91597542466437], [40.63790012347376, -73.96096824906373], [40.670374325917265, -73.98141374048753], [40.748427555065724, -73.99991742024713], [40.63094965524547, -73.98866123078287], [40.703916440465754, -73.95859684507171], [40.628166874572, -74.14078750231764], [40.80734716766524, -73.9168219380646], [40.87651237544555, -73.8956200178548], [40.83774866435355, -73.85798694048577], [40.857108283314425, -73.93283148761294], [40.71203815707447, -74.01607915192923], [40.758028043526274, -73.97769793122403], [40.82751255686402, -73.90235177500071], [40.6248349236082, -74.02989237418782], [40.83774866435355, -73.85798694048577], [40.86607500072778, -73.91930823586193], [40.86607500072778, -73.91930823586193], [40.70652679441957, -73.90170926444723], [40.864473684775454, -73.84742223236714], [40.747745793643915, -73.97849159965226], [40.81825786111924, -73.94077166756266], [40.67446941826648, -73.93928705867958], [40.877137602876616, -73.87902225226024], [40.748427555065724, -73.99991742024713], [40.71893835938025, -73.99089626184734], [40.74227862901228, -73.99697141558364], [40.7108799333774, -73.95990462730533], [40.85440471268924, -73.85439380221179], [40.77596522876096, -73.98764554944384], [40.73949564677819, -73.87711833280915], [40.7736332930271, -73.98153220639182], [40.86400220602362, -73.86490099876721], [40.748427555065724, -73.99991742024713], [40.84678289580979, -73.8506705770834], [40.71833677001376, -73.88005140814955], [40.84905837739125, -73.90512221938542], [40.834165316827594, -73.87228927297001], [40.688168186954954, -73.93188826440708], [40.73257907302703, -73.99430477051168], [40.841708771119784, -73.94139910573644], [40.59995429251391, -73.96433367133905], [40.81825974768987, -73.91284939799155], [40.87397305492026, -73.82826367307182], [40.67559499070673, -73.84704317269406], [40.70652679441957, -73.90170926444723], [40.7404389785964, -73.97649472376757], [40.76861518381155, -73.96563453538072], [40.63803713911708, -73.89973495669392], [40.67664410104018, -73.91363213611348], [40.614590989275726, -73.91527709386857], [40.87397305492026, -73.82826367307182], [40.688168186954954, -73.93188826440708], [40.66654040578564, -73.94878853931498], [40.66400311792599, -73.91025783136136], [40.5809219719338, -73.96121676866854], [40.63790012347376, -73.96096824906373], [40.79796199310004, -73.9681683330924], [40.70652679441957, -73.90170926444723], [40.64698489239519, -73.78653298334979], [40.6609351965506, -73.87682061127201], [40.71245931177952, -73.99815149899052], [40.72143227502133, -73.84766941187527], [40.86526419152494, -73.90591118270515], [40.84678289580979, -73.8506705770834], [40.63094965524547, -73.98866123078287], [40.79001075149545, -73.94575026755156], [40.81825974768987, -73.91284939799155], [40.8011694805865, -73.9373456081249], [40.63803713911708, -73.89973495669392], [40.85815519618405, -73.89953593442151], [40.73503540069664, -74.0089841047853], [40.65785341801937, -73.73947255987292], [40.827902148587405, -73.86967965711676], [40.68383976195102, -73.87817261050249], [40.70085573851714, -73.97118869233036], [40.646116346895084, -73.95162318261012], [40.67446941826648, -73.93928705867958], [40.66655893903527, -73.89536411750328], [40.688168186954954, -73.93188826440708], [40.80197049389963, -73.96547951516966], [40.691507494880646, -73.94990503507506], [40.83141669708519, -73.91502929553265], [40.70652679441957, -73.90170926444723], [40.817858557708156, -73.85813498781437], [40.67446941826648, -73.93928705867958], [40.688168186954954, -73.93188826440708], [40.6609351965506, -73.87682061127201], [40.86526419152494, -73.90591118270515], [40.84905837739125, -73.90512221938542], [40.74375148543156, -73.81522935845769], [40.82751255686402, -73.90235177500071], [40.77742692053278, -73.90540773409828], [40.827902148587405, -73.86967965711676], [40.877137602876616, -73.87902225226024], [40.79001075149545, -73.94575026755156], [40.62627276333639, -73.93009701219934], [40.647527034323524, -73.88241292571799], [40.652364804077415, -73.92225097400492], [40.7090727427931, -74.00366456329895], [40.647527034323524, -73.88241292571799], [40.86526419152494, -73.90591118270515], [40.87397305492026, -73.82826367307182], [40.71159635794509, -73.80872901637517], [40.81207445859209, -73.88553752149427], [40.87651237544555, -73.8956200178548], [40.804333949794604, -73.9512920024351], [40.70436877745512, -73.79397965822719], [40.82751255686402, -73.90235177500071], [40.86526419152494, -73.90591118270515], [40.84678289580979, -73.8506705770834], [40.691507494880646, -73.94990503507506], [40.72837768325732, -73.82119590387465], [40.841708771119784, -73.94139910573644], [40.76149256216374, -73.91969431946067], [40.804333949794604, -73.9512920024351], [40.741406774829755, -73.85884524943998], [40.75181936699946, -73.85358156034265], [40.60427284003078, -74.00748815801174], [40.85777967544156, -73.88586748106961], [40.7090727427931, -74.00366456329895], [40.882157083047055, -73.8589482397575], [40.748427555065724, -73.99991742024713], [40.74537943399859, -73.94889145447952], [40.79796199310004, -73.9681683330924], [40.828988230484576, -73.92440873264253], [40.771570243583376, -73.92833318686121], [40.71159635794509, -73.80872901637517], [40.83141669708519, -73.91502929553265], [40.817858557708156, -73.85813498781437], [40.841708771119784, -73.94139910573644], [40.71545451530519, -73.74153176997538], [40.688168186954954, -73.93188826440708], [40.62627276333639, -73.93009701219934], [40.658744450856695, -73.94744164500473], [40.8491726171826, -73.83158179959668], [40.827902148587405, -73.86967965711676], [40.75257923914961, -73.8630375448669], [40.82701265492538, -73.9485217302088], [40.727620195909545, -73.9859374568246], [40.80945696112528, -73.96176359682921], [40.75731206303919, -73.88531724061082], [40.676154037213784, -73.81945963682762], [40.6442881743892, -73.93796627061693], [40.728340391372306, -73.99738026020043], [40.6609351965506, -73.87682061127201], [40.758028043526274, -73.97769793122403], [40.694427554088776, -73.79096393223055], [40.69454235438128, -73.8309240744999], [40.8011694805865, -73.9373456081249], [40.864473684775454, -73.84742223236714], [40.864473684775454, -73.84742223236714], [40.69499431844209, -73.92224002165722], [40.63094965524547, -73.98866123078287], [40.67446941826648, -73.93928705867958], [40.81797514762944, -73.95378223705632], [40.67446941826648, -73.93928705867958], [40.67446941826648, -73.93928705867958], [40.817858557708156, -73.85813498781437], [40.81797514762944, -73.95378223705632], [40.84905837739125, -73.90512221938542], [40.81207445859209, -73.88553752149427], [40.71545451530519, -73.74153176997538], [40.85440471268924, -73.85439380221179], [40.817858557708156, -73.85813498781437], [40.64059007067449, -73.97619898951328], [40.82751255686402, -73.90235177500071], [40.63094965524547, -73.98866123078287], [40.81825786111924, -73.94077166756266], [40.83141669708519, -73.91502929553265], [40.765484087889845, -73.95473878380503], [40.73832381382601, -73.89217338112864], [40.6442881743892, -73.93796627061693], [40.753309065983395, -74.00401512528647], [40.6442881743892, -73.93796627061693], [40.83210165963212, -73.84864070062376], [40.646116346895084, -73.95162318261012], [40.79796199310004, -73.9681683330924], [40.676154037213784, -73.81945963682762], [40.87651237544555, -73.8956200178548], [40.72950628420885, -73.94954030482212], [40.7005221995192, -73.91771053131578], [40.66654040578564, -73.94878853931498], [40.81207445859209, -73.88553752149427], [40.70652679441957, -73.90170926444723], [40.87651237544555, -73.8956200178548], [40.63790012347376, -73.96096824906373], [40.66400311792599, -73.91025783136136], [40.877137602876616, -73.87902225226024], [40.64698489239519, -73.78653298334979], [40.882157083047055, -73.8589482397575], [40.7404389785964, -73.97649472376757], [40.77742692053278, -73.90540773409828], [40.7542425205003, -73.93482888929137], [40.74033744175702, -73.99045782354733], [40.66655893903527, -73.89536411750328], [40.691507494880646, -73.94990503507506], [40.83782699169885, -73.92615723620783], [40.87651237544555, -73.8956200178548], [40.828988230484576, -73.92440873264253], [40.84678289580979, -73.8506705770834], [40.74423471780147, -73.90630644197877], [40.64698489239519, -73.78653298334979], [40.762252755319366, -73.98984464313301], [40.82751255686402, -73.90235177500071], [40.731820636016764, -73.97659767323344], [40.79796199310004, -73.9681683330924], [40.685633741320636, -73.98611382213662], [40.741406774829755, -73.85884524943998], [40.75181936699946, -73.85358156034265], [40.791704934427074, -73.97304890061594], [40.87397305492026, -73.82826367307182], [40.69533752946114, -73.98608600498397], [40.77596522876096, -73.98764554944384], [40.61731493715172, -73.97032580128298], [40.76835162630846, -73.8095458209943], [40.82751255686402, -73.90235177500071], [40.63803713911708, -73.89973495669392], [40.75668765218882, -73.97235594352028], [40.841708771119784, -73.94139910573644], [40.72950628420885, -73.94954030482212], [40.670374325917265, -73.98141374048753], [40.80734716766524, -73.9168219380646], [40.66655893903527, -73.89536411750328], [40.828988230484576, -73.92440873264253], [40.68872135698128, -73.85576675985419], [40.69499431844209, -73.92224002165722], [40.77596522876096, -73.98764554944384], [40.68872135698128, -73.85576675985419], [40.62627276333639, -73.93009701219934], [40.81825974768987, -73.91284939799155], [40.73503540069664, -74.0089841047853], [40.804333949794604, -73.9512920024351], [40.59405875281388, -73.78962208250078], [40.8011694805865, -73.9373456081249], [40.87651237544555, -73.8956200178548], [40.68796745714746, -73.96236353818358], [40.8233185838775, -73.82354011891947], [40.841708771119784, -73.94139910573644], [40.6442881743892, -73.93796627061693], [40.69454235438128, -73.8309240744999], [40.75668765218882, -73.97235594352028], [40.86400220602362, -73.86490099876721], [40.81797514762944, -73.95378223705632], [40.804333949794604, -73.9512920024351], [40.6442881743892, -73.93796627061693], [40.85815519618405, -73.89953593442151], [40.67446941826648, -73.93928705867958], [40.74537943399859, -73.94889145447952], [40.57176889293261, -74.1050190072149], [40.82701265492538, -73.9485217302088], [40.688168186954954, -73.93188826440708], [40.70436877745512, -73.79397965822719], [40.71245931177952, -73.99815149899052], [40.62627276333639, -73.93009701219934], [40.747745793643915, -73.97849159965226], [40.86768245607542, -73.89018328872031], [40.70652679441957, -73.90170926444723], [40.70652679441957, -73.90170926444723], [40.741406774829755, -73.85884524943998], [40.75181936699946, -73.85358156034265], [40.76149256216374, -73.91969431946067], [40.766948216383234, -73.9596347414917], [40.74991407790217, -73.97044256869238], [40.85815519618405, -73.89953593442151], [40.79001075149545, -73.94575026755156], [40.81825786111924, -73.94077166756266], [40.748427555065724, -73.99991742024713], [40.63004939183071, -74.1028601101664], [40.86827620354774, -73.80785726631278], [40.77742692053278, -73.90540773409828], [40.65235464953843, -74.01127116962884], [40.84274917609802, -73.90031590586487], [40.67709779790901, -73.74423435166717], [40.723752141584804, -73.97696825691766], [40.70436877745512, -73.79397965822719], [40.646116346895084, -73.95162318261012], [40.841708771119784, -73.94139910573644], [40.87651237544555, -73.8956200178548], [40.5920234643643, -73.94050716694063], [40.57696075363779, -73.98794343407197], [40.78043643718997, -73.95701169835736], [40.66654040578564, -73.94878853931498], [40.77437570593249, -73.87362864289108], [40.70436877745512, -73.79397965822719], [40.63130769285306, -74.16723534170741], [40.69499431844209, -73.92224002165722], [40.84496041014609, -73.8855218158743], [40.85777967544156, -73.88586748106961], [40.74033744175702, -73.99045782354733], [40.70354561076288, -73.87573576709775], [40.67664410104018, -73.91363213611348], [40.75731206303919, -73.88531724061082], [40.67763538934728, -73.96758681222953], [40.817858557708156, -73.85813498781437], [40.71893835938025, -73.99089626184734], [40.78091235579127, -73.84281349543195], [40.670374325917265, -73.98141374048753], [40.57696075363779, -73.98794343407197], [40.841708771119784, -73.94139910573644], [40.8525211492635, -73.91597542466437], [40.688168186954954, -73.93188826440708], [40.857108283314425, -73.93283148761294], [40.7005221995192, -73.91771053131578], [40.67446941826648, -73.93928705867958], [40.89793202529465, -73.85221545370119], [40.586786633051915, -74.08551235826918], [40.74857462935672, -73.98515639467684], [40.7090727427931, -74.00366456329895], [40.715369882143555, -73.93679314491887], [40.748497181405, -73.99243753697608], [40.70680845166585, -74.0074959856243], [40.69499431844209, -73.92224002165722], [40.685633741320636, -73.98611382213662], [40.84905837739125, -73.90512221938542], [40.79001075149545, -73.94575026755156], [40.670374325917265, -73.98141374048753], [40.71833677001376, -73.88005140814955], [40.70805099798807, -73.82871246597531], [40.691507494880646, -73.94990503507506], [40.766948216383234, -73.9596347414917], [40.67446941826648, -73.93928705867958], [40.864473684775454, -73.84742223236714], [40.762252755319366, -73.98984464313301], [40.84905837739125, -73.90512221938542], [40.670374325917265, -73.98141374048753], [40.5920234643643, -73.94050716694063], [40.64698489239519, -73.78653298334979], [40.85440471268924, -73.85439380221179], [40.69499431844209, -73.92224002165722], [40.81825974768987, -73.91284939799155], [40.6248349236082, -74.02989237418782], [40.84905837739125, -73.90512221938542], [40.688168186954954, -73.93188826440708], [40.75981761719184, -73.98419648907571], [40.71833677001376, -73.88005140814955], [40.78396143031378, -73.97863194845081], [40.67446941826648, -73.93928705867958], [40.86526419152494, -73.90591118270515], [40.828988230484576, -73.92440873264253], [40.63790012347376, -73.96096824906373], [40.748427555065724, -73.99991742024713], [40.646116346895084, -73.95162318261012], [40.81825786111924, -73.94077166756266], [40.646116346895084, -73.95162318261012], [40.70436877745512, -73.79397965822719], [40.775932403149945, -73.94651035601463], [40.85777967544156, -73.88586748106961], [40.61797137588927, -74.08783880974954], [40.69454235438128, -73.8309240744999], [40.80945696112528, -73.96176359682921], [40.6248349236082, -74.02989237418782], [40.83141669708519, -73.91502929553265], [40.6609351965506, -73.87682061127201], [40.66400311792599, -73.91025783136136], [40.685633741320636, -73.98611382213662], [40.61221825780563, -73.99525857986231], [40.586786633051915, -74.08551235826918], [40.827902148587405, -73.86967965711676], [40.63803713911708, -73.89973495669392], [40.74537943399859, -73.94889145447952], [40.841708771119784, -73.94139910573644], [40.84274917609802, -73.90031590586487], [40.864473684775454, -73.84742223236714], [40.882157083047055, -73.8589482397575], [40.83399047727384, -73.88590003419148], [40.73949564677819, -73.87711833280915], [40.60427284003078, -74.00748815801174], [40.75257923914961, -73.8630375448669], [40.652364804077415, -73.92225097400492], [40.7376989564444, -73.92467306585043], [40.81207445859209, -73.88553752149427], [40.86526419152494, -73.90591118270515], [40.89793202529465, -73.85221545370119], [40.81825786111924, -73.94077166756266], [40.727620195909545, -73.9859374568246], [40.7542425205003, -73.93482888929137], [40.79796199310004, -73.9681683330924], [40.646116346895084, -73.95162318261012], [40.747745793643915, -73.97849159965226], [40.76149256216374, -73.91969431946067], [40.747745793643915, -73.97849159965226], [40.68383976195102, -73.87817261050249], [40.60142943983517, -73.9835370967223], [40.81825786111924, -73.94077166756266], [40.6248349236082, -74.02989237418782], [40.83774866435355, -73.85798694048577], [40.678953310115254, -73.79098635986958], [40.81797514762944, -73.95378223705632], [40.74857462935672, -73.98515639467684], [40.82701265492538, -73.9485217302088], [40.857108283314425, -73.93283148761294], [40.84274917609802, -73.90031590586487], [40.84905837739125, -73.90512221938542], [40.83141669708519, -73.91502929553265], [40.74537943399859, -73.94889145447952], [40.64059007067449, -73.97619898951328], [40.76149256216374, -73.91969431946067], [40.68665124165608, -73.99672403175197], [40.81207445859209, -73.88553752149427], [40.748427555065724, -73.99991742024713], [40.74423471780147, -73.90630644197877], [40.658744450856695, -73.94744164500473], [40.804333949794604, -73.9512920024351], [40.76110218983437, -73.82885869884261], [40.691507494880646, -73.94990503507506], [40.78396143031378, -73.97863194845081], [40.6248349236082, -74.02989237418782], [40.817858557708156, -73.85813498781437], [40.67446941826648, -73.93928705867958], [40.79001075149545, -73.94575026755156], [40.741406774829755, -73.85884524943998], [40.75181936699946, -73.85358156034265], [40.804333949794604, -73.9512920024351], [40.646116346895084, -73.95162318261012], [40.5920234643643, -73.94050716694063], [40.74227862901228, -73.99697141558364], [40.652364804077415, -73.92225097400492], [40.652364804077415, -73.92225097400492], [40.658247961230586, -73.8449185843852], [40.84905837739125, -73.90512221938542], [40.8011694805865, -73.9373456081249], [40.86526419152494, -73.90591118270515], [40.688168186954954, -73.93188826440708], [40.68796745714746, -73.96236353818358], [40.76031363502697, -73.94199705818421], [40.63094965524547, -73.98866123078287], [40.731820636016764, -73.97659767323344], [40.75672894163307, -73.96514579918421], [40.736824057618975, -73.98405213268919], [40.66655893903527, -73.89536411750328], [40.58047327426203, -73.94362872180562], [40.76335220113314, -73.86839559842021], [40.60491359556376, -73.94813559494118], [40.82701265492538, -73.9485217302088], [40.85777967544156, -73.88586748106961], [40.84905837739125, -73.90512221938542], [40.89952906437649, -73.90698710771423], [40.88240311320921, -73.91066467564433], [40.67446941826648, -73.93928705867958], [40.81825974768987, -73.91284939799155], [40.73949564677819, -73.87711833280915], [40.84678289580979, -73.8506705770834], [40.77437570593249, -73.87362864289108], [40.723752141584804, -73.97696825691766], [40.83141669708519, -73.91502929553265], [40.66655893903527, -73.89536411750328], [40.69120144680612, -73.76314612543838], [40.857108283314425, -73.93283148761294], [40.69533752946114, -73.98608600498397], [40.63790012347376, -73.96096824906373], [40.78396143031378, -73.97863194845081], [40.72399507493355, -73.9023296813137], [40.77596522876096, -73.98764554944384], [40.74857462935672, -73.98515639467684], [40.83782699169885, -73.92615723620783], [40.86768245607542, -73.89018328872031], [40.69120144680612, -73.76314612543838], [40.60491359556376, -73.94813559494118], [40.79001075149545, -73.94575026755156], [40.73832381382601, -73.89217338112864], [40.765484087889845, -73.95473878380503], [40.86768245607542, -73.89018328872031], [40.7376989564444, -73.92467306585043], [40.6248349236082, -74.02989237418782], [40.64698489239519, -73.78653298334979], [40.864473684775454, -73.84742223236714], [40.74423471780147, -73.90630644197877], [40.62092404874623, -73.95682460583801], [40.877137602876616, -73.87902225226024], [40.66654040578564, -73.94878853931498], [40.60491359556376, -73.94813559494118], [40.58655462662636, -74.13297872511703], [40.70436877745512, -73.79397965822719], [40.80734716766524, -73.9168219380646], [40.882157083047055, -73.8589482397575], [40.8233185838775, -73.82354011891947], [40.69120144680612, -73.76314612543838], [40.647527034323524, -73.88241292571799], [40.817858557708156, -73.85813498781437], [40.753309065983395, -74.00401512528647], [40.70652679441957, -73.90170926444723], [40.748427555065724, -73.99991742024713], [40.77437570593249, -73.87362864289108], [40.70652679441957, -73.90170926444723], [40.8525211492635, -73.91597542466437], [40.685633741320636, -73.98611382213662], [40.688168186954954, -73.93188826440708], [40.646116346895084, -73.95162318261012], [40.6609351965506, -73.87682061127201], [40.8011694805865, -73.9373456081249], [40.8525211492635, -73.91597542466437], [40.69499431844209, -73.92224002165722], [40.84678289580979, -73.8506705770834], [40.76861518381155, -73.96563453538072], [40.834165316827594, -73.87228927297001], [40.72837768325732, -73.82119590387465], [40.688168186954954, -73.93188826440708], [40.67664410104018, -73.91363213611348], [40.78247809974789, -73.96555356545913], [40.75668765218882, -73.97235594352028], [40.652364804077415, -73.92225097400492], [40.7404389785964, -73.97649472376757], [40.6248349236082, -74.02989237418782], [40.877137602876616, -73.87902225226024], [40.61961946783515, -74.0138014874401], [40.71473250693941, -73.9830245583349], [40.81825974768987, -73.91284939799155], [40.715369882143555, -73.93679314491887], [40.67446941826648, -73.93928705867958], [40.83774866435355, -73.85798694048577], [40.63803713911708, -73.89973495669392], [40.73257907302703, -73.99430477051168], [40.84496041014609, -73.8855218158743], [40.69078679421093, -73.97488208618897], [40.78043643718997, -73.95701169835736], [40.67446941826648, -73.93928705867958], [40.68796745714746, -73.96236353818358], [40.84496041014609, -73.8855218158743], [40.748427555065724, -73.99991742024713], [40.74537943399859, -73.94889145447952], [40.827902148587405, -73.86967965711676], [40.76149256216374, -73.91969431946067], [40.85440471268924, -73.85439380221179], [40.73949564677819, -73.87711833280915], [40.6442881743892, -73.93796627061693], [40.76149256216374, -73.91969431946067], [40.71880391812993, -73.95741813122187], [40.71203815707447, -74.01607915192923], [40.71063928425106, -73.76113699730598], [40.8491726171826, -73.83158179959668], [40.82751255686402, -73.90235177500071], [40.688168186954954, -73.93188826440708], [40.748427555065724, -73.99991742024713], [40.70652679441957, -73.90170926444723], [40.8011694805865, -73.9373456081249], [40.72143227502133, -73.84766941187527], [40.63094965524547, -73.98866123078287], [40.69499431844209, -73.92224002165722], [40.658247961230586, -73.8449185843852], [40.877137602876616, -73.87902225226024], [40.73457600733177, -74.00287495910837], [40.81207445859209, -73.88553752149427], [40.6442881743892, -73.93796627061693], [40.67559499070673, -73.84704317269406], [40.85815519618405, -73.89953593442151], [40.841708771119784, -73.94139910573644], [40.6609351965506, -73.87682061127201], [40.77437570593249, -73.87362864289108], [40.62092404874623, -73.95682460583801], [40.882157083047055, -73.8589482397575], [40.67664410104018, -73.91363213611348], [40.7005221995192, -73.91771053131578], [40.69499431844209, -73.92224002165722], [40.727620195909545, -73.9859374568246], [40.88240311320921, -73.91066467564433], [40.748497181405, -73.99243753697608], [40.791704934427074, -73.97304890061594], [40.83782699169885, -73.92615723620783], [40.80734716766524, -73.9168219380646], [40.79796199310004, -73.9681683330924], [40.70805099798807, -73.82871246597531], [40.63790012347376, -73.96096824906373], [40.69078679421093, -73.97488208618897], [40.71893835938025, -73.99089626184734], [40.57696075363779, -73.98794343407197], [40.753309065983395, -74.00401512528647], [40.67446941826648, -73.93928705867958], [40.81207445859209, -73.88553752149427], [40.64059007067449, -73.97619898951328], [40.76031363502697, -73.94199705818421], [40.7404389785964, -73.97649472376757], [40.71880391812993, -73.95741813122187], [40.78043643718997, -73.95701169835736], [40.70652679441957, -73.90170926444723], [40.66400311792599, -73.91025783136136], [40.80734716766524, -73.9168219380646], [40.68383976195102, -73.87817261050249], [40.67446941826648, -73.93928705867958], [40.70652679441957, -73.90170926444723], [40.87651237544555, -73.8956200178548], [40.82751255686402, -73.90235177500071], [40.5809219719338, -73.96121676866854], [40.64188631576521, -74.00465205914723], [40.727620195909545, -73.9859374568246], [40.804333949794604, -73.9512920024351], [40.71473250693941, -73.9830245583349], [40.6609351965506, -73.87682061127201], [40.804333949794604, -73.9512920024351], [40.62092404874623, -73.95682460583801], [40.646116346895084, -73.95162318261012], [40.78043643718997, -73.95701169835736], [40.67446941826648, -73.93928705867958], [40.67446941826648, -73.93928705867958], [40.618769278732046, -74.07370444530248], [40.658744450856695, -73.94744164500473], [40.688168186954954, -73.93188826440708], [40.7005221995192, -73.91771053131578], [40.791704934427074, -73.97304890061594], [40.87651237544555, -73.8956200178548], [40.6609351965506, -73.87682061127201], [40.82701265492538, -73.9485217302088], [40.741406774829755, -73.85884524943998], [40.75181936699946, -73.85358156034265], [40.82751255686402, -73.90235177500071], [40.78043643718997, -73.95701169835736], [40.69499431844209, -73.92224002165722], [40.71159635794509, -73.80872901637517], [40.69499431844209, -73.92224002165722], [40.804333949794604, -73.9512920024351], [40.834165316827594, -73.87228927297001], [40.81825786111924, -73.94077166756266], [40.69499431844209, -73.92224002165722], [40.658744450856695, -73.94744164500473], [40.78247809974789, -73.96555356545913], [40.658744450856695, -73.94744164500473], [40.77437570593249, -73.87362864289108], [40.678953310115254, -73.79098635986958], [40.70680845166585, -74.0074959856243], [40.85815519618405, -73.89953593442151], [40.74537943399859, -73.94889145447952], [40.77876585543437, -73.95100987481798], [40.74227862901228, -73.99697141558364], [40.685633741320636, -73.98611382213662], [40.67763538934728, -73.96758681222953], [40.65235464953843, -74.01127116962884], [40.628166874572, -74.14078750231764], [40.817858557708156, -73.85813498781437], [40.65235464953843, -74.01127116962884], [40.69499431844209, -73.92224002165722], [40.765484087889845, -73.95473878380503], [40.75731206303919, -73.88531724061082], [40.75731206303919, -73.88531724061082], [40.653611871336636, -73.97798241330011], [40.73503540069664, -74.0089841047853], [40.614590989275726, -73.91527709386857], [40.841708771119784, -73.94139910573644], [40.6609351965506, -73.87682061127201], [40.72088889344527, -73.99691854183823], [40.58655462662636, -74.13297872511703], [40.78396143031378, -73.97863194845081], [40.864473684775454, -73.84742223236714], [40.7108799333774, -73.95990462730533], [40.6248349236082, -74.02989237418782], [40.63790012347376, -73.96096824906373], [40.841708771119784, -73.94139910573644], [40.748497181405, -73.99243753697608], [40.66400311792599, -73.91025783136136], [40.72388811004171, -74.00153756565634], [40.70436877745512, -73.79397965822719], [40.76861518381155, -73.96563453538072], [40.71545451530519, -73.74153176997538], [40.688168186954954, -73.93188826440708], [40.727620195909545, -73.9859374568246], [40.78043643718997, -73.95701169835736], [40.5920234643643, -73.94050716694063], [40.76110218983437, -73.82885869884261], [40.78043643718997, -73.95701169835736], [40.86768245607542, -73.89018328872031], [40.66654040578564, -73.94878853931498], [40.80945696112528, -73.96176359682921], [40.723752141584804, -73.97696825691766], [40.877137602876616, -73.87902225226024], [40.84905837739125, -73.90512221938542], [40.73949564677819, -73.87711833280915], [40.72950628420885, -73.94954030482212], [40.652364804077415, -73.92225097400492], [40.83782699169885, -73.92615723620783], [40.88093541148942, -73.83664334408303], [40.804333949794604, -73.9512920024351], [40.69499431844209, -73.92224002165722], [40.86768245607542, -73.89018328872031], [40.84905837739125, -73.90512221938542], [40.6442881743892, -73.93796627061693], [40.70652679441957, -73.90170926444723], [40.877137602876616, -73.87902225226024], [40.8011694805865, -73.9373456081249], [40.762252755319366, -73.98984464313301], [40.73832381382601, -73.89217338112864], [40.6609351965506, -73.87682061127201], [40.7542425205003, -73.93482888929137], [40.62627276333639, -73.93009701219934], [40.62627276333639, -73.93009701219934], [40.748497181405, -73.99243753697608], [40.8525211492635, -73.91597542466437], [40.877137602876616, -73.87902225226024], [40.78091235579127, -73.84281349543195], [40.62627276333639, -73.93009701219934], [40.6609351965506, -73.87682061127201], [40.7542425205003, -73.93482888929137], [40.6248349236082, -74.02989237418782], [40.8525211492635, -73.91597542466437], [40.80734716766524, -73.9168219380646], [40.7542425205003, -73.93482888929137], [40.736824057618975, -73.98405213268919], [40.593570836585116, -73.90259658693118], [40.75257923914961, -73.8630375448669], [40.63790012347376, -73.96096824906373], [40.63790012347376, -73.96096824906373], [40.63790012347376, -73.96096824906373], [40.6442881743892, -73.93796627061693], [40.73949564677819, -73.87711833280915], [40.8011694805865, -73.9373456081249], [40.76335220113314, -73.86839559842021], [40.715369882143555, -73.93679314491887], [40.864473684775454, -73.84742223236714], [40.62627276333639, -73.93009701219934], [40.7090727427931, -74.00366456329895], [40.679199014097094, -73.99595619089146], [40.828988230484576, -73.92440873264253], [40.62092404874623, -73.95682460583801], [40.717772736265175, -74.00787970866403], [40.646116346895084, -73.95162318261012], [40.658744450856695, -73.94744164500473], [40.69533752946114, -73.98608600498397], [40.804333949794604, -73.9512920024351], [40.76149256216374, -73.91969431946067], [40.83399047727384, -73.88590003419148], [40.59405875281388, -73.78962208250078], [40.72615563957923, -73.86333855806274], [40.75731206303919, -73.88531724061082], [40.857108283314425, -73.93283148761294], [40.728340391372306, -73.99738026020043], [40.78043643718997, -73.95701169835736], [40.697000613101146, -73.87155842518149], [40.670374325917265, -73.98141374048753], [40.658744450856695, -73.94744164500473], [40.75731206303919, -73.88531724061082], [40.69454235438128, -73.8309240744999], [40.5920234643643, -73.94050716694063], [40.88093541148942, -73.83664334408303], [40.817858557708156, -73.85813498781437], [40.80734716766524, -73.9168219380646], [40.84496041014609, -73.8855218158743], [40.84905837739125, -73.90512221938542], [40.69499431844209, -73.92224002165722], [40.71833677001376, -73.88005140814955], [40.685633741320636, -73.98611382213662], [40.69183120640148, -74.17400027276294], [40.63790012347376, -73.96096824906373], [40.748427555065724, -73.99991742024713], [40.69120144680612, -73.76314612543838], [40.588403465290384, -73.98143115020056], [40.6609351965506, -73.87682061127201], [40.85815519618405, -73.89953593442151], [40.74423471780147, -73.90630644197877], [40.6248349236082, -74.02989237418782], [40.727620195909545, -73.9859374568246], [40.74423471780147, -73.90630644197877], [40.652364804077415, -73.92225097400492], [40.69499431844209, -73.92224002165722], [40.6609351965506, -73.87682061127201], [40.73832381382601, -73.89217338112864], [40.76149256216374, -73.91969431946067], [40.84274917609802, -73.90031590586487], [40.88240311320921, -73.91066467564433], [40.77742692053278, -73.90540773409828], [40.72615563957923, -73.86333855806274], [40.72615563957923, -73.86333855806274], [40.89793202529465, -73.85221545370119], [40.717772736265175, -74.00787970866403], [40.72388811004171, -74.00153756565634], [40.841452100682524, -73.82039319252785], [40.63094965524547, -73.98866123078287], [40.79001075149545, -73.94575026755156], [40.75981761719184, -73.98419648907571], [40.71833677001376, -73.88005140814955], [40.77596522876096, -73.98764554944384], [40.717772736265175, -74.00787970866403], [40.766948216383234, -73.9596347414917], [40.67763538934728, -73.96758681222953], [40.66655893903527, -73.89536411750328], [40.72388811004171, -74.00153756565634], [40.63897220516645, -74.10231250352726], [40.71473250693941, -73.9830245583349], [40.688168186954954, -73.93188826440708], [40.86768245607542, -73.89018328872031], [40.658744450856695, -73.94744164500473], [40.7404389785964, -73.97649472376757], [40.688168186954954, -73.93188826440708], [40.6609351965506, -73.87682061127201], [40.84678289580979, -73.8506705770834], [40.78043643718997, -73.95701169835736], [40.7644214057868, -73.97756868222719], [40.84905837739125, -73.90512221938542], [40.70805099798807, -73.82871246597531], [40.73949564677819, -73.87711833280915], [40.84678289580979, -73.8506705770834], [40.736824057618975, -73.98405213268919], [40.82701265492538, -73.9485217302088], [40.79001075149545, -73.94575026755156], [40.658744450856695, -73.94744164500473], [40.8011694805865, -73.9373456081249], [40.63803713911708, -73.89973495669392], [40.60427284003078, -74.00748815801174], [40.73949564677819, -73.87711833280915], [40.5920234643643, -73.94050716694063], [40.676154037213784, -73.81945963682762], [40.678953310115254, -73.79098635986958], [40.6248349236082, -74.02989237418782], [40.84905837739125, -73.90512221938542], [40.882157083047055, -73.8589482397575], [40.73457600733177, -74.00287495910837], [40.59995429251391, -73.96433367133905], [40.62092404874623, -73.95682460583801], [40.766237725041876, -73.99513522075519], [40.748497181405, -73.99243753697608], [40.8233185838775, -73.82354011891947], [40.79796199310004, -73.9681683330924], [40.736824057618975, -73.98405213268919], [40.747745793643915, -73.97849159965226], [40.87651237544555, -73.8956200178548], [40.691507494880646, -73.94990503507506], [40.71473250693941, -73.9830245583349], [40.75731206303919, -73.88531724061082], [40.86768245607542, -73.89018328872031], [40.76149256216374, -73.91969431946067], [40.828988230484576, -73.92440873264253], [40.71880391812993, -73.95741813122187], [40.70354561076288, -73.87573576709775], [40.69499431844209, -73.92224002165722], [40.7108799333774, -73.95990462730533], [40.727620195909545, -73.9859374568246], [40.71473250693941, -73.9830245583349], [40.817858557708156, -73.85813498781437], [40.74991407790217, -73.97044256869238], [40.64698489239519, -73.78653298334979], [40.83782699169885, -73.92615723620783], [40.7005221995192, -73.91771053131578], [40.762252755319366, -73.98984464313301], [40.614590989275726, -73.91527709386857], [40.64188631576521, -74.00465205914723], [40.804333949794604, -73.9512920024351], [40.882157083047055, -73.8589482397575], [40.7644214057868, -73.97756868222719], [40.83210165963212, -73.84864070062376], [40.75668765218882, -73.97235594352028], [40.73257907302703, -73.99430477051168], [40.841708771119784, -73.94139910573644], [40.73949564677819, -73.87711833280915], [40.74033744175702, -73.99045782354733], [40.71833677001376, -73.88005140814955], [40.7005221995192, -73.91771053131578], [40.74423471780147, -73.90630644197877], [40.753309065983395, -74.00401512528647], [40.78396143031378, -73.97863194845081], [40.84274917609802, -73.90031590586487], [40.66400311792599, -73.91025783136136], [40.75731206303919, -73.88531724061082], [40.736824057618975, -73.98405213268919], [40.69499431844209, -73.92224002165722], [40.6609351965506, -73.87682061127201], [40.76149256216374, -73.91969431946067], [40.741406774829755, -73.85884524943998], [40.75181936699946, -73.85358156034265], [40.741406774829755, -73.85884524943998], [40.75181936699946, -73.85358156034265], [40.804333949794604, -73.9512920024351], [40.691507494880646, -73.94990503507506], [40.75731206303919, -73.88531724061082], [40.857108283314425, -73.93283148761294], [40.72388811004171, -74.00153756565634], [40.6442881743892, -73.93796627061693], [40.58655462662636, -74.13297872511703], [40.688168186954954, -73.93188826440708], [40.65235464953843, -74.01127116962884], [40.658744450856695, -73.94744164500473], [40.75731206303919, -73.88531724061082], [40.77876585543437, -73.95100987481798], [40.857108283314425, -73.93283148761294], [40.828988230484576, -73.92440873264253], [40.85440471268924, -73.85439380221179], [40.877137602876616, -73.87902225226024], [40.67709779790901, -73.74423435166717], [40.69454235438128, -73.8309240744999], [40.76335220113314, -73.86839559842021], [40.688168186954954, -73.93188826440708], [40.82751255686402, -73.90235177500071], [40.69078679421093, -73.97488208618897], [40.804333949794604, -73.9512920024351], [40.747745793643915, -73.97849159965226], [40.65235464953843, -74.01127116962884], [40.877137602876616, -73.87902225226024], [40.688168186954954, -73.93188826440708], [40.658744450856695, -73.94744164500473], [40.72399507493355, -73.9023296813137], [40.748497181405, -73.99243753697608], [40.69499431844209, -73.92224002165722], [40.74991407790217, -73.97044256869238], [40.75257923914961, -73.8630375448669], [40.84678289580979, -73.8506705770834], [40.6609351965506, -73.87682061127201], [40.765484087889845, -73.95473878380503], [40.678953310115254, -73.79098635986958], [40.67559499070673, -73.84704317269406], [40.75981761719184, -73.98419648907571], [40.81825786111924, -73.94077166756266], [40.63897220516645, -74.10231250352726], [40.77437570593249, -73.87362864289108], [40.7108799333774, -73.95990462730533], [40.766237725041876, -73.99513522075519], [40.588403465290384, -73.98143115020056], [40.748427555065724, -73.99991742024713], [40.709138940671856, -74.013022771749], [40.83782699169885, -73.92615723620783], [40.64059007067449, -73.97619898951328], [40.83774866435355, -73.85798694048577], [40.6609351965506, -73.87682061127201], [40.6442881743892, -73.93796627061693], [40.766237725041876, -73.99513522075519], [40.69533752946114, -73.98608600498397], [40.81825786111924, -73.94077166756266], [40.73949564677819, -73.87711833280915], [40.69078679421093, -73.97488208618897], [40.646116346895084, -73.95162318261012], [40.691507494880646, -73.94990503507506], [40.63790012347376, -73.96096824906373], [40.70680845166585, -74.0074959856243], [40.628166874572, -74.14078750231764], [40.69533752946114, -73.98608600498397], [40.76861518381155, -73.96563453538072], [40.83782699169885, -73.92615723620783], [40.6609351965506, -73.87682061127201], [40.76110218983437, -73.82885869884261], [40.70436877745512, -73.79397965822719], [40.83399047727384, -73.88590003419148], [40.753309065983395, -74.00401512528647], [40.817858557708156, -73.85813498781437], [40.685633741320636, -73.98611382213662], [40.6442881743892, -73.93796627061693], [40.74537943399859, -73.94889145447952], [40.804333949794604, -73.9512920024351], [40.8491726171826, -73.83158179959668], [40.88093541148942, -73.83664334408303], [40.88093541148942, -73.83664334408303], [40.83141669708519, -73.91502929553265], [40.63803713911708, -73.89973495669392], [40.78396143031378, -73.97863194845081], [40.75981761719184, -73.98419648907571], [40.68383976195102, -73.87817261050249], [40.73257907302703, -73.99430477051168], [40.7108799333774, -73.95990462730533], [40.6609351965506, -73.87682061127201], [40.82751255686402, -73.90235177500071], [40.86827620354774, -73.80785726631278], [40.765484087889845, -73.95473878380503], [40.828988230484576, -73.92440873264253], [40.7005221995192, -73.91771053131578], [40.694427554088776, -73.79096393223055], [40.61221825780563, -73.99525857986231], [40.84678289580979, -73.8506705770834], [40.62627276333639, -73.93009701219934], [40.73446262820092, -73.77725346665987], [40.762252755319366, -73.98984464313301], [40.791704934427074, -73.97304890061594], [40.7005221995192, -73.91771053131578], [40.877137602876616, -73.87902225226024], [40.67446941826648, -73.93928705867958], [40.75672894163307, -73.96514579918421], [40.758028043526274, -73.97769793122403], [40.67446941826648, -73.93928705867958], [40.676154037213784, -73.81945963682762], [40.747745793643915, -73.97849159965226], [40.688168186954954, -73.93188826440708], [40.71245931177952, -73.99815149899052], [40.83141669708519, -73.91502929553265], [40.72950628420885, -73.94954030482212], [40.736824057618975, -73.98405213268919], [40.81825974768987, -73.91284939799155], [40.71159635794509, -73.80872901637517], [40.86607500072778, -73.91930823586193], [40.76835162630846, -73.8095458209943], [40.7404389785964, -73.97649472376757], [40.658744450856695, -73.94744164500473], [40.658744450856695, -73.94744164500473], [40.71880391812993, -73.95741813122187], [40.70436877745512, -73.79397965822719], [40.71893835938025, -73.99089626184734], [40.86607500072778, -73.91930823586193], [40.676154037213784, -73.81945963682762], [40.72399507493355, -73.9023296813137], [40.86768245607542, -73.89018328872031], [40.81825786111924, -73.94077166756266], [40.78043643718997, -73.95701169835736], [40.71203815707447, -74.01607915192923], [40.857108283314425, -73.93283148761294], [40.841708771119784, -73.94139910573644], [40.727620195909545, -73.9859374568246], [40.78333304726095, -73.78597227877705], [40.75981761719184, -73.98419648907571], [40.6442881743892, -73.93796627061693], [40.688168186954954, -73.93188826440708], [40.67446941826648, -73.93928705867958], [40.69078679421093, -73.97488208618897], [40.77437570593249, -73.87362864289108], [40.63790012347376, -73.96096824906373], [40.715369882143555, -73.93679314491887], [40.78247809974789, -73.96555356545913], [40.748497181405, -73.99243753697608], [40.74991407790217, -73.97044256869238], [40.775932403149945, -73.94651035601463], [40.877137602876616, -73.87902225226024], [40.7108799333774, -73.95990462730533], [40.6609351965506, -73.87682061127201], [40.69499431844209, -73.92224002165722], [40.79001075149545, -73.94575026755156], [40.753309065983395, -74.00401512528647], [40.723752141584804, -73.97696825691766], [40.691507494880646, -73.94990503507506], [40.79001075149545, -73.94575026755156], [40.74991407790217, -73.97044256869238], [40.74227862901228, -73.99697141558364], [40.68872135698128, -73.85576675985419], [40.75731206303919, -73.88531724061082], [40.75731206303919, -73.88531724061082], [40.877137602876616, -73.87902225226024], [40.775932403149945, -73.94651035601463], [40.73257907302703, -73.99430477051168], [40.76149256216374, -73.91969431946067], [40.59995429251391, -73.96433367133905], [40.86607500072778, -73.91930823586193], [40.857108283314425, -73.93283148761294], [40.7005221995192, -73.91771053131578], [40.70436877745512, -73.79397965822719], [40.70652679441957, -73.90170926444723], [40.77437570593249, -73.87362864289108], [40.84274917609802, -73.90031590586487], [40.76835162630846, -73.8095458209943], [40.7005221995192, -73.91771053131578], [40.765484087889845, -73.95473878380503], [40.64698489239519, -73.78653298334979], [40.74857462935672, -73.98515639467684], [40.88240311320921, -73.91066467564433], [40.69183120640148, -74.17400027276294], [40.66218488071142, -73.76450578558227], [40.86400220602362, -73.86490099876721], [40.6248349236082, -74.02989237418782], [40.69499431844209, -73.92224002165722], [40.658744450856695, -73.94744164500473], [40.66654040578564, -73.94878853931498], [40.6248349236082, -74.02989237418782], [40.66654040578564, -73.94878853931498], [40.71159635794509, -73.80872901637517], [40.79001075149545, -73.94575026755156], [40.86526419152494, -73.90591118270515], [40.715369882143555, -73.93679314491887], [40.77876585543437, -73.95100987481798], [40.72388811004171, -74.00153756565634], [40.86768245607542, -73.89018328872031], [40.834165316827594, -73.87228927297001], [40.675548862280856, -74.00917849113294], [40.7005221995192, -73.91771053131578], [40.81825786111924, -73.94077166756266], [40.766948216383234, -73.9596347414917], [40.841708771119784, -73.94139910573644], [40.75351275872571, -73.9887865991153], [40.652364804077415, -73.92225097400492], [40.81825974768987, -73.91284939799155], [40.66654040578564, -73.94878853931498], [40.69078679421093, -73.97488208618897], [40.709138940671856, -74.013022771749], [40.64698489239519, -73.78653298334979], [40.702258938822524, -73.98570161582289], [40.6609351965506, -73.87682061127201], [40.841708771119784, -73.94139910573644], [40.85777967544156, -73.88586748106961], [40.766237725041876, -73.99513522075519], [40.66400311792599, -73.91025783136136], [40.614590989275726, -73.91527709386857], [40.75668765218882, -73.97235594352028], [40.670374325917265, -73.98141374048753], [40.7005221995192, -73.91771053131578], [40.728340391372306, -73.99738026020043], [40.828988230484576, -73.92440873264253], [40.75731206303919, -73.88531724061082], [40.72833332297307, -73.8024442818622], [40.88093541148942, -73.83664334408303], [40.765484087889845, -73.95473878380503], [40.841708771119784, -73.94139910573644], [40.75672894163307, -73.96514579918421], [40.76031363502697, -73.94199705818421], [40.804333949794604, -73.9512920024351], [40.63803713911708, -73.89973495669392], [40.8525211492635, -73.91597542466437], [40.69499431844209, -73.92224002165722], [40.676154037213784, -73.81945963682762], [40.85815519618405, -73.89953593442151], [40.6609351965506, -73.87682061127201], [40.63790012347376, -73.96096824906373], [40.78396143031378, -73.97863194845081], [40.73457600733177, -74.00287495910837], [40.727620195909545, -73.9859374568246], [40.691507494880646, -73.94990503507506], [40.89952906437649, -73.90698710771423], [40.89793202529465, -73.85221545370119], [40.59995429251391, -73.96433367133905], [40.7542425205003, -73.93482888929137], [40.87651237544555, -73.8956200178548], [40.75351275872571, -73.9887865991153], [40.61961946783515, -74.0138014874401], [40.6442881743892, -73.93796627061693], [40.83399047727384, -73.88590003419148], [40.83399047727384, -73.88590003419148], [40.7404389785964, -73.97649472376757], [40.5809219719338, -73.96121676866854], [40.84905837739125, -73.90512221938542], [40.64188631576521, -74.00465205914723], [40.75672894163307, -73.96514579918421], [40.69454235438128, -73.8309240744999], [40.68720074733727, -74.00291127745284], [40.69078679421093, -73.97488208618897], [40.72833332297307, -73.8024442818622], [40.79001075149545, -73.94575026755156], [40.68796745714746, -73.96236353818358], [40.8011694805865, -73.9373456081249], [40.6609351965506, -73.87682061127201], [40.84905837739125, -73.90512221938542], [40.8233185838775, -73.82354011891947], [40.728340391372306, -73.99738026020043], [40.72388811004171, -74.00153756565634], [40.63094965524547, -73.98866123078287], [40.727620195909545, -73.9859374568246], [40.86526419152494, -73.90591118270515], [40.857108283314425, -73.93283148761294], [40.6609351965506, -73.87682061127201], [40.6248349236082, -74.02989237418782], [40.66654040578564, -73.94878853931498], [40.80734716766524, -73.9168219380646], [40.64698489239519, -73.78653298334979], [40.841708771119784, -73.94139910573644], [40.65235464953843, -74.01127116962884], [40.8525211492635, -73.91597542466437], [40.77437570593249, -73.87362864289108], [40.69120144680612, -73.76314612543838], [40.77742692053278, -73.90540773409828], [40.71833677001376, -73.88005140814955], [40.8525211492635, -73.91597542466437], [40.75672894163307, -73.96514579918421], [40.804333949794604, -73.9512920024351], [40.76149256216374, -73.91969431946067], [40.882157083047055, -73.8589482397575], [40.728340391372306, -73.99738026020043], [40.83141669708519, -73.91502929553265], [40.618769278732046, -74.07370444530248], [40.66400311792599, -73.91025783136136], [40.86607500072778, -73.91930823586193], [40.658744450856695, -73.94744164500473], [40.7376989564444, -73.92467306585043], [40.841708771119784, -73.94139910573644], [40.63094965524547, -73.98866123078287], [40.715369882143555, -73.93679314491887], [40.79001075149545, -73.94575026755156], [40.73457600733177, -74.00287495910837], [40.8233185838775, -73.82354011891947], [40.65235464953843, -74.01127116962884], [40.670374325917265, -73.98141374048753], [40.61221825780563, -73.99525857986231], [40.86768245607542, -73.89018328872031], [40.80734716766524, -73.9168219380646], [40.63790012347376, -73.96096824906373], [40.70805099798807, -73.82871246597531], [40.86526419152494, -73.90591118270515], [40.70436877745512, -73.79397965822719], [40.688168186954954, -73.93188826440708], [40.61221825780563, -73.99525857986231], [40.606447701027626, -74.17088688155245], [40.67446941826648, -73.93928705867958], [40.69579822121126, -73.99525011996623], [40.68796745714746, -73.96236353818358], [40.67351279686077, -73.99064727363114], [40.62627276333639, -73.93009701219934], [40.67446941826648, -73.93928705867958], [40.688168186954954, -73.93188826440708], [40.68383976195102, -73.87817261050249], [40.73257907302703, -73.99430477051168], [40.6609351965506, -73.87682061127201], [40.69579822121126, -73.99525011996623], [40.63094965524547, -73.98866123078287], [40.606447701027626, -74.17088688155245], [40.72065523874957, -73.77610076139926], [40.73257907302703, -73.99430477051168], [40.70436877745512, -73.79397965822719], [40.70436877745512, -73.79397965822719], [40.67446941826648, -73.93928705867958], [40.75672894163307, -73.96514579918421], [40.877137602876616, -73.87902225226024], [40.646116346895084, -73.95162318261012], [40.8196759793049, -73.89895638182648], [40.727620195909545, -73.9859374568246], [40.69454235438128, -73.8309240744999], [40.765484087889845, -73.95473878380503], [40.70805099798807, -73.82871246597531], [40.715369882143555, -73.93679314491887], [40.72399507493355, -73.9023296813137], [40.694427554088776, -73.79096393223055], [40.727620195909545, -73.9859374568246], [40.63803713911708, -73.89973495669392], [40.66654040578564, -73.94878853931498], [40.69078679421093, -73.97488208618897], [40.7376989564444, -73.92467306585043], [40.67664410104018, -73.91363213611348], [40.75981761719184, -73.98419648907571], [40.66400311792599, -73.91025783136136], [40.84274917609802, -73.90031590586487], [40.676154037213784, -73.81945963682762], [40.8011694805865, -73.9373456081249], [40.63803713911708, -73.89973495669392], [40.670374325917265, -73.98141374048753], [40.841708771119784, -73.94139910573644], [40.66218488071142, -73.76450578558227], [40.678953310115254, -73.79098635986958], [40.74033744175702, -73.99045782354733], [40.65235464953843, -74.01127116962884], [40.715369882143555, -73.93679314491887], [40.70680845166585, -74.0074959856243], [40.658247961230586, -73.8449185843852], [40.85440471268924, -73.85439380221179], [40.766237725041876, -73.99513522075519], [40.69499431844209, -73.92224002165722], [40.7376989564444, -73.92467306585043], [40.69579822121126, -73.99525011996623], [40.727620195909545, -73.9859374568246], [40.727620195909545, -73.9859374568246], [40.74857462935672, -73.98515639467684], [40.8525211492635, -73.91597542466437], [40.70680845166585, -74.0074959856243], [40.688168186954954, -73.93188826440708], [40.775932403149945, -73.94651035601463], [40.66655893903527, -73.89536411750328], [40.64698489239519, -73.78653298334979], [40.68383976195102, -73.87817261050249], [40.70436877745512, -73.79397965822719], [40.86607500072778, -73.91930823586193], [40.685633741320636, -73.98611382213662], [40.67709779790901, -73.74423435166717], [40.841452100682524, -73.82039319252785], [40.7108799333774, -73.95990462730533], [40.69120144680612, -73.76314612543838], [40.72143227502133, -73.84766941187527], [40.80734716766524, -73.9168219380646], [40.66400311792599, -73.91025783136136], [40.7376989564444, -73.92467306585043], [40.717772736265175, -74.00787970866403], [40.72143227502133, -73.84766941187527], [40.63094965524547, -73.98866123078287], [40.679199014097094, -73.99595619089146], [40.84274917609802, -73.90031590586487], [40.82751255686402, -73.90235177500071], [40.758028043526274, -73.97769793122403], [40.67446941826648, -73.93928705867958], [40.753309065983395, -74.00401512528647], [40.83141669708519, -73.91502929553265], [40.72950628420885, -73.94954030482212], [40.63790012347376, -73.96096824906373], [40.66218488071142, -73.76450578558227], [40.73832381382601, -73.89217338112864], [40.63130769285306, -74.16723534170741], [40.83774866435355, -73.85798694048577], [40.7108799333774, -73.95990462730533], [40.717772736265175, -74.00787970866403], [40.652364804077415, -73.92225097400492], [40.75257923914961, -73.8630375448669], [40.834165316827594, -73.87228927297001], [40.658744450856695, -73.94744164500473], [40.857108283314425, -73.93283148761294], [40.81797514762944, -73.95378223705632], [40.765484087889845, -73.95473878380503], [40.62092404874623, -73.95682460583801], [40.69533752946114, -73.98608600498397], [40.841708771119784, -73.94139910573644], [40.8491726171826, -73.83158179959668], [40.762252755319366, -73.98984464313301], [40.75731206303919, -73.88531724061082], [40.76110218983437, -73.82885869884261], [40.68872135698128, -73.85576675985419], [40.70436877745512, -73.79397965822719], [40.76861518381155, -73.96563453538072], [40.8196759793049, -73.89895638182648], [40.77876585543437, -73.95100987481798], [40.68383976195102, -73.87817261050249], [40.652364804077415, -73.92225097400492], [40.804333949794604, -73.9512920024351], [40.882157083047055, -73.8589482397575], [40.86526419152494, -73.90591118270515], [40.81825786111924, -73.94077166756266], [40.6442881743892, -73.93796627061693], [40.60243279341671, -73.75524369679592], [40.762252755319366, -73.98984464313301], [40.748427555065724, -73.99991742024713], [40.678953310115254, -73.79098635986958], [40.70652679441957, -73.90170926444723], [40.83399047727384, -73.88590003419148], [40.77437570593249, -73.87362864289108], [40.81797514762944, -73.95378223705632], [40.6442881743892, -73.93796627061693], [40.75672894163307, -73.96514579918421], [40.70805099798807, -73.82871246597531], [40.78396143031378, -73.97863194845081], [40.66655893903527, -73.89536411750328], [40.63803713911708, -73.89973495669392], [40.7005221995192, -73.91771053131578], [40.658744450856695, -73.94744164500473], [40.80734716766524, -73.9168219380646], [40.77742692053278, -73.90540773409828], [40.76149256216374, -73.91969431946067], [40.75668765218882, -73.97235594352028], [40.5809219719338, -73.96121676866854], [40.81207445859209, -73.88553752149427], [40.766948216383234, -73.9596347414917], [40.5920234643643, -73.94050716694063], [40.65235464953843, -74.01127116962884], [40.63803713911708, -73.89973495669392], [40.81825974768987, -73.91284939799155], [40.6248349236082, -74.02989237418782], [40.6248349236082, -74.02989237418782], [40.7376989564444, -73.92467306585043], [40.691507494880646, -73.94990503507506], [40.67763538934728, -73.96758681222953], [40.71880391812993, -73.95741813122187], [40.73949564677819, -73.87711833280915], [40.73503540069664, -74.0089841047853], [40.76110218983437, -73.82885869884261], [40.85777967544156, -73.88586748106961], [40.60243279341671, -73.75524369679592], [40.748497181405, -73.99243753697608], [40.691507494880646, -73.94990503507506], [40.74423471780147, -73.90630644197877], [40.685633741320636, -73.98611382213662], [40.765484087889845, -73.95473878380503], [40.67664410104018, -73.91363213611348], [40.72950628420885, -73.94954030482212], [40.61221825780563, -73.99525857986231], [40.84496041014609, -73.8855218158743], [40.86607500072778, -73.91930823586193], [40.84908594313968, -73.78198714613212], [40.765484087889845, -73.95473878380503], [40.694427554088776, -73.79096393223055], [40.66654040578564, -73.94878853931498], [40.72837768325732, -73.82119590387465], [40.81207445859209, -73.88553752149427], [40.66654040578564, -73.94878853931498], [40.71833677001376, -73.88005140814955], [40.75103502557233, -73.78794887777894], [40.6609351965506, -73.87682061127201], [40.72143227502133, -73.84766941187527], [40.74423471780147, -73.90630644197877], [40.68383976195102, -73.87817261050249], [40.791704934427074, -73.97304890061594], [40.7376989564444, -73.92467306585043], [40.7627383754424, -73.77342181890134], [40.68872135698128, -73.85576675985419], [40.7005221995192, -73.91771053131578], [40.70805099798807, -73.82871246597531], [40.63790012347376, -73.96096824906373], [40.75103502557233, -73.78794887777894], [40.694427554088776, -73.79096393223055], [40.69078679421093, -73.97488208618897], [40.882157083047055, -73.8589482397575], [40.670374325917265, -73.98141374048753], [40.81207445859209, -73.88553752149427], [40.758028043526274, -73.97769793122403], [40.63803713911708, -73.89973495669392], [40.86400220602362, -73.86490099876721], [40.828988230484576, -73.92440873264253], [40.86400220602362, -73.86490099876721], [40.71880391812993, -73.95741813122187], [40.766237725041876, -73.99513522075519], [40.6442881743892, -73.93796627061693], [40.74537943399859, -73.94889145447952], [40.740675872160665, -73.84086726234153], [40.76861518381155, -73.96563453538072], [40.685633741320636, -73.98611382213662], [40.83399047727384, -73.88590003419148], [40.86768245607542, -73.89018328872031], [40.73949564677819, -73.87711833280915], [40.83141669708519, -73.91502929553265], [40.6248349236082, -74.02989237418782], [40.727620195909545, -73.9859374568246], [40.771570243583376, -73.92833318686121], [40.6248349236082, -74.02989237418782], [40.70805099798807, -73.82871246597531], [40.87651237544555, -73.8956200178548], [40.7108799333774, -73.95990462730533], [40.766237725041876, -73.99513522075519], [40.747745793643915, -73.97849159965226], [40.63094965524547, -73.98866123078287], [40.72950628420885, -73.94954030482212], [40.827902148587405, -73.86967965711676], [40.762252755319366, -73.98984464313301], [40.78043643718997, -73.95701169835736], [40.762252755319366, -73.98984464313301], [40.717772736265175, -74.00787970866403], [40.647527034323524, -73.88241292571799], [40.69579822121126, -73.99525011996623], [40.75731206303919, -73.88531724061082], [40.72088889344527, -73.99691854183823], [40.79001075149545, -73.94575026755156], [40.675548862280856, -74.00917849113294], [40.82701265492538, -73.9485217302088], [40.72615563957923, -73.86333855806274], [40.67446941826648, -73.93928705867958], [40.679199014097094, -73.99595619089146], [40.74537943399859, -73.94889145447952], [40.652364804077415, -73.92225097400492], [40.74991407790217, -73.97044256869238], [40.70652679441957, -73.90170926444723], [40.758028043526274, -73.97769793122403], [40.8525211492635, -73.91597542466437], [40.82751255686402, -73.90235177500071], [40.67446941826648, -73.93928705867958], [40.77596522876096, -73.98764554944384], [40.72833332297307, -73.8024442818622], [40.723752141584804, -73.97696825691766], [40.80734716766524, -73.9168219380646], [40.74537943399859, -73.94889145447952], [40.882157083047055, -73.8589482397575], [40.86526419152494, -73.90591118270515], [40.75672894163307, -73.96514579918421], [40.72088889344527, -73.99691854183823], [40.80945696112528, -73.96176359682921], [40.84496041014609, -73.8855218158743], [40.71063928425106, -73.76113699730598], [40.81825786111924, -73.94077166756266], [40.81825786111924, -73.94077166756266], [40.748497181405, -73.99243753697608], [40.67763538934728, -73.96758681222953], [40.66400311792599, -73.91025783136136], [40.74033744175702, -73.99045782354733], [40.69120144680612, -73.76314612543838], [40.77437570593249, -73.87362864289108], [40.736824057618975, -73.98405213268919], [40.68383976195102, -73.87817261050249], [40.73257907302703, -73.99430477051168], [40.60491359556376, -73.94813559494118], [40.841708771119784, -73.94139910573644], [40.69499431844209, -73.92224002165722], [40.78043643718997, -73.95701169835736], [40.748427555065724, -73.99991742024713], [40.65235464953843, -74.01127116962884], [40.8525211492635, -73.91597542466437], [40.7404389785964, -73.97649472376757], [40.688168186954954, -73.93188826440708], [40.691507494880646, -73.94990503507506], [40.75410888689297, -73.80729418212229], [40.7376989564444, -73.92467306585043], [40.62092404874623, -73.95682460583801], [40.63790012347376, -73.96096824906373], [40.81825786111924, -73.94077166756266], [40.62627276333639, -73.93009701219934], [40.817858557708156, -73.85813498781437], [40.72143227502133, -73.84766941187527], [40.78043643718997, -73.95701169835736], [40.74991407790217, -73.97044256869238], [40.72950628420885, -73.94954030482212], [40.67664410104018, -73.91363213611348], [40.77596522876096, -73.98764554944384], [40.741406774829755, -73.85884524943998], [40.75181936699946, -73.85358156034265], [40.67446941826648, -73.93928705867958], [40.614590989275726, -73.91527709386857], [40.8525211492635, -73.91597542466437], [40.72143227502133, -73.84766941187527], [40.67446941826648, -73.93928705867958], [40.69454235438128, -73.8309240744999], [40.715369882143555, -73.93679314491887], [40.85777967544156, -73.88586748106961], [40.57696075363779, -73.98794343407197], [40.753309065983395, -74.00401512528647], [40.72950628420885, -73.94954030482212], [40.8233185838775, -73.82354011891947], [40.771570243583376, -73.92833318686121], [40.765484087889845, -73.95473878380503], [40.762252755319366, -73.98984464313301], [40.81825786111924, -73.94077166756266], [40.877137602876616, -73.87902225226024], [40.74991407790217, -73.97044256869238], [40.828988230484576, -73.92440873264253], [40.69078679421093, -73.97488208618897], [40.77437570593249, -73.87362864289108], [40.86526419152494, -73.90591118270515], [40.841708771119784, -73.94139910573644], [40.74033744175702, -73.99045782354733], [40.675548862280856, -74.00917849113294], [40.81797514762944, -73.95378223705632], [40.70680845166585, -74.0074959856243], [40.765484087889845, -73.95473878380503], [40.72088889344527, -73.99691854183823], [40.691507494880646, -73.94990503507506], [40.672089706767316, -73.77303565610487], [40.82751255686402, -73.90235177500071], [40.72143227502133, -73.84766941187527], [40.78043643718997, -73.95701169835736], [40.84274917609802, -73.90031590586487], [40.76861518381155, -73.96563453538072], [40.69579822121126, -73.99525011996623], [40.658744450856695, -73.94744164500473], [40.857108283314425, -73.93283148761294], [40.71880391812993, -73.95741813122187], [40.87397305492026, -73.82826367307182], [40.76861518381155, -73.96563453538072], [40.70436877745512, -73.79397965822719], [40.66655893903527, -73.89536411750328], [40.841708771119784, -73.94139910573644], [40.73257907302703, -73.99430477051168], [40.771570243583376, -73.92833318686121], [40.765484087889845, -73.95473878380503], [40.76149256216374, -73.91969431946067], [40.877137602876616, -73.87902225226024], [40.82701265492538, -73.9485217302088], [40.86400220602362, -73.86490099876721], [40.86526419152494, -73.90591118270515], [40.78333304726095, -73.78597227877705], [40.646116346895084, -73.95162318261012], [40.60142943983517, -73.9835370967223], [40.66218488071142, -73.76450578558227], [40.63790012347376, -73.96096824906373], [40.717772736265175, -74.00787970866403], [40.63094965524547, -73.98866123078287], [40.87651237544555, -73.8956200178548], [40.63803713911708, -73.89973495669392], [40.646116346895084, -73.95162318261012], [40.66400311792599, -73.91025783136136], [40.72615563957923, -73.86333855806274], [40.81825974768987, -73.91284939799155], [40.82751255686402, -73.90235177500071], [40.7005221995192, -73.91771053131578], [40.62092404874623, -73.95682460583801], [40.7090727427931, -74.00366456329895], [40.6609351965506, -73.87682061127201], [40.59995429251391, -73.96433367133905], [40.715369882143555, -73.93679314491887], [40.857108283314425, -73.93283148761294], [40.766948216383234, -73.9596347414917], [40.688168186954954, -73.93188826440708], [40.6609351965506, -73.87682061127201], [40.7005221995192, -73.91771053131578], [40.57176889293261, -74.1050190072149], [40.74991407790217, -73.97044256869238], [40.63094965524547, -73.98866123078287], [40.6609351965506, -73.87682061127201], [40.74033744175702, -73.99045782354733], [40.702258938822524, -73.98570161582289], [40.652364804077415, -73.92225097400492], [40.80734716766524, -73.9168219380646], [40.72950628420885, -73.94954030482212], [40.76149256216374, -73.91969431946067], [40.76149256216374, -73.91969431946067], [40.7005221995192, -73.91771053131578], [40.60491359556376, -73.94813559494118], [40.76335220113314, -73.86839559842021], [40.81825786111924, -73.94077166756266], [40.658744450856695, -73.94744164500473], [40.766948216383234, -73.9596347414917], [40.63094965524547, -73.98866123078287], [40.817858557708156, -73.85813498781437], [40.77876585543437, -73.95100987481798], [40.89793202529465, -73.85221545370119], [40.748497181405, -73.99243753697608], [40.78091235579127, -73.84281349543195], [40.717772736265175, -74.00787970866403], [40.62627276333639, -73.93009701219934], [40.727620195909545, -73.9859374568246], [40.71833677001376, -73.88005140814955], [40.83210165963212, -73.84864070062376], [40.84274917609802, -73.90031590586487], [40.84274917609802, -73.90031590586487], [40.73503540069664, -74.0089841047853], [40.63094965524547, -73.98866123078287], [40.80734716766524, -73.9168219380646], [40.87397305492026, -73.82826367307182], [40.765484087889845, -73.95473878380503], [40.747745793643915, -73.97849159965226], [40.67446941826648, -73.93928705867958], [40.84678289580979, -73.8506705770834], [40.8196759793049, -73.89895638182648], [40.614590989275726, -73.91527709386857], [40.727620195909545, -73.9859374568246], [40.828988230484576, -73.92440873264253], [40.7108799333774, -73.95990462730533], [40.83210165963212, -73.84864070062376], [40.6442881743892, -73.93796627061693], [40.75981761719184, -73.98419648907571], [40.817858557708156, -73.85813498781437], [40.67446941826648, -73.93928705867958], [40.74227862901228, -73.99697141558364], [40.79796199310004, -73.9681683330924], [40.67446941826648, -73.93928705867958], [40.67446941826648, -73.93928705867958], [40.685633741320636, -73.98611382213662], [40.89793202529465, -73.85221545370119], [40.82701265492538, -73.9485217302088], [40.81825786111924, -73.94077166756266], [40.748427555065724, -73.99991742024713], [40.6442881743892, -73.93796627061693], [40.691507494880646, -73.94990503507506], [40.5809219719338, -73.96121676866854], [40.69499431844209, -73.92224002165722], [40.748497181405, -73.99243753697608], [40.63803713911708, -73.89973495669392], [40.67446941826648, -73.93928705867958], [40.75672894163307, -73.96514579918421], [40.83774866435355, -73.85798694048577], [40.7005221995192, -73.91771053131578], [40.79796199310004, -73.9681683330924], [40.73949564677819, -73.87711833280915], [40.70805099798807, -73.82871246597531], [40.77596522876096, -73.98764554944384], [40.688168186954954, -73.93188826440708], [40.78396143031378, -73.97863194845081], [40.7627383754424, -73.77342181890134], [40.60243279341671, -73.75524369679592], [40.676154037213784, -73.81945963682762], [40.62092404874623, -73.95682460583801], [40.73949564677819, -73.87711833280915], [40.83399047727384, -73.88590003419148], [40.877137602876616, -73.87902225226024], [40.8233185838775, -73.82354011891947], [40.84274917609802, -73.90031590586487], [40.8011694805865, -73.9373456081249], [40.77876585543437, -73.95100987481798], [40.679199014097094, -73.99595619089146], [40.748427555065724, -73.99991742024713], [40.83141669708519, -73.91502929553265], [40.66655893903527, -73.89536411750328], [40.817858557708156, -73.85813498781437], [40.69499431844209, -73.92224002165722], [40.688168186954954, -73.93188826440708], [40.71880391812993, -73.95741813122187], [40.76335220113314, -73.86839559842021], [40.71893835938025, -73.99089626184734], [40.71545451530519, -73.74153176997538], [40.748427555065724, -73.99991742024713], [40.72388811004171, -74.00153756565634], [40.72065523874957, -73.77610076139926], [40.834165316827594, -73.87228927297001], [40.71893835938025, -73.99089626184734], [40.652364804077415, -73.92225097400492], [40.758028043526274, -73.97769793122403], [40.652364804077415, -73.92225097400492], [40.69078679421093, -73.97488208618897], [40.64059007067449, -73.97619898951328], [40.875967802212436, -73.91037866410586], [40.736824057618975, -73.98405213268919], [40.74227862901228, -73.99697141558364], [40.69499431844209, -73.92224002165722], [40.841708771119784, -73.94139910573644], [40.85440471268924, -73.85439380221179], [40.68796745714746, -73.96236353818358], [40.74227862901228, -73.99697141558364], [40.70652679441957, -73.90170926444723], [40.81825786111924, -73.94077166756266], [40.73949564677819, -73.87711833280915], [40.646116346895084, -73.95162318261012], [40.73446262820092, -73.77725346665987], [40.63803713911708, -73.89973495669392], [40.753309065983395, -74.00401512528647], [40.647527034323524, -73.88241292571799], [40.68872135698128, -73.85576675985419], [40.8525211492635, -73.91597542466437], [40.77596522876096, -73.98764554944384], [40.72143227502133, -73.84766941187527], [40.8577466809159, -73.8754759505304], [40.691507494880646, -73.94990503507506], [40.62627276333639, -73.93009701219934], [40.82701265492538, -73.9485217302088], [40.86768245607542, -73.89018328872031], [40.61221825780563, -73.99525857986231], [40.69078679421093, -73.97488208618897], [40.57696075363779, -73.98794343407197], [40.6609351965506, -73.87682061127201], [40.86768245607542, -73.89018328872031], [40.748497181405, -73.99243753697608], [40.7736332930271, -73.98153220639182], [40.6442881743892, -73.93796627061693], [40.691507494880646, -73.94990503507506], [40.83782699169885, -73.92615723620783], [40.753309065983395, -74.00401512528647], [40.74991407790217, -73.97044256869238], [40.736824057618975, -73.98405213268919], [40.87397305492026, -73.82826367307182], [40.7404389785964, -73.97649472376757], [40.7644214057868, -73.97756868222719], [40.68796745714746, -73.96236353818358], [40.72833332297307, -73.8024442818622], [40.72143227502133, -73.84766941187527], [40.69120144680612, -73.76314612543838], [40.59995429251391, -73.96433367133905], [40.691507494880646, -73.94990503507506], [40.75668765218882, -73.97235594352028], [40.89793202529465, -73.85221545370119], [40.81825974768987, -73.91284939799155], [40.87651237544555, -73.8956200178548], [40.73949564677819, -73.87711833280915], [40.73949564677819, -73.87711833280915], [40.791704934427074, -73.97304890061594], [40.61797137588927, -74.08783880974954], [40.740675872160665, -73.84086726234153], [40.882157083047055, -73.8589482397575], [40.758028043526274, -73.97769793122403], [40.685633741320636, -73.98611382213662], [40.5920234643643, -73.94050716694063], [40.646116346895084, -73.95162318261012], [40.652364804077415, -73.92225097400492], [40.841708771119784, -73.94139910573644], [40.85440471268924, -73.85439380221179], [40.736824057618975, -73.98405213268919], [40.8525211492635, -73.91597542466437], [40.76110218983437, -73.82885869884261], [40.73503540069664, -74.0089841047853], [40.83210165963212, -73.84864070062376], [40.66654040578564, -73.94878853931498], [40.827902148587405, -73.86967965711676], [40.63803713911708, -73.89973495669392], [40.736824057618975, -73.98405213268919], [40.67446941826648, -73.93928705867958], [40.715369882143555, -73.93679314491887], [40.82701265492538, -73.9485217302088], [40.71203815707447, -74.01607915192923], [40.741406774829755, -73.85884524943998], [40.75181936699946, -73.85358156034265], [40.81797514762944, -73.95378223705632], [40.66400311792599, -73.91025783136136], [40.88240311320921, -73.91066467564433], [40.828988230484576, -73.92440873264253], [40.86827620354774, -73.80785726631278], [40.81825786111924, -73.94077166756266], [40.69579822121126, -73.99525011996623], [40.7376989564444, -73.92467306585043], [40.676154037213784, -73.81945963682762], [40.672089706767316, -73.77303565610487], [40.73832381382601, -73.89217338112864], [40.70354561076288, -73.87573576709775], [40.61221825780563, -73.99525857986231], [40.762252755319366, -73.98984464313301], [40.79001075149545, -73.94575026755156], [40.82751255686402, -73.90235177500071], [40.791704934427074, -73.97304890061594], [40.68872135698128, -73.85576675985419], [40.61221825780563, -73.99525857986231], [40.748427555065724, -73.99991742024713], [40.78043643718997, -73.95701169835736], [40.69499431844209, -73.92224002165722], [40.72388811004171, -74.00153756565634], [40.68796745714746, -73.96236353818358], [40.86607500072778, -73.91930823586193], [40.70085573851714, -73.97118869233036], [40.72950628420885, -73.94954030482212], [40.74227862901228, -73.99697141558364], [40.69183120640148, -74.17400027276294], [40.67763538934728, -73.96758681222953], [40.658744450856695, -73.94744164500473], [40.81207445859209, -73.88553752149427], [40.676154037213784, -73.81945963682762], [40.72388811004171, -74.00153756565634], [40.71473250693941, -73.9830245583349], [40.79001075149545, -73.94575026755156], [40.658744450856695, -73.94744164500473], [40.83141669708519, -73.91502929553265], [40.678953310115254, -73.79098635986958], [40.71880391812993, -73.95741813122187], [40.5809219719338, -73.96121676866854], [40.7376989564444, -73.92467306585043], [40.70436877745512, -73.79397965822719], [40.73457600733177, -74.00287495910837], [40.6442881743892, -73.93796627061693], [40.691507494880646, -73.94990503507506], [40.73503540069664, -74.0089841047853], [40.88093541148942, -73.83664334408303], [40.804333949794604, -73.9512920024351], [40.685633741320636, -73.98611382213662], [40.80734716766524, -73.9168219380646], [40.71880391812993, -73.95741813122187], [40.84678289580979, -73.8506705770834], [40.80945696112528, -73.96176359682921], [40.7404389785964, -73.97649472376757], [40.75981761719184, -73.98419648907571], [40.80734716766524, -73.9168219380646], [40.76149256216374, -73.91969431946067], [40.86607500072778, -73.91930823586193], [40.76149256216374, -73.91969431946067], [40.741406774829755, -73.85884524943998], [40.75181936699946, -73.85358156034265], [40.8233185838775, -73.82354011891947], [40.64698489239519, -73.78653298334979], [40.85777967544156, -73.88586748106961], [40.74033744175702, -73.99045782354733], [40.77742692053278, -73.90540773409828], [40.85777967544156, -73.88586748106961], [40.728340391372306, -73.99738026020043], [40.685633741320636, -73.98611382213662], [40.76861518381155, -73.96563453538072], [40.66400311792599, -73.91025783136136], [40.84496041014609, -73.8855218158743], [40.76861518381155, -73.96563453538072], [40.841708771119784, -73.94139910573644], [40.71893835938025, -73.99089626184734], [40.71880391812993, -73.95741813122187], [40.753309065983395, -74.00401512528647], [40.70436877745512, -73.79397965822719], [40.817858557708156, -73.85813498781437], [40.857108283314425, -73.93283148761294], [40.64698489239519, -73.78653298334979], [40.63130769285306, -74.16723534170741], [40.79001075149545, -73.94575026755156], [40.6442881743892, -73.93796627061693], [40.766948216383234, -73.9596347414917], [40.75731206303919, -73.88531724061082], [40.834165316827594, -73.87228927297001], [40.64698489239519, -73.78653298334979], [40.74423471780147, -73.90630644197877], [40.691507494880646, -73.94990503507506], [40.76149256216374, -73.91969431946067], [40.828988230484576, -73.92440873264253], [40.804333949794604, -73.9512920024351], [40.5920234643643, -73.94050716694063], [40.62092404874623, -73.95682460583801], [40.72950628420885, -73.94954030482212], [40.76149256216374, -73.91969431946067], [40.69078679421093, -73.97488208618897], [40.60491359556376, -73.94813559494118], [40.688168186954954, -73.93188826440708], [40.68872135698128, -73.85576675985419], [40.74033744175702, -73.99045782354733], [40.78396143031378, -73.97863194845081], [40.87397305492026, -73.82826367307182], [40.717772736265175, -74.00787970866403], [40.69499431844209, -73.92224002165722], [40.70652679441957, -73.90170926444723], [40.6609351965506, -73.87682061127201], [40.73257907302703, -73.99430477051168], [40.71880391812993, -73.95741813122187], [40.76335220113314, -73.86839559842021], [40.73257907302703, -73.99430477051168], [40.83141669708519, -73.91502929553265], [40.83141669708519, -73.91502929553265], [40.67446941826648, -73.93928705867958], [40.72088889344527, -73.99691854183823], [40.828988230484576, -73.92440873264253], [40.7736332930271, -73.98153220639182], [40.66400311792599, -73.91025783136136], [40.791704934427074, -73.97304890061594], [40.717772736265175, -74.00787970866403], [40.57696075363779, -73.98794343407197], [40.74857462935672, -73.98515639467684], [40.70354561076288, -73.87573576709775], [40.67446941826648, -73.93928705867958], [40.79796199310004, -73.9681683330924], [40.688168186954954, -73.93188826440708], [40.64188631576521, -74.00465205914723], [40.6609351965506, -73.87682061127201], [40.76861518381155, -73.96563453538072], [40.748427555065724, -73.99991742024713], [40.84496041014609, -73.8855218158743], [40.68383976195102, -73.87817261050249], [40.5920234643643, -73.94050716694063], [40.66400311792599, -73.91025783136136], [40.877137602876616, -73.87902225226024], [40.75672894163307, -73.96514579918421], [40.69499431844209, -73.92224002165722], [40.70436877745512, -73.79397965822719], [40.672089706767316, -73.77303565610487], [40.652364804077415, -73.92225097400492], [40.59405875281388, -73.78962208250078], [40.728340391372306, -73.99738026020043], [40.766237725041876, -73.99513522075519], [40.78091235579127, -73.84281349543195], [40.74857462935672, -73.98515639467684], [40.841708771119784, -73.94139910573644], [40.765484087889845, -73.95473878380503], [40.717772736265175, -74.00787970866403], [40.70436877745512, -73.79397965822719], [40.73257907302703, -73.99430477051168], [40.827902148587405, -73.86967965711676], [40.75672894163307, -73.96514579918421], [40.882157083047055, -73.8589482397575], [40.74537943399859, -73.94889145447952], [40.88240311320921, -73.91066467564433], [40.86607500072778, -73.91930823586193], [40.841708771119784, -73.94139910573644], [40.74227862901228, -73.99697141558364], [40.765484087889845, -73.95473878380503], [40.614590989275726, -73.91527709386857], [40.7108799333774, -73.95990462730533], [40.73257907302703, -73.99430477051168], [40.864473684775454, -73.84742223236714], [40.646116346895084, -73.95162318261012], [40.62627276333639, -73.93009701219934], [40.7005221995192, -73.91771053131578], [40.59995429251391, -73.96433367133905], [40.64698489239519, -73.78653298334979], [40.89952906437649, -73.90698710771423], [40.82701265492538, -73.9485217302088], [40.69078679421093, -73.97488208618897], [40.7376989564444, -73.92467306585043], [40.7736332930271, -73.98153220639182], [40.691507494880646, -73.94990503507506], [40.685633741320636, -73.98611382213662], [40.76061560532161, -73.73933714992883], [40.88093541148942, -73.83664334408303], [40.60142943983517, -73.9835370967223], [40.74033744175702, -73.99045782354733], [40.69579822121126, -73.99525011996623], [40.69579822121126, -73.99525011996623], [40.62627276333639, -73.93009701219934], [40.72615563957923, -73.86333855806274], [40.766237725041876, -73.99513522075519], [40.652364804077415, -73.92225097400492], [40.6609351965506, -73.87682061127201], [40.675548862280856, -74.00917849113294], [40.658744450856695, -73.94744164500473], [40.72837768325732, -73.82119590387465], [40.84274917609802, -73.90031590586487], [40.63803713911708, -73.89973495669392], [40.78819301672877, -73.81565681271003], [40.78819301672877, -73.81565681271003], [40.84274917609802, -73.90031590586487], [40.74033744175702, -73.99045782354733], [40.78091235579127, -73.84281349543195], [40.747745793643915, -73.97849159965226], [40.79001075149545, -73.94575026755156], [40.748427555065724, -73.99991742024713], [40.7644214057868, -73.97756868222719], [40.66654040578564, -73.94878853931498], [40.76861518381155, -73.96563453538072], [40.69499431844209, -73.92224002165722], [40.6609351965506, -73.87682061127201], [40.6609351965506, -73.87682061127201], [40.72615563957923, -73.86333855806274], [40.882157083047055, -73.8589482397575], [40.766948216383234, -73.9596347414917], [40.63094965524547, -73.98866123078287], [40.68796745714746, -73.96236353818358], [40.85815519618405, -73.89953593442151], [40.72950628420885, -73.94954030482212], [40.80197049389963, -73.96547951516966], [40.81825786111924, -73.94077166756266], [40.658744450856695, -73.94744164500473], [40.83141669708519, -73.91502929553265], [40.753309065983395, -74.00401512528647], [40.71833677001376, -73.88005140814955], [40.75731206303919, -73.88531724061082], [40.727620195909545, -73.9859374568246], [40.81825974768987, -73.91284939799155], [40.69183120640148, -74.17400027276294], [40.68796745714746, -73.96236353818358], [40.74537943399859, -73.94889145447952], [40.83782699169885, -73.92615723620783], [40.614590989275726, -73.91527709386857], [40.63803713911708, -73.89973495669392], [40.766237725041876, -73.99513522075519], [40.7542425205003, -73.93482888929137], [40.59995429251391, -73.96433367133905], [40.76835162630846, -73.8095458209943], [40.76335220113314, -73.86839559842021], [40.6609351965506, -73.87682061127201], [40.77742692053278, -73.90540773409828], [40.72837768325732, -73.82119590387465], [40.67559499070673, -73.84704317269406], [40.727620195909545, -73.9859374568246], [40.69120144680612, -73.76314612543838], [40.74033744175702, -73.99045782354733], [40.80945696112528, -73.96176359682921], [40.817858557708156, -73.85813498781437], [40.88093541148942, -73.83664334408303], [40.76835162630846, -73.8095458209943], [40.75672894163307, -73.96514579918421], [40.78396143031378, -73.97863194845081], [40.72837768325732, -73.82119590387465], [40.74991407790217, -73.97044256869238], [40.5920234643643, -73.94050716694063], [40.72088889344527, -73.99691854183823], [40.694427554088776, -73.79096393223055], [40.7005221995192, -73.91771053131578], [40.717772736265175, -74.00787970866403], [40.83774866435355, -73.85798694048577], [40.72088889344527, -73.99691854183823], [40.76149256216374, -73.91969431946067], [40.64698489239519, -73.78653298334979], [40.75981761719184, -73.98419648907571], [40.7005221995192, -73.91771053131578], [40.766237725041876, -73.99513522075519], [40.83141669708519, -73.91502929553265], [40.74991407790217, -73.97044256869238], [40.74991407790217, -73.97044256869238], [40.76835162630846, -73.8095458209943], [40.804333949794604, -73.9512920024351], [40.7542425205003, -73.93482888929137], [40.83141669708519, -73.91502929553265], [40.67763538934728, -73.96758681222953], [40.67446941826648, -73.93928705867958], [40.63897220516645, -74.10231250352726], [40.882157083047055, -73.8589482397575], [40.67559499070673, -73.84704317269406], [40.75668765218882, -73.97235594352028], [40.857108283314425, -73.93283148761294], [40.63094965524547, -73.98866123078287], [40.748427555065724, -73.99991742024713], [40.77596522876096, -73.98764554944384], [40.87237880957359, -73.92436981716106], [40.77437570593249, -73.87362864289108], [40.69120144680612, -73.76314612543838], [40.86607500072778, -73.91930823586193], [40.758028043526274, -73.97769793122403], [40.64698489239519, -73.78653298334979], [40.86607500072778, -73.91930823586193], [40.77596522876096, -73.98764554944384], [40.69499431844209, -73.92224002165722], [40.84678289580979, -73.8506705770834], [40.84905837739125, -73.90512221938542], [40.84274917609802, -73.90031590586487], [40.77742692053278, -73.90540773409828], [40.74537943399859, -73.94889145447952], [40.83782699169885, -73.92615723620783], [40.78043643718997, -73.95701169835736], [40.66400311792599, -73.91025783136136], [40.747745793643915, -73.97849159965226], [40.6442881743892, -73.93796627061693], [40.63004939183071, -74.1028601101664], [40.758028043526274, -73.97769793122403], [40.68872135698128, -73.85576675985419], [40.84274917609802, -73.90031590586487], [40.747745793643915, -73.97849159965226], [40.69533752946114, -73.98608600498397], [40.85440471268924, -73.85439380221179], [40.76861518381155, -73.96563453538072], [40.75672894163307, -73.96514579918421], [40.81825786111924, -73.94077166756266], [40.81825974768987, -73.91284939799155], [40.85777967544156, -73.88586748106961], [40.83782699169885, -73.92615723620783], [40.8011694805865, -73.9373456081249], [40.7736332930271, -73.98153220639182], [40.71473250693941, -73.9830245583349], [40.727620195909545, -73.9859374568246], [40.775932403149945, -73.94651035601463], [40.688168186954954, -73.93188826440708], [40.753309065983395, -74.00401512528647], [40.8525211492635, -73.91597542466437], [40.82701265492538, -73.9485217302088], [40.75672894163307, -73.96514579918421], [40.82751255686402, -73.90235177500071], [40.74423471780147, -73.90630644197877], [40.67664410104018, -73.91363213611348], [40.63004939183071, -74.1028601101664], [40.791704934427074, -73.97304890061594], [40.78247809974789, -73.96555356545913], [40.81825786111924, -73.94077166756266], [40.77437570593249, -73.87362864289108], [40.762252755319366, -73.98984464313301], [40.69078679421093, -73.97488208618897], [40.741406774829755, -73.85884524943998], [40.75181936699946, -73.85358156034265], [40.83782699169885, -73.92615723620783], [40.76335220113314, -73.86839559842021], [40.75731206303919, -73.88531724061082], [40.78043643718997, -73.95701169835736], [40.71893835938025, -73.99089626184734], [40.717772736265175, -74.00787970866403], [40.70680845166585, -74.0074959856243], [40.702258938822524, -73.98570161582289], [40.76110218983437, -73.82885869884261], [40.86400220602362, -73.86490099876721], [40.86526419152494, -73.90591118270515], [40.60491359556376, -73.94813559494118], [40.59995429251391, -73.96433367133905], [40.748427555065724, -73.99991742024713], [40.748497181405, -73.99243753697608], [40.75981761719184, -73.98419648907571], [40.72399507493355, -73.9023296813137], [40.86607500072778, -73.91930823586193], [40.65235464953843, -74.01127116962884], [40.81797514762944, -73.95378223705632], [40.727620195909545, -73.9859374568246], [40.72399507493355, -73.9023296813137], [40.84905837739125, -73.90512221938542], [40.882157083047055, -73.8589482397575], [40.70436877745512, -73.79397965822719], [40.80945696112528, -73.96176359682921], [40.646116346895084, -73.95162318261012], [40.717772736265175, -74.00787970866403], [40.72388811004171, -74.00153756565634], [40.70436877745512, -73.79397965822719], [40.691507494880646, -73.94990503507506], [40.736824057618975, -73.98405213268919], [40.71880391812993, -73.95741813122187], [40.7005221995192, -73.91771053131578], [40.67446941826648, -73.93928705867958], [40.79001075149545, -73.94575026755156], [40.62092404874623, -73.95682460583801], [40.7376989564444, -73.92467306585043], [40.78043643718997, -73.95701169835736], [40.71880391812993, -73.95741813122187], [40.73949564677819, -73.87711833280915], [40.685633741320636, -73.98611382213662], [40.74033744175702, -73.99045782354733], [40.78091235579127, -73.84281349543195], [40.75672894163307, -73.96514579918421], [40.7108799333774, -73.95990462730533], [40.74227862901228, -73.99697141558364], [40.88240311320921, -73.91066467564433], [40.670374325917265, -73.98141374048753], [40.748497181405, -73.99243753697608], [40.60491359556376, -73.94813559494118], [40.74537943399859, -73.94889145447952], [40.676154037213784, -73.81945963682762], [40.8196759793049, -73.89895638182648], [40.8196759793049, -73.89895638182648], [40.691507494880646, -73.94990503507506], [40.69499431844209, -73.92224002165722], [40.85777967544156, -73.88586748106961], [40.762252755319366, -73.98984464313301], [40.8491726171826, -73.83158179959668], [40.69499431844209, -73.92224002165722], [40.83141669708519, -73.91502929553265], [40.834165316827594, -73.87228927297001], [40.72399507493355, -73.9023296813137], [40.877137602876616, -73.87902225226024], [40.66400311792599, -73.91025783136136], [40.68383976195102, -73.87817261050249], [40.81797514762944, -73.95378223705632], [40.67446941826648, -73.93928705867958], [40.658744450856695, -73.94744164500473], [40.86607500072778, -73.91930823586193], [40.882157083047055, -73.8589482397575], [40.791704934427074, -73.97304890061594], [40.70335790323615, -74.01151502922325], [40.7005221995192, -73.91771053131578], [40.67446941826648, -73.93928705867958], [40.74227862901228, -73.99697141558364], [40.75731206303919, -73.88531724061082], [40.841708771119784, -73.94139910573644], [40.748497181405, -73.99243753697608], [40.68872135698128, -73.85576675985419], [40.69499431844209, -73.92224002165722], [40.723752141584804, -73.97696825691766], [40.68720074733727, -74.00291127745284], [40.70335790323615, -74.01151502922325], [40.8196759793049, -73.89895638182648], [40.83141669708519, -73.91502929553265], [40.652364804077415, -73.92225097400492], [40.79796199310004, -73.9681683330924], [40.75672894163307, -73.96514579918421], [40.71063928425106, -73.76113699730598], [40.63803713911708, -73.89973495669392], [40.600324146034595, -74.07177055895133], [40.69579822121126, -73.99525011996623], [40.83782699169885, -73.92615723620783], [40.64059007067449, -73.97619898951328], [40.691507494880646, -73.94990503507506], [40.6248349236082, -74.02989237418782], [40.57696075363779, -73.98794343407197], [40.727620195909545, -73.9859374568246], [40.6248349236082, -74.02989237418782], [40.834165316827594, -73.87228927297001], [40.6609351965506, -73.87682061127201], [40.75351275872571, -73.9887865991153], [40.728340391372306, -73.99738026020043], [40.804333949794604, -73.9512920024351], [40.7404389785964, -73.97649472376757], [40.69120144680612, -73.76314612543838], [40.83782699169885, -73.92615723620783], [40.766237725041876, -73.99513522075519], [40.864473684775454, -73.84742223236714], [40.75668765218882, -73.97235594352028], [40.74033744175702, -73.99045782354733], [40.86607500072778, -73.91930823586193], [40.62627276333639, -73.93009701219934], [40.75668765218882, -73.97235594352028], [40.691507494880646, -73.94990503507506], [40.753309065983395, -74.00401512528647], [40.614590989275726, -73.91527709386857], [40.78247809974789, -73.96555356545913], [40.68383976195102, -73.87817261050249], [40.841708771119784, -73.94139910573644], [40.74033744175702, -73.99045782354733], [40.747745793643915, -73.97849159965226], [40.685633741320636, -73.98611382213662], [40.77437570593249, -73.87362864289108], [40.66218488071142, -73.76450578558227], [40.71159635794509, -73.80872901637517], [40.717772736265175, -74.00787970866403], [40.76110218983437, -73.82885869884261], [40.81207445859209, -73.88553752149427], [40.7404389785964, -73.97649472376757], [40.64698489239519, -73.78653298334979], [40.676154037213784, -73.81945963682762], [40.65235464953843, -74.01127116962884], [40.74033744175702, -73.99045782354733], [40.84496041014609, -73.8855218158743], [40.83141669708519, -73.91502929553265], [40.670374325917265, -73.98141374048753], [40.63803713911708, -73.89973495669392], [40.63790012347376, -73.96096824906373], [40.57696075363779, -73.98794343407197], [40.691507494880646, -73.94990503507506], [40.73949564677819, -73.87711833280915], [40.69579822121126, -73.99525011996623], [40.766948216383234, -73.9596347414917], [40.72388811004171, -74.00153756565634], [40.85440471268924, -73.85439380221179], [40.727620195909545, -73.9859374568246], [40.670374325917265, -73.98141374048753], [40.646116346895084, -73.95162318261012], [40.828988230484576, -73.92440873264253], [40.73257907302703, -73.99430477051168], [40.8525211492635, -73.91597542466437], [40.727620195909545, -73.9859374568246], [40.86400220602362, -73.86490099876721], [40.74991407790217, -73.97044256869238], [40.715369882143555, -73.93679314491887], [40.7376989564444, -73.92467306585043], [40.70354561076288, -73.87573576709775], [40.69078679421093, -73.97488208618897], [40.5809219719338, -73.96121676866854], [40.69454235438128, -73.8309240744999], [40.675548862280856, -74.00917849113294], [40.76149256216374, -73.91969431946067], [40.74227862901228, -73.99697141558364], [40.762252755319366, -73.98984464313301], [40.84905837739125, -73.90512221938542], [40.7376989564444, -73.92467306585043], [40.78819301672877, -73.81565681271003], [40.63004939183071, -74.1028601101664], [40.804333949794604, -73.9512920024351], [40.83210165963212, -73.84864070062376], [40.804333949794604, -73.9512920024351], [40.70085573851714, -73.97118869233036], [40.72950628420885, -73.94954030482212], [40.72088889344527, -73.99691854183823], [40.66218488071142, -73.76450578558227], [40.81825974768987, -73.91284939799155], [40.748497181405, -73.99243753697608], [40.67763538934728, -73.96758681222953], [40.84905837739125, -73.90512221938542], [40.78043643718997, -73.95701169835736], [40.77596522876096, -73.98764554944384], [40.86768245607542, -73.89018328872031], [40.877137602876616, -73.87902225226024], [40.75257923914961, -73.8630375448669], [40.76149256216374, -73.91969431946067], [40.5920234643643, -73.94050716694063], [40.804333949794604, -73.9512920024351], [40.65785341801937, -73.73947255987292], [40.84905837739125, -73.90512221938542], [40.80734716766524, -73.9168219380646], [40.81825786111924, -73.94077166756266], [40.762252755319366, -73.98984464313301], [40.81797514762944, -73.95378223705632], [40.79001075149545, -73.94575026755156], [40.64188631576521, -74.00465205914723], [40.736824057618975, -73.98405213268919], [40.73548677976334, -73.72665537528704], [40.828988230484576, -73.92440873264253], [40.747745793643915, -73.97849159965226], [40.59995429251391, -73.96433367133905], [40.771570243583376, -73.92833318686121], [40.87397305492026, -73.82826367307182], [40.83399047727384, -73.88590003419148], [40.77437570593249, -73.87362864289108], [40.727620195909545, -73.9859374568246], [40.64188631576521, -74.00465205914723], [40.652364804077415, -73.92225097400492], [40.84905837739125, -73.90512221938542], [40.69499431844209, -73.92224002165722], [40.723752141584804, -73.97696825691766], [40.66400311792599, -73.91025783136136], [40.85777967544156, -73.88586748106961], [40.75668765218882, -73.97235594352028], [40.76110218983437, -73.82885869884261], [40.73949564677819, -73.87711833280915], [40.7404389785964, -73.97649472376757], [40.70680845166585, -74.0074959856243], [40.66655893903527, -73.89536411750328], [40.69120144680612, -73.76314612543838], [40.57176889293261, -74.1050190072149], [40.62092404874623, -73.95682460583801], [40.753309065983395, -74.00401512528647], [40.82751255686402, -73.90235177500071], [40.66400311792599, -73.91025783136136], [40.75731206303919, -73.88531724061082], [40.74857462935672, -73.98515639467684], [40.78396143031378, -73.97863194845081], [40.7376989564444, -73.92467306585043], [40.60243279341671, -73.75524369679592], [40.771570243583376, -73.92833318686121], [40.71880391812993, -73.95741813122187], [40.717772736265175, -74.00787970866403], [40.63790012347376, -73.96096824906373], [40.67446941826648, -73.93928705867958], [40.84496041014609, -73.8855218158743], [40.67446941826648, -73.93928705867958], [40.60142943983517, -73.9835370967223], [40.7262904102812, -74.00748581800953], [40.67446941826648, -73.93928705867958], [40.81825786111924, -73.94077166756266], [40.78396143031378, -73.97863194845081], [40.83399047727384, -73.88590003419148], [40.691507494880646, -73.94990503507506], [40.7376989564444, -73.92467306585043], [40.71880391812993, -73.95741813122187], [40.771570243583376, -73.92833318686121], [40.74857462935672, -73.98515639467684], [40.86526419152494, -73.90591118270515], [40.66400311792599, -73.91025783136136], [40.75731206303919, -73.88531724061082], [40.766237725041876, -73.99513522075519], [40.8233185838775, -73.82354011891947], [40.68796745714746, -73.96236353818358], [40.77437570593249, -73.87362864289108], [40.74991407790217, -73.97044256869238], [40.6248349236082, -74.02989237418782], [40.68796745714746, -73.96236353818358], [40.72950628420885, -73.94954030482212], [40.76861518381155, -73.96563453538072], [40.72088889344527, -73.99691854183823], [40.77876585543437, -73.95100987481798], [40.67446941826648, -73.93928705867958], [40.679199014097094, -73.99595619089146], [40.60491359556376, -73.94813559494118], [40.766237725041876, -73.99513522075519], [40.691507494880646, -73.94990503507506], [40.63803713911708, -73.89973495669392], [40.748427555065724, -73.99991742024713], [40.727620195909545, -73.9859374568246], [40.74227862901228, -73.99697141558364], [40.841708771119784, -73.94139910573644], [40.79001075149545, -73.94575026755156], [40.771570243583376, -73.92833318686121], [40.69499431844209, -73.92224002165722], [40.80734716766524, -73.9168219380646], [40.84496041014609, -73.8855218158743], [40.67559499070673, -73.84704317269406], [40.76861518381155, -73.96563453538072], [40.83782699169885, -73.92615723620783], [40.81825786111924, -73.94077166756266], [40.670374325917265, -73.98141374048753], [40.63803713911708, -73.89973495669392], [40.77437570593249, -73.87362864289108], [40.6442881743892, -73.93796627061693], [40.86526419152494, -73.90591118270515], [40.728340391372306, -73.99738026020043], [40.676154037213784, -73.81945963682762], [40.67446941826648, -73.93928705867958], [40.78091235579127, -73.84281349543195], [40.676154037213784, -73.81945963682762], [40.72143227502133, -73.84766941187527], [40.73949564677819, -73.87711833280915], [40.78396143031378, -73.97863194845081], [40.70436877745512, -73.79397965822719], [40.65235464953843, -74.01127116962884], [40.882157083047055, -73.8589482397575], [40.73257907302703, -73.99430477051168], [40.857108283314425, -73.93283148761294], [40.85815519618405, -73.89953593442151], [40.70354561076288, -73.87573576709775], [40.72143227502133, -73.84766941187527], [40.76110218983437, -73.82885869884261], [40.67763538934728, -73.96758681222953], [40.70680845166585, -74.0074959856243], [40.75672894163307, -73.96514579918421], [40.87651237544555, -73.8956200178548], [40.6609351965506, -73.87682061127201], [40.84274917609802, -73.90031590586487], [40.71473250693941, -73.9830245583349], [40.646116346895084, -73.95162318261012], [40.7736332930271, -73.98153220639182], [40.71063928425106, -73.76113699730598], [40.65235464953843, -74.01127116962884], [40.688168186954954, -73.93188826440708], [40.83399047727384, -73.88590003419148], [40.76861518381155, -73.96563453538072], [40.766237725041876, -73.99513522075519], [40.717772736265175, -74.00787970866403], [40.84274917609802, -73.90031590586487], [40.57696075363779, -73.98794343407197], [40.70354561076288, -73.87573576709775], [40.62092404874623, -73.95682460583801], [40.66400311792599, -73.91025783136136], [40.76861518381155, -73.96563453538072], [40.679199014097094, -73.99595619089146], [40.877137602876616, -73.87902225226024], [40.78043643718997, -73.95701169835736], [40.6609351965506, -73.87682061127201], [40.765484087889845, -73.95473878380503], [40.72950628420885, -73.94954030482212], [40.62627276333639, -73.93009701219934], [40.70354561076288, -73.87573576709775], [40.78247809974789, -73.96555356545913], [40.68796745714746, -73.96236353818358], [40.894599127507, -73.88197807761944], [40.864473684775454, -73.84742223236714], [40.69454235438128, -73.8309240744999], [40.76110218983437, -73.82885869884261], [40.81825974768987, -73.91284939799155], [40.688168186954954, -73.93188826440708], [40.71203815707447, -74.01607915192923], [40.652364804077415, -73.92225097400492], [40.748497181405, -73.99243753697608], [40.747745793643915, -73.97849159965226], [40.717772736265175, -74.00787970866403], [40.85777967544156, -73.88586748106961], [40.8525211492635, -73.91597542466437], [40.74423471780147, -73.90630644197877], [40.75668765218882, -73.97235594352028], [40.88093541148942, -73.83664334408303], [40.80945696112528, -73.96176359682921], [40.670374325917265, -73.98141374048753], [40.66400311792599, -73.91025783136136], [40.71880391812993, -73.95741813122187], [40.70805099798807, -73.82871246597531], [40.628166874572, -74.14078750231764], [40.709138940671856, -74.013022771749], [40.77742692053278, -73.90540773409828], [40.817858557708156, -73.85813498781437], [40.78396143031378, -73.97863194845081], [40.83210165963212, -73.84864070062376], [40.8011694805865, -73.9373456081249], [40.728340391372306, -73.99738026020043], [40.753309065983395, -74.00401512528647], [40.71473250693941, -73.9830245583349], [40.72950628420885, -73.94954030482212], [40.766948216383234, -73.9596347414917], [40.74537943399859, -73.94889145447952], [40.63790012347376, -73.96096824906373], [40.74991407790217, -73.97044256869238], [40.688168186954954, -73.93188826440708], [40.63803713911708, -73.89973495669392], [40.83210165963212, -73.84864070062376], [40.834165316827594, -73.87228927297001], [40.57696075363779, -73.98794343407197], [40.82701265492538, -73.9485217302088], [40.64059007067449, -73.97619898951328], [40.685633741320636, -73.98611382213662], [40.8011694805865, -73.9373456081249], [40.70436877745512, -73.79397965822719], [40.63094965524547, -73.98866123078287], [40.728340391372306, -73.99738026020043], [40.7090727427931, -74.00366456329895], [40.72399507493355, -73.9023296813137], [40.61961946783515, -74.0138014874401], [40.748427555065724, -73.99991742024713], [40.73832381382601, -73.89217338112864], [40.717772736265175, -74.00787970866403], [40.61797137588927, -74.08783880974954], [40.71203815707447, -74.01607915192923], [40.69183120640148, -74.17400027276294], [40.76110218983437, -73.82885869884261], [40.670374325917265, -73.98141374048753], [40.7404389785964, -73.97649472376757], [40.87397305492026, -73.82826367307182], [40.8233185838775, -73.82354011891947], [40.77742692053278, -73.90540773409828], [40.83774866435355, -73.85798694048577], [40.74033744175702, -73.99045782354733], [40.63790012347376, -73.96096824906373], [40.69454235438128, -73.8309240744999], [40.76149256216374, -73.91969431946067], [40.77742692053278, -73.90540773409828], [40.78043643718997, -73.95701169835736], [40.67446941826648, -73.93928705867958], [40.827902148587405, -73.86967965711676], [40.68383976195102, -73.87817261050249], [40.64698489239519, -73.78653298334979], [40.78247809974789, -73.96555356545913], [40.71893835938025, -73.99089626184734], [40.86400220602362, -73.86490099876721], [40.61221825780563, -73.99525857986231], [40.747745793643915, -73.97849159965226], [40.69579822121126, -73.99525011996623], [40.66655893903527, -73.89536411750328], [40.70680845166585, -74.0074959856243], [40.76335220113314, -73.86839559842021], [40.77437570593249, -73.87362864289108], [40.77437570593249, -73.87362864289108], [40.80734716766524, -73.9168219380646], [40.670374325917265, -73.98141374048753], [40.72088889344527, -73.99691854183823], [40.63790012347376, -73.96096824906373], [40.747745793643915, -73.97849159965226], [40.74033744175702, -73.99045782354733], [40.828988230484576, -73.92440873264253], [40.80945696112528, -73.96176359682921], [40.8011694805865, -73.9373456081249], [40.85815519618405, -73.89953593442151], [40.64698489239519, -73.78653298334979], [40.70354561076288, -73.87573576709775], [40.72388811004171, -74.00153756565634], [40.86607500072778, -73.91930823586193], [40.748427555065724, -73.99991742024713], [40.68383976195102, -73.87817261050249], [40.688168186954954, -73.93188826440708], [40.6442881743892, -73.93796627061693], [40.68383976195102, -73.87817261050249], [40.7262904102812, -74.00748581800953], [40.84496041014609, -73.8855218158743], [40.827902148587405, -73.86967965711676], [40.68796745714746, -73.96236353818358], [40.841708771119784, -73.94139910573644], [40.80197049389963, -73.96547951516966], [40.670374325917265, -73.98141374048753], [40.762252755319366, -73.98984464313301], [40.77742692053278, -73.90540773409828], [40.63130769285306, -74.16723534170741], [40.74033744175702, -73.99045782354733], [40.63790012347376, -73.96096824906373], [40.670374325917265, -73.98141374048753], [40.67446941826648, -73.93928705867958], [40.6609351965506, -73.87682061127201], [40.7404389785964, -73.97649472376757], [40.70652679441957, -73.90170926444723], [40.70652679441957, -73.90170926444723], [40.71545451530519, -73.74153176997538], [40.83774866435355, -73.85798694048577], [40.85777967544156, -73.88586748106961], [40.72388811004171, -74.00153756565634], [40.66218488071142, -73.76450578558227], [40.691507494880646, -73.94990503507506], [40.71203815707447, -74.01607915192923], [40.81825974768987, -73.91284939799155], [40.84905837739125, -73.90512221938542], [40.7090727427931, -74.00366456329895], [40.80734716766524, -73.9168219380646], [40.81825786111924, -73.94077166756266], [40.694427554088776, -73.79096393223055], [40.77596522876096, -73.98764554944384], [40.71880391812993, -73.95741813122187], [40.736824057618975, -73.98405213268919], [40.646116346895084, -73.95162318261012], [40.86400220602362, -73.86490099876721], [40.76861518381155, -73.96563453538072], [40.709138940671856, -74.013022771749], [40.76149256216374, -73.91969431946067], [40.77876585543437, -73.95100987481798], [40.6609351965506, -73.87682061127201], [40.76149256216374, -73.91969431946067], [40.6248349236082, -74.02989237418782], [40.8011694805865, -73.9373456081249], [40.87651237544555, -73.8956200178548], [40.85440471268924, -73.85439380221179], [40.766237725041876, -73.99513522075519], [40.75731206303919, -73.88531724061082], [40.71893835938025, -73.99089626184734], [40.688168186954954, -73.93188826440708], [40.736824057618975, -73.98405213268919], [40.81207445859209, -73.88553752149427], [40.68796745714746, -73.96236353818358], [40.80945696112528, -73.96176359682921], [40.676154037213784, -73.81945963682762], [40.6609351965506, -73.87682061127201], [40.83399047727384, -73.88590003419148], [40.63790012347376, -73.96096824906373], [40.72088889344527, -73.99691854183823], [40.715369882143555, -73.93679314491887], [40.817858557708156, -73.85813498781437], [40.882157083047055, -73.8589482397575], [40.685633741320636, -73.98611382213662], [40.65235464953843, -74.01127116962884], [40.66654040578564, -73.94878853931498], [40.72088889344527, -73.99691854183823], [40.771570243583376, -73.92833318686121], [40.63803713911708, -73.89973495669392], [40.882157083047055, -73.8589482397575], [40.6248349236082, -74.02989237418782], [40.766237725041876, -73.99513522075519], [40.70436877745512, -73.79397965822719], [40.658744450856695, -73.94744164500473], [40.670374325917265, -73.98141374048753], [40.77437570593249, -73.87362864289108], [40.81825786111924, -73.94077166756266], [40.86607500072778, -73.91930823586193], [40.70085573851714, -73.97118869233036], [40.62627276333639, -73.93009701219934], [40.6442881743892, -73.93796627061693], [40.834165316827594, -73.87228927297001], [40.69120144680612, -73.76314612543838], [40.76149256216374, -73.91969431946067], [40.74227862901228, -73.99697141558364], [40.84678289580979, -73.8506705770834], [40.69533752946114, -73.98608600498397], [40.75731206303919, -73.88531724061082], [40.804333949794604, -73.9512920024351], [40.67446941826648, -73.93928705867958], [40.715369882143555, -73.93679314491887], [40.68796745714746, -73.96236353818358], [40.69454235438128, -73.8309240744999], [40.857108283314425, -73.93283148761294], [40.7108799333774, -73.95990462730533], [40.658744450856695, -73.94744164500473], [40.646116346895084, -73.95162318261012], [40.65785341801937, -73.73947255987292], [40.653611871336636, -73.97798241330011], [40.727620195909545, -73.9859374568246], [40.727620195909545, -73.9859374568246], [40.688168186954954, -73.93188826440708], [40.70652679441957, -73.90170926444723], [40.69499431844209, -73.92224002165722], [40.70335790323615, -74.01151502922325], [40.765484087889845, -73.95473878380503], [40.85815519618405, -73.89953593442151], [40.658744450856695, -73.94744164500473], [40.679199014097094, -73.99595619089146], [40.73949564677819, -73.87711833280915], [40.78043643718997, -73.95701169835736], [40.64059007067449, -73.97619898951328], [40.73832381382601, -73.89217338112864], [40.676154037213784, -73.81945963682762], [40.80734716766524, -73.9168219380646], [40.691507494880646, -73.94990503507506], [40.8011694805865, -73.9373456081249], [40.64188631576521, -74.00465205914723], [40.817858557708156, -73.85813498781437], [40.715369882143555, -73.93679314491887], [40.71473250693941, -73.9830245583349], [40.73832381382601, -73.89217338112864], [40.791704934427074, -73.97304890061594], [40.76149256216374, -73.91969431946067], [40.75668765218882, -73.97235594352028], [40.86768245607542, -73.89018328872031], [40.61961946783515, -74.0138014874401], [40.71833677001376, -73.88005140814955], [40.73446262820092, -73.77725346665987], [40.72399507493355, -73.9023296813137], [40.857108283314425, -73.93283148761294], [40.857108283314425, -73.93283148761294], [40.74537943399859, -73.94889145447952], [40.791704934427074, -73.97304890061594], [40.74537943399859, -73.94889145447952], [40.600324146034595, -74.07177055895133], [40.67351279686077, -73.99064727363114], [40.76335220113314, -73.86839559842021], [40.59995429251391, -73.96433367133905], [40.67664410104018, -73.91363213611348], [40.76149256216374, -73.91969431946067], [40.748427555065724, -73.99991742024713], [40.76189974995507, -73.94995171169585], [40.6609351965506, -73.87682061127201], [40.72143227502133, -73.84766941187527], [40.748427555065724, -73.99991742024713], [40.74857462935672, -73.98515639467684], [40.79001075149545, -73.94575026755156], [40.78396143031378, -73.97863194845081], [40.77742692053278, -73.90540773409828], [40.67559499070673, -73.84704317269406], [40.73503540069664, -74.0089841047853], [40.86607500072778, -73.91930823586193], [40.69579822121126, -73.99525011996623], [40.736824057618975, -73.98405213268919], [40.882157083047055, -73.8589482397575], [40.87237880957359, -73.92436981716106], [40.81825786111924, -73.94077166756266], [40.77742692053278, -73.90540773409828], [40.67446941826648, -73.93928705867958], [40.728340391372306, -73.99738026020043], [40.83141669708519, -73.91502929553265], [40.678953310115254, -73.79098635986958], [40.88240311320921, -73.91066467564433], [40.7262904102812, -74.00748581800953], [40.841708771119784, -73.94139910573644], [40.7404389785964, -73.97649472376757], [40.62627276333639, -73.93009701219934], [40.691507494880646, -73.94990503507506], [40.81207445859209, -73.88553752149427], [40.71203815707447, -74.01607915192923], [40.85815519618405, -73.89953593442151], [40.762252755319366, -73.98984464313301], [40.69434146723173, -73.73555427058822], [40.6442881743892, -73.93796627061693], [40.7005221995192, -73.91771053131578], [40.60243279341671, -73.75524369679592], [40.68796745714746, -73.96236353818358], [40.67559499070673, -73.84704317269406], [40.70652679441957, -73.90170926444723], [40.70436877745512, -73.79397965822719], [40.72388811004171, -74.00153756565634], [40.68796745714746, -73.96236353818358], [40.71880391812993, -73.95741813122187], [40.79001075149545, -73.94575026755156], [40.81207445859209, -73.88553752149427], [40.72615563957923, -73.86333855806274], [40.61221825780563, -73.99525857986231], [40.8525211492635, -73.91597542466437], [40.758028043526274, -73.97769793122403], [40.66654040578564, -73.94878853931498], [40.63803713911708, -73.89973495669392], [40.84905837739125, -73.90512221938542], [40.857108283314425, -73.93283148761294], [40.83782699169885, -73.92615723620783], [40.85777967544156, -73.88586748106961], [40.7644214057868, -73.97756868222719], [40.8011694805865, -73.9373456081249], [40.75981761719184, -73.98419648907571], [40.63803713911708, -73.89973495669392], [40.72143227502133, -73.84766941187527], [40.83141669708519, -73.91502929553265], [40.68720074733727, -74.00291127745284], [40.7736332930271, -73.98153220639182], [40.676154037213784, -73.81945963682762], [40.62092404874623, -73.95682460583801], [40.723752141584804, -73.97696825691766], [40.67709779790901, -73.74423435166717], [40.614590989275726, -73.91527709386857], [40.691507494880646, -73.94990503507506], [40.73257907302703, -73.99430477051168], [40.71063928425106, -73.76113699730598], [40.78396143031378, -73.97863194845081], [40.75672894163307, -73.96514579918421], [40.828988230484576, -73.92440873264253], [40.7644214057868, -73.97756868222719], [40.76110218983437, -73.82885869884261], [40.691507494880646, -73.94990503507506], [40.75257923914961, -73.8630375448669], [40.75731206303919, -73.88531724061082], [40.63094965524547, -73.98866123078287], [40.80734716766524, -73.9168219380646], [40.67351279686077, -73.99064727363114], [40.717772736265175, -74.00787970866403], [40.70680845166585, -74.0074959856243], [40.69434146723173, -73.73555427058822], [40.78091235579127, -73.84281349543195], [40.63897220516645, -74.10231250352726], [40.77876585543437, -73.95100987481798], [40.59995429251391, -73.96433367133905], [40.72143227502133, -73.84766941187527], [40.74227862901228, -73.99697141558364], [40.87651237544555, -73.8956200178548], [40.8233185838775, -73.82354011891947], [40.75981761719184, -73.98419648907571], [40.63790012347376, -73.96096824906373], [40.658744450856695, -73.94744164500473], [40.80734716766524, -73.9168219380646], [40.8491726171826, -73.83158179959668], [40.8011694805865, -73.9373456081249], [40.71880391812993, -73.95741813122187], [40.60491359556376, -73.94813559494118], [40.736824057618975, -73.98405213268919], [40.77876585543437, -73.95100987481798], [40.691507494880646, -73.94990503507506], [40.81825974768987, -73.91284939799155], [40.87397305492026, -73.82826367307182], [40.748427555065724, -73.99991742024713], [40.702258938822524, -73.98570161582289], [40.84905837739125, -73.90512221938542], [40.70436877745512, -73.79397965822719], [40.85815519618405, -73.89953593442151], [40.68383976195102, -73.87817261050249], [40.614590989275726, -73.91527709386857], [40.723752141584804, -73.97696825691766], [40.74227862901228, -73.99697141558364], [40.61731493715172, -73.97032580128298], [40.74423471780147, -73.90630644197877], [40.75351275872571, -73.9887865991153], [40.762252755319366, -73.98984464313301], [40.70805099798807, -73.82871246597531], [40.85777967544156, -73.88586748106961], [40.78043643718997, -73.95701169835736], [40.82701265492538, -73.9485217302088], [40.804333949794604, -73.9512920024351], [40.75981761719184, -73.98419648907571], [40.75731206303919, -73.88531724061082], [40.63130769285306, -74.16723534170741], [40.586786633051915, -74.08551235826918], [40.74857462935672, -73.98515639467684], [40.68796745714746, -73.96236353818358], [40.83782699169885, -73.92615723620783], [40.82701265492538, -73.9485217302088], [40.83782699169885, -73.92615723620783], [40.76149256216374, -73.91969431946067], [40.75981761719184, -73.98419648907571], [40.765484087889845, -73.95473878380503], [40.7644214057868, -73.97756868222719], [40.75731206303919, -73.88531724061082], [40.77876585543437, -73.95100987481798], [40.70680845166585, -74.0074959856243], [40.8011694805865, -73.9373456081249], [40.766948216383234, -73.9596347414917], [40.63790012347376, -73.96096824906373], [40.74033744175702, -73.99045782354733], [40.77437570593249, -73.87362864289108], [40.7404389785964, -73.97649472376757], [40.64059007067449, -73.97619898951328], [40.77596522876096, -73.98764554944384], [40.72950628420885, -73.94954030482212], [40.57176889293261, -74.1050190072149], [40.748427555065724, -73.99991742024713], [40.7404389785964, -73.97649472376757], [40.71473250693941, -73.9830245583349], [40.78043643718997, -73.95701169835736], [40.64188631576521, -74.00465205914723], [40.70436877745512, -73.79397965822719], [40.73949564677819, -73.87711833280915], [40.73457600733177, -74.00287495910837], [40.72388811004171, -74.00153756565634], [40.67446941826648, -73.93928705867958], [40.73503540069664, -74.0089841047853], [40.63790012347376, -73.96096824906373], [40.75981761719184, -73.98419648907571], [40.86400220602362, -73.86490099876721], [40.81797514762944, -73.95378223705632], [40.758028043526274, -73.97769793122403], [40.76149256216374, -73.91969431946067], [40.72388811004171, -74.00153756565634], [40.86768245607542, -73.89018328872031], [40.83399047727384, -73.88590003419148], [40.685633741320636, -73.98611382213662], [40.81825974768987, -73.91284939799155], [40.715369882143555, -73.93679314491887], [40.69454235438128, -73.8309240744999], [40.762252755319366, -73.98984464313301], [40.87651237544555, -73.8956200178548], [40.73503540069664, -74.0089841047853], [40.81207445859209, -73.88553752149427], [40.715369882143555, -73.93679314491887], [40.882157083047055, -73.8589482397575], [40.688168186954954, -73.93188826440708], [40.84905837739125, -73.90512221938542], [40.8525211492635, -73.91597542466437], [40.76149256216374, -73.91969431946067], [40.817858557708156, -73.85813498781437], [40.728340391372306, -73.99738026020043], [40.59405875281388, -73.78962208250078], [40.72950628420885, -73.94954030482212], [40.83141669708519, -73.91502929553265], [40.6248349236082, -74.02989237418782], [40.882157083047055, -73.8589482397575], [40.64059007067449, -73.97619898951328], [40.63803713911708, -73.89973495669392], [40.84274917609802, -73.90031590586487]],\n",
       "                {&quot;blur&quot;: 15, &quot;maxZoom&quot;: 13, &quot;minOpacity&quot;: 0.5, &quot;radius&quot;: 10}\n",
       "            );\n",
       "        \n",
       "    \n",
       "            heat_map_bdc5fec3463b5bf1b058625513fc29e0.addTo(map_1772123087df200625ae85d516a4a3a0);\n",
       "        \n",
       "&lt;/script&gt;\n",
       "&lt;/html&gt;\" style=\"position:absolute;width:100%;height:100%;left:0;top:0;border:none !important;\" allowfullscreen webkitallowfullscreen mozallowfullscreen></iframe></div></div>"
      ],
      "text/plain": [
       "<folium.folium.Map at 0x7fd001f3bd00>"
      ]
     },
     "execution_count": 74,
     "metadata": {},
     "output_type": "execute_result"
    }
   ],
   "source": [
    "\n",
    "def get_data_for_visual_6() -> pd.DataFrame:\n",
    "    \"\"\"\n",
    "    get the data for the  visual\n",
    "\n",
    "    Returns:\n",
    "    pd.DataFrame -- the data for the visual\n",
    "    \"\"\"\n",
    "\n",
    "    sql = \"\"\"\n",
    "    SELECT\n",
    "        dropoff_latitude,\n",
    "        dropoff_longitude\n",
    "    FROM (\n",
    "        SELECT dropoff_latitude, dropoff_longitude, trip_pickup_datetime FROM taxi_trips\n",
    "        UNION ALL\n",
    "        SELECT dropoff_latitude, dropoff_longitude, trip_pickup_datetime FROM uber_trips\n",
    "    )\n",
    "    WHERE strftime('%Y', trip_pickup_datetime) = '2020'\n",
    "    AND dropoff_latitude IS NOT NULL\n",
    "    AND dropoff_longitude IS NOT NULL;\n",
    "\n",
    "    \"\"\"\n",
    "\n",
    "    results = pd.read_sql(sql,con=engine)\n",
    "    return results\n",
    "\n",
    "def plot_visual_6() -> folium.Map:\n",
    "    \"\"\"plot the sixth visual\"\"\"\n",
    "\n",
    "    nyc_map = folium.Map(location=[40.7128, -74.0060], zoom_start=12)\n",
    "    df = get_data_for_visual_6()\n",
    "    heat_data = list(zip(df[\"dropoff_latitude\"], df[\"dropoff_longitude\"]))\n",
    "    HeatMap(heat_data, radius=10, blur=15, max_zoom=13).add_to(nyc_map)\n",
    "    return nyc_map\n",
    "\n",
    "plot_visual_6()"
   ]
  },
  {
   "cell_type": "code",
   "execution_count": null,
   "metadata": {},
   "outputs": [],
   "source": []
  }
 ],
 "metadata": {
  "kernelspec": {
   "display_name": "base",
   "language": "python",
   "name": "python3"
  },
  "language_info": {
   "codemirror_mode": {
    "name": "ipython",
    "version": 3
   },
   "file_extension": ".py",
   "mimetype": "text/x-python",
   "name": "python",
   "nbconvert_exporter": "python",
   "pygments_lexer": "ipython3",
   "version": "3.10.9"
  }
 },
 "nbformat": 4,
 "nbformat_minor": 2
}
